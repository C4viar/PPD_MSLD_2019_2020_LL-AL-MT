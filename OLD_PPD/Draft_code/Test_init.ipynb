{
 "cells": [
  {
   "cell_type": "markdown",
   "metadata": {},
   "source": [
    "# NOT RUN"
   ]
  },
  {
   "cell_type": "code",
   "execution_count": null,
   "metadata": {},
   "outputs": [],
   "source": [
    "import camembert\n",
    "import torch\n",
    "from setuptools import setup, Extension\n",
    "import torch.utils\n"
   ]
  },
  {
   "cell_type": "code",
   "execution_count": null,
   "metadata": {},
   "outputs": [],
   "source": [
    "# Load the model in fairseq\n",
    "from fairseq.models.roberta import CamembertModel\n",
    "camembert = CamembertModel.from_pretrained('camembert.v0')\n",
    "camembert.eval()  # disable dropout (or leave in train mode to finetune)"
   ]
  },
  {
   "cell_type": "code",
   "execution_count": null,
   "metadata": {},
   "outputs": [],
   "source": [
    "masked_line = 'Le camembert est <mask> :)'\n",
    "camembert.fill_mask(masked_line, topk=5)"
   ]
  },
  {
   "cell_type": "code",
   "execution_count": null,
   "metadata": {},
   "outputs": [],
   "source": [
    "line = \"J'aime le camembert!\"\n",
    "tokens = camembert.encode(line)\n",
    "last_layer_features = camembert.extract_features(tokens)\n",
    "assert last_layer_features.size() == torch.Size([1, 10, 768])\n",
    "\n",
    "# Extract all layer's features (layer 0 is the embedding layer)\n",
    "all_layers = camembert.extract_features(tokens, return_all_hiddens=True)\n",
    "assert len(all_layers) == 13\n",
    "assert torch.all(all_layers[-1] == last_layer_features)"
   ]
  },
  {
   "cell_type": "markdown",
   "metadata": {},
   "source": [
    "# BEGIN OF THE PROJECT"
   ]
  },
  {
   "cell_type": "markdown",
   "metadata": {},
   "source": [
    "## Test Camembert"
   ]
  },
  {
   "cell_type": "code",
   "execution_count": 8,
   "metadata": {},
   "outputs": [],
   "source": [
    "import camembert\n",
    "import torch\n",
    "from setuptools import setup, Extension\n",
    "import torch.utils\n",
    "import transformers"
   ]
  },
  {
   "cell_type": "markdown",
   "metadata": {},
   "source": [
    "### P1"
   ]
  },
  {
   "cell_type": "code",
   "execution_count": 7,
   "metadata": {},
   "outputs": [
    {
     "data": {
      "application/vnd.jupyter.widget-view+json": {
       "model_id": "402ea5e4f2d14be8ac48e414fea9871b",
       "version_major": 2,
       "version_minor": 0
      },
      "text/plain": [
       "HBox(children=(FloatProgress(value=0.0, description='Downloading', max=230.0, style=ProgressStyle(description_…"
      ]
     },
     "metadata": {},
     "output_type": "display_data"
    },
    {
     "name": "stderr",
     "output_type": "stream",
     "text": [
      "Couldn't reach server at 'https://s3.amazonaws.com/models.huggingface.co/bert/camembert-base-modelcard.json' to download model card file.\n",
      "Creating an empty model card.\n"
     ]
    },
    {
     "name": "stdout",
     "output_type": "stream",
     "text": [
      "\n"
     ]
    },
    {
     "data": {
      "text/plain": [
       "[{'sequence': \"<s> Le camembert c'est quoi</s>\",\n",
       "  'score': 0.2072708159685135,\n",
       "  'token': 484},\n",
       " {'sequence': \"<s> Le camembert c'est bon</s>\",\n",
       "  'score': 0.08772072196006775,\n",
       "  'token': 212},\n",
       " {'sequence': \"<s> Le camembert c'est délicieux</s>\",\n",
       "  'score': 0.05717870593070984,\n",
       "  'token': 7200},\n",
       " {'sequence': \"<s> Le camembert c'est...</s>\",\n",
       "  'score': 0.05560893192887306,\n",
       "  'token': 186},\n",
       " {'sequence': \"<s> Le camembert c'est :</s>\",\n",
       "  'score': 0.053232815116643906,\n",
       "  'token': 43}]"
      ]
     },
     "execution_count": 7,
     "metadata": {},
     "output_type": "execute_result"
    }
   ],
   "source": [
    "from transformers import pipeline\n",
    "\n",
    "sentence = \"\"\"Le camembert c'est <mask>\"\"\".lstrip()\n",
    "\n",
    "fill_mask = pipeline(\n",
    "    \"fill-mask\",\n",
    "    model=\"camembert-base\",\n",
    "    tokenizer=\"camembert-base\"\n",
    ")\n",
    "\n",
    "fill_mask(sentence)"
   ]
  },
  {
   "cell_type": "markdown",
   "metadata": {},
   "source": [
    "### P2"
   ]
  },
  {
   "cell_type": "markdown",
   "metadata": {},
   "source": [
    "## Test Flaubert"
   ]
  },
  {
   "cell_type": "code",
   "execution_count": null,
   "metadata": {},
   "outputs": [],
   "source": []
  }
 ],
 "metadata": {
  "kernelspec": {
   "display_name": "Python 3",
   "language": "python",
   "name": "python3"
  },
  "language_info": {
   "codemirror_mode": {
    "name": "ipython",
    "version": 3
   },
   "file_extension": ".py",
   "mimetype": "text/x-python",
   "name": "python",
   "nbconvert_exporter": "python",
   "pygments_lexer": "ipython3",
   "version": "3.7.6"
  }
 },
 "nbformat": 4,
 "nbformat_minor": 4
}
