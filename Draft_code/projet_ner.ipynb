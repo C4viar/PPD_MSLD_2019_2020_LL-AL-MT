{
  "nbformat": 4,
  "nbformat_minor": 0,
  "metadata": {
    "colab": {
      "name": "QueenB.ipynb",
      "provenance": [],
      "collapsed_sections": [],
      "toc_visible": true,
      "include_colab_link": true
    },
    "kernelspec": {
      "name": "python3",
      "display_name": "Python 3"
    },
    "accelerator": "GPU",
    "widgets": {
      "application/vnd.jupyter.widget-state+json": {
        "715e1e96257f4141a99277e7557de254": {
          "model_module": "@jupyter-widgets/controls",
          "model_name": "HBoxModel",
          "state": {
            "_view_name": "HBoxView",
            "_dom_classes": [],
            "_model_name": "HBoxModel",
            "_view_module": "@jupyter-widgets/controls",
            "_model_module_version": "1.5.0",
            "_view_count": null,
            "_view_module_version": "1.5.0",
            "box_style": "",
            "layout": "IPY_MODEL_074cefb8fe334f1d9c27528d246ad73a",
            "_model_module": "@jupyter-widgets/controls",
            "children": [
              "IPY_MODEL_c0593c994b0043ab80ec21e6d6ac8037",
              "IPY_MODEL_aa5d17f8540747b5acfe4905823469ee"
            ]
          }
        },
        "074cefb8fe334f1d9c27528d246ad73a": {
          "model_module": "@jupyter-widgets/base",
          "model_name": "LayoutModel",
          "state": {
            "_view_name": "LayoutView",
            "grid_template_rows": null,
            "right": null,
            "justify_content": null,
            "_view_module": "@jupyter-widgets/base",
            "overflow": null,
            "_model_module_version": "1.2.0",
            "_view_count": null,
            "flex_flow": null,
            "width": null,
            "min_width": null,
            "border": null,
            "align_items": null,
            "bottom": null,
            "_model_module": "@jupyter-widgets/base",
            "top": null,
            "grid_column": null,
            "overflow_y": null,
            "overflow_x": null,
            "grid_auto_flow": null,
            "grid_area": null,
            "grid_template_columns": null,
            "flex": null,
            "_model_name": "LayoutModel",
            "justify_items": null,
            "grid_row": null,
            "max_height": null,
            "align_content": null,
            "visibility": null,
            "align_self": null,
            "height": null,
            "min_height": null,
            "padding": null,
            "grid_auto_rows": null,
            "grid_gap": null,
            "max_width": null,
            "order": null,
            "_view_module_version": "1.2.0",
            "grid_template_areas": null,
            "object_position": null,
            "object_fit": null,
            "grid_auto_columns": null,
            "margin": null,
            "display": null,
            "left": null
          }
        },
        "c0593c994b0043ab80ec21e6d6ac8037": {
          "model_module": "@jupyter-widgets/controls",
          "model_name": "FloatProgressModel",
          "state": {
            "_view_name": "ProgressView",
            "style": "IPY_MODEL_ccb6ff40ccbc4598b6859601830719bc",
            "_dom_classes": [],
            "description": "100%",
            "_model_name": "FloatProgressModel",
            "bar_style": "success",
            "max": 7110,
            "_view_module": "@jupyter-widgets/controls",
            "_model_module_version": "1.5.0",
            "value": 7110,
            "_view_count": null,
            "_view_module_version": "1.5.0",
            "orientation": "horizontal",
            "min": 0,
            "description_tooltip": null,
            "_model_module": "@jupyter-widgets/controls",
            "layout": "IPY_MODEL_9b69604c49084ead9e5dcd33820388ef"
          }
        },
        "aa5d17f8540747b5acfe4905823469ee": {
          "model_module": "@jupyter-widgets/controls",
          "model_name": "HTMLModel",
          "state": {
            "_view_name": "HTMLView",
            "style": "IPY_MODEL_b3a96a0ed2e3418b93d1b2b1089546e9",
            "_dom_classes": [],
            "description": "",
            "_model_name": "HTMLModel",
            "placeholder": "​",
            "_view_module": "@jupyter-widgets/controls",
            "_model_module_version": "1.5.0",
            "value": " 7110/7110 [00:48&lt;00:00, 147.40it/s]",
            "_view_count": null,
            "_view_module_version": "1.5.0",
            "description_tooltip": null,
            "_model_module": "@jupyter-widgets/controls",
            "layout": "IPY_MODEL_66dabdfa1d9b41bd9894a74d593d34e5"
          }
        },
        "ccb6ff40ccbc4598b6859601830719bc": {
          "model_module": "@jupyter-widgets/controls",
          "model_name": "ProgressStyleModel",
          "state": {
            "_view_name": "StyleView",
            "_model_name": "ProgressStyleModel",
            "description_width": "initial",
            "_view_module": "@jupyter-widgets/base",
            "_model_module_version": "1.5.0",
            "_view_count": null,
            "_view_module_version": "1.2.0",
            "bar_color": null,
            "_model_module": "@jupyter-widgets/controls"
          }
        },
        "9b69604c49084ead9e5dcd33820388ef": {
          "model_module": "@jupyter-widgets/base",
          "model_name": "LayoutModel",
          "state": {
            "_view_name": "LayoutView",
            "grid_template_rows": null,
            "right": null,
            "justify_content": null,
            "_view_module": "@jupyter-widgets/base",
            "overflow": null,
            "_model_module_version": "1.2.0",
            "_view_count": null,
            "flex_flow": null,
            "width": null,
            "min_width": null,
            "border": null,
            "align_items": null,
            "bottom": null,
            "_model_module": "@jupyter-widgets/base",
            "top": null,
            "grid_column": null,
            "overflow_y": null,
            "overflow_x": null,
            "grid_auto_flow": null,
            "grid_area": null,
            "grid_template_columns": null,
            "flex": null,
            "_model_name": "LayoutModel",
            "justify_items": null,
            "grid_row": null,
            "max_height": null,
            "align_content": null,
            "visibility": null,
            "align_self": null,
            "height": null,
            "min_height": null,
            "padding": null,
            "grid_auto_rows": null,
            "grid_gap": null,
            "max_width": null,
            "order": null,
            "_view_module_version": "1.2.0",
            "grid_template_areas": null,
            "object_position": null,
            "object_fit": null,
            "grid_auto_columns": null,
            "margin": null,
            "display": null,
            "left": null
          }
        },
        "b3a96a0ed2e3418b93d1b2b1089546e9": {
          "model_module": "@jupyter-widgets/controls",
          "model_name": "DescriptionStyleModel",
          "state": {
            "_view_name": "StyleView",
            "_model_name": "DescriptionStyleModel",
            "description_width": "",
            "_view_module": "@jupyter-widgets/base",
            "_model_module_version": "1.5.0",
            "_view_count": null,
            "_view_module_version": "1.2.0",
            "_model_module": "@jupyter-widgets/controls"
          }
        },
        "66dabdfa1d9b41bd9894a74d593d34e5": {
          "model_module": "@jupyter-widgets/base",
          "model_name": "LayoutModel",
          "state": {
            "_view_name": "LayoutView",
            "grid_template_rows": null,
            "right": null,
            "justify_content": null,
            "_view_module": "@jupyter-widgets/base",
            "overflow": null,
            "_model_module_version": "1.2.0",
            "_view_count": null,
            "flex_flow": null,
            "width": null,
            "min_width": null,
            "border": null,
            "align_items": null,
            "bottom": null,
            "_model_module": "@jupyter-widgets/base",
            "top": null,
            "grid_column": null,
            "overflow_y": null,
            "overflow_x": null,
            "grid_auto_flow": null,
            "grid_area": null,
            "grid_template_columns": null,
            "flex": null,
            "_model_name": "LayoutModel",
            "justify_items": null,
            "grid_row": null,
            "max_height": null,
            "align_content": null,
            "visibility": null,
            "align_self": null,
            "height": null,
            "min_height": null,
            "padding": null,
            "grid_auto_rows": null,
            "grid_gap": null,
            "max_width": null,
            "order": null,
            "_view_module_version": "1.2.0",
            "grid_template_areas": null,
            "object_position": null,
            "object_fit": null,
            "grid_auto_columns": null,
            "margin": null,
            "display": null,
            "left": null
          }
        },
        "ed4497a3c21a44dc8e73e6c2115c6661": {
          "model_module": "@jupyter-widgets/controls",
          "model_name": "HBoxModel",
          "state": {
            "_view_name": "HBoxView",
            "_dom_classes": [],
            "_model_name": "HBoxModel",
            "_view_module": "@jupyter-widgets/controls",
            "_model_module_version": "1.5.0",
            "_view_count": null,
            "_view_module_version": "1.5.0",
            "box_style": "",
            "layout": "IPY_MODEL_7020f43b7c9e4787a30cffc915d51a62",
            "_model_module": "@jupyter-widgets/controls",
            "children": [
              "IPY_MODEL_319e3b1e94434065944db1b549bc822a",
              "IPY_MODEL_d8fa259a3035442cb26e4ff78696b7cd"
            ]
          }
        },
        "7020f43b7c9e4787a30cffc915d51a62": {
          "model_module": "@jupyter-widgets/base",
          "model_name": "LayoutModel",
          "state": {
            "_view_name": "LayoutView",
            "grid_template_rows": null,
            "right": null,
            "justify_content": null,
            "_view_module": "@jupyter-widgets/base",
            "overflow": null,
            "_model_module_version": "1.2.0",
            "_view_count": null,
            "flex_flow": null,
            "width": null,
            "min_width": null,
            "border": null,
            "align_items": null,
            "bottom": null,
            "_model_module": "@jupyter-widgets/base",
            "top": null,
            "grid_column": null,
            "overflow_y": null,
            "overflow_x": null,
            "grid_auto_flow": null,
            "grid_area": null,
            "grid_template_columns": null,
            "flex": null,
            "_model_name": "LayoutModel",
            "justify_items": null,
            "grid_row": null,
            "max_height": null,
            "align_content": null,
            "visibility": null,
            "align_self": null,
            "height": null,
            "min_height": null,
            "padding": null,
            "grid_auto_rows": null,
            "grid_gap": null,
            "max_width": null,
            "order": null,
            "_view_module_version": "1.2.0",
            "grid_template_areas": null,
            "object_position": null,
            "object_fit": null,
            "grid_auto_columns": null,
            "margin": null,
            "display": null,
            "left": null
          }
        },
        "319e3b1e94434065944db1b549bc822a": {
          "model_module": "@jupyter-widgets/controls",
          "model_name": "FloatProgressModel",
          "state": {
            "_view_name": "ProgressView",
            "style": "IPY_MODEL_7aada26c0bf140ef8cb446c42aae149a",
            "_dom_classes": [],
            "description": "Epoch: 100%",
            "_model_name": "FloatProgressModel",
            "bar_style": "success",
            "max": 1,
            "_view_module": "@jupyter-widgets/controls",
            "_model_module_version": "1.5.0",
            "value": 1,
            "_view_count": null,
            "_view_module_version": "1.5.0",
            "orientation": "horizontal",
            "min": 0,
            "description_tooltip": null,
            "_model_module": "@jupyter-widgets/controls",
            "layout": "IPY_MODEL_b6d0c0f3368645e681cb64289aa1d8d8"
          }
        },
        "d8fa259a3035442cb26e4ff78696b7cd": {
          "model_module": "@jupyter-widgets/controls",
          "model_name": "HTMLModel",
          "state": {
            "_view_name": "HTMLView",
            "style": "IPY_MODEL_1320df7889f94167a34eabecadd5ba27",
            "_dom_classes": [],
            "description": "",
            "_model_name": "HTMLModel",
            "placeholder": "​",
            "_view_module": "@jupyter-widgets/controls",
            "_model_module_version": "1.5.0",
            "value": " 1/1 [03:59&lt;00:00, 239.99s/it]",
            "_view_count": null,
            "_view_module_version": "1.5.0",
            "description_tooltip": null,
            "_model_module": "@jupyter-widgets/controls",
            "layout": "IPY_MODEL_1167fb1f63554872af6db9806713c4be"
          }
        },
        "7aada26c0bf140ef8cb446c42aae149a": {
          "model_module": "@jupyter-widgets/controls",
          "model_name": "ProgressStyleModel",
          "state": {
            "_view_name": "StyleView",
            "_model_name": "ProgressStyleModel",
            "description_width": "initial",
            "_view_module": "@jupyter-widgets/base",
            "_model_module_version": "1.5.0",
            "_view_count": null,
            "_view_module_version": "1.2.0",
            "bar_color": null,
            "_model_module": "@jupyter-widgets/controls"
          }
        },
        "b6d0c0f3368645e681cb64289aa1d8d8": {
          "model_module": "@jupyter-widgets/base",
          "model_name": "LayoutModel",
          "state": {
            "_view_name": "LayoutView",
            "grid_template_rows": null,
            "right": null,
            "justify_content": null,
            "_view_module": "@jupyter-widgets/base",
            "overflow": null,
            "_model_module_version": "1.2.0",
            "_view_count": null,
            "flex_flow": null,
            "width": null,
            "min_width": null,
            "border": null,
            "align_items": null,
            "bottom": null,
            "_model_module": "@jupyter-widgets/base",
            "top": null,
            "grid_column": null,
            "overflow_y": null,
            "overflow_x": null,
            "grid_auto_flow": null,
            "grid_area": null,
            "grid_template_columns": null,
            "flex": null,
            "_model_name": "LayoutModel",
            "justify_items": null,
            "grid_row": null,
            "max_height": null,
            "align_content": null,
            "visibility": null,
            "align_self": null,
            "height": null,
            "min_height": null,
            "padding": null,
            "grid_auto_rows": null,
            "grid_gap": null,
            "max_width": null,
            "order": null,
            "_view_module_version": "1.2.0",
            "grid_template_areas": null,
            "object_position": null,
            "object_fit": null,
            "grid_auto_columns": null,
            "margin": null,
            "display": null,
            "left": null
          }
        },
        "1320df7889f94167a34eabecadd5ba27": {
          "model_module": "@jupyter-widgets/controls",
          "model_name": "DescriptionStyleModel",
          "state": {
            "_view_name": "StyleView",
            "_model_name": "DescriptionStyleModel",
            "description_width": "",
            "_view_module": "@jupyter-widgets/base",
            "_model_module_version": "1.5.0",
            "_view_count": null,
            "_view_module_version": "1.2.0",
            "_model_module": "@jupyter-widgets/controls"
          }
        },
        "1167fb1f63554872af6db9806713c4be": {
          "model_module": "@jupyter-widgets/base",
          "model_name": "LayoutModel",
          "state": {
            "_view_name": "LayoutView",
            "grid_template_rows": null,
            "right": null,
            "justify_content": null,
            "_view_module": "@jupyter-widgets/base",
            "overflow": null,
            "_model_module_version": "1.2.0",
            "_view_count": null,
            "flex_flow": null,
            "width": null,
            "min_width": null,
            "border": null,
            "align_items": null,
            "bottom": null,
            "_model_module": "@jupyter-widgets/base",
            "top": null,
            "grid_column": null,
            "overflow_y": null,
            "overflow_x": null,
            "grid_auto_flow": null,
            "grid_area": null,
            "grid_template_columns": null,
            "flex": null,
            "_model_name": "LayoutModel",
            "justify_items": null,
            "grid_row": null,
            "max_height": null,
            "align_content": null,
            "visibility": null,
            "align_self": null,
            "height": null,
            "min_height": null,
            "padding": null,
            "grid_auto_rows": null,
            "grid_gap": null,
            "max_width": null,
            "order": null,
            "_view_module_version": "1.2.0",
            "grid_template_areas": null,
            "object_position": null,
            "object_fit": null,
            "grid_auto_columns": null,
            "margin": null,
            "display": null,
            "left": null
          }
        },
        "e72a230d46a545dbb80fa6a4990a28b3": {
          "model_module": "@jupyter-widgets/controls",
          "model_name": "HBoxModel",
          "state": {
            "_view_name": "HBoxView",
            "_dom_classes": [],
            "_model_name": "HBoxModel",
            "_view_module": "@jupyter-widgets/controls",
            "_model_module_version": "1.5.0",
            "_view_count": null,
            "_view_module_version": "1.5.0",
            "box_style": "",
            "layout": "IPY_MODEL_b40eec50791444a28fa9ebf7c6bb6beb",
            "_model_module": "@jupyter-widgets/controls",
            "children": [
              "IPY_MODEL_6969515126e94845992626c54fc0fa55",
              "IPY_MODEL_c9b0e4191fb14e1ca6fa5d17e33d4a7a"
            ]
          }
        },
        "b40eec50791444a28fa9ebf7c6bb6beb": {
          "model_module": "@jupyter-widgets/base",
          "model_name": "LayoutModel",
          "state": {
            "_view_name": "LayoutView",
            "grid_template_rows": null,
            "right": null,
            "justify_content": null,
            "_view_module": "@jupyter-widgets/base",
            "overflow": null,
            "_model_module_version": "1.2.0",
            "_view_count": null,
            "flex_flow": null,
            "width": null,
            "min_width": null,
            "border": null,
            "align_items": null,
            "bottom": null,
            "_model_module": "@jupyter-widgets/base",
            "top": null,
            "grid_column": null,
            "overflow_y": null,
            "overflow_x": null,
            "grid_auto_flow": null,
            "grid_area": null,
            "grid_template_columns": null,
            "flex": null,
            "_model_name": "LayoutModel",
            "justify_items": null,
            "grid_row": null,
            "max_height": null,
            "align_content": null,
            "visibility": null,
            "align_self": null,
            "height": null,
            "min_height": null,
            "padding": null,
            "grid_auto_rows": null,
            "grid_gap": null,
            "max_width": null,
            "order": null,
            "_view_module_version": "1.2.0",
            "grid_template_areas": null,
            "object_position": null,
            "object_fit": null,
            "grid_auto_columns": null,
            "margin": null,
            "display": null,
            "left": null
          }
        },
        "6969515126e94845992626c54fc0fa55": {
          "model_module": "@jupyter-widgets/controls",
          "model_name": "FloatProgressModel",
          "state": {
            "_view_name": "ProgressView",
            "style": "IPY_MODEL_02bc14487ce9469a9f756ed645391944",
            "_dom_classes": [],
            "description": "Current iteration: 100%",
            "_model_name": "FloatProgressModel",
            "bar_style": "success",
            "max": 889,
            "_view_module": "@jupyter-widgets/controls",
            "_model_module_version": "1.5.0",
            "value": 889,
            "_view_count": null,
            "_view_module_version": "1.5.0",
            "orientation": "horizontal",
            "min": 0,
            "description_tooltip": null,
            "_model_module": "@jupyter-widgets/controls",
            "layout": "IPY_MODEL_f7de26495d384f4785d9ff9eeda7786c"
          }
        },
        "c9b0e4191fb14e1ca6fa5d17e33d4a7a": {
          "model_module": "@jupyter-widgets/controls",
          "model_name": "HTMLModel",
          "state": {
            "_view_name": "HTMLView",
            "style": "IPY_MODEL_5b25349a79d3400aa6fd334481ae038e",
            "_dom_classes": [],
            "description": "",
            "_model_name": "HTMLModel",
            "placeholder": "​",
            "_view_module": "@jupyter-widgets/controls",
            "_model_module_version": "1.5.0",
            "value": " 889/889 [03:59&lt;00:00,  3.70it/s]",
            "_view_count": null,
            "_view_module_version": "1.5.0",
            "description_tooltip": null,
            "_model_module": "@jupyter-widgets/controls",
            "layout": "IPY_MODEL_8a65ad1202cc450da31b4db7a5d1a3ea"
          }
        },
        "02bc14487ce9469a9f756ed645391944": {
          "model_module": "@jupyter-widgets/controls",
          "model_name": "ProgressStyleModel",
          "state": {
            "_view_name": "StyleView",
            "_model_name": "ProgressStyleModel",
            "description_width": "initial",
            "_view_module": "@jupyter-widgets/base",
            "_model_module_version": "1.5.0",
            "_view_count": null,
            "_view_module_version": "1.2.0",
            "bar_color": null,
            "_model_module": "@jupyter-widgets/controls"
          }
        },
        "f7de26495d384f4785d9ff9eeda7786c": {
          "model_module": "@jupyter-widgets/base",
          "model_name": "LayoutModel",
          "state": {
            "_view_name": "LayoutView",
            "grid_template_rows": null,
            "right": null,
            "justify_content": null,
            "_view_module": "@jupyter-widgets/base",
            "overflow": null,
            "_model_module_version": "1.2.0",
            "_view_count": null,
            "flex_flow": null,
            "width": null,
            "min_width": null,
            "border": null,
            "align_items": null,
            "bottom": null,
            "_model_module": "@jupyter-widgets/base",
            "top": null,
            "grid_column": null,
            "overflow_y": null,
            "overflow_x": null,
            "grid_auto_flow": null,
            "grid_area": null,
            "grid_template_columns": null,
            "flex": null,
            "_model_name": "LayoutModel",
            "justify_items": null,
            "grid_row": null,
            "max_height": null,
            "align_content": null,
            "visibility": null,
            "align_self": null,
            "height": null,
            "min_height": null,
            "padding": null,
            "grid_auto_rows": null,
            "grid_gap": null,
            "max_width": null,
            "order": null,
            "_view_module_version": "1.2.0",
            "grid_template_areas": null,
            "object_position": null,
            "object_fit": null,
            "grid_auto_columns": null,
            "margin": null,
            "display": null,
            "left": null
          }
        },
        "5b25349a79d3400aa6fd334481ae038e": {
          "model_module": "@jupyter-widgets/controls",
          "model_name": "DescriptionStyleModel",
          "state": {
            "_view_name": "StyleView",
            "_model_name": "DescriptionStyleModel",
            "description_width": "",
            "_view_module": "@jupyter-widgets/base",
            "_model_module_version": "1.5.0",
            "_view_count": null,
            "_view_module_version": "1.2.0",
            "_model_module": "@jupyter-widgets/controls"
          }
        },
        "8a65ad1202cc450da31b4db7a5d1a3ea": {
          "model_module": "@jupyter-widgets/base",
          "model_name": "LayoutModel",
          "state": {
            "_view_name": "LayoutView",
            "grid_template_rows": null,
            "right": null,
            "justify_content": null,
            "_view_module": "@jupyter-widgets/base",
            "overflow": null,
            "_model_module_version": "1.2.0",
            "_view_count": null,
            "flex_flow": null,
            "width": null,
            "min_width": null,
            "border": null,
            "align_items": null,
            "bottom": null,
            "_model_module": "@jupyter-widgets/base",
            "top": null,
            "grid_column": null,
            "overflow_y": null,
            "overflow_x": null,
            "grid_auto_flow": null,
            "grid_area": null,
            "grid_template_columns": null,
            "flex": null,
            "_model_name": "LayoutModel",
            "justify_items": null,
            "grid_row": null,
            "max_height": null,
            "align_content": null,
            "visibility": null,
            "align_self": null,
            "height": null,
            "min_height": null,
            "padding": null,
            "grid_auto_rows": null,
            "grid_gap": null,
            "max_width": null,
            "order": null,
            "_view_module_version": "1.2.0",
            "grid_template_areas": null,
            "object_position": null,
            "object_fit": null,
            "grid_auto_columns": null,
            "margin": null,
            "display": null,
            "left": null
          }
        },
        "7ed013844e604732a0aaf5668e047b6a": {
          "model_module": "@jupyter-widgets/controls",
          "model_name": "HBoxModel",
          "state": {
            "_view_name": "HBoxView",
            "_dom_classes": [],
            "_model_name": "HBoxModel",
            "_view_module": "@jupyter-widgets/controls",
            "_model_module_version": "1.5.0",
            "_view_count": null,
            "_view_module_version": "1.5.0",
            "box_style": "",
            "layout": "IPY_MODEL_eb37d68e5be6492cb67195e7903dc5ca",
            "_model_module": "@jupyter-widgets/controls",
            "children": [
              "IPY_MODEL_ad30e47a40c2494a959df064ecff16dc",
              "IPY_MODEL_311307d22cae4b9d894898f7a296db88"
            ]
          }
        },
        "eb37d68e5be6492cb67195e7903dc5ca": {
          "model_module": "@jupyter-widgets/base",
          "model_name": "LayoutModel",
          "state": {
            "_view_name": "LayoutView",
            "grid_template_rows": null,
            "right": null,
            "justify_content": null,
            "_view_module": "@jupyter-widgets/base",
            "overflow": null,
            "_model_module_version": "1.2.0",
            "_view_count": null,
            "flex_flow": null,
            "width": null,
            "min_width": null,
            "border": null,
            "align_items": null,
            "bottom": null,
            "_model_module": "@jupyter-widgets/base",
            "top": null,
            "grid_column": null,
            "overflow_y": null,
            "overflow_x": null,
            "grid_auto_flow": null,
            "grid_area": null,
            "grid_template_columns": null,
            "flex": null,
            "_model_name": "LayoutModel",
            "justify_items": null,
            "grid_row": null,
            "max_height": null,
            "align_content": null,
            "visibility": null,
            "align_self": null,
            "height": null,
            "min_height": null,
            "padding": null,
            "grid_auto_rows": null,
            "grid_gap": null,
            "max_width": null,
            "order": null,
            "_view_module_version": "1.2.0",
            "grid_template_areas": null,
            "object_position": null,
            "object_fit": null,
            "grid_auto_columns": null,
            "margin": null,
            "display": null,
            "left": null
          }
        },
        "ad30e47a40c2494a959df064ecff16dc": {
          "model_module": "@jupyter-widgets/controls",
          "model_name": "FloatProgressModel",
          "state": {
            "_view_name": "ProgressView",
            "style": "IPY_MODEL_5fadfb3f590a4c64b7c223090dde7a27",
            "_dom_classes": [],
            "description": "100%",
            "_model_name": "FloatProgressModel",
            "bar_style": "success",
            "max": 5758,
            "_view_module": "@jupyter-widgets/controls",
            "_model_module_version": "1.5.0",
            "value": 5758,
            "_view_count": null,
            "_view_module_version": "1.5.0",
            "orientation": "horizontal",
            "min": 0,
            "description_tooltip": null,
            "_model_module": "@jupyter-widgets/controls",
            "layout": "IPY_MODEL_32e9476a1c9d447db973e2f174263899"
          }
        },
        "311307d22cae4b9d894898f7a296db88": {
          "model_module": "@jupyter-widgets/controls",
          "model_name": "HTMLModel",
          "state": {
            "_view_name": "HTMLView",
            "style": "IPY_MODEL_ca39227dd2e94394b81bad29822756a1",
            "_dom_classes": [],
            "description": "",
            "_model_name": "HTMLModel",
            "placeholder": "​",
            "_view_module": "@jupyter-widgets/controls",
            "_model_module_version": "1.5.0",
            "value": " 5758/5758 [00:44&lt;00:00, 130.74it/s]",
            "_view_count": null,
            "_view_module_version": "1.5.0",
            "description_tooltip": null,
            "_model_module": "@jupyter-widgets/controls",
            "layout": "IPY_MODEL_1aa32efc568e4561bb049bbe8e413880"
          }
        },
        "5fadfb3f590a4c64b7c223090dde7a27": {
          "model_module": "@jupyter-widgets/controls",
          "model_name": "ProgressStyleModel",
          "state": {
            "_view_name": "StyleView",
            "_model_name": "ProgressStyleModel",
            "description_width": "initial",
            "_view_module": "@jupyter-widgets/base",
            "_model_module_version": "1.5.0",
            "_view_count": null,
            "_view_module_version": "1.2.0",
            "bar_color": null,
            "_model_module": "@jupyter-widgets/controls"
          }
        },
        "32e9476a1c9d447db973e2f174263899": {
          "model_module": "@jupyter-widgets/base",
          "model_name": "LayoutModel",
          "state": {
            "_view_name": "LayoutView",
            "grid_template_rows": null,
            "right": null,
            "justify_content": null,
            "_view_module": "@jupyter-widgets/base",
            "overflow": null,
            "_model_module_version": "1.2.0",
            "_view_count": null,
            "flex_flow": null,
            "width": null,
            "min_width": null,
            "border": null,
            "align_items": null,
            "bottom": null,
            "_model_module": "@jupyter-widgets/base",
            "top": null,
            "grid_column": null,
            "overflow_y": null,
            "overflow_x": null,
            "grid_auto_flow": null,
            "grid_area": null,
            "grid_template_columns": null,
            "flex": null,
            "_model_name": "LayoutModel",
            "justify_items": null,
            "grid_row": null,
            "max_height": null,
            "align_content": null,
            "visibility": null,
            "align_self": null,
            "height": null,
            "min_height": null,
            "padding": null,
            "grid_auto_rows": null,
            "grid_gap": null,
            "max_width": null,
            "order": null,
            "_view_module_version": "1.2.0",
            "grid_template_areas": null,
            "object_position": null,
            "object_fit": null,
            "grid_auto_columns": null,
            "margin": null,
            "display": null,
            "left": null
          }
        },
        "ca39227dd2e94394b81bad29822756a1": {
          "model_module": "@jupyter-widgets/controls",
          "model_name": "DescriptionStyleModel",
          "state": {
            "_view_name": "StyleView",
            "_model_name": "DescriptionStyleModel",
            "description_width": "",
            "_view_module": "@jupyter-widgets/base",
            "_model_module_version": "1.5.0",
            "_view_count": null,
            "_view_module_version": "1.2.0",
            "_model_module": "@jupyter-widgets/controls"
          }
        },
        "1aa32efc568e4561bb049bbe8e413880": {
          "model_module": "@jupyter-widgets/base",
          "model_name": "LayoutModel",
          "state": {
            "_view_name": "LayoutView",
            "grid_template_rows": null,
            "right": null,
            "justify_content": null,
            "_view_module": "@jupyter-widgets/base",
            "overflow": null,
            "_model_module_version": "1.2.0",
            "_view_count": null,
            "flex_flow": null,
            "width": null,
            "min_width": null,
            "border": null,
            "align_items": null,
            "bottom": null,
            "_model_module": "@jupyter-widgets/base",
            "top": null,
            "grid_column": null,
            "overflow_y": null,
            "overflow_x": null,
            "grid_auto_flow": null,
            "grid_area": null,
            "grid_template_columns": null,
            "flex": null,
            "_model_name": "LayoutModel",
            "justify_items": null,
            "grid_row": null,
            "max_height": null,
            "align_content": null,
            "visibility": null,
            "align_self": null,
            "height": null,
            "min_height": null,
            "padding": null,
            "grid_auto_rows": null,
            "grid_gap": null,
            "max_width": null,
            "order": null,
            "_view_module_version": "1.2.0",
            "grid_template_areas": null,
            "object_position": null,
            "object_fit": null,
            "grid_auto_columns": null,
            "margin": null,
            "display": null,
            "left": null
          }
        },
        "c8b21cb3650a45a2b1c07cb6f9c19712": {
          "model_module": "@jupyter-widgets/controls",
          "model_name": "HBoxModel",
          "state": {
            "_view_name": "HBoxView",
            "_dom_classes": [],
            "_model_name": "HBoxModel",
            "_view_module": "@jupyter-widgets/controls",
            "_model_module_version": "1.5.0",
            "_view_count": null,
            "_view_module_version": "1.5.0",
            "box_style": "",
            "layout": "IPY_MODEL_8e3f6697961a4566978884bb9b52f807",
            "_model_module": "@jupyter-widgets/controls",
            "children": [
              "IPY_MODEL_ff264c60f9104257a81a3c9e2fc8f8f7",
              "IPY_MODEL_1054cdfa1c564ed09d7da6a4c427f8b1"
            ]
          }
        },
        "8e3f6697961a4566978884bb9b52f807": {
          "model_module": "@jupyter-widgets/base",
          "model_name": "LayoutModel",
          "state": {
            "_view_name": "LayoutView",
            "grid_template_rows": null,
            "right": null,
            "justify_content": null,
            "_view_module": "@jupyter-widgets/base",
            "overflow": null,
            "_model_module_version": "1.2.0",
            "_view_count": null,
            "flex_flow": null,
            "width": null,
            "min_width": null,
            "border": null,
            "align_items": null,
            "bottom": null,
            "_model_module": "@jupyter-widgets/base",
            "top": null,
            "grid_column": null,
            "overflow_y": null,
            "overflow_x": null,
            "grid_auto_flow": null,
            "grid_area": null,
            "grid_template_columns": null,
            "flex": null,
            "_model_name": "LayoutModel",
            "justify_items": null,
            "grid_row": null,
            "max_height": null,
            "align_content": null,
            "visibility": null,
            "align_self": null,
            "height": null,
            "min_height": null,
            "padding": null,
            "grid_auto_rows": null,
            "grid_gap": null,
            "max_width": null,
            "order": null,
            "_view_module_version": "1.2.0",
            "grid_template_areas": null,
            "object_position": null,
            "object_fit": null,
            "grid_auto_columns": null,
            "margin": null,
            "display": null,
            "left": null
          }
        },
        "ff264c60f9104257a81a3c9e2fc8f8f7": {
          "model_module": "@jupyter-widgets/controls",
          "model_name": "FloatProgressModel",
          "state": {
            "_view_name": "ProgressView",
            "style": "IPY_MODEL_f4e34f1212e645cfaf891d70957e9353",
            "_dom_classes": [],
            "description": "100%",
            "_model_name": "FloatProgressModel",
            "bar_style": "success",
            "max": 720,
            "_view_module": "@jupyter-widgets/controls",
            "_model_module_version": "1.5.0",
            "value": 720,
            "_view_count": null,
            "_view_module_version": "1.5.0",
            "orientation": "horizontal",
            "min": 0,
            "description_tooltip": null,
            "_model_module": "@jupyter-widgets/controls",
            "layout": "IPY_MODEL_296741c0afc949ad868e99dbeeea14c7"
          }
        },
        "1054cdfa1c564ed09d7da6a4c427f8b1": {
          "model_module": "@jupyter-widgets/controls",
          "model_name": "HTMLModel",
          "state": {
            "_view_name": "HTMLView",
            "style": "IPY_MODEL_992d0ab33c83408aac4b9b35c536e6f0",
            "_dom_classes": [],
            "description": "",
            "_model_name": "HTMLModel",
            "placeholder": "​",
            "_view_module": "@jupyter-widgets/controls",
            "_model_module_version": "1.5.0",
            "value": " 720/720 [00:33&lt;00:00, 21.44it/s]",
            "_view_count": null,
            "_view_module_version": "1.5.0",
            "description_tooltip": null,
            "_model_module": "@jupyter-widgets/controls",
            "layout": "IPY_MODEL_6a49c9b3854a437a8061fcb3867eeb1a"
          }
        },
        "f4e34f1212e645cfaf891d70957e9353": {
          "model_module": "@jupyter-widgets/controls",
          "model_name": "ProgressStyleModel",
          "state": {
            "_view_name": "StyleView",
            "_model_name": "ProgressStyleModel",
            "description_width": "initial",
            "_view_module": "@jupyter-widgets/base",
            "_model_module_version": "1.5.0",
            "_view_count": null,
            "_view_module_version": "1.2.0",
            "bar_color": null,
            "_model_module": "@jupyter-widgets/controls"
          }
        },
        "296741c0afc949ad868e99dbeeea14c7": {
          "model_module": "@jupyter-widgets/base",
          "model_name": "LayoutModel",
          "state": {
            "_view_name": "LayoutView",
            "grid_template_rows": null,
            "right": null,
            "justify_content": null,
            "_view_module": "@jupyter-widgets/base",
            "overflow": null,
            "_model_module_version": "1.2.0",
            "_view_count": null,
            "flex_flow": null,
            "width": null,
            "min_width": null,
            "border": null,
            "align_items": null,
            "bottom": null,
            "_model_module": "@jupyter-widgets/base",
            "top": null,
            "grid_column": null,
            "overflow_y": null,
            "overflow_x": null,
            "grid_auto_flow": null,
            "grid_area": null,
            "grid_template_columns": null,
            "flex": null,
            "_model_name": "LayoutModel",
            "justify_items": null,
            "grid_row": null,
            "max_height": null,
            "align_content": null,
            "visibility": null,
            "align_self": null,
            "height": null,
            "min_height": null,
            "padding": null,
            "grid_auto_rows": null,
            "grid_gap": null,
            "max_width": null,
            "order": null,
            "_view_module_version": "1.2.0",
            "grid_template_areas": null,
            "object_position": null,
            "object_fit": null,
            "grid_auto_columns": null,
            "margin": null,
            "display": null,
            "left": null
          }
        },
        "992d0ab33c83408aac4b9b35c536e6f0": {
          "model_module": "@jupyter-widgets/controls",
          "model_name": "DescriptionStyleModel",
          "state": {
            "_view_name": "StyleView",
            "_model_name": "DescriptionStyleModel",
            "description_width": "",
            "_view_module": "@jupyter-widgets/base",
            "_model_module_version": "1.5.0",
            "_view_count": null,
            "_view_module_version": "1.2.0",
            "_model_module": "@jupyter-widgets/controls"
          }
        },
        "6a49c9b3854a437a8061fcb3867eeb1a": {
          "model_module": "@jupyter-widgets/base",
          "model_name": "LayoutModel",
          "state": {
            "_view_name": "LayoutView",
            "grid_template_rows": null,
            "right": null,
            "justify_content": null,
            "_view_module": "@jupyter-widgets/base",
            "overflow": null,
            "_model_module_version": "1.2.0",
            "_view_count": null,
            "flex_flow": null,
            "width": null,
            "min_width": null,
            "border": null,
            "align_items": null,
            "bottom": null,
            "_model_module": "@jupyter-widgets/base",
            "top": null,
            "grid_column": null,
            "overflow_y": null,
            "overflow_x": null,
            "grid_auto_flow": null,
            "grid_area": null,
            "grid_template_columns": null,
            "flex": null,
            "_model_name": "LayoutModel",
            "justify_items": null,
            "grid_row": null,
            "max_height": null,
            "align_content": null,
            "visibility": null,
            "align_self": null,
            "height": null,
            "min_height": null,
            "padding": null,
            "grid_auto_rows": null,
            "grid_gap": null,
            "max_width": null,
            "order": null,
            "_view_module_version": "1.2.0",
            "grid_template_areas": null,
            "object_position": null,
            "object_fit": null,
            "grid_auto_columns": null,
            "margin": null,
            "display": null,
            "left": null
          }
        },
        "372368b3fa5c4590aa6e9de6789e3aa8": {
          "model_module": "@jupyter-widgets/controls",
          "model_name": "HBoxModel",
          "state": {
            "_view_name": "HBoxView",
            "_dom_classes": [],
            "_model_name": "HBoxModel",
            "_view_module": "@jupyter-widgets/controls",
            "_model_module_version": "1.5.0",
            "_view_count": null,
            "_view_module_version": "1.5.0",
            "box_style": "",
            "layout": "IPY_MODEL_e117f6aed2064b079820973c5ff9eef1",
            "_model_module": "@jupyter-widgets/controls",
            "children": [
              "IPY_MODEL_a80cba77536a476b9fc989cedc318bec",
              "IPY_MODEL_b64b9880ace741d2aa17082ec1aa1057"
            ]
          }
        },
        "e117f6aed2064b079820973c5ff9eef1": {
          "model_module": "@jupyter-widgets/base",
          "model_name": "LayoutModel",
          "state": {
            "_view_name": "LayoutView",
            "grid_template_rows": null,
            "right": null,
            "justify_content": null,
            "_view_module": "@jupyter-widgets/base",
            "overflow": null,
            "_model_module_version": "1.2.0",
            "_view_count": null,
            "flex_flow": null,
            "width": null,
            "min_width": null,
            "border": null,
            "align_items": null,
            "bottom": null,
            "_model_module": "@jupyter-widgets/base",
            "top": null,
            "grid_column": null,
            "overflow_y": null,
            "overflow_x": null,
            "grid_auto_flow": null,
            "grid_area": null,
            "grid_template_columns": null,
            "flex": null,
            "_model_name": "LayoutModel",
            "justify_items": null,
            "grid_row": null,
            "max_height": null,
            "align_content": null,
            "visibility": null,
            "align_self": null,
            "height": null,
            "min_height": null,
            "padding": null,
            "grid_auto_rows": null,
            "grid_gap": null,
            "max_width": null,
            "order": null,
            "_view_module_version": "1.2.0",
            "grid_template_areas": null,
            "object_position": null,
            "object_fit": null,
            "grid_auto_columns": null,
            "margin": null,
            "display": null,
            "left": null
          }
        },
        "a80cba77536a476b9fc989cedc318bec": {
          "model_module": "@jupyter-widgets/controls",
          "model_name": "FloatProgressModel",
          "state": {
            "_view_name": "ProgressView",
            "style": "IPY_MODEL_bbed7902db7843bdb46455ce3ac0495f",
            "_dom_classes": [],
            "description": "100%",
            "_model_name": "FloatProgressModel",
            "bar_style": "success",
            "max": 1,
            "_view_module": "@jupyter-widgets/controls",
            "_model_module_version": "1.5.0",
            "value": 1,
            "_view_count": null,
            "_view_module_version": "1.5.0",
            "orientation": "horizontal",
            "min": 0,
            "description_tooltip": null,
            "_model_module": "@jupyter-widgets/controls",
            "layout": "IPY_MODEL_b8b7c572b41f411481c12a75e6b64efa"
          }
        },
        "b64b9880ace741d2aa17082ec1aa1057": {
          "model_module": "@jupyter-widgets/controls",
          "model_name": "HTMLModel",
          "state": {
            "_view_name": "HTMLView",
            "style": "IPY_MODEL_4371eb379ec445c3ba5c717d75ac0357",
            "_dom_classes": [],
            "description": "",
            "_model_name": "HTMLModel",
            "placeholder": "​",
            "_view_module": "@jupyter-widgets/controls",
            "_model_module_version": "1.5.0",
            "value": " 1/1 [00:00&lt;00:00, 14.00it/s]",
            "_view_count": null,
            "_view_module_version": "1.5.0",
            "description_tooltip": null,
            "_model_module": "@jupyter-widgets/controls",
            "layout": "IPY_MODEL_4452b1db3754441a8fe1bbf7577767b0"
          }
        },
        "bbed7902db7843bdb46455ce3ac0495f": {
          "model_module": "@jupyter-widgets/controls",
          "model_name": "ProgressStyleModel",
          "state": {
            "_view_name": "StyleView",
            "_model_name": "ProgressStyleModel",
            "description_width": "initial",
            "_view_module": "@jupyter-widgets/base",
            "_model_module_version": "1.5.0",
            "_view_count": null,
            "_view_module_version": "1.2.0",
            "bar_color": null,
            "_model_module": "@jupyter-widgets/controls"
          }
        },
        "b8b7c572b41f411481c12a75e6b64efa": {
          "model_module": "@jupyter-widgets/base",
          "model_name": "LayoutModel",
          "state": {
            "_view_name": "LayoutView",
            "grid_template_rows": null,
            "right": null,
            "justify_content": null,
            "_view_module": "@jupyter-widgets/base",
            "overflow": null,
            "_model_module_version": "1.2.0",
            "_view_count": null,
            "flex_flow": null,
            "width": null,
            "min_width": null,
            "border": null,
            "align_items": null,
            "bottom": null,
            "_model_module": "@jupyter-widgets/base",
            "top": null,
            "grid_column": null,
            "overflow_y": null,
            "overflow_x": null,
            "grid_auto_flow": null,
            "grid_area": null,
            "grid_template_columns": null,
            "flex": null,
            "_model_name": "LayoutModel",
            "justify_items": null,
            "grid_row": null,
            "max_height": null,
            "align_content": null,
            "visibility": null,
            "align_self": null,
            "height": null,
            "min_height": null,
            "padding": null,
            "grid_auto_rows": null,
            "grid_gap": null,
            "max_width": null,
            "order": null,
            "_view_module_version": "1.2.0",
            "grid_template_areas": null,
            "object_position": null,
            "object_fit": null,
            "grid_auto_columns": null,
            "margin": null,
            "display": null,
            "left": null
          }
        },
        "4371eb379ec445c3ba5c717d75ac0357": {
          "model_module": "@jupyter-widgets/controls",
          "model_name": "DescriptionStyleModel",
          "state": {
            "_view_name": "StyleView",
            "_model_name": "DescriptionStyleModel",
            "description_width": "",
            "_view_module": "@jupyter-widgets/base",
            "_model_module_version": "1.5.0",
            "_view_count": null,
            "_view_module_version": "1.2.0",
            "_model_module": "@jupyter-widgets/controls"
          }
        },
        "4452b1db3754441a8fe1bbf7577767b0": {
          "model_module": "@jupyter-widgets/base",
          "model_name": "LayoutModel",
          "state": {
            "_view_name": "LayoutView",
            "grid_template_rows": null,
            "right": null,
            "justify_content": null,
            "_view_module": "@jupyter-widgets/base",
            "overflow": null,
            "_model_module_version": "1.2.0",
            "_view_count": null,
            "flex_flow": null,
            "width": null,
            "min_width": null,
            "border": null,
            "align_items": null,
            "bottom": null,
            "_model_module": "@jupyter-widgets/base",
            "top": null,
            "grid_column": null,
            "overflow_y": null,
            "overflow_x": null,
            "grid_auto_flow": null,
            "grid_area": null,
            "grid_template_columns": null,
            "flex": null,
            "_model_name": "LayoutModel",
            "justify_items": null,
            "grid_row": null,
            "max_height": null,
            "align_content": null,
            "visibility": null,
            "align_self": null,
            "height": null,
            "min_height": null,
            "padding": null,
            "grid_auto_rows": null,
            "grid_gap": null,
            "max_width": null,
            "order": null,
            "_view_module_version": "1.2.0",
            "grid_template_areas": null,
            "object_position": null,
            "object_fit": null,
            "grid_auto_columns": null,
            "margin": null,
            "display": null,
            "left": null
          }
        },
        "b8147c1f53c24598b07edfaa80c07788": {
          "model_module": "@jupyter-widgets/controls",
          "model_name": "HBoxModel",
          "state": {
            "_view_name": "HBoxView",
            "_dom_classes": [],
            "_model_name": "HBoxModel",
            "_view_module": "@jupyter-widgets/controls",
            "_model_module_version": "1.5.0",
            "_view_count": null,
            "_view_module_version": "1.5.0",
            "box_style": "",
            "layout": "IPY_MODEL_73eb85b4fec24c7b8314e27cd7cfc5d6",
            "_model_module": "@jupyter-widgets/controls",
            "children": [
              "IPY_MODEL_ac14d315fbb042a185d8c99d3e8d75ce",
              "IPY_MODEL_a14b080efc894a888787fc65740521dd"
            ]
          }
        },
        "73eb85b4fec24c7b8314e27cd7cfc5d6": {
          "model_module": "@jupyter-widgets/base",
          "model_name": "LayoutModel",
          "state": {
            "_view_name": "LayoutView",
            "grid_template_rows": null,
            "right": null,
            "justify_content": null,
            "_view_module": "@jupyter-widgets/base",
            "overflow": null,
            "_model_module_version": "1.2.0",
            "_view_count": null,
            "flex_flow": null,
            "width": null,
            "min_width": null,
            "border": null,
            "align_items": null,
            "bottom": null,
            "_model_module": "@jupyter-widgets/base",
            "top": null,
            "grid_column": null,
            "overflow_y": null,
            "overflow_x": null,
            "grid_auto_flow": null,
            "grid_area": null,
            "grid_template_columns": null,
            "flex": null,
            "_model_name": "LayoutModel",
            "justify_items": null,
            "grid_row": null,
            "max_height": null,
            "align_content": null,
            "visibility": null,
            "align_self": null,
            "height": null,
            "min_height": null,
            "padding": null,
            "grid_auto_rows": null,
            "grid_gap": null,
            "max_width": null,
            "order": null,
            "_view_module_version": "1.2.0",
            "grid_template_areas": null,
            "object_position": null,
            "object_fit": null,
            "grid_auto_columns": null,
            "margin": null,
            "display": null,
            "left": null
          }
        },
        "ac14d315fbb042a185d8c99d3e8d75ce": {
          "model_module": "@jupyter-widgets/controls",
          "model_name": "FloatProgressModel",
          "state": {
            "_view_name": "ProgressView",
            "style": "IPY_MODEL_f9ee1d0eeeef40838e8db6e8dac68d4a",
            "_dom_classes": [],
            "description": "100%",
            "_model_name": "FloatProgressModel",
            "bar_style": "success",
            "max": 1,
            "_view_module": "@jupyter-widgets/controls",
            "_model_module_version": "1.5.0",
            "value": 1,
            "_view_count": null,
            "_view_module_version": "1.5.0",
            "orientation": "horizontal",
            "min": 0,
            "description_tooltip": null,
            "_model_module": "@jupyter-widgets/controls",
            "layout": "IPY_MODEL_ee5c861f613f49d68e5b71d4cd10fde2"
          }
        },
        "a14b080efc894a888787fc65740521dd": {
          "model_module": "@jupyter-widgets/controls",
          "model_name": "HTMLModel",
          "state": {
            "_view_name": "HTMLView",
            "style": "IPY_MODEL_8e72a0ada7344ccb8d3beeb86c26811b",
            "_dom_classes": [],
            "description": "",
            "_model_name": "HTMLModel",
            "placeholder": "​",
            "_view_module": "@jupyter-widgets/controls",
            "_model_module_version": "1.5.0",
            "value": " 1/1 [00:07&lt;00:00,  7.76s/it]",
            "_view_count": null,
            "_view_module_version": "1.5.0",
            "description_tooltip": null,
            "_model_module": "@jupyter-widgets/controls",
            "layout": "IPY_MODEL_cb0ea7482043467dbc031047dfbbeb75"
          }
        },
        "f9ee1d0eeeef40838e8db6e8dac68d4a": {
          "model_module": "@jupyter-widgets/controls",
          "model_name": "ProgressStyleModel",
          "state": {
            "_view_name": "StyleView",
            "_model_name": "ProgressStyleModel",
            "description_width": "initial",
            "_view_module": "@jupyter-widgets/base",
            "_model_module_version": "1.5.0",
            "_view_count": null,
            "_view_module_version": "1.2.0",
            "bar_color": null,
            "_model_module": "@jupyter-widgets/controls"
          }
        },
        "ee5c861f613f49d68e5b71d4cd10fde2": {
          "model_module": "@jupyter-widgets/base",
          "model_name": "LayoutModel",
          "state": {
            "_view_name": "LayoutView",
            "grid_template_rows": null,
            "right": null,
            "justify_content": null,
            "_view_module": "@jupyter-widgets/base",
            "overflow": null,
            "_model_module_version": "1.2.0",
            "_view_count": null,
            "flex_flow": null,
            "width": null,
            "min_width": null,
            "border": null,
            "align_items": null,
            "bottom": null,
            "_model_module": "@jupyter-widgets/base",
            "top": null,
            "grid_column": null,
            "overflow_y": null,
            "overflow_x": null,
            "grid_auto_flow": null,
            "grid_area": null,
            "grid_template_columns": null,
            "flex": null,
            "_model_name": "LayoutModel",
            "justify_items": null,
            "grid_row": null,
            "max_height": null,
            "align_content": null,
            "visibility": null,
            "align_self": null,
            "height": null,
            "min_height": null,
            "padding": null,
            "grid_auto_rows": null,
            "grid_gap": null,
            "max_width": null,
            "order": null,
            "_view_module_version": "1.2.0",
            "grid_template_areas": null,
            "object_position": null,
            "object_fit": null,
            "grid_auto_columns": null,
            "margin": null,
            "display": null,
            "left": null
          }
        },
        "8e72a0ada7344ccb8d3beeb86c26811b": {
          "model_module": "@jupyter-widgets/controls",
          "model_name": "DescriptionStyleModel",
          "state": {
            "_view_name": "StyleView",
            "_model_name": "DescriptionStyleModel",
            "description_width": "",
            "_view_module": "@jupyter-widgets/base",
            "_model_module_version": "1.5.0",
            "_view_count": null,
            "_view_module_version": "1.2.0",
            "_model_module": "@jupyter-widgets/controls"
          }
        },
        "cb0ea7482043467dbc031047dfbbeb75": {
          "model_module": "@jupyter-widgets/base",
          "model_name": "LayoutModel",
          "state": {
            "_view_name": "LayoutView",
            "grid_template_rows": null,
            "right": null,
            "justify_content": null,
            "_view_module": "@jupyter-widgets/base",
            "overflow": null,
            "_model_module_version": "1.2.0",
            "_view_count": null,
            "flex_flow": null,
            "width": null,
            "min_width": null,
            "border": null,
            "align_items": null,
            "bottom": null,
            "_model_module": "@jupyter-widgets/base",
            "top": null,
            "grid_column": null,
            "overflow_y": null,
            "overflow_x": null,
            "grid_auto_flow": null,
            "grid_area": null,
            "grid_template_columns": null,
            "flex": null,
            "_model_name": "LayoutModel",
            "justify_items": null,
            "grid_row": null,
            "max_height": null,
            "align_content": null,
            "visibility": null,
            "align_self": null,
            "height": null,
            "min_height": null,
            "padding": null,
            "grid_auto_rows": null,
            "grid_gap": null,
            "max_width": null,
            "order": null,
            "_view_module_version": "1.2.0",
            "grid_template_areas": null,
            "object_position": null,
            "object_fit": null,
            "grid_auto_columns": null,
            "margin": null,
            "display": null,
            "left": null
          }
        }
      }
    }
  },
  "cells": [
    {
      "cell_type": "markdown",
      "metadata": {
        "id": "view-in-github",
        "colab_type": "text"
      },
      "source": [
        "<a href=\"https://colab.research.google.com/github/C4viar/PPD_MSLD_2019_2020_LL-AL-MT/blob/master/Draft_code/projet_ner.ipynb\" target=\"_parent\"><img src=\"https://colab.research.google.com/assets/colab-badge.svg\" alt=\"Open In Colab\"/></a>"
      ]
    },
    {
      "cell_type": "markdown",
      "metadata": {
        "id": "4c6mCMi8i2KP",
        "colab_type": "text"
      },
      "source": [
        "# Montage du drive"
      ]
    },
    {
      "cell_type": "code",
      "metadata": {
        "id": "NvqOJpLPiz3y",
        "colab_type": "code",
        "outputId": "db264973-5317-4adb-c3ee-e746490e5d40",
        "colab": {
          "base_uri": "https://localhost:8080/",
          "height": 122
        }
      },
      "source": [
        "# Montage du drive\n",
        "\n",
        "from google.colab import drive\n",
        "drive.mount('/content/drive/',force_remount=True)"
      ],
      "execution_count": 1,
      "outputs": [
        {
          "output_type": "stream",
          "text": [
            "Go to this URL in a browser: https://accounts.google.com/o/oauth2/auth?client_id=947318989803-6bn6qk8qdgf4n4g3pfee6491hc0brc4i.apps.googleusercontent.com&redirect_uri=urn%3aietf%3awg%3aoauth%3a2.0%3aoob&response_type=code&scope=email%20https%3a%2f%2fwww.googleapis.com%2fauth%2fdocs.test%20https%3a%2f%2fwww.googleapis.com%2fauth%2fdrive%20https%3a%2f%2fwww.googleapis.com%2fauth%2fdrive.photos.readonly%20https%3a%2f%2fwww.googleapis.com%2fauth%2fpeopleapi.readonly\n",
            "\n",
            "Enter your authorization code:\n",
            "··········\n",
            "Mounted at /content/drive/\n"
          ],
          "name": "stdout"
        }
      ]
    },
    {
      "cell_type": "markdown",
      "metadata": {
        "id": "ZRR2FKEa2hqj",
        "colab_type": "text"
      },
      "source": [
        "# Contexte\n"
      ]
    },
    {
      "cell_type": "markdown",
      "metadata": {
        "id": "bzDHUpGfZOdd",
        "colab_type": "text"
      },
      "source": [
        "Des modèles de langage du français ont tout récemment été publiés (CamemBERT, FlauBERT C’est positif car même des outils avancés comme Spacy sont notoirement encore peu adaptés à traiter certaines langues dont le français. Il reste à évaluer ce que ces modèles peuvent vraiment apporter notamment ne ce qui concerne la reconnaissances d’entités nommées.\n"
      ]
    },
    {
      "cell_type": "markdown",
      "metadata": {
        "id": "v5b86Ce1fOgG",
        "colab_type": "text"
      },
      "source": [
        "# Travail a réaliser"
      ]
    },
    {
      "cell_type": "markdown",
      "metadata": {
        "id": "9VfEZAGjfTTc",
        "colab_type": "text"
      },
      "source": [
        "Réaliser des expériences de reconnaissance d’entités nommées sur le jeu de donneés Europeana Newspapers French en utilisant tous les modèles disponibles pour cela dans la bibliothèque Simple Transformers. Les adresses à consulter sont :\n",
        "* https://github.com/ThilinaRajapakse/simpletransformers\n",
        "* http://api.bnf.fr/europeana-newspapers-french-ner-ground-truth"
      ]
    },
    {
      "cell_type": "markdown",
      "metadata": {
        "id": "89q49GkAguBh",
        "colab_type": "text"
      },
      "source": [
        "# Rendu\n",
        "\n",
        "Un code clair et commenté dans un notebook.\n",
        "Un rapport décrivant les méthodes/métriques d’évaluation (basées sur seqeval dont une description détaillée sera donnée) et présentant/comparant/discutant les résultats obtenus.\n"
      ]
    },
    {
      "cell_type": "markdown",
      "metadata": {
        "id": "aOt0BNmvgZ2-",
        "colab_type": "text"
      },
      "source": [
        "# Seqeval \n",
        "\n",
        "https://pypi.org/project/seqeval/\n",
        "\n",
        "\"seqeval is a Python framework for sequence labeling evaluation. seqeval can evaluate the performance of chunking tasks such as named-entity recognition, part-of-speech tagging, semantic role labeling and so on.\""
      ]
    },
    {
      "cell_type": "markdown",
      "metadata": {
        "id": "s9TjSfEKXUm9",
        "colab_type": "text"
      },
      "source": [
        "# Installation simple transformers, wandb"
      ]
    },
    {
      "cell_type": "code",
      "metadata": {
        "id": "YAu81V8eXeFK",
        "colab_type": "code",
        "colab": {}
      },
      "source": [
        "pip install simpletransformers"
      ],
      "execution_count": 0,
      "outputs": []
    },
    {
      "cell_type": "code",
      "metadata": {
        "id": "Q5-MYnHYg51r",
        "colab_type": "code",
        "colab": {}
      },
      "source": [
        "pip install wandb"
      ],
      "execution_count": 0,
      "outputs": []
    },
    {
      "cell_type": "markdown",
      "metadata": {
        "id": "EvuQROz_jN4h",
        "colab_type": "text"
      },
      "source": [
        "# Installation APEX"
      ]
    },
    {
      "cell_type": "code",
      "metadata": {
        "id": "f8iRvZWKjRdv",
        "colab_type": "code",
        "colab": {}
      },
      "source": [
        "! git clone https://github.com/NVIDIA/apex"
      ],
      "execution_count": 0,
      "outputs": []
    },
    {
      "cell_type": "code",
      "metadata": {
        "id": "G8begNZvjROY",
        "colab_type": "code",
        "colab": {}
      },
      "source": [
        "cd apex"
      ],
      "execution_count": 0,
      "outputs": []
    },
    {
      "cell_type": "code",
      "metadata": {
        "id": "QT3ujyyuepb-",
        "colab_type": "code",
        "colab": {}
      },
      "source": [
        "pip install -v --no-cache-dir --global-option=\"--cpp_ext\" --global-option=\"--cuda_ext\" ./"
      ],
      "execution_count": 0,
      "outputs": []
    },
    {
      "cell_type": "markdown",
      "metadata": {
        "id": "8HjW0OX8tqO9",
        "colab_type": "text"
      },
      "source": [
        "# NER \n",
        "https://simpletransformers.ai/docs/ner-specifics/\n",
        "\n",
        "\"The goal of Named Entity Recognition is to locate and classify named entities in a sequence. The named entities are pre-defined categories chosen according to the use case such as names of people, organizations, places, codes, time notations, monetary values, etc. Essentially, NER aims to assign a class to each token (usually a single word) in a sequence. Because of this, NER is also referred to as token classification.\"\n",
        "\n",
        "**Fonctionnement avec Simple Transformer**\n",
        "\n",
        "* Initialize a NERModel\n",
        "* Train the model with train_model()\n",
        "* Evaluate the model with eval_model()\n",
        "* Make predictions on (unlabelled) data with predict()\n",
        "\n",
        "**Modèles disponibles à fournir à model_type** : https://huggingface.co/models\n",
        "\n",
        "* BERT :\t*bert*\n",
        "* CamemBERT :\t*camembert*\n",
        "* RoBERTa :\t*roberta*\n",
        "* DistilBERT :\t*distilbert*\n",
        "* ELECTRA\t: *electra*\n",
        "* XLM-RoBERTa\t: *xlmroberta*"
      ]
    },
    {
      "cell_type": "markdown",
      "metadata": {
        "id": "q4J6-WU_zIRw",
        "colab_type": "text"
      },
      "source": [
        "# Test de l'ensemble des différents types de modèles"
      ]
    },
    {
      "cell_type": "code",
      "metadata": {
        "id": "Mn_CcPDQoErA",
        "colab_type": "code",
        "colab": {}
      },
      "source": [
        "import pandas as pd \n",
        "import numpy as np\n",
        "import os\n",
        "from pandas.io.parsers import ParserError\n",
        "import random\n",
        "from simpletransformers.ner import NERModel\n",
        "import logging\n",
        "from sklearn.model_selection import train_test_split"
      ],
      "execution_count": 0,
      "outputs": []
    },
    {
      "cell_type": "code",
      "metadata": {
        "id": "gbhrdPcoUD57",
        "colab_type": "code",
        "outputId": "dc7ea1e9-2d81-44da-a43b-1252cf55c4a3",
        "colab": {
          "base_uri": "https://localhost:8080/",
          "height": 34
        }
      },
      "source": [
        "pwd"
      ],
      "execution_count": 8,
      "outputs": [
        {
          "output_type": "execute_result",
          "data": {
            "text/plain": [
              "'/content/apex'"
            ]
          },
          "metadata": {
            "tags": []
          },
          "execution_count": 8
        }
      ]
    },
    {
      "cell_type": "code",
      "metadata": {
        "id": "qCeImHN04w5n",
        "colab_type": "code",
        "outputId": "8b10b0a9-d951-42a0-f3e1-60e9be43e3e5",
        "colab": {
          "base_uri": "https://localhost:8080/",
          "height": 34
        }
      },
      "source": [
        "cd ./.."
      ],
      "execution_count": 9,
      "outputs": [
        {
          "output_type": "stream",
          "text": [
            "/content\n"
          ],
          "name": "stdout"
        }
      ]
    },
    {
      "cell_type": "code",
      "metadata": {
        "id": "PLpl0eA6UPPd",
        "colab_type": "code",
        "outputId": "0b2728a5-fa17-492a-f182-aa2b20ebb4e1",
        "colab": {
          "base_uri": "https://localhost:8080/",
          "height": 51
        }
      },
      "source": [
        "cd drive/My Drive/MLDS/PPD-NER"
      ],
      "execution_count": 10,
      "outputs": [
        {
          "output_type": "stream",
          "text": [
            "[Errno 2] No such file or directory: 'drive/My Drive/PPD-NER'\n",
            "/content\n"
          ],
          "name": "stdout"
        }
      ]
    },
    {
      "cell_type": "markdown",
      "metadata": {
        "id": "4O9DiLdHUsuZ",
        "colab_type": "text"
      },
      "source": [
        "## Création du dataframe à partir des fichiers du jeu de données"
      ]
    },
    {
      "cell_type": "code",
      "metadata": {
        "id": "vn9oxOF2rAH7",
        "colab_type": "code",
        "colab": {}
      },
      "source": [
        "\n",
        "files = os.listdir(\"./data\") # liste des fichiers du jeu de données"
      ],
      "execution_count": 0,
      "outputs": []
    },
    {
      "cell_type": "code",
      "metadata": {
        "id": "HLva41EnsW4s",
        "colab_type": "code",
        "colab": {}
      },
      "source": [
        "\n",
        "# On lit les fichiers et on les met dans le même dataframe\n",
        "# S'il y a une erreur de séparateur, alors l'exception ParserError est levée\n",
        "\n",
        "l_bug = [] # Cette liste contiendra les dataframes ayant rencontrés l'exception ParserError\n",
        "l_ok = [] # Cette liste contiendra les dataframes n'ayant pas rencontrés l'exception ParserError\n",
        "df = pd.DataFrame() \n",
        "\n",
        "for i in files :\n",
        "  try:\n",
        "    # quoting = 3 pour éviter l'exception ParserError\n",
        "    # certaine lignes ont pour mot : '\"' ce qui pose problème car pandas les reconnait comme quote et non comme un caractère\n",
        "    df = df.append(pd.read_csv(\"./data/\"+i, sep = \"\\t\", quoting = 3, header = None)) \n",
        "    l_ok.append(i)\n",
        "  except ParserError as err :\n",
        "    l_bug.append(i)"
      ],
      "execution_count": 0,
      "outputs": []
    },
    {
      "cell_type": "markdown",
      "metadata": {
        "id": "8YkmottXWqLe",
        "colab_type": "text"
      },
      "source": [
        "La cellule suivantes permet de connaitre la shape de l'ensemble des fichiers.\n",
        "On observe que les 212 fichiers ont pour dimension : (1000, 2)"
      ]
    },
    {
      "cell_type": "code",
      "metadata": {
        "id": "m052UXhYo7Sc",
        "colab_type": "code",
        "colab": {}
      },
      "source": [
        "shape_df = pd.DataFrame(columns = [\"file\", \"rows\", \"cols\"])\n",
        "\n",
        "for i in files : \n",
        "  tmp = pd.read_csv(\"./data/\"+i, sep = \"\\t\", quoting = 3, header = None) # lecture du fichier\n",
        "  rows = tmp.shape[0] # nombre de lignes\n",
        "  cols = tmp.shape[1] # nombre de colonnes\n",
        "  dict_tmp = {\n",
        "      \"file\" : i ,\n",
        "      \"rows\" : rows,\n",
        "      \"cols\" : cols\n",
        "  }\n",
        "  shape_df = shape_df.append(dict_tmp, ignore_index=True)"
      ],
      "execution_count": 0,
      "outputs": []
    },
    {
      "cell_type": "code",
      "metadata": {
        "id": "le33E2-q31tY",
        "colab_type": "code",
        "outputId": "c7130f42-1109-47e0-d9f2-331a8bd0a232",
        "colab": {
          "base_uri": "https://localhost:8080/",
          "height": 34
        }
      },
      "source": [
        "(shape_df[\"rows\"]==1000).sum() # tous les fichiers ont la même dimension"
      ],
      "execution_count": 0,
      "outputs": [
        {
          "output_type": "execute_result",
          "data": {
            "text/plain": [
              "212"
            ]
          },
          "metadata": {
            "tags": []
          },
          "execution_count": 29
        }
      ]
    },
    {
      "cell_type": "markdown",
      "metadata": {
        "id": "2LCa1S_nY9Fu",
        "colab_type": "text"
      },
      "source": [
        "La librairie simpletransformer nous impose d'avoir 3 colonnes nommées : \"sentence_id\", \"words\", \"labels\"\n",
        "\n",
        "**Sentence_id** correspond au numéro de la phrase à laquelle un mot appartient. Cette information n'étant pas présente dans le jeu de données, il est nécessaire de construire cette variable nous-même."
      ]
    },
    {
      "cell_type": "code",
      "metadata": {
        "id": "xD_1CUlH4s_M",
        "colab_type": "code",
        "colab": {}
      },
      "source": [
        "df.columns = [\"words\", \"labels\"]  # on renomme les deux colonnes disponibles"
      ],
      "execution_count": 0,
      "outputs": []
    },
    {
      "cell_type": "code",
      "metadata": {
        "id": "QS0Zb3bP50zk",
        "colab_type": "code",
        "colab": {}
      },
      "source": [
        "df = df.reset_index(drop = True ) # on re-index correctement"
      ],
      "execution_count": 0,
      "outputs": []
    },
    {
      "cell_type": "code",
      "metadata": {
        "id": "gCtD5ULWqHog",
        "colab_type": "code",
        "colab": {}
      },
      "source": [
        "# Pour définir le commencement d'une nouvelle phrase on considère que l'apparition d'un des séparateurs suivants\n",
        "# \".\" ou \"?\" ou \"!\" signale un changement de phrase\n",
        "j = 0\n",
        "df[\"sentence_id\"] = \"\"\n",
        "for i in range(df.shape[0]):\n",
        "  if (df.loc[i, \"words\"] in ([\".\", \"!\", \"?\"])):\n",
        "    df.loc[i, \"sentence_id\"] = j\n",
        "    j = j+1\n",
        "  else :\n",
        "    df.loc[i, \"sentence_id\"] = j"
      ],
      "execution_count": 0,
      "outputs": []
    },
    {
      "cell_type": "code",
      "metadata": {
        "id": "ziRkj0nu5vq-",
        "colab_type": "code",
        "outputId": "eac6d62f-4570-48a5-b04b-0a43fd7e6843",
        "colab": {
          "base_uri": "https://localhost:8080/",
          "height": 406
        }
      },
      "source": [
        "df"
      ],
      "execution_count": 0,
      "outputs": [
        {
          "output_type": "execute_result",
          "data": {
            "text/html": [
              "<div>\n",
              "<style scoped>\n",
              "    .dataframe tbody tr th:only-of-type {\n",
              "        vertical-align: middle;\n",
              "    }\n",
              "\n",
              "    .dataframe tbody tr th {\n",
              "        vertical-align: top;\n",
              "    }\n",
              "\n",
              "    .dataframe thead th {\n",
              "        text-align: right;\n",
              "    }\n",
              "</style>\n",
              "<table border=\"1\" class=\"dataframe\">\n",
              "  <thead>\n",
              "    <tr style=\"text-align: right;\">\n",
              "      <th></th>\n",
              "      <th>words</th>\n",
              "      <th>labels</th>\n",
              "      <th>sentence_id</th>\n",
              "    </tr>\n",
              "  </thead>\n",
              "  <tbody>\n",
              "    <tr>\n",
              "      <th>0</th>\n",
              "      <td>:</td>\n",
              "      <td>O</td>\n",
              "      <td>0</td>\n",
              "    </tr>\n",
              "    <tr>\n",
              "      <th>1</th>\n",
              "      <td>:</td>\n",
              "      <td>O</td>\n",
              "      <td>0</td>\n",
              "    </tr>\n",
              "    <tr>\n",
              "      <th>2</th>\n",
              "      <td>:</td>\n",
              "      <td>O</td>\n",
              "      <td>0</td>\n",
              "    </tr>\n",
              "    <tr>\n",
              "      <th>3</th>\n",
              "      <td>:</td>\n",
              "      <td>O</td>\n",
              "      <td>0</td>\n",
              "    </tr>\n",
              "    <tr>\n",
              "      <th>4</th>\n",
              "      <td>:</td>\n",
              "      <td>O</td>\n",
              "      <td>0</td>\n",
              "    </tr>\n",
              "    <tr>\n",
              "      <th>...</th>\n",
              "      <td>...</td>\n",
              "      <td>...</td>\n",
              "      <td>...</td>\n",
              "    </tr>\n",
              "    <tr>\n",
              "      <th>211995</th>\n",
              "      <td>l'</td>\n",
              "      <td>O</td>\n",
              "      <td>12867</td>\n",
              "    </tr>\n",
              "    <tr>\n",
              "      <th>211996</th>\n",
              "      <td>orateur</td>\n",
              "      <td>O</td>\n",
              "      <td>12867</td>\n",
              "    </tr>\n",
              "    <tr>\n",
              "      <th>211997</th>\n",
              "      <td>dont</td>\n",
              "      <td>O</td>\n",
              "      <td>12867</td>\n",
              "    </tr>\n",
              "    <tr>\n",
              "      <th>211998</th>\n",
              "      <td>le</td>\n",
              "      <td>O</td>\n",
              "      <td>12867</td>\n",
              "    </tr>\n",
              "    <tr>\n",
              "      <th>211999</th>\n",
              "      <td>discours</td>\n",
              "      <td>O</td>\n",
              "      <td>12867</td>\n",
              "    </tr>\n",
              "  </tbody>\n",
              "</table>\n",
              "<p>212000 rows × 3 columns</p>\n",
              "</div>"
            ],
            "text/plain": [
              "           words labels sentence_id\n",
              "0              :      O           0\n",
              "1              :      O           0\n",
              "2              :      O           0\n",
              "3              :      O           0\n",
              "4              :      O           0\n",
              "...          ...    ...         ...\n",
              "211995        l'      O       12867\n",
              "211996   orateur      O       12867\n",
              "211997      dont      O       12867\n",
              "211998        le      O       12867\n",
              "211999  discours      O       12867\n",
              "\n",
              "[212000 rows x 3 columns]"
            ]
          },
          "metadata": {
            "tags": []
          },
          "execution_count": 57
        }
      ]
    },
    {
      "cell_type": "code",
      "metadata": {
        "id": "bWMRboaM-EP3",
        "colab_type": "code",
        "colab": {}
      },
      "source": [
        "df = df[[\"sentence_id\", \"words\", \"labels\"]] # réorganisation des colonnes"
      ],
      "execution_count": 0,
      "outputs": []
    },
    {
      "cell_type": "code",
      "metadata": {
        "id": "er31Psip-nsc",
        "colab_type": "code",
        "colab": {}
      },
      "source": [
        "df.to_csv(\"./out/df.csv\", index = False, sep = \"\\t\" ) # export du dataframe"
      ],
      "execution_count": 0,
      "outputs": []
    },
    {
      "cell_type": "markdown",
      "metadata": {
        "id": "pNyOIECUaVud",
        "colab_type": "text"
      },
      "source": [
        "## Test des différents type de modèles diponibles\n",
        "\n",
        "- BERT : bert\n",
        "- CamemBERT : camembert\n",
        "- RoBERTa : roberta\n",
        "- DistilBERT : distilbert\n",
        "- ELECTRA : electra\n",
        "- XLM-RoBERTa : xlmroberta"
      ]
    },
    {
      "cell_type": "code",
      "metadata": {
        "id": "WdJOkzpw7Rzt",
        "colab_type": "code",
        "outputId": "2d5fb91e-d34d-4cdd-dfaa-8711a94439d7",
        "colab": {
          "base_uri": "https://localhost:8080/",
          "height": 54
        }
      },
      "source": [
        "# Notre jeu d'entrainement sera constitué d'environ 80 pourcent des sentence_id unique (+- 10293) et 20 pourcent pour le test\n",
        "\n",
        "\n",
        "randomlist = []\n",
        "for i in range(0,10293):\n",
        "  n = random.randint(0, df[\"sentence_id\"].nunique())\n",
        "  randomlist.append(n)\n",
        "print(randomlist)"
      ],
      "execution_count": 0,
      "outputs": [
        {
          "output_type": "stream",
          "text": [
            "[5367, 2197, 3781, 7118, 12203, 8837, 4580, 4500, 6049, 10209, 1883, 8451, 10165, 2997, 5446, 4607, 2179, 9173, 3580, 1092, 10854, 12457, 11919, 10653, 9266, 4610, 4021, 1306, 7577, 9118, 11300, 11530, 8347, 8441, 2538, 3680, 4666, 2786, 12038, 3050, 12850, 9125, 5046, 3578, 4536, 9040, 5505, 2231, 1529, 11703, 12607, 479, 6221, 11235, 2884, 6851, 8103, 10845, 9828, 12176, 5924, 9996, 5757, 6394, 8315, 11284, 231, 9205, 216, 2294, 11940, 6100, 7437, 6777, 10168, 1124, 11896, 2793, 5236, 10158, 5098, 923, 7181, 1409, 7142, 2403, 5850, 9792, 11977, 6228, 3575, 10893, 2762, 11302, 2367, 4379, 9194, 6251, 4713, 10491, 8071, 4680, 6778, 4844, 11508, 8073, 9260, 7469, 12841, 4573, 3217, 12374, 2472, 984, 9195, 12301, 2857, 11957, 220, 3456, 5917, 11032, 3518, 9596, 1669, 5153, 7710, 10174, 7, 1817, 5831, 6674, 9211, 5566, 11911, 3412, 5020, 7635, 77, 10855, 3693, 921, 1161, 99, 5543, 6431, 11982, 11494, 11200, 7651, 10313, 7185, 15, 3532, 12330, 11344, 529, 8314, 5839, 6588, 1589, 9278, 5097, 3519, 8535, 2078, 11028, 432, 3478, 11255, 5566, 5982, 5105, 2528, 12822, 9135, 281, 6890, 1194, 8396, 7394, 7899, 9354, 5438, 467, 3724, 8553, 4236, 133, 850, 378, 10143, 6029, 11758, 1226, 11470, 9506, 1492, 197, 11125, 4143, 7836, 4078, 4610, 5569, 6504, 1635, 4151, 8078, 1591, 1166, 12822, 7833, 1914, 754, 362, 10112, 9963, 5558, 2883, 12812, 6756, 2090, 7670, 7222, 6667, 9600, 4473, 12279, 6254, 5978, 10124, 7838, 5294, 1596, 8358, 6933, 11000, 3113, 1427, 2298, 1544, 1928, 12131, 879, 3809, 8832, 9066, 1264, 7203, 6440, 10517, 1017, 7726, 2534, 2956, 2995, 8524, 10536, 11359, 4120, 10506, 3333, 439, 8602, 2804, 524, 1955, 1534, 3529, 3499, 2942, 880, 4924, 160, 6096, 3073, 9680, 5748, 12808, 8906, 11317, 5303, 11673, 6777, 2646, 3922, 6678, 2815, 6542, 5545, 4812, 4732, 6868, 8220, 796, 4940, 4237, 4131, 9947, 3245, 11121, 9510, 2553, 440, 10427, 9907, 11999, 4463, 7902, 12158, 9986, 3241, 6470, 7919, 11573, 6366, 2573, 1141, 8914, 3086, 6623, 5580, 5776, 1970, 3696, 7742, 11097, 12132, 8721, 6679, 9720, 1722, 6357, 6662, 1802, 7150, 8807, 1256, 3460, 1530, 8696, 11583, 10075, 3469, 7337, 701, 2502, 12585, 1844, 6283, 7965, 5282, 10996, 3084, 11666, 1311, 4653, 10044, 5681, 10025, 3175, 1605, 500, 11535, 12588, 1443, 12234, 9064, 2087, 12108, 6188, 8765, 8691, 4057, 1714, 6541, 12018, 9413, 11387, 10038, 8019, 4591, 3022, 6343, 3999, 7595, 1954, 9454, 12126, 9431, 7250, 5391, 9863, 9767, 11792, 8356, 9605, 6602, 3214, 2883, 6549, 2056, 7441, 8368, 5019, 326, 8514, 6340, 2911, 9998, 1262, 9373, 7936, 2487, 4988, 10744, 2484, 7859, 9345, 1720, 1741, 289, 7460, 9385, 1005, 968, 11442, 9134, 11808, 2753, 12631, 3773, 7562, 391, 3106, 2843, 9100, 6534, 8248, 127, 6745, 8351, 6855, 11753, 8902, 871, 11060, 2989, 10805, 8978, 5733, 797, 2821, 3233, 5682, 5571, 1150, 1167, 1535, 11099, 11855, 75, 2178, 5541, 2476, 5334, 11293, 11068, 7794, 4760, 11994, 2173, 6497, 1961, 9705, 11009, 6442, 8538, 10409, 9728, 2613, 131, 6934, 6737, 1245, 12631, 3012, 10991, 786, 10433, 7513, 6369, 2710, 7050, 2591, 2001, 9060, 430, 2331, 11543, 7416, 2226, 3274, 4437, 2470, 8945, 3600, 10991, 3841, 6951, 9401, 273, 9567, 5034, 11871, 3872, 11356, 3446, 3607, 3845, 4064, 8634, 8114, 5762, 5741, 12548, 7745, 11055, 11830, 891, 5266, 6679, 12407, 2863, 320, 3783, 1427, 5396, 9750, 6252, 12214, 11188, 6763, 7684, 7424, 4987, 3081, 11416, 11644, 5924, 3049, 9136, 9056, 604, 5361, 6185, 11513, 1342, 400, 4809, 6342, 1614, 12743, 4325, 5396, 54, 7757, 2931, 9184, 11205, 9493, 9198, 9768, 4485, 10116, 4381, 4690, 4100, 1254, 11562, 12299, 3203, 1772, 10223, 10883, 10153, 7887, 9747, 841, 11331, 12740, 9844, 2484, 11887, 4323, 8966, 330, 6455, 11792, 10975, 9697, 7529, 10106, 11644, 7567, 5023, 3251, 6388, 5325, 7916, 11256, 8226, 6389, 12038, 10908, 9224, 3816, 11400, 7073, 10051, 10470, 885, 1106, 2564, 9904, 4415, 5024, 3124, 7354, 6489, 2658, 576, 9454, 7284, 8367, 1064, 2300, 5732, 515, 4229, 7850, 5810, 3717, 5153, 8638, 8490, 6494, 3491, 4726, 6913, 8588, 6219, 3726, 284, 10786, 10365, 9247, 7257, 9450, 10889, 8928, 5377, 9906, 1839, 4059, 1314, 6306, 2348, 378, 11731, 12229, 11693, 4308, 825, 9188, 3499, 1265, 3410, 5784, 1925, 12106, 414, 6554, 10342, 11367, 8347, 5995, 9296, 3158, 12372, 8333, 127, 3616, 4086, 10785, 3349, 11622, 7017, 1341, 7657, 5511, 10387, 11995, 5571, 3746, 3656, 1460, 7814, 1777, 8934, 2609, 2239, 2774, 5772, 12309, 2307, 12510, 10271, 5282, 5346, 1122, 12168, 63, 6310, 2578, 2231, 3912, 7442, 3732, 6685, 696, 136, 256, 12179, 8784, 8909, 8833, 3968, 5410, 7739, 10575, 11200, 359, 11636, 3283, 5129, 4402, 10538, 9663, 600, 4388, 9291, 6200, 1105, 3095, 12268, 10423, 7418, 2199, 2873, 3391, 2798, 7718, 12830, 9169, 12432, 10469, 12482, 2648, 966, 7438, 2288, 10157, 9004, 1020, 6421, 9412, 700, 10953, 4409, 12652, 5614, 4754, 3156, 149, 11638, 11654, 3943, 12224, 11480, 11895, 11370, 8425, 4369, 5084, 9927, 6523, 1692, 6829, 10085, 11384, 9377, 1227, 4145, 12770, 8584, 6905, 9952, 4275, 9219, 8697, 7999, 7652, 8663, 1623, 4503, 10328, 7078, 1348, 2051, 876, 8149, 1975, 1745, 8350, 9211, 6703, 9725, 9058, 1642, 9452, 1686, 2856, 2938, 9086, 2312, 5130, 3517, 10848, 997, 4062, 1360, 9280, 7173, 9560, 713, 2552, 11786, 4954, 6402, 2065, 8165, 7889, 5152, 5061, 1834, 370, 8916, 11849, 12723, 11503, 4679, 8468, 8489, 8200, 2892, 4097, 9247, 11221, 8159, 6644, 12322, 6415, 8505, 7761, 2937, 3708, 8194, 10929, 11658, 8294, 3379, 6568, 12495, 11892, 773, 2158, 4302, 8067, 1896, 10677, 2043, 8602, 7755, 9083, 5467, 5091, 5524, 1090, 3057, 10555, 7156, 7475, 10224, 10253, 3570, 1929, 1671, 11753, 12620, 3520, 1245, 2802, 2312, 8808, 6919, 1513, 1367, 1052, 9580, 2684, 1595, 7550, 12556, 7223, 10008, 5990, 12172, 7432, 9095, 7613, 10151, 12444, 6266, 10553, 1080, 1287, 2547, 10713, 7766, 11715, 838, 2794, 990, 3409, 6604, 707, 9994, 12706, 6974, 2309, 10712, 1564, 3989, 3659, 9439, 8827, 5647, 6998, 12576, 7002, 9747, 9753, 4705, 11388, 3002, 1828, 2001, 12645, 6622, 4438, 6153, 6156, 402, 12342, 823, 4851, 5995, 4359, 7963, 11230, 2741, 5282, 1288, 6531, 3329, 12570, 7725, 10323, 2802, 2891, 3777, 643, 8703, 1417, 7982, 3084, 424, 2118, 641, 1315, 5646, 3037, 9162, 5002, 1309, 1625, 3809, 8266, 1747, 2355, 2914, 4969, 8743, 11789, 5280, 1434, 272, 10678, 4502, 3791, 11615, 3337, 66, 12694, 5191, 3968, 510, 10666, 11956, 571, 2953, 7453, 5840, 7883, 10602, 4340, 6564, 8530, 1619, 2123, 2151, 6841, 3345, 3733, 11869, 3320, 9756, 11230, 4341, 12149, 11281, 6328, 2143, 11227, 11881, 41, 12057, 10363, 9304, 3206, 3686, 5043, 1397, 7850, 5013, 9710, 5489, 8072, 12796, 8733, 8039, 7839, 6194, 4949, 2053, 5729, 7015, 5477, 6607, 6929, 9764, 7973, 2345, 6082, 12489, 12782, 6211, 2673, 5869, 11558, 2112, 9739, 7690, 9313, 12616, 8474, 12082, 3760, 11704, 10295, 2677, 2551, 11848, 3966, 7319, 2565, 12652, 2259, 12710, 5965, 594, 3828, 3803, 10967, 12319, 6303, 9359, 12173, 5366, 10836, 2611, 9887, 1688, 1816, 11937, 1053, 12245, 12630, 7550, 1626, 7913, 12676, 2115, 11661, 11630, 805, 9220, 4106, 5711, 3299, 9445, 4870, 3191, 2211, 6101, 7544, 1247, 1073, 2460, 11672, 4424, 10978, 10533, 7178, 1848, 11791, 8347, 11677, 10363, 3116, 7934, 6154, 4785, 5662, 6141, 4548, 2788, 1861, 7674, 10830, 2428, 2610, 11636, 1283, 10815, 3769, 8679, 6789, 1068, 6779, 11304, 6578, 1209, 2366, 7824, 3958, 2799, 1099, 9268, 1815, 8676, 11739, 2510, 11600, 1569, 10310, 4699, 2762, 2538, 5328, 2466, 12588, 6207, 12396, 5764, 2569, 278, 7086, 11466, 11401, 4296, 12739, 8214, 382, 10028, 11430, 6112, 4236, 249, 2666, 8966, 2363, 9376, 3194, 522, 3671, 8321, 8505, 9748, 12799, 328, 10311, 5933, 1468, 11155, 9413, 9370, 8341, 2609, 6419, 7786, 4924, 1900, 2698, 7573, 9493, 11, 8583, 9356, 9184, 4577, 5753, 5461, 5498, 12543, 2127, 9660, 5271, 9711, 1336, 2526, 5824, 5378, 4947, 11714, 12434, 8235, 6544, 8516, 2469, 11437, 11373, 8758, 12762, 4429, 4644, 1526, 3318, 1786, 5272, 1851, 12085, 10591, 2428, 8724, 3754, 4014, 194, 7078, 6048, 6527, 6722, 2355, 1569, 4659, 7466, 5833, 6430, 1559, 12085, 8504, 4119, 10847, 7579, 11671, 1274, 5155, 6817, 2551, 4938, 6126, 5595, 1012, 7706, 882, 2823, 1294, 2034, 8815, 5844, 12749, 184, 4069, 8820, 11868, 3578, 414, 8213, 6541, 8372, 6029, 6011, 12626, 6605, 6321, 3014, 132, 8652, 12500, 11674, 9009, 8207, 9535, 10175, 1071, 11245, 6808, 1075, 797, 7874, 3629, 690, 4752, 5318, 1945, 4993, 6615, 10382, 12739, 2429, 10384, 8290, 10595, 980, 4967, 5426, 9908, 10893, 11844, 2209, 832, 8240, 6652, 6203, 12224, 1992, 4224, 8297, 11652, 11574, 725, 12663, 4674, 2904, 6763, 1492, 11014, 7648, 11709, 6448, 3985, 944, 939, 3523, 3678, 1412, 931, 3610, 10742, 3544, 6868, 3842, 3964, 2352, 3898, 5238, 10602, 10912, 2337, 1633, 11237, 6896, 3865, 3707, 2303, 11465, 10475, 5530, 11786, 12608, 9627, 5028, 10831, 4267, 2522, 6421, 2912, 2183, 12653, 4778, 10257, 2342, 1044, 7810, 4872, 2612, 1327, 11598, 8168, 7185, 10001, 10502, 12473, 10528, 7184, 2069, 1594, 8618, 10735, 8762, 10752, 303, 3001, 10897, 1037, 11645, 3716, 7312, 8163, 10199, 7300, 3612, 288, 7662, 4522, 5310, 9533, 9129, 12622, 1485, 3335, 885, 9512, 9173, 2509, 3487, 10898, 10072, 12730, 3232, 9152, 11309, 12763, 1645, 379, 8419, 859, 10354, 9288, 10280, 12277, 4908, 2305, 4362, 6380, 10437, 12441, 12532, 3254, 5333, 476, 978, 9353, 6032, 176, 4594, 16, 6358, 9217, 11008, 10241, 7533, 9567, 31, 642, 1613, 3310, 10943, 3427, 2536, 10616, 7693, 11158, 9684, 10897, 9709, 12185, 11047, 1136, 11407, 11073, 1243, 11698, 11154, 8873, 1718, 10731, 2779, 5240, 632, 1520, 738, 11450, 11339, 5525, 2413, 10992, 6946, 6245, 516, 8927, 11978, 3775, 5597, 1352, 9598, 5327, 7445, 3123, 8148, 1769, 1422, 687, 11029, 5355, 4612, 4864, 7126, 11143, 2920, 10035, 9529, 4106, 452, 4803, 11607, 8497, 9000, 11429, 812, 5863, 10016, 12356, 4825, 8546, 6190, 3721, 606, 3631, 6534, 12250, 11804, 7001, 11053, 6898, 5615, 10619, 4827, 3114, 573, 7366, 8849, 10054, 2580, 5544, 7896, 10073, 2187, 2098, 7818, 6163, 3856, 10285, 12363, 11153, 4357, 8445, 8559, 3808, 1195, 10022, 6747, 6213, 9908, 7759, 523, 2411, 5842, 10178, 3305, 12445, 4868, 9978, 2629, 5547, 2998, 5486, 10122, 2681, 1258, 7446, 6120, 9402, 7324, 3660, 6695, 1039, 3628, 360, 2004, 5162, 6665, 7706, 8714, 3009, 7320, 2321, 5606, 6336, 8658, 3467, 2851, 6591, 843, 5316, 115, 9874, 2295, 11469, 9439, 1136, 1276, 7487, 2253, 9738, 11735, 10232, 5254, 9496, 7901, 2532, 1170, 6141, 8281, 10343, 9338, 6599, 3193, 3144, 7009, 551, 12355, 252, 7615, 8596, 8900, 11040, 10074, 4452, 10534, 6230, 2313, 2499, 6399, 1024, 8422, 8690, 10398, 2313, 1351, 12672, 568, 7229, 2850, 6944, 6762, 12003, 4245, 1705, 1491, 2022, 4887, 6345, 10234, 2243, 1073, 2850, 7914, 9689, 7339, 12491, 5102, 5217, 12837, 9588, 11721, 962, 10235, 5657, 3999, 4480, 4214, 1727, 6800, 6719, 11331, 5869, 8571, 6328, 11629, 3544, 5295, 746, 7943, 10095, 2479, 12144, 12672, 3555, 6740, 7060, 122, 12103, 8062, 1936, 8684, 812, 7393, 7833, 10353, 9409, 8689, 3531, 5198, 8552, 8013, 3690, 1470, 9589, 5563, 806, 8205, 7847, 4352, 209, 3772, 5876, 11733, 6472, 196, 9455, 5870, 7609, 10674, 5979, 4225, 3285, 5193, 8013, 2664, 10637, 4666, 5855, 12224, 317, 7461, 7752, 9344, 12112, 11493, 8927, 9033, 11652, 5849, 8500, 11946, 372, 9443, 6049, 9623, 10510, 1581, 6067, 2999, 3498, 5680, 2406, 12072, 9893, 2844, 6665, 1908, 5704, 6628, 2372, 5163, 11356, 6962, 3936, 1882, 6707, 11689, 1013, 12597, 8910, 11217, 11968, 3191, 3065, 3001, 5891, 9268, 12050, 240, 4976, 724, 6736, 11700, 2466, 7858, 9718, 60, 8322, 6287, 12554, 8257, 3952, 10565, 7518, 12519, 3132, 3066, 7440, 2004, 4436, 10838, 7405, 8198, 8944, 8248, 11243, 10174, 10853, 3303, 7724, 10118, 8089, 3039, 1770, 6271, 959, 11660, 10648, 7168, 3173, 6229, 3580, 5575, 11588, 2054, 10999, 1153, 12323, 4831, 326, 10808, 7416, 12740, 3947, 9731, 10151, 11574, 5687, 4897, 1197, 12039, 8563, 5036, 673, 3962, 9626, 4310, 10118, 12131, 12304, 640, 10812, 9660, 4857, 2944, 8269, 5941, 6865, 10974, 7861, 9992, 7977, 3511, 12400, 1301, 5443, 9650, 8807, 8913, 4592, 3547, 3389, 2502, 2246, 5201, 9683, 64, 10414, 2085, 2971, 9665, 7371, 4831, 7238, 1460, 8447, 9418, 63, 4524, 869, 6607, 5273, 6810, 8910, 8371, 513, 6731, 500, 8711, 2530, 8288, 11476, 6095, 6085, 5273, 11638, 9096, 11833, 8080, 6623, 19, 7807, 8545, 11032, 4270, 5372, 327, 2101, 254, 12745, 6126, 10759, 2495, 10535, 8613, 2102, 11022, 9462, 4059, 4466, 4825, 7267, 8849, 611, 4800, 10481, 3894, 12140, 7724, 1445, 1445, 4297, 7635, 2900, 7721, 2408, 7348, 9115, 3693, 8248, 9783, 8014, 1951, 2981, 9271, 439, 7011, 5450, 91, 5411, 11830, 3169, 2560, 4084, 1346, 11604, 11061, 3541, 8813, 6188, 3848, 6014, 1872, 2486, 6180, 6681, 4740, 4421, 7070, 8742, 7742, 7919, 9060, 1134, 11243, 2336, 9406, 265, 8831, 7375, 6802, 7272, 10137, 5340, 2362, 3732, 2250, 7455, 10595, 3344, 12349, 1293, 7689, 6948, 9506, 8774, 8028, 11439, 1206, 12199, 11171, 11566, 7936, 8670, 7444, 3306, 7675, 1950, 4890, 2557, 5814, 2596, 4665, 525, 12469, 3190, 1637, 1276, 6748, 12720, 3540, 7799, 972, 3912, 11263, 9289, 6064, 2693, 611, 7536, 11748, 5975, 7302, 8903, 5015, 3716, 11159, 182, 364, 8817, 4999, 4764, 2250, 1009, 2798, 2978, 3387, 3503, 10376, 3374, 3209, 1607, 2037, 3914, 9765, 2424, 4101, 8483, 2657, 638, 782, 12221, 6007, 9722, 4981, 5299, 7374, 1254, 8244, 3229, 4950, 567, 2503, 267, 5808, 10788, 6078, 335, 6297, 780, 12340, 9268, 7232, 4094, 5668, 5992, 9896, 6126, 992, 3315, 10199, 12819, 12848, 9467, 8940, 7822, 5671, 8324, 3623, 12206, 8199, 8339, 5745, 5905, 4114, 20, 10682, 11026, 1109, 10039, 8703, 4135, 5508, 9951, 7821, 8284, 9719, 10069, 12104, 5831, 12421, 3772, 5017, 5709, 3602, 11493, 12469, 10984, 5460, 10525, 5979, 4920, 2156, 9337, 1692, 11849, 8407, 11646, 173, 1582, 5322, 4403, 3823, 7563, 2462, 10992, 3909, 1708, 8481, 8153, 1330, 8397, 245, 4454, 1748, 682, 3741, 7221, 2571, 7318, 6552, 4426, 2843, 4524, 7018, 5897, 11646, 2513, 2434, 12226, 4923, 11645, 4537, 1737, 11549, 8823, 4527, 11083, 6102, 977, 1128, 1269, 7718, 2987, 2821, 1559, 11960, 9798, 2741, 7547, 1860, 2561, 7084, 11057, 275, 4248, 4096, 7772, 7571, 9339, 5026, 8975, 10498, 4912, 2063, 1034, 12838, 10567, 6899, 2840, 3924, 9427, 12622, 11275, 1742, 1550, 813, 8452, 2399, 7217, 2394, 3286, 12500, 2835, 2035, 4070, 6703, 7816, 8118, 3371, 6486, 490, 12467, 8760, 12723, 3794, 10362, 469, 2230, 11942, 544, 12170, 2436, 7344, 1748, 11364, 1807, 2619, 12066, 7659, 12448, 10491, 1621, 1864, 10250, 2104, 11436, 8696, 10811, 7257, 8002, 2564, 7116, 5408, 5295, 1184, 6351, 10084, 6423, 7525, 7944, 10392, 12065, 4719, 11706, 3865, 25, 3267, 7958, 4476, 345, 11975, 2867, 11810, 5596, 1597, 7140, 10377, 4303, 6136, 9071, 5438, 5289, 6485, 11131, 7281, 275, 2767, 576, 4463, 11959, 7632, 12319, 7980, 4374, 2595, 8847, 2035, 4646, 2180, 3463, 8681, 7478, 7423, 630, 7940, 8856, 5080, 7358, 11416, 5245, 11932, 11549, 12034, 10457, 9613, 9021, 11290, 2087, 3802, 12324, 10831, 9652, 11784, 12727, 7975, 2540, 6479, 7875, 2656, 11022, 12711, 5036, 715, 5355, 5003, 10444, 9926, 1411, 11055, 6404, 9440, 151, 10695, 8390, 8341, 8501, 12380, 1666, 3473, 12780, 7087, 12482, 4007, 12178, 5393, 2285, 7791, 4197, 49, 569, 7238, 2371, 834, 3522, 11024, 6120, 6955, 7421, 325, 3304, 2435, 5492, 601, 4601, 11602, 9600, 7993, 11403, 5412, 1408, 1954, 2440, 7782, 2628, 9107, 6625, 9310, 10925, 3920, 948, 6498, 9377, 8828, 1766, 6359, 8762, 7885, 9136, 6661, 2367, 4603, 9667, 2992, 5008, 4992, 4156, 12744, 1362, 12465, 3016, 3332, 12535, 5624, 2987, 7561, 1343, 7047, 5591, 7549, 8274, 6390, 11649, 9345, 12254, 5328, 8782, 257, 5304, 7995, 2055, 1730, 285, 3093, 6559, 3010, 12132, 10388, 2960, 1731, 705, 6308, 4645, 1265, 7180, 9888, 1368, 506, 8408, 7095, 9154, 7117, 12491, 1076, 2586, 4589, 10660, 11996, 11412, 8023, 11616, 3905, 1366, 11382, 2806, 3454, 10672, 9516, 441, 7266, 6003, 7136, 12463, 4926, 4226, 9985, 3232, 2014, 1913, 5767, 8333, 3307, 12317, 9809, 3783, 11817, 6237, 1348, 4464, 7855, 3335, 10122, 12584, 162, 4452, 396, 3065, 3673, 7874, 3097, 4461, 8799, 5495, 3205, 8764, 3403, 6193, 8902, 8645, 9196, 9665, 5102, 10595, 6034, 8071, 10241, 2051, 7435, 8863, 2881, 9321, 3034, 2092, 9472, 3254, 10266, 11316, 4526, 4514, 4435, 937, 6742, 4215, 9463, 7900, 9468, 9953, 6539, 11051, 5824, 4562, 4687, 1964, 11873, 1327, 4140, 10634, 12001, 2469, 6490, 12726, 42, 8228, 6186, 4878, 1344, 4710, 7601, 9069, 2520, 9693, 10090, 5301, 11892, 3433, 4706, 5957, 9226, 11864, 511, 8868, 7241, 6800, 9462, 6963, 11274, 9937, 9189, 6483, 4883, 863, 4285, 2721, 10988, 7306, 4667, 11936, 9216, 3849, 11821, 9976, 12229, 3365, 7002, 4922, 4899, 8726, 8097, 6697, 3972, 9992, 7448, 11615, 12, 8316, 11776, 11714, 11778, 2126, 6139, 2027, 205, 12395, 7780, 7056, 3506, 6280, 3526, 11705, 5342, 10035, 239, 4534, 12557, 9291, 1760, 1200, 5474, 8825, 9942, 7622, 5645, 1097, 10665, 8998, 12498, 1264, 9690, 1101, 5180, 4978, 2400, 10880, 9884, 243, 3480, 5114, 12797, 309, 11418, 7535, 2984, 4361, 2905, 8557, 8893, 3324, 807, 7859, 4388, 9739, 238, 11233, 3492, 7253, 3273, 558, 4901, 6238, 12460, 3387, 2425, 6696, 7484, 3302, 7839, 1503, 11703, 9276, 5602, 4963, 9894, 10964, 6851, 3182, 5978, 9665, 10172, 9487, 713, 559, 3740, 8286, 8448, 7492, 11079, 10857, 319, 556, 6832, 9796, 7920, 11854, 4915, 11892, 7893, 8143, 8518, 3985, 5091, 8599, 8579, 8905, 4026, 5349, 4064, 211, 7996, 1640, 7783, 872, 10769, 9289, 25, 5730, 9384, 2110, 5586, 5822, 3667, 6837, 5853, 3146, 5256, 8608, 9347, 8911, 6675, 4183, 6594, 2780, 393, 11959, 7969, 4740, 4665, 4347, 4730, 5725, 3259, 8218, 6524, 7860, 10632, 6435, 1563, 11016, 6421, 8111, 4043, 11221, 9359, 6692, 3626, 187, 6483, 5036, 5223, 11355, 990, 12294, 11473, 422, 12352, 2105, 3662, 1035, 6844, 5848, 7961, 3810, 3858, 10156, 1532, 706, 9611, 3142, 10243, 10365, 12284, 3115, 1295, 4791, 892, 8972, 8245, 2104, 3259, 177, 3429, 2835, 12797, 3374, 8171, 5276, 4572, 12092, 11701, 3510, 9782, 4087, 11124, 5161, 8339, 7918, 7429, 9678, 2955, 8286, 8221, 4244, 3650, 4801, 11265, 5932, 903, 6409, 8126, 11645, 6328, 7948, 6469, 10847, 6693, 3956, 12040, 3886, 12061, 8347, 1273, 90, 11766, 4500, 2045, 5888, 10339, 9055, 6932, 4105, 4350, 10533, 4134, 9742, 8519, 3249, 1386, 3990, 3574, 10754, 4215, 11930, 4450, 9004, 419, 9480, 8272, 5574, 7101, 4761, 319, 9868, 913, 10603, 6219, 12318, 10569, 5220, 3468, 6821, 4945, 1457, 1043, 9964, 4197, 10555, 2532, 1047, 11158, 10281, 9090, 8661, 7093, 5586, 8198, 11880, 2637, 2839, 1348, 3240, 10204, 1850, 6470, 1510, 1002, 9158, 9612, 4292, 3724, 4600, 1281, 8426, 3057, 7202, 928, 9163, 3815, 9268, 8477, 3459, 9755, 4480, 12251, 10117, 8289, 4513, 4874, 6577, 4400, 9352, 3410, 2988, 4589, 11342, 571, 2442, 7871, 7111, 116, 4695, 1778, 4610, 11036, 3093, 3236, 12475, 1152, 2109, 3478, 4876, 6578, 186, 11647, 9260, 951, 4141, 3770, 10391, 10025, 11206, 4845, 8888, 6877, 5964, 9890, 248, 2223, 4729, 9254, 9838, 7493, 10957, 565, 6412, 10563, 4967, 7235, 7414, 4788, 8768, 11725, 12506, 671, 11242, 9228, 3620, 6845, 1228, 1994, 1911, 9887, 4146, 4658, 8979, 12019, 5729, 2843, 7245, 12022, 483, 1375, 4154, 12266, 9196, 9162, 1388, 734, 12550, 4820, 4904, 401, 6461, 6125, 2203, 5731, 1925, 109, 3270, 10159, 9451, 6397, 7139, 5862, 406, 9212, 657, 6447, 10266, 12202, 1101, 4142, 8647, 2026, 5132, 4703, 8650, 3697, 1996, 12820, 657, 1003, 10568, 12354, 12104, 5346, 5844, 6063, 3556, 643, 11459, 3232, 3192, 5452, 3973, 10196, 11991, 6206, 657, 3034, 8982, 7693, 12076, 440, 6984, 419, 9666, 10972, 4499, 78, 5810, 1141, 4560, 6251, 448, 2452, 4052, 9466, 6207, 2202, 11923, 8785, 5601, 11305, 2168, 3758, 9991, 4505, 7397, 1100, 759, 6997, 4874, 11327, 4900, 5555, 9580, 1723, 9401, 3556, 10658, 1642, 10106, 9470, 12521, 9119, 4381, 11898, 12548, 9609, 1907, 7365, 11124, 8180, 10433, 3085, 6647, 2849, 3058, 12448, 7948, 2078, 5748, 10569, 9552, 2186, 6787, 5993, 10052, 12212, 7984, 10494, 7738, 3355, 3805, 9351, 2610, 6934, 6854, 11708, 4410, 12597, 12071, 3782, 3706, 8212, 11016, 865, 9475, 6622, 8354, 1990, 8292, 9393, 9634, 7272, 1443, 11547, 11377, 10149, 12239, 599, 11417, 11033, 9150, 5292, 12685, 6906, 12222, 10583, 3545, 11378, 6586, 8919, 4611, 7106, 5816, 824, 1455, 11472, 1065, 12643, 4193, 3001, 7022, 432, 7554, 802, 4379, 12470, 6547, 2944, 7779, 5009, 11693, 736, 1887, 1927, 8041, 11120, 3543, 9132, 10791, 4052, 9990, 11696, 1510, 5668, 6456, 1566, 11778, 9951, 9847, 9748, 2508, 2847, 9655, 2233, 10022, 3635, 8309, 5795, 2044, 11976, 6158, 5571, 1839, 8778, 10687, 8147, 9226, 10830, 8401, 4195, 6776, 3659, 8767, 7310, 6002, 8874, 8620, 7480, 2918, 10335, 3876, 3607, 11271, 182, 12464, 5272, 886, 10036, 10749, 1378, 4032, 4478, 8176, 3395, 6674, 5542, 4900, 3098, 540, 6063, 2588, 12574, 9426, 1970, 5805, 9796, 10285, 5683, 9943, 2652, 9369, 12407, 1038, 9822, 1392, 1153, 233, 1128, 2665, 8686, 7081, 44, 141, 10004, 2936, 10429, 272, 3166, 6415, 8120, 9498, 11578, 8584, 8482, 11447, 1432, 3411, 6553, 11071, 3392, 8908, 5727, 1435, 3058, 10664, 11980, 1621, 9564, 5776, 6485, 7872, 10784, 364, 9944, 12554, 8253, 5287, 7318, 9391, 2632, 10569, 7110, 4722, 253, 5391, 3713, 7541, 12401, 3580, 9628, 1935, 1342, 2669, 1840, 8584, 7138, 6201, 1373, 4350, 8667, 12151, 3211, 238, 5023, 12447, 68, 8238, 47, 6869, 5998, 3828, 539, 789, 6220, 9613, 917, 9045, 3856, 1058, 10441, 6881, 3299, 9922, 436, 10106, 3686, 8135, 8381, 6131, 8876, 9290, 10354, 8125, 6507, 3313, 9701, 9042, 1329, 9967, 5591, 10596, 7883, 1930, 6489, 4791, 666, 11613, 853, 9368, 94, 5679, 5411, 5449, 1695, 4617, 9412, 6473, 2280, 1826, 3489, 6384, 6691, 3801, 8887, 8552, 10197, 7605, 11089, 11900, 10774, 7700, 1050, 1061, 286, 12145, 1682, 4038, 938, 12864, 9268, 2057, 3208, 6161, 340, 3936, 2862, 5899, 1214, 4338, 7352, 10445, 2199, 4374, 6781, 12311, 9614, 3887, 9190, 11654, 6560, 2421, 7515, 423, 6979, 4280, 12202, 10410, 1681, 2073, 3891, 2283, 3418, 3259, 9274, 3725, 11306, 1444, 7937, 2613, 10802, 6480, 3121, 9391, 8249, 9840, 10983, 10173, 5910, 991, 816, 10484, 4017, 2974, 7719, 9982, 2358, 2284, 10609, 2864, 10680, 9644, 9798, 10425, 572, 5815, 5245, 4979, 12265, 9923, 4127, 2145, 3752, 3095, 1551, 10154, 981, 699, 8949, 699, 10626, 4101, 10338, 6232, 1726, 720, 9491, 7789, 11176, 6206, 8059, 11343, 548, 3635, 1142, 4249, 5335, 8646, 1605, 12073, 10780, 7812, 9736, 4893, 2715, 6824, 11042, 3101, 1437, 387, 6848, 7841, 10819, 7868, 5816, 4709, 6312, 10613, 12627, 4253, 9970, 6946, 455, 9518, 10193, 10588, 3064, 9107, 7014, 6724, 12488, 7838, 5147, 10889, 3287, 6303, 2284, 8732, 8885, 12062, 3428, 12438, 1386, 376, 2148, 10351, 9283, 1372, 1993, 6810, 1858, 8899, 8761, 5532, 5853, 8898, 428, 4985, 12850, 11400, 4460, 10974, 8945, 11661, 11360, 2346, 11611, 1958, 2061, 8951, 8225, 10869, 6694, 2715, 1114, 3586, 10384, 5763, 10071, 5920, 2068, 3503, 4630, 8432, 2686, 4021, 8051, 8308, 717, 12796, 4152, 231, 1637, 11669, 425, 12612, 578, 4459, 1204, 2177, 6810, 9594, 7894, 8831, 1177, 5127, 11624, 12529, 3796, 6986, 1646, 4595, 37, 2656, 3961, 10711, 10575, 3856, 12364, 8810, 11175, 4491, 5883, 489, 7824, 11736, 2886, 5797, 6035, 12731, 7141, 9090, 12649, 12742, 5501, 9686, 10083, 6433, 2920, 8790, 9617, 6346, 4096, 10187, 7323, 10561, 4681, 4189, 3030, 10548, 8574, 9648, 4970, 9765, 4191, 9489, 11227, 12258, 7231, 890, 8160, 8887, 11508, 11592, 2042, 11174, 3190, 11241, 10275, 4005, 4546, 4080, 3066, 344, 2725, 1490, 9967, 4681, 2607, 11467, 951, 9910, 7170, 1999, 7207, 10718, 9759, 2112, 1687, 1581, 4245, 11311, 9528, 2348, 212, 1784, 12241, 11228, 6716, 4445, 9654, 4562, 12271, 6171, 10642, 699, 7816, 3913, 4723, 3807, 250, 11003, 7418, 1963, 11293, 9929, 4970, 7004, 2492, 8230, 5011, 4767, 7645, 2649, 7777, 7927, 3124, 10095, 4091, 11094, 10580, 5487, 2560, 2860, 2012, 872, 4369, 368, 10351, 992, 9354, 5610, 6113, 10108, 3294, 3550, 8041, 8204, 5472, 3347, 9666, 2810, 11353, 10068, 6970, 9704, 11626, 6841, 6765, 12352, 466, 1117, 2244, 1091, 11083, 4679, 5083, 12560, 1279, 11545, 1580, 11878, 1730, 2977, 9966, 6789, 9883, 5012, 7848, 9786, 7038, 4129, 6814, 3601, 4737, 555, 4599, 3916, 6536, 3884, 8457, 9429, 10614, 5276, 1673, 8952, 9326, 2043, 49, 2290, 9514, 6863, 9942, 9573, 6153, 7755, 1710, 1833, 3947, 1489, 9162, 11117, 3264, 11966, 4687, 832, 3795, 11465, 5030, 2058, 3207, 4590, 2357, 10736, 3693, 3066, 7958, 10443, 12454, 6981, 7737, 4455, 11486, 12103, 6732, 4090, 11345, 12594, 5242, 12378, 11580, 7160, 9250, 458, 3905, 5075, 12802, 5062, 11157, 795, 11085, 2178, 3164, 4406, 12678, 4941, 6291, 4237, 10485, 339, 3839, 8602, 8579, 5111, 9278, 6509, 2696, 12863, 6347, 1433, 5780, 7098, 11922, 2325, 6277, 3442, 6143, 3883, 1583, 3258, 10235, 10751, 10728, 3311, 12147, 3014, 8420, 8041, 2553, 8946, 7461, 6435, 482, 12556, 1275, 2616, 3049, 10592, 12344, 8229, 7814, 5754, 3156, 4055, 5573, 4425, 7394, 4367, 79, 5780, 11977, 12299, 6516, 4783, 1198, 10461, 4135, 3677, 4892, 2568, 11238, 7917, 12085, 10433, 2296, 6025, 7441, 9561, 1764, 9629, 10476, 5300, 2689, 2754, 1940, 11466, 5464, 5898, 2860, 10677, 18, 11996, 7076, 8691, 10671, 9057, 4980, 9308, 11986, 9874, 8752, 1720, 5583, 5306, 7039, 6406, 11990, 10534, 4454, 7980, 10052, 2360, 7116, 93, 8262, 360, 8484, 1966, 9859, 12470, 8124, 9958, 10679, 3043, 4522, 12279, 7495, 6838, 1698, 3775, 9440, 6237, 11230, 2951, 8027, 2835, 10235, 5569, 8774, 6691, 5343, 2550, 2594, 502, 9977, 9360, 3733, 1741, 12395, 3999, 10076, 3053, 11658, 2337, 12412, 9283, 7109, 5642, 4568, 7521, 5620, 4459, 12383, 2117, 2177, 7114, 2887, 7734, 11246, 10238, 10701, 6967, 5879, 11458, 10982, 7004, 5899, 3619, 9116, 6675, 4726, 9235, 156, 3716, 5712, 8097, 9896, 11553, 1031, 12501, 2231, 9131, 8612, 4774, 10673, 9982, 5730, 10441, 5202, 5703, 7562, 849, 2663, 2690, 4811, 4288, 1896, 3269, 7387, 11825, 12277, 12658, 1363, 694, 10709, 8796, 7395, 5571, 3389, 1982, 4096, 10905, 6821, 12369, 157, 4257, 5990, 5615, 2439, 10904, 3689, 251, 2249, 11819, 12863, 6583, 7507, 9080, 10330, 9489, 11871, 4718, 162, 9501, 6062, 2970, 1627, 2083, 979, 2349, 11380, 3240, 2065, 6932, 7620, 11748, 4296, 1639, 2252, 5863, 6771, 8095, 6693, 9298, 4817, 2536, 8267, 12151, 11401, 6932, 4248, 879, 6290, 7519, 7596, 7575, 10963, 10463, 1869, 9829, 6091, 4024, 4361, 12460, 8415, 1104, 6515, 8892, 11284, 5279, 10268, 2948, 4960, 2564, 975, 8723, 6975, 11653, 7191, 8182, 9145, 11394, 9570, 4295, 3847, 8436, 6755, 10253, 3651, 1030, 2806, 15, 2884, 12069, 11498, 2625, 10, 12295, 2705, 7358, 9941, 8470, 4744, 11477, 4112, 9263, 8954, 3358, 11662, 1479, 10759, 7055, 4698, 7284, 10657, 9909, 5214, 3339, 8484, 2488, 3418, 5913, 2344, 8964, 7508, 10741, 2716, 8454, 5119, 9002, 9774, 1902, 2961, 10844, 477, 7584, 11674, 831, 2992, 9051, 1871, 9431, 5718, 3285, 10612, 524, 7911, 4520, 2166, 1809, 8930, 1009, 3681, 2968, 10809, 8833, 7069, 2993, 6134, 8769, 4562, 5137, 5841, 6009, 1665, 6112, 919, 523, 5581, 8826, 10901, 5203, 10422, 2630, 11643, 1031, 10667, 10310, 4681, 8371, 11384, 770, 9174, 11626, 4617, 5428, 46, 11762, 8794, 9651, 4005, 6879, 8456, 11845, 4856, 2877, 7304, 5097, 3625, 12230, 7642, 9935, 9148, 12495, 9791, 10310, 8489, 9915, 11159, 12200, 1219, 6954, 5696, 2393, 7278, 7705, 2814, 4000, 8212, 6860, 12549, 760, 8386, 876, 4312, 1112, 3501, 7601, 4283, 4721, 5923, 9975, 8433, 7027, 1825, 1631, 9711, 6113, 12472, 7642, 11454, 3274, 3935, 12545, 6691, 6531, 11215, 2939, 3107, 2188, 2567, 4840, 9116, 4820, 12767, 11555, 399, 2779, 7284, 2495, 4532, 1317, 5764, 5694, 8014, 12352, 6366, 8691, 8816, 12461, 1208, 6802, 5160, 7322, 3971, 10471, 2480, 516, 8468, 1687, 11863, 6701, 218, 6629, 242, 12627, 284, 9697, 3871, 3746, 11265, 10234, 2785, 8413, 5699, 12487, 4213, 8397, 4527, 1825, 12464, 4406, 809, 572, 8907, 12096, 4713, 7126, 8297, 9792, 6894, 3084, 6757, 2711, 2063, 494, 2021, 11923, 11649, 1852, 2714, 6445, 12612, 11355, 10818, 5697, 5495, 10869, 1108, 12729, 4873, 9436, 7392, 7761, 10281, 5111, 2248, 6966, 4716, 10784, 3931, 4527, 3244, 11289, 6599, 7227, 9867, 1609, 8998, 1258, 11423, 4854, 7833, 4388, 7736, 5862, 12787, 10827, 8457, 10086, 3210, 4305, 8708, 6168, 11109, 11453, 3741, 10591, 2967, 5415, 5499, 3833, 7112, 8354, 10570, 4711, 11198, 6061, 4598, 5477, 1879, 2146, 10411, 11435, 9135, 10702, 12699, 10564, 8440, 11208, 11242, 12665, 1313, 12101, 10019, 1017, 1938, 10049, 2267, 7606, 8574, 4412, 8558, 3199, 8725, 9692, 7866, 11271, 7177, 7840, 6179, 10417, 10862, 8293, 7135, 6433, 2783, 8338, 12264, 9161, 12286, 8475, 7959, 12371, 10963, 9911, 8840, 2917, 11338, 11811, 9226, 9118, 437, 2887, 7811, 4208, 7547, 7932, 10859, 1670, 7420, 8185, 4288, 3343, 8782, 1593, 7081, 2529, 12214, 6455, 9794, 11235, 7466, 9941, 10518, 12460, 4335, 2669, 1940, 12282, 3007, 11907, 11481, 11610, 2196, 9447, 1430, 10025, 10181, 966, 8136, 8883, 7039, 5941, 7772, 1041, 11424, 7875, 6524, 5818, 10260, 10367, 4547, 141, 4855, 194, 1045, 6618, 4146, 8894, 1881, 11363, 9462, 4269, 3491, 3262, 6471, 2858, 7032, 5170, 12710, 5209, 7794, 1781, 6601, 312, 2209, 11099, 5302, 10340, 7036, 9087, 11723, 5039, 10062, 7326, 10524, 11986, 8363, 12662, 2078, 3082, 4394, 11761, 4098, 8094, 4005, 9164, 4575, 10607, 3804, 2990, 10570, 12464, 2584, 12110, 8200, 3162, 2375, 10567, 11652, 5080, 10098, 4185, 5643, 3461, 6637, 3098, 3116, 3910, 4711, 8103, 4057, 2818, 12347, 11700, 4085, 8645, 3767, 185, 147, 11506, 6226, 9232, 1984, 5125, 7654, 4177, 11762, 10186, 6848, 7734, 808, 4459, 8509, 705, 10302, 7434, 2530, 4622, 10911, 800, 9504, 6048, 6452, 6629, 7305, 12457, 6155, 10915, 11340, 4035, 2723, 1065, 3022, 318, 12545, 12140, 5554, 3306, 11660, 3327, 6367, 9741, 6551, 1760, 9894, 5433, 5775, 11610, 3385, 10780, 2183, 8558, 9240, 6131, 5305, 12045, 1762, 6678, 7033, 5187, 7073, 8948, 7007, 2086, 5936, 12107, 2096, 2864, 5255, 1010, 12231, 4452, 7132, 10231, 3407, 12515, 6692, 4130, 6753, 384, 12683, 7478, 6427, 10661, 11644, 1636, 6938, 9376, 11909, 10393, 1339, 5714, 12812, 11082, 11665, 5438, 2039, 5917, 9236, 3724, 6529, 8086, 223, 11060, 1335, 5052, 8611, 4082, 9425, 4295, 9807, 10528, 6505, 12606, 71, 5401, 11488, 9864, 10083, 5122, 440, 4913, 4187, 1183, 10145, 4397, 8758, 1347, 8484, 12765, 314, 7818, 3203, 328, 10242, 9151, 8440, 6687, 12578, 4702, 10619, 5812, 2892, 11976, 9025, 7610, 8413, 12649, 12116, 5418, 11052, 1452, 5552, 6559, 817, 5600, 12274, 4856, 954, 11050, 10077, 3672, 8600, 842, 651, 4486, 2054, 4283, 10867, 5356, 8650, 5444, 11423, 11142, 3451, 5837, 2770, 5963, 6168, 12778, 2797, 11322, 2224, 10905, 9176, 10118, 8060, 386, 10227, 1939, 9752, 10328, 10597, 4244, 7819, 11642, 11146, 24, 10971, 10650, 8763, 1735, 1535, 7927, 4360, 8240, 5361, 1221, 9778, 12528, 10376, 2535, 5542, 4764, 515, 4878, 9024, 8670, 12641, 5907, 8713, 5592, 8819, 2051, 11954, 11645, 3145, 9357, 8051, 9577, 2273, 10997, 12387, 112, 4423, 7269, 6328, 7370, 4838, 11922, 4756, 2326, 10041, 6008, 9846, 1239, 7840, 10401, 10262, 1686, 5860, 12552, 5200, 1203, 5680, 552, 5251, 11625, 7069, 3432, 9056, 6892, 11601, 6192, 1087, 1204, 8179, 10409, 12715, 7943, 7766, 1232, 7513, 7610, 12336, 12436, 3551, 6340, 1104, 337, 6882, 4621, 12067, 6088, 2603, 5768, 8184, 4830, 3340, 6742, 9665, 6093, 2238, 9373, 3065, 8097, 5110, 10742, 6344, 2647, 2516, 8513, 8791, 9618, 7615, 4506, 11402, 12439, 8405, 1163, 12306, 4543, 4384, 3078, 211, 4598, 11213, 2846, 8198, 8004, 8758, 11336, 10326, 7825, 6135, 10233, 11793, 7453, 12339, 8678, 867, 12815, 6058, 5675, 1154, 5767, 10772, 11726, 2958, 6844, 12462, 9374, 6688, 5618, 11190, 3790, 927, 4450, 578, 10569, 8103, 11328, 12400, 11084, 7028, 6809, 6321, 8908, 4579, 3308, 10563, 9044, 582, 11591, 8723, 8041, 4242, 6433, 5949, 7391, 12822, 14, 3905, 11941, 6505, 11583, 6257, 3392, 3259, 11766, 10922, 7061, 175, 1272, 6623, 1969, 284, 9040, 5495, 8122, 4081, 11661, 8861, 10633, 3047, 5072, 4886, 5910, 4037, 3752, 5167, 2746, 9646, 4802, 12262, 6013, 2803, 3427, 8446, 5217, 2686, 6021, 8194, 8963, 12631, 4982, 5914, 6540, 6891, 4388, 11694, 7569, 9329, 12780, 1584, 10425, 5287, 1254, 3091, 7273, 712, 11307, 12845, 9812, 2089, 7391, 8321, 11219, 7389, 3877, 2521, 3723, 887, 2079, 12353, 1889, 3360, 9678, 11742, 10484, 1287, 4471, 7362, 4206, 7126, 12772, 1687, 3329, 1971, 7772, 10850, 2418, 496, 1046, 11038, 1148, 1132, 5202, 225, 1474, 28, 12734, 7336, 4903, 1570, 38, 9344, 11604, 2299, 8483, 7117, 407, 8538, 7158, 7438, 8489, 6419, 8792, 2683, 5647, 1156, 2386, 7372, 2200, 3496, 6531, 9144, 5750, 9040, 11320, 599, 6578, 6355, 2679, 756, 10514, 3804, 11116, 2794, 4242, 1676, 274, 8360, 2596, 8962, 8281, 5694, 691, 8143, 7566, 8709, 7784, 12337, 2416, 10658, 5200, 10766, 10029, 3306, 3993, 6548, 512, 4537, 5737, 573, 170, 9631, 4906, 11401, 3818, 3566, 5570, 11927, 550, 1656, 4280, 5546, 8007, 9073, 2260, 12203, 10712, 358, 1412, 6864, 8152, 1651, 5456, 1569, 4977, 3939, 1993, 10615, 2379, 10258, 3604, 9184, 155, 6536, 8741, 2029, 8073, 11209, 11600, 132, 12064, 6778, 2964, 3043, 9921, 12273, 9656, 4242, 12008, 9030, 2072, 1055, 582, 10458, 1641, 11605, 9658, 6953, 4914, 6358, 7720, 12600, 8120, 2275, 8030, 7832, 93, 12421, 4718, 12147, 8749, 11082, 3877, 6408, 5551, 9548, 8252, 8078, 3332, 9991, 7073, 2247, 7598, 8893, 2598, 4111, 8183, 6494, 7190, 9203, 11260, 12709, 12838, 950, 10068, 1932, 12012, 1724, 5449, 1438, 701, 7210, 2635, 6232, 5744, 12860, 833, 888, 10009, 1821, 7133, 12242, 364, 9087, 9181, 7026, 4335, 934, 6410, 7640, 6587, 3322, 7635, 4314, 12046, 2794, 437, 6016, 6256, 7553, 11654, 4288, 10675, 11107, 11975, 9339, 3364, 11199, 9158, 1761, 5401, 11513, 3816, 7519, 6503, 8098, 12479, 7569, 10490, 9877, 3060, 6599, 3164, 2483, 9365, 12296, 8326, 5437, 7186, 4387, 6333, 7633, 4847, 3016, 7130, 5557, 12197, 4069, 8551, 1900, 6369, 9323, 1841, 12367, 8298, 12689, 1917, 9037, 488, 847, 10451, 5216, 9274, 1995, 8992, 7200, 2090, 7110, 6883, 4016, 935, 5565, 8654, 8429, 12721, 12333, 6952, 3843, 7656, 1162, 10036, 3371, 1587, 6900, 8702, 4762, 6725, 8270, 922, 11210, 355, 9401, 4038, 3934, 10403, 5551, 4362, 9453, 2341, 9648, 6672, 2631, 2444, 7423, 8036, 9506, 1323, 10514, 3989, 2801, 5377, 4490, 6218, 3002, 8065, 9749, 2059, 7421, 7028, 6950, 10992, 9955, 2312, 1365, 11814, 8455, 10386, 7452, 3893, 3682, 7729, 1772, 5565, 9907, 10228, 2412, 12567, 7514, 9924, 915, 7324, 6608, 9218, 9643, 1586, 10926, 8793, 1628, 7066, 2882, 4839, 11912, 5405, 6714, 9813, 1213, 3378, 6686, 2947, 7381, 5176, 2818, 10517, 12402, 8491, 349, 377, 11398, 11563, 11683, 12229, 9524, 5278, 1832, 4621, 8445, 2942, 12637, 9870, 11108, 6132, 1096, 4285, 5273, 7851, 5665, 11906, 3991, 9098, 2447, 12146, 9122, 12868, 1445, 576, 2390, 11964, 2095, 10522, 2156, 11400, 1323, 5835, 5410, 445, 11184, 1703, 5183, 6277, 11121, 4607, 9050, 6410, 7014, 12813, 12211, 2214, 5328, 8653, 10547, 12223, 4322, 6964, 11418, 2478, 9224, 891, 2040, 6605, 6708, 11594, 8854, 2065, 6338, 8153, 6124, 1485, 10292, 9930, 3735, 10625, 3940, 9811, 2723, 1862, 3709, 9289, 4313, 6322, 9605, 10493, 12211, 4051, 6971, 7221, 12787, 8047, 1202, 1629, 7124, 5171, 10589, 4307, 10429, 3560, 7802, 5456, 3715, 8484, 5368, 5655, 8973, 6870, 7667, 4775, 3918, 123, 5282, 9182, 1313, 3596, 8093, 12766, 991, 9567, 7478, 4828, 7136, 1800, 5599, 11690, 7697, 8363, 7891, 1122, 10588, 99, 715, 4350, 1860, 4524, 10603, 7639, 4026, 9517, 7897, 585, 9157, 1323, 11886, 7362, 5574, 4757, 4646, 7663, 12047, 8793, 11347, 11972, 12754, 9468, 7973, 2052, 4468, 8835, 8307, 1449, 3053, 9728, 1208, 10570, 8776, 7346, 9402, 5551, 10894, 2318, 10766, 5646, 9082, 300, 3110, 2064, 11085, 3242, 8744, 11322, 12239, 788, 9173, 6540, 6773, 9979, 8507, 12738, 6691, 1061, 7745, 5084, 11656, 731, 6607, 490, 9055, 4426, 9963, 5730, 7568, 1995, 5368, 8762, 10394, 2902, 10350, 396, 1196, 3979, 11499, 1262, 3544, 1263, 18, 5986, 4882, 11443, 2952, 8054, 747, 8852, 12189, 7679, 1599, 5466, 10830, 4605, 12263, 8368, 7854, 1338, 11178, 5014, 8521, 12286, 3, 12308, 5818, 9618, 3088, 1991, 2790, 1999, 11909, 6192, 6254, 11684, 8465, 10232, 64, 11138, 3425, 307, 11714, 2053, 1024, 11071, 3194, 4504, 10642, 4069, 11380, 9421, 12620, 4286, 5008, 10600, 3687, 7135, 10332, 5923, 5998, 9454, 7637, 5256, 2831, 626, 9598, 10599, 3934, 10247, 9329, 202, 7165, 11830, 12008, 5867, 9438, 3712, 1887, 2656, 10645, 12699, 2892, 7609, 217, 3569, 6839, 1295, 12796, 9671, 2890, 7408, 4052, 8958, 1499, 3567, 2955, 11488, 8517, 11884, 12667, 2543, 4324, 2913, 7344, 10329, 5177, 5588, 3012, 5400, 5188, 5833, 3060, 11305, 11326, 12719, 9777, 3484, 12277, 3021, 6578, 10234, 9761, 11717, 5689, 1042, 9355, 11647, 8458, 6404, 6375, 4313, 1322, 620, 2211, 5285, 12426, 10389, 3537, 7298, 10542, 7591, 1592, 11088, 3089, 11782, 11084, 12093, 994, 6137, 4321, 10269, 5047, 2554, 10303, 517, 5093, 1223, 9334, 2708, 4086, 4121, 9858, 1955, 11385, 7557, 2377, 11878, 4788, 5649, 5061, 6129, 8302, 6540, 3847, 8250, 810, 5661, 1863, 215, 5566, 264, 3450, 453, 4352, 3767, 6073, 5527, 3656, 2843, 12271, 3696, 4559, 182, 6063, 2264, 6236, 6734, 5581, 10498, 9423, 1670, 6635, 8780, 5192, 3822, 8221, 1025, 328, 8912, 591, 1566, 5535, 9020, 12760, 6294, 4012, 11155, 2113, 2332, 8102, 11629, 999, 3947, 5361, 9368, 1870, 476, 5501, 2194, 10315, 3688, 8228, 3871, 5225, 4110, 1193, 11351, 7698, 7618, 3712, 6257, 3383, 6452, 1842, 12605, 4549, 1159, 289, 8286, 9595, 11589, 11054, 10543, 1625, 9553, 8880, 2458, 6691, 8188, 3691, 1862, 1215, 10401, 10683, 7409, 12327, 4388, 7292, 10794, 6326, 12199, 9860, 11412, 10157, 8675, 8303, 11498, 11190, 12065, 8767, 1146, 7933, 8766, 10746, 3158, 12166, 11379, 12200, 1874, 7094, 4429, 3713, 12045, 1982, 10101, 9104, 534, 3959, 11310, 6559, 5794, 7276, 5580, 4620, 12173, 481, 4035, 277, 3254, 108, 11447, 8971, 9383, 3735, 8928, 742, 9607, 4479, 7404, 6632, 2092, 3985, 10741, 11616, 6303, 6782, 1649, 2017, 11546, 4927, 3249, 1834, 5854, 9520, 2141, 2256, 2261, 7529, 12202, 11584, 5459, 12159, 8885, 6467, 2003, 9145, 8524, 11824, 11740, 984, 11012, 3061, 4356, 11725, 9339, 8210, 11835, 11805, 4498, 10692, 9414, 1941, 6489, 11759, 3481, 11947, 6318, 8546, 1616, 3510, 337, 9886, 1982, 4167, 4810, 4228, 11348, 6880, 12355, 11927, 9716, 8252, 3594, 11590, 12060, 3855, 7046, 9547, 6110, 9654, 12322, 12171, 7253, 12297, 9643, 11026, 2599, 9002, 10809, 10770, 6520, 7047, 12593, 11193, 9460, 4073, 2874, 10030, 2940, 4728, 7448, 11207, 9784, 4756, 4314, 3056, 4993, 11460, 12699, 953, 12004, 3613, 5362, 9206, 9741, 11516, 5357, 11150, 6285, 2163, 8622, 12861, 235, 1756, 5858, 6681, 12417, 1238, 7782, 7994, 1697, 5590, 1485, 4616, 251, 7410, 8985, 496, 7947, 5858, 1440, 10714, 10445, 5847, 7528, 10450, 10210, 7460, 7327, 6615, 7433, 12579, 564, 10667, 2993, 9717, 7351, 5302, 1739, 2760, 5988, 7617, 1275, 9173, 2870, 2945, 10399, 8964, 8136, 7209, 12205, 12550, 6977, 11679, 11447, 10738, 4957, 10541, 9446, 12769, 7755, 7649, 10474, 9117, 3742, 9192, 10774, 2606, 8809, 8708, 8922, 6383, 8642, 9591, 3643, 7211, 4209, 164, 6412, 9093, 8843, 6310, 933, 8334, 12346, 11389, 11689, 3545, 5996, 6403, 4569, 6870, 3887, 7149, 744, 768, 2312, 5147, 6348, 5516, 1525, 8917, 9833, 6511, 12327, 2456, 3762, 5741, 11522, 6759, 7118, 4740, 1043, 2103, 4362, 9032, 8508, 1143, 4613, 5907, 9861, 1445, 8362, 10307, 296, 2957, 5752, 6800, 12114, 9890, 4285, 301, 274, 3835, 3265, 10628, 5726, 4711, 10171, 12256, 12502, 1153, 3069, 12136, 11679, 10556, 12541, 6445, 7658, 11510, 8022, 4699, 12453, 645, 793, 3332, 660, 7565, 10811, 6499, 2064, 12767, 10200, 9858, 12255, 8365, 5826, 4696, 5845, 12042, 3928, 9276, 9049, 4865, 641, 2183, 8775, 2473, 10891, 4799, 12374, 8138, 425, 11534, 10192, 6642, 2522, 11163, 7070, 12416, 7360, 1173, 12334, 10160, 9715, 8879, 3408, 4432, 581, 8217, 4807, 9383, 1328, 232, 11767, 10203, 10632, 12735, 2496, 4960, 9633, 955, 7640, 3273, 12843, 1540, 9506, 2864, 7903, 11420, 7884, 12619, 11294, 10957, 7169, 4346, 12422, 10903, 8548, 6592, 1731, 2524, 2581, 5561, 3696, 11164, 6044, 11097, 6264, 3689, 8883, 5818, 11203, 2870, 10860, 271, 190, 12139, 11927, 4116, 235, 7039, 3278, 5757, 1199, 11658, 3327, 12662, 4408, 11254, 4650, 12515, 5041, 7719, 9520, 5191, 859, 10040, 9430, 146, 5201, 1807, 1485, 1519, 1860, 5224, 1561, 3439, 2354, 1249, 8183, 6074, 302, 441, 9207, 8853, 3818, 2296, 8084, 11766, 8871, 4643, 2753, 1131, 6763, 10112, 2027, 11884, 2535, 7926, 9582, 967, 2838, 2757, 5979, 5076, 6363, 816, 4888, 12742, 3604, 4327, 1522, 1290, 8779, 9426, 3893, 11178, 9824, 4580, 10535, 12205, 8918, 5485, 11618, 9419, 1169, 4032, 24, 438, 12746, 5518, 8522, 11341, 1584, 6816, 4338, 1613, 7853, 5970, 3670, 12115, 4650, 5771, 11250, 3509, 11803, 10464, 4524, 9862, 1329, 6701, 10777, 8498, 10762, 8016, 9239, 10828, 3701, 8803, 3423, 3908, 6110, 6828, 5961, 2131, 8587, 4540, 3076, 7633, 7823, 2023, 8083, 419, 3895, 6533, 8858, 4881, 5598, 10027, 2411, 11349, 2297, 7138, 7279, 5864, 10192, 4601, 7228, 959, 2183, 5979, 6051, 12108, 3547, 10074, 1843, 9178, 9915, 1202, 11674, 4987, 5488, 9283, 1368, 2058, 8911, 10897, 10416, 8366, 8829, 2227, 9975, 2375, 10712, 1987, 1849, 10698, 659, 9881, 6867, 10572, 12385, 11323, 12215, 2777, 6392, 9132, 8641, 2828, 12294, 9746, 11004, 11226, 8308, 1600, 6633, 6629, 3228, 6981, 9045, 11695, 7166, 8302, 10261, 5666, 10325, 6598, 6227, 3106, 5716, 11190, 12050, 7061, 7579, 6236, 12783, 3381, 8034, 6095, 9916, 12078, 600, 2209, 1539, 5563, 10437, 12384, 2199, 212, 2329, 7801, 10907, 7516, 2026, 11718, 7291, 8524, 1609, 10770, 81, 6705, 8545, 5105, 11210, 6597, 12724, 1927, 882, 4144, 9981, 2801, 9191, 11419, 5759, 5989, 4514, 2599, 7725, 1817, 7677, 9097, 8011, 5543, 3419, 5181, 1360, 4143, 7056, 1876, 12718, 10700, 2320, 12222, 4705, 8808, 6999, 3411, 1624, 5520, 8898, 6824, 2635, 886, 622, 12331, 7268, 3830, 2177, 4020, 1540, 4318, 6323, 2240, 6531, 10613, 5626, 257, 9475, 11484, 2248, 2105, 9969, 1726, 7632, 423, 8844, 1815, 2949, 5019, 1712, 6771, 8689, 5640, 7534, 12397, 984, 12069, 2096, 6363, 9168, 11009, 11449, 9420, 2527, 7324, 2779, 12450, 10082, 1542, 4120, 8958, 2953, 5200, 10423, 4082, 3790, 6633, 12469, 1653, 5691, 2309, 6817, 10071, 7307, 2899, 6853, 8279, 10152, 11332, 2084, 2414, 8952, 1609, 10086, 6667, 6213, 10862, 4781, 4979, 1531, 2234, 2538, 3418, 7422, 9354, 98, 9618, 9561, 3224, 2041, 1690, 5727, 7535, 7959, 12798, 8149, 3361, 482, 10516, 9828, 6224, 10907, 11224, 10682, 10765, 6810, 3009, 11039, 12347, 2312, 9177, 5534, 11824, 9270, 1397, 7803, 2617, 2493, 6554, 2833, 8168, 119, 1451, 8294, 7628, 8115, 12376, 6310, 4442, 2809, 8164, 11208, 485, 11956, 2078, 3874, 701, 4608, 8918, 5477, 250, 6597, 9759, 2754, 8006, 3119, 7934, 8565, 12477, 4430, 2557, 4571, 6, 5750, 6725, 9649, 8400, 9968, 3032, 1661, 9854, 8251, 5163, 856, 985, 1191, 9591, 7570, 7946, 2856, 152, 4303, 7423, 3563, 5195, 9704, 8347, 9636, 9317, 9325, 12115, 3126, 10665, 468, 10551, 10219, 5917, 4953, 8400, 1232, 1806, 4014, 6251, 4853, 10050, 318, 5216, 541, 4524, 10037, 4036, 3203, 6526, 5156, 10798, 5416, 7104, 5870, 4366, 7720, 12780, 12083, 2327, 1809, 10090, 4809, 8755, 10299, 7351, 11388, 4635, 727, 7564, 10208, 8426, 5378, 8560, 2187, 3681, 9560, 4225, 12739, 10172, 2868, 12148, 6454, 4458, 8781, 2382, 4914, 1779, 11370, 11746, 193, 4958, 8240, 3774, 5700, 6160, 7217, 12332, 6614, 2437, 7076, 1640, 7525, 9721, 62, 7602, 7292, 3335, 2206, 2681, 2954, 11106, 3586, 5946, 181, 11791, 9377, 7360, 4710, 4252, 812, 2959, 11798, 813, 6580, 8569, 4005, 445, 2184, 11133, 9227, 832, 954, 3220, 12253, 2275, 6366, 5741, 12794, 7173, 5503, 7756, 2261, 9858, 8500, 7295, 11657, 8615, 6245, 8874, 7471, 10113, 1642, 871, 11483, 10230, 5313, 9244, 954, 6214, 556, 10671, 1304, 5935, 8303, 9421, 169, 2029, 11555, 10009, 8338, 9744, 5952, 6167, 8156, 4724, 5122, 10422, 5589, 5105, 3531, 6326, 8969, 9595, 7622, 4154, 7735, 9915, 4555, 7791, 1593, 9659, 10518, 3013, 11517, 795, 12788, 11906, 6944, 447, 8324, 9219, 961, 5427, 4542, 11073, 2498, 4197, 3572, 10724, 3973, 6848, 2907, 5495, 9561, 721, 11577, 2371, 5166, 2058, 7914, 10421, 9080, 11023, 11016, 1844, 6478, 12620, 2647, 8174, 10003, 3084, 12804, 9604, 4823, 10018, 7810, 10811, 62, 10446, 1714, 6151, 6025, 5981, 5122, 2731, 10771, 10245, 1676, 3391, 9401, 5853, 4507, 814, 7800, 9706, 6433, 11642, 101, 7280, 6084, 10328, 10373, 1940, 3178, 5420, 3995, 11014, 3253, 689, 8806, 7383, 5114, 7310, 11054, 8786, 1296, 12793, 3892, 7921, 4270, 6802, 12403, 11045, 254, 7139, 2484, 5666, 4363, 7858, 11023, 8550, 8909, 7993, 10642, 4316, 12487, 5037, 10161, 2000, 294, 12688, 5995, 3746, 7596, 2288, 11709, 5631, 4071, 6362, 4257, 5570, 4048, 4168, 3991, 12744, 12310, 5401, 10636, 12565, 9177, 5028, 7679, 12849, 5644, 6424, 9802, 2511, 10036, 12153, 3023, 12799, 7007, 2268, 7175, 10694, 2691, 8460, 10300, 7001, 5537, 10392, 1734, 3177, 10877, 167, 11199, 8179, 6625, 4363, 911, 1747, 4959, 3760, 12267, 4689, 3351, 7484, 5677, 4968, 5788, 3844, 4904, 2220, 7390, 5355, 6489, 8253, 1021, 6020, 1112, 1302, 3370, 6551, 6150, 8996, 7647, 814, 7313, 10561, 9482, 8979, 4703, 656, 5888, 9415, 11011, 10793, 3743, 3050, 1683, 10572, 4756, 6481, 7751, 5263, 4283, 7152, 10664, 6965, 5702, 6054, 4551, 2698, 459, 3026, 7951, 6864, 10945, 10629, 9085, 2920, 3499, 8640, 11480, 2895, 9172, 12005, 2215, 8232, 7107, 460, 3113, 600, 12725, 6243, 5274, 10834, 12507, 10306, 7559, 5082, 4002, 6106, 2606, 5307, 3417, 12081, 16, 4025, 1748, 11405, 6836, 11623, 6210, 2143, 823, 10468, 7268, 8737, 9174, 1882, 3054, 10068, 11713, 7580, 1869, 490, 2713, 9984, 1702, 6864, 10755, 2869, 4062, 7679, 8816, 9339, 7290, 7854, 8869, 11228, 4489, 8828, 6737, 7965, 3702, 6496, 12865, 6022, 7750, 6913, 3632, 2555, 10113, 10000, 3476, 3705, 7503, 245, 4112, 1402, 8207, 11647, 9058, 11922, 10044, 12277, 7434, 8843, 11790, 8924, 12841, 4594, 320, 10371, 10454, 2348, 10332, 2398, 5282, 7476, 8994, 10468, 6812, 465, 2273, 1139, 4685, 2309, 4752, 259, 10715, 7589, 732, 145, 196, 11862, 1669, 4274, 2926, 6491, 5592, 4292, 11929, 7243, 588, 664, 10671, 7473, 9498, 12622, 8686, 7543, 7148, 10558, 4568, 6782, 10437, 8283, 9101, 2542, 5959, 7248, 3405, 7116, 462, 11433, 9688, 443, 744, 691, 11013, 12868, 7625, 4584, 11010, 8548, 9813, 4793, 6244, 527, 2245, 1808, 6992, 6941, 1714, 11076, 7931, 1296, 4368, 12560, 1772, 6360, 10622, 11196, 10599, 136, 3227, 9311, 4487, 12761, 7301, 10940, 12486, 12442, 12737, 4200, 1343, 4528, 3388, 11990, 4283, 2211, 10287, 3969, 11684, 5284, 6278, 8721, 5503, 9233, 10639, 9924, 10257, 5022, 2421, 3007, 1798, 920, 7761, 10533, 234, 1336, 6619, 5791, 4361, 5043, 8435, 9740, 2123, 2384, 11290, 2548, 4776, 7384, 4684, 7470, 12466, 1104, 2665, 9060, 492, 3807, 8166, 8325, 8050, 1291, 1594, 6287, 3649, 6591, 9488, 9154, 6795, 12267, 8510, 2610, 6117, 7957, 11179, 1101, 6137, 6214, 2702, 3174, 3060, 9049, 8248, 2201, 10255, 9853, 477, 10216, 11839, 12044, 9625, 1873, 10452, 9790, 2740, 1716, 9061, 2811, 1279, 11167, 3204, 1643, 471, 12486, 11020, 4940, 10602, 2907, 7833, 3821, 12427, 409, 6075, 7504, 9895, 2610, 6659, 12030, 9494, 710, 11124, 8604, 698, 2210, 8039, 5338, 3788, 10101, 10786, 12682, 9846, 6661, 8175, 8542, 3928, 9708, 4188, 8133, 2379, 9029, 4933, 7213, 12628, 5805, 871, 511, 5480, 6236, 9172, 630, 12730, 6499, 788, 6568, 11646, 11035, 5756, 10283, 6796, 2467, 7207, 4938, 7734, 1429, 2291, 8466, 9712, 2086, 11823, 10842, 8851, 11190, 3109, 12276, 9248, 9583, 9958, 1820, 7416, 10874, 9854, 11494, 3986, 9186, 2357, 3385, 9825, 3531, 7714, 2462, 3570, 9967, 5183, 5499, 7806, 10899, 11299, 5654, 9483, 5078, 6799, 4096, 3304, 11851, 6952, 10972, 9502, 2995, 12282, 6960, 2493, 8948, 10346, 4809, 2219, 5422, 2949, 1508, 1211, 6036, 2908, 9974, 7847, 5567, 8477, 8177, 12843, 10846, 8618, 8994, 6076, 10270, 5947, 9146, 963, 4692, 5695, 6510, 4257, 2309, 3666, 7458, 4372, 4769, 1860, 370, 10424, 4659, 7890, 12042, 3978, 9418, 7028, 1681, 9935, 7373, 9908, 2787, 5979, 12379, 5436, 7653, 3690, 3747, 1452, 4506, 6055, 10152, 3646, 3452, 9175, 11787, 2113, 11629, 6011, 8527, 3495, 6458, 10218, 8634, 4819, 240, 8495, 6404, 5155, 4196, 1713, 3043, 11482, 1763, 9484, 11799, 2561, 9782, 1452, 252, 7894, 12130, 7464, 5779, 2807, 1264, 3313, 380, 3804, 9666, 9370, 11473, 4687, 10927, 5937, 6704, 11608, 5572, 10704, 7358, 12611, 2729, 5813, 5797, 2895, 12850, 2236, 6100, 320, 9100, 7276, 12856, 12694, 1408, 4689, 4701, 3063, 7002, 2463, 4936, 3570, 1067, 7223, 4871, 11859, 12788, 3470, 10503, 8551, 3007, 3182, 9062, 1257, 11492, 436, 5134, 9725, 11664, 6938, 2004, 5671, 1623, 8329, 10008, 11808, 8382, 6873, 9836, 3493, 6250, 6636, 7038, 2920, 10622, 10554, 7693, 5920, 9975, 9389, 10633, 12370, 3587, 2711, 2240, 826, 1703, 2339, 7387, 5973, 12230, 9755, 10697, 78, 3739, 3952, 1626, 2360, 331, 9047, 3826, 7641, 1342, 5730, 10899, 2192, 9550, 8799, 4942, 6892, 9745, 6698, 9907, 11949, 10276, 2825, 2815, 613, 11784, 4171, 2730, 8821, 5135, 1332, 10144, 7859, 11657, 10752, 9241, 4576, 8546, 9958, 7739, 10245, 5972, 10788, 4329, 8929, 6083, 11395, 1520, 11157, 11913, 1564, 6043, 10242, 6264, 3396, 11479, 7928, 1000, 698, 6030, 2491, 3804, 5685, 8127, 11538, 10360, 3221, 2894, 10291, 10388, 5544, 2594, 4112, 12184, 7817, 8395, 12856, 256, 6466, 5199, 5902, 10831, 10118, 1883, 631, 12780, 10660, 10784, 4997, 1633, 9926, 12039, 11027, 2035, 9384, 3375, 12502, 2178, 4324, 9446, 2742, 7616, 10078, 8614, 212, 12100, 3826, 4698, 2100, 10214, 7360, 5003, 991, 740, 1455, 11610, 5640, 950, 4620, 2649, 11888, 12588, 11637, 2684, 12362, 5320, 10345, 7274, 9769, 4243, 9094, 7342, 5966, 3633, 8691, 2571, 3401, 3573, 5297, 8648, 1088, 1552, 7179, 5648, 9759, 7228, 6905, 2612, 10971, 568, 8942, 1384, 4905, 12249, 8802, 5704, 10244, 3265, 1716, 6124, 3898, 9989, 5331, 11302, 1442, 7383, 447, 5108, 324, 2655, 9210, 8154, 960, 2922, 12868, 417, 4746, 11295, 6461, 8676, 8412, 8360, 11371, 4294, 6966, 12308, 3578, 8312, 12647, 2437, 1138, 11262, 10790, 442, 5103, 9064, 3932, 9085, 6185, 697, 3136, 3763, 5061, 2298, 9599, 11266, 7229, 12715, 1450, 8348, 2840, 2146, 12701, 1598, 16, 11167, 4281, 7289, 2176, 2862, 2940, 4091, 10428, 172, 5582, 1456, 7573, 6328, 8872, 8643, 9640, 8711, 9804, 6247, 10953, 5668, 9199, 6436, 6152, 2323, 7937, 6395, 10497, 1710, 9631, 7483, 9362, 9333, 7456, 4463, 658, 7729, 3837, 2947, 10973, 12210, 942, 4085, 6314, 2618, 10018, 1743, 6828, 8169, 9039, 5545, 8501, 4238, 5603, 10317, 12169, 244, 9228, 9949, 3074, 190, 11842, 7831, 10640, 10042, 9955, 8504, 9051, 4119, 6207, 1970, 9380, 10016, 12859, 9182, 12, 7480, 3762, 1323, 7919, 12136, 3193, 12776, 12231, 12014, 11170, 10789, 12541, 92, 8332, 3621, 11684, 3573, 9876, 11202, 4055, 3487, 5471, 9731, 1009, 6078, 11724, 3677, 1697, 3718, 12837, 1139, 12470, 3128, 7038, 11992, 5178, 12031, 6971, 8916, 6591, 10722, 5442, 9484, 5590, 6001, 9988, 1873, 6302, 11648, 5963, 10550, 9328, 8266, 1418, 9535, 10920, 4065, 3630, 11264, 904, 2641, 6096, 5925, 1332, 2907, 3837, 10207, 11376, 4660, 9866, 952, 4171, 12531, 5332, 944, 5913, 7067, 11936, 9964, 3271, 2545, 8063, 1385, 4912, 9249, 4596, 981, 12512, 9912, 2295, 156, 1104, 7545, 12334, 5276, 725, 626, 7878, 9022, 9874, 372, 3462, 8028, 8031, 1815, 829, 4901, 584, 9984, 2359, 10960, 708, 8836, 3339, 6837, 62, 7230, 12745, 11947, 3238, 8325, 3928, 5845, 2063, 12273, 3355, 3971, 371, 12090, 6650, 2403, 4613, 8726, 2061, 10610, 3451, 2950, 5864, 2869, 8099, 174, 6945, 8424, 254, 2001, 2333, 3661, 8817, 2720, 4310, 2202, 5528, 11805, 1448, 3086, 12814, 586, 11014, 4298, 5244, 8991, 10971, 8439, 7436, 571, 5716, 12231, 9855, 8240, 7306, 3547, 1803, 2709, 11030, 9640, 11284, 9896, 8453, 4844, 7905, 12313, 10265, 8269, 11411, 925, 10491, 12000, 4098, 332, 8644, 8291, 6625, 2988, 12443, 12540, 12788, 1142, 7224, 6, 12454, 12202, 3492, 4519, 6543, 6036, 6864, 2005, 9104, 1238, 2432, 9995, 3010, 2318, 1434, 3558, 11872, 5822, 9635, 9518, 9344, 6250, 1374, 11660, 10213, 5504, 2618, 2072, 10564, 2345, 5263, 11149, 6763, 12253, 4045, 10145, 4287, 929, 9158, 2508, 11754, 5397, 3911, 7321, 671, 6408, 4621, 3025, 12138, 12772, 7789, 6855, 8226, 12031, 11940, 10950, 12001, 2337, 2167, 770, 5099, 11686, 7275, 12819, 12383, 10307, 10008, 5602, 7864, 4982, 6260, 6078, 8347, 5666, 754, 11292, 9266, 5568, 4829, 1505, 5389, 2306, 4661, 2187, 147, 1119, 3896, 9006, 11587, 547, 9398, 12681, 3334, 12167, 7139, 11539, 7180, 12700, 11836, 2393, 7765, 2425, 3446, 9112, 3046, 10520, 7281, 7931, 8335, 7826, 6071, 2230, 757, 525, 6171, 2534, 3076, 11348, 12361, 4935, 7262, 6035, 1231, 1015, 12756, 6659, 8890, 3860, 4898, 358, 11020, 412, 1339, 4185, 1811, 10951, 7047, 12424, 12311, 424, 1006, 5780, 5973, 11150, 5912, 8100, 2223, 7141, 7617, 6724, 4102, 10772, 10014, 10175, 11156, 10629, 10656, 1076, 12721, 7558, 648, 3932, 5550, 11193, 6705, 11923, 1623, 9003, 10419, 9891, 4040, 5030, 9976, 2137, 11195, 3280, 6742, 6731, 27, 10017, 1823, 836, 9316, 12711, 6329, 3895, 4911, 1378, 7751, 7223, 12825, 5008, 7326, 2507, 747, 8355, 12848, 3421, 3337, 756, 5039, 6065, 2653, 5629, 6383, 11929, 6638, 11237, 9656, 1422, 528, 10812, 1944, 8165, 1072, 817, 9269, 10486, 8493, 4718, 12331, 1949, 9165, 8301, 6526, 2897, 8114, 4183, 2019, 8833, 1095, 5402, 1527, 5048, 9326, 1926, 6976, 4949, 12019, 1421, 10495, 6786, 2269, 9979, 2428, 5136, 6746, 2789, 7550, 8099, 8716, 6349, 3552, 10595, 6825, 11423, 11177, 738, 2236, 8575, 346, 11208, 1647, 7500, 7593, 7752, 4950, 8371, 7705, 380, 298, 8197, 12848, 5782, 9455, 9945, 2692, 9639, 11425, 3384, 12541, 10864, 6796, 11008, 10847, 1249, 11080, 2598, 1154, 1508, 1080, 5456, 8810, 1712, 7346, 824, 4410, 9379, 4351, 1198, 629, 11699, 8874, 5233, 9715, 3298, 1868, 6914, 8465, 480, 2634, 10425, 6648, 12073, 3667, 12014, 6821, 9394, 6600, 6166, 11183, 6678, 8471, 260, 7242, 12274, 1891, 5563, 3513, 3057, 9743, 8128, 2565, 7661, 1570, 4446, 10034, 8964, 3930, 5687, 2295, 2744, 10251, 11959, 5379, 2999, 10600, 6308, 8080, 11778, 8957, 8698, 719, 4390, 9754, 11831, 11589, 12371, 4523, 8391, 12334, 3346, 7973, 10604, 11595, 4291, 9012, 9117, 12075, 5606, 11825, 3684, 2339, 2488, 3179, 6316, 2166, 4680, 5105, 2589, 4195, 1372, 450, 12530, 10014, 8605, 5896, 912, 2343, 10717, 4412, 12087, 8543, 6648, 2132, 11974, 6561, 9585, 10088, 6303, 565, 8669, 12658, 4576, 10649, 8364, 7545, 7986, 1968, 702, 3288, 4080, 9344, 3937, 7775, 11057, 9157, 12708, 579, 848, 1516, 167, 10786, 2737, 1258, 1649, 7677, 1292, 9864, 10194, 3012, 1470, 153, 5996, 6351, 4211, 2079, 9788, 3878, 1561, 5561, 3468, 12153, 10222, 11355, 724, 5759, 2262, 11033, 1839, 1354, 554, 613, 7668, 5125, 12790, 6593, 6939, 1573, 5630, 8049, 12305, 5814, 6667, 235, 995, 9110, 10520, 3592, 2263, 4383, 7836, 5950, 3242, 8983, 3001, 1143, 3661, 11594, 5100, 12622, 1012, 5902, 9677, 2658, 3409, 9652, 3253, 8534, 585, 8665, 2397, 299, 3982, 3180, 1439, 10909, 3755, 9910, 1460, 1579, 376, 3281, 6570, 5176, 7608, 3620, 5457, 9645, 3280, 8838, 6999, 10172, 3074, 6137, 11980, 7125, 3146, 661, 11157, 5361, 10172, 4846, 7923, 3238, 11085, 10786, 11025, 492, 5014, 10041, 8545, 12182, 7378, 3907, 3114, 11999, 6754, 6358, 5844, 12091, 11572, 12326, 11334, 10707, 5618, 932, 11047, 9113, 9761, 10167, 9473, 10966, 7591, 12763, 8759, 1002, 6175, 10575, 9004, 9801, 9627, 920, 3629, 7727, 10977, 5667, 4103, 9005, 10434, 9103, 5056, 10817, 4011, 7053, 11394, 6930, 6038, 5644, 5503, 5093, 596, 6669, 10198, 4436, 2007, 5898, 7391, 11738, 2672, 3577, 11803, 222, 9058, 4739, 10196, 9830, 5182, 3877, 1190, 5448, 12308, 947, 12069, 2298, 3679, 11560, 8935, 1199, 1870, 7853, 4522, 1667, 9564, 3642, 2663, 8238, 10774, 8204, 1511, 8176, 6617, 983, 11513, 8253, 2908, 10626, 10571, 4614, 113, 7006, 3958, 3894, 6214, 6017, 2491, 11711, 3617, 9170, 2446, 7368, 4075, 2152, 7181, 3102, 6385, 1996, 9261, 4047, 4686, 12078, 12569, 6608, 11146, 109, 3609, 10394, 6443, 5851, 3844, 4888, 6832, 2165, 2468, 7411, 3645, 12010, 6229, 9437, 10776, 3446, 8772, 3243, 141, 311, 3199, 11551, 4099, 755, 3371, 10883, 5392, 8258, 626, 3488, 3379, 8665, 3352, 10253, 9142, 3059, 988, 1269, 8667, 1893, 3681, 11793, 10545, 7922, 464, 9459, 1169, 5713, 6461, 2942, 9662, 7615, 7915, 5376, 9624, 2810, 12796, 2464, 1913, 7201, 7693, 2269, 5325, 7819, 6046, 496, 12585, 221, 8932, 3902, 9259, 4297, 9423, 10056, 9226, 8716, 4571, 7505, 9886, 2360, 12264, 10783, 475, 10509, 11828, 7662, 8654, 11183, 2825, 11222, 2976, 11912, 3703, 11177, 3117, 10962, 9905, 4735, 360, 6466, 6750, 5507, 625, 5642, 3048, 11629, 5618, 11989, 6233, 202, 7379, 11180, 8576, 6458, 6535, 5983, 3298, 9286, 8129, 3464, 5353, 1538, 7214, 3737, 3781, 12465, 11996, 10519, 3003, 9067, 1552, 3221, 6091, 4608, 1119, 11118, 12862, 10840, 4720, 1355, 7685, 10175, 5756, 132, 10510, 7603, 9625, 10659, 2377, 578, 2307, 9169, 1415, 7863, 8097, 2937, 4310, 10559, 9810, 12618, 3907, 6406, 5959, 2461, 1720, 9232, 3600, 8368, 2905, 8323, 12362, 6189, 7518, 9764, 9437, 2575, 8129, 2214, 5910, 9002, 10355, 197, 1607, 4823, 9969, 4578, 3025, 4124, 6664, 10303, 8435, 11538, 10974, 12321, 9881, 8764, 6785, 8207, 1617, 10653, 7737, 6047, 11675, 7341, 10829, 11594, 5372, 3212, 10441, 12182, 3073, 1561, 5161, 8512, 6001, 2220, 7059, 98, 11046, 1727, 9971, 1324, 12547, 2154, 2890, 8621, 3217, 9344, 5820, 558, 5374, 5031, 11802, 7223, 9113, 11683, 4412, 9789, 1013, 3377, 5143, 9860, 4408, 10769, 1981, 834, 12260, 12535, 2104, 3207, 11456, 6881, 6798, 11719, 7426, 5926, 3104, 7511, 7887, 11084, 12782, 12689, 8610, 3946, 7407, 8898, 4939, 11863, 6950, 10155, 407, 4400, 2103, 9600, 7059, 2510, 7112, 11959, 6135, 1831, 2605, 4241, 5481, 8032, 1623, 2760, 6350, 6435, 7419, 4956, 4230, 3657, 5304, 10738, 618, 2381, 10869, 10451, 385, 5949, 11032, 1718, 9451, 1763, 7275, 9603, 4230, 3597, 8758, 12517, 4974, 10172, 5655, 10505, 11104, 8364, 9318, 8226, 328, 3513, 9093, 635, 9569, 10569, 435, 4904, 6096, 10411, 6350, 7090, 4837, 7522, 12472, 10782, 6688, 7833, 5426, 11891, 7537, 1744, 9100, 200, 10803, 7616, 8118, 5619, 9888, 854, 10452, 1854, 7339, 6301, 9435, 10526, 1011, 11993, 614, 4089, 5392, 4621, 11456, 7082, 8809, 12577, 9534, 7822, 4435, 8550, 9006, 1481, 605, 7269, 4310, 2272, 7307, 10563, 8222, 4157, 1476, 12092, 12575, 6838, 1816, 8027, 1247, 2688, 11127, 3996, 1028, 6005, 929, 6178, 1488, 11008, 8400, 5157, 6517, 10899, 6989, 7944, 12849, 7477, 9797, 8129, 302, 10623, 11958, 7637, 2535, 9738, 10582, 5759, 9520, 7224, 7236, 12100, 4405, 492, 4941, 11618, 3356, 3290, 1281, 9461, 5198, 12636, 11240, 5819, 4557, 4425, 4081, 3611, 6258, 12531, 9783, 3430, 5431, 11951, 2384, 12183, 4668, 6342, 2833, 2533, 5623, 7917, 11465, 10637, 10933, 9009, 11900, 6463, 4422, 12090, 10098, 2931, 887, 1066, 11821, 4421, 8211, 11563, 6761, 2543, 10997, 7014, 2056, 938, 11117, 1731, 2860, 8866, 671, 3838, 9603, 4151, 5791, 12714, 11406, 11509, 7630, 4513, 9568, 5673, 12610, 12326, 7513, 5799, 12017, 3691, 12379, 7334, 5025, 1296, 11163, 7844, 8139, 2036, 11966, 6887, 2399, 9513, 9242, 5863, 3712, 11119, 3765, 4024, 10096, 8788, 8277, 7900, 11178, 5817, 2952, 8905, 11549, 11058, 8473, 364, 11496, 993, 2409, 9552, 5335, 6913, 12275, 9049, 5590, 7524, 374, 9729, 6788, 2432, 4988, 11906, 9774, 12825, 10644, 9621, 5296, 2053, 12346, 730, 3187, 9022, 5411, 4212, 11115, 1794, 6524, 6599, 3565, 3142, 8791, 11755, 10222, 5998, 3435, 9663, 8801, 3333, 7355, 383, 5239, 9282, 7980, 8598, 3401, 5995, 8588, 3273, 9526, 5793, 8792, 2711, 6985, 10450, 6334, 4506, 5843, 11738, 1309, 2033, 5469, 11122, 4513, 6931, 296, 5725, 9186, 8716, 10338, 11457, 4030, 9115, 384, 1452, 1253, 4968, 645, 5578, 10197, 11162, 10313, 6873, 9012, 7618, 713, 7997, 3455, 5776, 9041, 4062, 11713, 12653, 2027, 3212, 9723, 515, 4810, 1116, 6176, 6914, 12305, 12482, 10451, 1961, 5658, 12034, 2290, 3676, 9594, 10569, 6114, 3987, 9357, 11841, 8912, 10909, 384, 10893, 2381, 10051, 8352, 7301, 5003, 2581, 11651, 4182, 8134, 9443, 12165, 2389, 1608, 3821, 9239, 8798, 11900, 7801, 5311, 4329, 5554, 9905, 4917, 12152, 6460, 4389, 2163, 10039, 5544, 10914, 10303, 7745, 4871, 10209, 12196, 10390, 10860, 11257, 7718, 7784, 1050, 4796, 2403, 6494, 8131, 5019, 1105, 8773, 4384, 7819, 1618, 9417, 10673, 9914, 7020, 5290, 5393, 12291, 1387, 3466, 9771, 1613, 5893, 8456, 7066, 446, 2683, 2093, 1103, 2558, 8815, 4749, 7937, 1162, 1062, 2431, 10904, 6413, 11155, 8931, 7584, 7634, 1222, 1236, 1494, 602, 9212, 5454, 8921, 6957, 6698, 12777, 4249, 5881, 11222, 1528, 3762, 11621, 3773, 3696, 996, 10347, 4572, 6482, 12091, 9504, 3925, 11066, 790, 12205, 2875, 7961, 5402, 12676, 2330, 6951, 5698, 1828, 6799, 2321, 1781, 9125, 9534, 4204, 8223, 6164, 7479, 7420, 362, 9024, 7695, 12405, 4063, 11204, 8546, 10677, 2270, 5179, 7119, 6333, 8353, 5117, 5678, 4951, 141, 11525, 11428, 3870, 4511, 7892, 8480, 3266, 7942, 3516, 300, 9876, 10996, 2864, 8774, 3237, 8341, 6681, 9875, 553, 6968, 2090, 6420, 2840, 3168, 4058, 11272, 6704, 4655, 8912, 3792, 3601, 592, 10214, 12592, 7155, 7675, 3849, 2629, 4184, 1200, 8435, 9509, 8384, 12397, 7170, 9471, 6253, 2637, 3121, 8045, 1577, 4058, 4200, 11362, 12756, 11007, 5374, 2229, 3286, 8622, 6078, 6384, 8616, 5426, 1089, 5099, 8941, 7, 5105, 7431, 11480, 3722, 1260, 660, 2065, 12204, 2689, 11364, 7360, 12746, 10046, 3029, 5825, 2077, 6180, 6972, 4425, 5848, 3753, 9044, 5730, 10368, 11845, 12226, 3105, 6066, 4437, 11665, 8316, 8524, 10503, 7920, 11863, 8769, 11276, 10286, 4995, 8134, 3049, 568, 673, 930, 9215, 4265, 1019, 2617, 607, 343, 10646, 12596, 818, 530, 10440, 5251, 2470, 1639, 9194, 5468, 4311, 12862, 4501, 6732, 6346, 958, 4022, 5774, 80, 2159, 3965, 10039, 11433, 3961, 3386, 303, 3135, 6732, 8612, 9605, 3189, 11137, 1874, 10016, 9195, 3664, 10415, 4336, 1957, 2770, 3273, 10351, 11511, 1498, 5537, 7419, 3502, 889, 6878, 947, 10973, 5584, 9364, 3250, 12467, 9627, 8294, 7995, 9806, 2172, 6584, 5031, 9935, 5927, 6979, 11751, 10718, 6810, 11267, 10007, 5724, 6847, 5623, 7410, 11535, 4877, 12310, 2630, 4781, 9126, 7911, 5150, 2753, 7004, 6527, 5214, 12198, 4800, 11086, 3950, 1363, 1429, 10393, 11039, 12853, 5259, 7458, 12523, 11251, 4135, 6245, 6095, 7096, 5305, 2826, 1383, 12852, 6598, 8842, 9920, 11428, 4215, 9599, 10253, 1391, 2869, 5576, 8776, 9646, 9586, 6468, 7167, 1572, 4205, 4097, 11358, 11804, 11985, 6994, 10098, 1903, 5953, 8205, 1759, 8922, 8568, 4291, 319, 5834, 2852, 9071, 650, 2288, 5458, 1852, 8656, 3926, 10005, 1610, 4614, 9165, 2303, 9353, 6280, 12068, 6820, 7377, 760, 9427, 6877, 5131, 5009, 675, 6333, 1056, 3709, 10657, 10234, 7968, 8365, 9859, 6039, 6539, 2390, 4211, 12004, 370, 7313, 9560, 12378, 12586, 8034, 8034, 3150, 616, 402, 5064, 1784, 3212, 4220, 11401, 9394, 3886, 5847, 1043, 1137, 11517, 11415, 1171, 7810, 5324, 11445, 496, 5505, 5761, 9798, 2926, 3092, 9673, 2953, 2375, 7975, 9663, 647, 4871, 6122, 12731, 8023, 5205, 5116, 2829, 10724, 10401, 191, 2885, 10800, 7879, 661, 11436, 4705, 12229, 11689, 5389, 2054, 7325, 6059, 2711, 12674, 3852, 871, 11862, 11782, 1356, 11430, 11830, 389, 12107, 710, 12587, 9656, 5571, 9863, 11062, 11107, 4701, 6376, 11575, 6960, 12610, 12757, 11623, 1374, 7665, 464, 1981, 3341, 7382, 10640, 8317, 7520, 5338, 7994, 7837, 8742, 4703, 4921, 841, 2330, 6383, 11681, 12829, 1162, 8524, 10669, 4041, 9385, 1849, 1392, 3105, 597, 4324, 12393, 421, 9486, 4497, 5784, 6040, 8420, 8055, 4874, 4222, 11641, 7434, 12218, 4483, 3373, 8761, 8390, 4525, 9763, 1083, 2453, 4359, 1260, 6287, 5982, 4080, 5561, 808, 2844, 7777, 10635, 1822, 12562, 3114, 6541, 3402, 7943, 861, 4577, 6337, 11433, 2650, 10657, 989, 10388, 8008, 4480, 7373, 10676, 1373, 5755, 10603, 9058, 8441, 6055, 4696, 2469, 9924, 6899, 12614, 4636, 871, 7089, 3662, 3451, 5692, 9668, 1314, 6575, 4404, 8134, 4545, 11538, 7576, 4708, 5199, 3716, 6549, 12306, 9785, 3156, 342, 8903, 4707, 5644, 11999, 4420, 2653, 10383]\n"
          ],
          "name": "stdout"
        }
      ]
    },
    {
      "cell_type": "code",
      "metadata": {
        "id": "BWhqc4uK-WwM",
        "colab_type": "code",
        "colab": {}
      },
      "source": [
        "# Liste des étiquettes possibles à fournir au modèles\n",
        "\n",
        "tags = df[\"labels\"].unique().tolist()"
      ],
      "execution_count": 0,
      "outputs": []
    },
    {
      "cell_type": "code",
      "metadata": {
        "id": "clvMK6jKEJUM",
        "colab_type": "code",
        "colab": {}
      },
      "source": [
        "# Conversion en String pour éviter des erreurs lors de la compilation\n",
        "\n",
        "df[\"words\"] = df[\"words\"].astype(str)\n",
        "df[\"labels\"] = df[\"labels\"].astype(str)"
      ],
      "execution_count": 0,
      "outputs": []
    },
    {
      "cell_type": "code",
      "metadata": {
        "id": "0HyOCB-QScJZ",
        "colab_type": "code",
        "outputId": "fb569821-9ab4-4d40-f249-e303ef42b09c",
        "colab": {
          "base_uri": "https://localhost:8080/",
          "height": 197
        }
      },
      "source": [
        "results"
      ],
      "execution_count": 0,
      "outputs": [
        {
          "output_type": "execute_result",
          "data": {
            "text/html": [
              "<div>\n",
              "<style scoped>\n",
              "    .dataframe tbody tr th:only-of-type {\n",
              "        vertical-align: middle;\n",
              "    }\n",
              "\n",
              "    .dataframe tbody tr th {\n",
              "        vertical-align: top;\n",
              "    }\n",
              "\n",
              "    .dataframe thead th {\n",
              "        text-align: right;\n",
              "    }\n",
              "</style>\n",
              "<table border=\"1\" class=\"dataframe\">\n",
              "  <thead>\n",
              "    <tr style=\"text-align: right;\">\n",
              "      <th></th>\n",
              "      <th>eval_loss</th>\n",
              "      <th>f1_score</th>\n",
              "      <th>precision</th>\n",
              "      <th>recall</th>\n",
              "      <th>type_algo</th>\n",
              "      <th>algo</th>\n",
              "    </tr>\n",
              "  </thead>\n",
              "  <tbody>\n",
              "    <tr>\n",
              "      <th>0</th>\n",
              "      <td>0.203051</td>\n",
              "      <td>0.666814</td>\n",
              "      <td>0.666005</td>\n",
              "      <td>0.667624</td>\n",
              "      <td>bert</td>\n",
              "      <td>bert-base-cased</td>\n",
              "    </tr>\n",
              "    <tr>\n",
              "      <th>1</th>\n",
              "      <td>0.197175</td>\n",
              "      <td>0.721976</td>\n",
              "      <td>0.728431</td>\n",
              "      <td>0.715635</td>\n",
              "      <td>camembert</td>\n",
              "      <td>camembert-base</td>\n",
              "    </tr>\n",
              "    <tr>\n",
              "      <th>2</th>\n",
              "      <td>0.229536</td>\n",
              "      <td>0.602465</td>\n",
              "      <td>0.600088</td>\n",
              "      <td>0.604862</td>\n",
              "      <td>roberta</td>\n",
              "      <td>roberta-base</td>\n",
              "    </tr>\n",
              "    <tr>\n",
              "      <th>3</th>\n",
              "      <td>0.214327</td>\n",
              "      <td>0.623193</td>\n",
              "      <td>0.632045</td>\n",
              "      <td>0.614586</td>\n",
              "      <td>distilbert</td>\n",
              "      <td>distilbert-base-cased</td>\n",
              "    </tr>\n",
              "    <tr>\n",
              "      <th>4</th>\n",
              "      <td>0.274334</td>\n",
              "      <td>0.390286</td>\n",
              "      <td>0.440253</td>\n",
              "      <td>0.350504</td>\n",
              "      <td>electra</td>\n",
              "      <td>google/electra-base-discriminator</td>\n",
              "    </tr>\n",
              "  </tbody>\n",
              "</table>\n",
              "</div>"
            ],
            "text/plain": [
              "   eval_loss  f1_score  ...   type_algo                               algo\n",
              "0   0.203051  0.666814  ...        bert                    bert-base-cased\n",
              "1   0.197175  0.721976  ...   camembert                     camembert-base\n",
              "2   0.229536  0.602465  ...     roberta                       roberta-base\n",
              "3   0.214327  0.623193  ...  distilbert              distilbert-base-cased\n",
              "4   0.274334  0.390286  ...     electra  google/electra-base-discriminator\n",
              "\n",
              "[5 rows x 6 columns]"
            ]
          },
          "metadata": {
            "tags": []
          },
          "execution_count": 112
        }
      ]
    },
    {
      "cell_type": "markdown",
      "metadata": {
        "id": "WgyBBjwmbaSm",
        "colab_type": "text"
      },
      "source": [
        "### Modèles\n",
        "\n",
        "Les résultats des modèles seront écrit dans le dataframe results.\n",
        "Il sera composé des loss, f1_score, precision et recall pour chaque modèle"
      ]
    },
    {
      "cell_type": "code",
      "metadata": {
        "id": "yhmxuasV6ggV",
        "colab_type": "code",
        "colab": {}
      },
      "source": [
        "results = pd.DataFrame(columns = ['eval_loss','f1_score','precision','recall', \"type_algo\", \"algo\"]) # création du dataframe results\n",
        "\n",
        "l_algotype = [ \"bert\" , \"camembert\" , \"roberta\" , \"distilbert\" , \"electra\" , \"xlmroberta\"] #type de modèles\n",
        "l_algo = [ \"bert-base-cased\" , \"camembert-base\" , \"roberta-base\" ,\n",
        "          \"distilbert-base-cased\" , \"google/electra-base-discriminator\" , \"xlm-roberta-base\"] # modèles \n",
        "\n",
        "for i in range (len(l_algotype)) : \n",
        "  print(\"###################\\t\", l_algotype[i] , \" -- \", l_algo[i] ,\"\\t###################\")\n",
        "\n",
        "  # configuration du logger pour les info et les avertissements\n",
        "  logging.basicConfig(level=logging.INFO)\n",
        "  transformers_logger = logging.getLogger(\"transformers\")\n",
        "  transformers_logger.setLevel(logging.WARNING)\n",
        "\n",
        "  # Création de train_df et test_df\n",
        "  train_df = df[df[\"sentence_id\"].isin(randomlist)] # 80 pourcent des sentences_id\n",
        "  eval_df = df[~df[\"sentence_id\"].isin(randomlist)] # 20 pourcent des sentences_id\n",
        "\n",
        "  # Création du modèles NER\n",
        "  model = NERModel(l_algotype[i], l_algo[i], args={'overwrite_output_dir': True, 'reprocess_input_data': True}, labels=tags)\n",
        "\n",
        "  # Entrainement\n",
        "  model.train_model(train_df)\n",
        "\n",
        "  # Evaluation\n",
        "  result, model_outputs, predictions = model.eval_model(eval_df)\n",
        "\n",
        "  # Ajout du type de moèdle et du modèle tester aux résultats\n",
        "  result[\"type_algo\"] = l_algotype[i]\n",
        "  result[\"algo\"] = l_algo[i]\n",
        "\n",
        "  # on créer une ligne contenant les résultats\n",
        "  results = results.append(result, ignore_index = True)\n"
      ],
      "execution_count": 0,
      "outputs": []
    },
    {
      "cell_type": "code",
      "metadata": {
        "id": "SIDgq2SK6-RQ",
        "colab_type": "code",
        "outputId": "5a56c6cd-06ce-46b9-f121-6a659507b51d",
        "colab": {
          "base_uri": "https://localhost:8080/",
          "height": 227
        }
      },
      "source": [
        "results"
      ],
      "execution_count": 0,
      "outputs": [
        {
          "output_type": "execute_result",
          "data": {
            "text/html": [
              "<div>\n",
              "<style scoped>\n",
              "    .dataframe tbody tr th:only-of-type {\n",
              "        vertical-align: middle;\n",
              "    }\n",
              "\n",
              "    .dataframe tbody tr th {\n",
              "        vertical-align: top;\n",
              "    }\n",
              "\n",
              "    .dataframe thead th {\n",
              "        text-align: right;\n",
              "    }\n",
              "</style>\n",
              "<table border=\"1\" class=\"dataframe\">\n",
              "  <thead>\n",
              "    <tr style=\"text-align: right;\">\n",
              "      <th></th>\n",
              "      <th>eval_loss</th>\n",
              "      <th>f1_score</th>\n",
              "      <th>precision</th>\n",
              "      <th>recall</th>\n",
              "      <th>type_algo</th>\n",
              "      <th>algo</th>\n",
              "    </tr>\n",
              "  </thead>\n",
              "  <tbody>\n",
              "    <tr>\n",
              "      <th>0</th>\n",
              "      <td>0.203051</td>\n",
              "      <td>0.666814</td>\n",
              "      <td>0.666005</td>\n",
              "      <td>0.667624</td>\n",
              "      <td>bert</td>\n",
              "      <td>bert-base-cased</td>\n",
              "    </tr>\n",
              "    <tr>\n",
              "      <th>1</th>\n",
              "      <td>0.197175</td>\n",
              "      <td>0.721976</td>\n",
              "      <td>0.728431</td>\n",
              "      <td>0.715635</td>\n",
              "      <td>camembert</td>\n",
              "      <td>camembert-base</td>\n",
              "    </tr>\n",
              "    <tr>\n",
              "      <th>2</th>\n",
              "      <td>0.229536</td>\n",
              "      <td>0.602465</td>\n",
              "      <td>0.600088</td>\n",
              "      <td>0.604862</td>\n",
              "      <td>roberta</td>\n",
              "      <td>roberta-base</td>\n",
              "    </tr>\n",
              "    <tr>\n",
              "      <th>3</th>\n",
              "      <td>0.214327</td>\n",
              "      <td>0.623193</td>\n",
              "      <td>0.632045</td>\n",
              "      <td>0.614586</td>\n",
              "      <td>distilbert</td>\n",
              "      <td>distilbert-base-cased</td>\n",
              "    </tr>\n",
              "    <tr>\n",
              "      <th>4</th>\n",
              "      <td>0.274334</td>\n",
              "      <td>0.390286</td>\n",
              "      <td>0.440253</td>\n",
              "      <td>0.350504</td>\n",
              "      <td>electra</td>\n",
              "      <td>google/electra-base-discriminator</td>\n",
              "    </tr>\n",
              "    <tr>\n",
              "      <th>5</th>\n",
              "      <td>0.202448</td>\n",
              "      <td>0.698000</td>\n",
              "      <td>0.683734</td>\n",
              "      <td>0.712873</td>\n",
              "      <td>xlmroberta</td>\n",
              "      <td>xlm-roberta-base</td>\n",
              "    </tr>\n",
              "  </tbody>\n",
              "</table>\n",
              "</div>"
            ],
            "text/plain": [
              "   eval_loss  f1_score  ...   type_algo                               algo\n",
              "0   0.203051  0.666814  ...        bert                    bert-base-cased\n",
              "1   0.197175  0.721976  ...   camembert                     camembert-base\n",
              "2   0.229536  0.602465  ...     roberta                       roberta-base\n",
              "3   0.214327  0.623193  ...  distilbert              distilbert-base-cased\n",
              "4   0.274334  0.390286  ...     electra  google/electra-base-discriminator\n",
              "5   0.202448  0.698000  ...  xlmroberta                   xlm-roberta-base\n",
              "\n",
              "[6 rows x 6 columns]"
            ]
          },
          "metadata": {
            "tags": []
          },
          "execution_count": 114
        }
      ]
    },
    {
      "cell_type": "code",
      "metadata": {
        "id": "6ZCRl9Xw-XNZ",
        "colab_type": "code",
        "colab": {}
      },
      "source": [
        "results.to_csv(\"./out/results.csv\", sep = \",\" , index = False ) # exports des résultats"
      ],
      "execution_count": 0,
      "outputs": []
    },
    {
      "cell_type": "markdown",
      "metadata": {
        "id": "CGkpJQdCchsQ",
        "colab_type": "text"
      },
      "source": [
        "On remarque que seuls Camembert et XMLRoberta se distinguent des autres. Nous allons donc tester une partie des différents modèles (Camembert et XMLroberta) mis à disposition : https://huggingface.co/models"
      ]
    },
    {
      "cell_type": "code",
      "metadata": {
        "id": "OzJwD7OCaDe4",
        "colab_type": "code",
        "colab": {}
      },
      "source": [
        "results = pd.read_csv(\"./out/results.csv\", sep = \",\")"
      ],
      "execution_count": 0,
      "outputs": []
    },
    {
      "cell_type": "code",
      "metadata": {
        "id": "x4IlycnvaKpM",
        "colab_type": "code",
        "colab": {}
      },
      "source": [
        "df = pd.read_csv(\"./out/df.csv\", sep = \"\\t\")"
      ],
      "execution_count": 0,
      "outputs": []
    },
    {
      "cell_type": "code",
      "metadata": {
        "id": "RTFmMj9Yc2w2",
        "colab_type": "code",
        "colab": {}
      },
      "source": [
        ""
      ],
      "execution_count": 0,
      "outputs": []
    },
    {
      "cell_type": "markdown",
      "metadata": {
        "id": "M6RjMWksc3tI",
        "colab_type": "text"
      },
      "source": [
        "# Camembert"
      ]
    },
    {
      "cell_type": "code",
      "metadata": {
        "id": "MMAQWlSjdajW",
        "colab_type": "code",
        "colab": {}
      },
      "source": [
        "# Liste des étiquettes possibles à fournir au modèles\n",
        "\n",
        "tags = df[\"labels\"].unique().tolist()"
      ],
      "execution_count": 0,
      "outputs": []
    },
    {
      "cell_type": "code",
      "metadata": {
        "id": "7Cq5-Ltke3Ls",
        "colab_type": "code",
        "colab": {}
      },
      "source": [
        "# Conversion en String pour éviter des erreurs lors de la compilation\n",
        "\n",
        "df[\"words\"] = df[\"words\"].astype(str)\n",
        "df[\"labels\"] = df[\"labels\"].astype(str)"
      ],
      "execution_count": 0,
      "outputs": []
    },
    {
      "cell_type": "code",
      "metadata": {
        "id": "UZwfGqdAKWZQ",
        "colab_type": "code",
        "outputId": "fe77df87-5d37-4552-e3ee-d98b18e32ca5",
        "colab": {
          "base_uri": "https://localhost:8080/",
          "height": 1000,
          "referenced_widgets": [
            "715e1e96257f4141a99277e7557de254",
            "074cefb8fe334f1d9c27528d246ad73a",
            "c0593c994b0043ab80ec21e6d6ac8037",
            "aa5d17f8540747b5acfe4905823469ee",
            "ccb6ff40ccbc4598b6859601830719bc",
            "9b69604c49084ead9e5dcd33820388ef",
            "b3a96a0ed2e3418b93d1b2b1089546e9",
            "66dabdfa1d9b41bd9894a74d593d34e5",
            "ed4497a3c21a44dc8e73e6c2115c6661",
            "7020f43b7c9e4787a30cffc915d51a62",
            "319e3b1e94434065944db1b549bc822a",
            "d8fa259a3035442cb26e4ff78696b7cd",
            "7aada26c0bf140ef8cb446c42aae149a",
            "b6d0c0f3368645e681cb64289aa1d8d8",
            "1320df7889f94167a34eabecadd5ba27",
            "1167fb1f63554872af6db9806713c4be",
            "e72a230d46a545dbb80fa6a4990a28b3",
            "b40eec50791444a28fa9ebf7c6bb6beb",
            "6969515126e94845992626c54fc0fa55",
            "c9b0e4191fb14e1ca6fa5d17e33d4a7a",
            "02bc14487ce9469a9f756ed645391944",
            "f7de26495d384f4785d9ff9eeda7786c",
            "5b25349a79d3400aa6fd334481ae038e",
            "8a65ad1202cc450da31b4db7a5d1a3ea",
            "7ed013844e604732a0aaf5668e047b6a",
            "eb37d68e5be6492cb67195e7903dc5ca",
            "ad30e47a40c2494a959df064ecff16dc",
            "311307d22cae4b9d894898f7a296db88",
            "5fadfb3f590a4c64b7c223090dde7a27",
            "32e9476a1c9d447db973e2f174263899",
            "ca39227dd2e94394b81bad29822756a1",
            "1aa32efc568e4561bb049bbe8e413880",
            "c8b21cb3650a45a2b1c07cb6f9c19712",
            "8e3f6697961a4566978884bb9b52f807",
            "ff264c60f9104257a81a3c9e2fc8f8f7",
            "1054cdfa1c564ed09d7da6a4c427f8b1",
            "f4e34f1212e645cfaf891d70957e9353",
            "296741c0afc949ad868e99dbeeea14c7",
            "992d0ab33c83408aac4b9b35c536e6f0",
            "6a49c9b3854a437a8061fcb3867eeb1a",
            "372368b3fa5c4590aa6e9de6789e3aa8",
            "e117f6aed2064b079820973c5ff9eef1",
            "a80cba77536a476b9fc989cedc318bec",
            "b64b9880ace741d2aa17082ec1aa1057",
            "bbed7902db7843bdb46455ce3ac0495f",
            "b8b7c572b41f411481c12a75e6b64efa",
            "4371eb379ec445c3ba5c717d75ac0357",
            "4452b1db3754441a8fe1bbf7577767b0",
            "b8147c1f53c24598b07edfaa80c07788",
            "73eb85b4fec24c7b8314e27cd7cfc5d6",
            "ac14d315fbb042a185d8c99d3e8d75ce",
            "a14b080efc894a888787fc65740521dd",
            "f9ee1d0eeeef40838e8db6e8dac68d4a",
            "ee5c861f613f49d68e5b71d4cd10fde2",
            "8e72a0ada7344ccb8d3beeb86c26811b",
            "cb0ea7482043467dbc031047dfbbeb75"
          ]
        }
      },
      "source": [
        "camembert_results = pd.DataFrame(columns = ['eval_loss','f1_score','precision','recall', \"type_algo\", \"algo\"])\n",
        "\n",
        "l_camembert = [ \"idb-ita/gilberto-uncased-from-camembert\" , \"jplu/tf-camembert-base\" ,\n",
        "               \"camembert/camembert-large\" , \"fmikaelian/camembert-base-fquad\" , \"illuin/camembert-large-fquad\" , \"fmikaelian/camembert-base-squad\"]\n",
        "\n",
        "for i in range (len(l_camembert)) : \n",
        "  print(\"###################\\t\", \"camembert\" , \" -- \", l_camembert[i] ,\"\\t###################\")\n",
        "  logging.basicConfig(level=logging.INFO)\n",
        "  transformers_logger = logging.getLogger(\"transformers\")\n",
        "  transformers_logger.setLevel(logging.WARNING)\n",
        "\n",
        "  # Creating train_df  and eval_df for demonstration\n",
        "\n",
        "  train_df = df[df[\"sentence_id\"].isin(randomlist)]\n",
        "\n",
        "  eval_df = df[~df[\"sentence_id\"].isin(randomlist)]\n",
        "\n",
        "  # Create a NERModel\n",
        "  model = NERModel(\"camembert\", l_camembert[i], args={'overwrite_output_dir': True, 'reprocess_input_data': True}, labels=tags)\n",
        "\n",
        "  # Train the model\n",
        "  model.train_model(train_df)\n",
        "\n",
        "  # Evaluate the model\n",
        "  result, model_outputs, predictions = model.eval_model(eval_df)\n",
        "\n",
        "  result[\"type_algo\"] = \"camembert\"\n",
        "  result[\"algo\"] = l_camembert[i]\n",
        "\n",
        "  camembert_results = camembert_results.append(result, ignore_index = True)\n",
        "\n",
        "  # Predictions on arbitary text strings\n",
        "  predictions, raw_outputs = model.predict([\"Some arbitary sentence\"])\n",
        "\n",
        "  print(predictions)"
      ],
      "execution_count": 0,
      "outputs": [
        {
          "output_type": "stream",
          "text": [
            "###################\t camembert  --  idb-ita/gilberto-uncased-from-camembert \t###################\n"
          ],
          "name": "stdout"
        },
        {
          "output_type": "stream",
          "text": [
            "/usr/local/lib/python3.6/dist-packages/simpletransformers/ner/ner_model.py:170: UserWarning: use_multiprocessing automatically disabled as CamemBERT fails when using multiprocessing for feature conversion.\n",
            "  \"use_multiprocessing automatically disabled as CamemBERT\"\n",
            "INFO:simpletransformers.ner.ner_model: Converting to features started.\n"
          ],
          "name": "stderr"
        },
        {
          "output_type": "display_data",
          "data": {
            "application/vnd.jupyter.widget-view+json": {
              "model_id": "715e1e96257f4141a99277e7557de254",
              "version_minor": 0,
              "version_major": 2
            },
            "text/plain": [
              "HBox(children=(FloatProgress(value=0.0, max=7110.0), HTML(value='')))"
            ]
          },
          "metadata": {
            "tags": []
          }
        },
        {
          "output_type": "stream",
          "text": [
            "\n",
            "Selected optimization level O1:  Insert automatic casts around Pytorch functions and Tensor methods.\n",
            "\n",
            "Defaults for this optimization level are:\n",
            "enabled                : True\n",
            "opt_level              : O1\n",
            "cast_model_type        : None\n",
            "patch_torch_functions  : True\n",
            "keep_batchnorm_fp32    : None\n",
            "master_weights         : None\n",
            "loss_scale             : dynamic\n",
            "Processing user overrides (additional kwargs that are not None)...\n",
            "After processing overrides, optimization options are:\n",
            "enabled                : True\n",
            "opt_level              : O1\n",
            "cast_model_type        : None\n",
            "patch_torch_functions  : True\n",
            "keep_batchnorm_fp32    : None\n",
            "master_weights         : None\n",
            "loss_scale             : dynamic\n"
          ],
          "name": "stdout"
        },
        {
          "output_type": "display_data",
          "data": {
            "application/vnd.jupyter.widget-view+json": {
              "model_id": "ed4497a3c21a44dc8e73e6c2115c6661",
              "version_minor": 0,
              "version_major": 2
            },
            "text/plain": [
              "HBox(children=(FloatProgress(value=0.0, description='Epoch', max=1.0, style=ProgressStyle(description_width='i…"
            ]
          },
          "metadata": {
            "tags": []
          }
        },
        {
          "output_type": "display_data",
          "data": {
            "application/vnd.jupyter.widget-view+json": {
              "model_id": "e72a230d46a545dbb80fa6a4990a28b3",
              "version_minor": 0,
              "version_major": 2
            },
            "text/plain": [
              "HBox(children=(FloatProgress(value=0.0, description='Current iteration', max=889.0, style=ProgressStyle(descri…"
            ]
          },
          "metadata": {
            "tags": []
          }
        },
        {
          "output_type": "stream",
          "text": [
            "Running loss: 1.695847Gradient overflow.  Skipping step, loss scaler 0 reducing loss scale to 32768.0\n",
            "Running loss: 1.692176Gradient overflow.  Skipping step, loss scaler 0 reducing loss scale to 16384.0\n"
          ],
          "name": "stdout"
        },
        {
          "output_type": "stream",
          "text": [
            "/usr/local/lib/python3.6/dist-packages/torch/optim/lr_scheduler.py:114: UserWarning: Seems like `optimizer.step()` has been overridden after learning rate scheduler initialization. Please, make sure to call `optimizer.step()` before `lr_scheduler.step()`. See more details at https://pytorch.org/docs/stable/optim.html#how-to-adjust-learning-rate\n",
            "  \"https://pytorch.org/docs/stable/optim.html#how-to-adjust-learning-rate\", UserWarning)\n"
          ],
          "name": "stderr"
        },
        {
          "output_type": "stream",
          "text": [
            "Running loss: 1.715026Gradient overflow.  Skipping step, loss scaler 0 reducing loss scale to 8192.0\n",
            "Running loss: 0.127981"
          ],
          "name": "stdout"
        },
        {
          "output_type": "stream",
          "text": [
            "/usr/local/lib/python3.6/dist-packages/torch/optim/lr_scheduler.py:231: UserWarning: To get the last learning rate computed by the scheduler, please use `get_last_lr()`.\n",
            "  warnings.warn(\"To get the last learning rate computed by the scheduler, \"\n"
          ],
          "name": "stderr"
        },
        {
          "output_type": "stream",
          "text": [
            "Running loss: 0.012756\n"
          ],
          "name": "stdout"
        },
        {
          "output_type": "stream",
          "text": [
            "/usr/local/lib/python3.6/dist-packages/torch/optim/lr_scheduler.py:200: UserWarning: Please also save or load the state of the optimzer when saving or loading the scheduler.\n",
            "  warnings.warn(SAVE_STATE_WARNING, UserWarning)\n"
          ],
          "name": "stderr"
        },
        {
          "output_type": "stream",
          "text": [
            "\n"
          ],
          "name": "stdout"
        },
        {
          "output_type": "stream",
          "text": [
            "INFO:simpletransformers.ner.ner_model: Training of camembert model complete. Saved to outputs/.\n",
            "INFO:simpletransformers.ner.ner_model: Converting to features started.\n"
          ],
          "name": "stderr"
        },
        {
          "output_type": "display_data",
          "data": {
            "application/vnd.jupyter.widget-view+json": {
              "model_id": "7ed013844e604732a0aaf5668e047b6a",
              "version_minor": 0,
              "version_major": 2
            },
            "text/plain": [
              "HBox(children=(FloatProgress(value=0.0, max=5758.0), HTML(value='')))"
            ]
          },
          "metadata": {
            "tags": []
          }
        },
        {
          "output_type": "stream",
          "text": [
            "\n"
          ],
          "name": "stdout"
        },
        {
          "output_type": "display_data",
          "data": {
            "application/vnd.jupyter.widget-view+json": {
              "model_id": "c8b21cb3650a45a2b1c07cb6f9c19712",
              "version_minor": 0,
              "version_major": 2
            },
            "text/plain": [
              "HBox(children=(FloatProgress(value=0.0, max=720.0), HTML(value='')))"
            ]
          },
          "metadata": {
            "tags": []
          }
        },
        {
          "output_type": "stream",
          "text": [
            "\n"
          ],
          "name": "stdout"
        },
        {
          "output_type": "stream",
          "text": [
            "INFO:simpletransformers.ner.ner_model:{'eval_loss': 0.20889623332251278, 'precision': 0.6020316027088036, 'recall': 0.6004052228725799, 'f1_score': 0.6012173128944995}\n",
            "INFO:simpletransformers.ner.ner_model: Converting to features started.\n"
          ],
          "name": "stderr"
        },
        {
          "output_type": "display_data",
          "data": {
            "application/vnd.jupyter.widget-view+json": {
              "model_id": "372368b3fa5c4590aa6e9de6789e3aa8",
              "version_minor": 0,
              "version_major": 2
            },
            "text/plain": [
              "HBox(children=(FloatProgress(value=0.0, max=1.0), HTML(value='')))"
            ]
          },
          "metadata": {
            "tags": []
          }
        },
        {
          "output_type": "stream",
          "text": [
            "\n"
          ],
          "name": "stdout"
        },
        {
          "output_type": "display_data",
          "data": {
            "application/vnd.jupyter.widget-view+json": {
              "model_id": "b8147c1f53c24598b07edfaa80c07788",
              "version_minor": 0,
              "version_major": 2
            },
            "text/plain": [
              "HBox(children=(FloatProgress(value=0.0, max=1.0), HTML(value='')))"
            ]
          },
          "metadata": {
            "tags": []
          }
        },
        {
          "output_type": "stream",
          "text": [
            "\n",
            "[[{'Some': 'O'}, {'arbitary': 'O'}, {'sentence': 'O'}]]\n",
            "###################\t camembert  --  jplu/tf-camembert-base \t###################\n"
          ],
          "name": "stdout"
        },
        {
          "output_type": "error",
          "ename": "OSError",
          "evalue": "ignored",
          "traceback": [
            "\u001b[0;31m---------------------------------------------------------------------------\u001b[0m",
            "\u001b[0;31mAttributeError\u001b[0m                            Traceback (most recent call last)",
            "\u001b[0;32m/usr/local/lib/python3.6/dist-packages/torch/serialization.py\u001b[0m in \u001b[0;36m_check_seekable\u001b[0;34m(f)\u001b[0m\n\u001b[1;32m    310\u001b[0m     \u001b[0;32mtry\u001b[0m\u001b[0;34m:\u001b[0m\u001b[0;34m\u001b[0m\u001b[0;34m\u001b[0m\u001b[0m\n\u001b[0;32m--> 311\u001b[0;31m         \u001b[0mf\u001b[0m\u001b[0;34m.\u001b[0m\u001b[0mseek\u001b[0m\u001b[0;34m(\u001b[0m\u001b[0mf\u001b[0m\u001b[0;34m.\u001b[0m\u001b[0mtell\u001b[0m\u001b[0;34m(\u001b[0m\u001b[0;34m)\u001b[0m\u001b[0;34m)\u001b[0m\u001b[0;34m\u001b[0m\u001b[0;34m\u001b[0m\u001b[0m\n\u001b[0m\u001b[1;32m    312\u001b[0m         \u001b[0;32mreturn\u001b[0m \u001b[0;32mTrue\u001b[0m\u001b[0;34m\u001b[0m\u001b[0;34m\u001b[0m\u001b[0m\n",
            "\u001b[0;31mAttributeError\u001b[0m: 'NoneType' object has no attribute 'seek'",
            "\nDuring handling of the above exception, another exception occurred:\n",
            "\u001b[0;31mAttributeError\u001b[0m                            Traceback (most recent call last)",
            "\u001b[0;32m/usr/local/lib/python3.6/dist-packages/transformers/modeling_utils.py\u001b[0m in \u001b[0;36mfrom_pretrained\u001b[0;34m(cls, pretrained_model_name_or_path, *model_args, **kwargs)\u001b[0m\n\u001b[1;32m    625\u001b[0m             \u001b[0;32mtry\u001b[0m\u001b[0;34m:\u001b[0m\u001b[0;34m\u001b[0m\u001b[0;34m\u001b[0m\u001b[0m\n\u001b[0;32m--> 626\u001b[0;31m                 \u001b[0mstate_dict\u001b[0m \u001b[0;34m=\u001b[0m \u001b[0mtorch\u001b[0m\u001b[0;34m.\u001b[0m\u001b[0mload\u001b[0m\u001b[0;34m(\u001b[0m\u001b[0mresolved_archive_file\u001b[0m\u001b[0;34m,\u001b[0m \u001b[0mmap_location\u001b[0m\u001b[0;34m=\u001b[0m\u001b[0;34m\"cpu\"\u001b[0m\u001b[0;34m)\u001b[0m\u001b[0;34m\u001b[0m\u001b[0;34m\u001b[0m\u001b[0m\n\u001b[0m\u001b[1;32m    627\u001b[0m             \u001b[0;32mexcept\u001b[0m \u001b[0mException\u001b[0m\u001b[0;34m:\u001b[0m\u001b[0;34m\u001b[0m\u001b[0;34m\u001b[0m\u001b[0m\n",
            "\u001b[0;32m/usr/local/lib/python3.6/dist-packages/torch/serialization.py\u001b[0m in \u001b[0;36mload\u001b[0;34m(f, map_location, pickle_module, **pickle_load_args)\u001b[0m\n\u001b[1;32m    583\u001b[0m \u001b[0;34m\u001b[0m\u001b[0m\n\u001b[0;32m--> 584\u001b[0;31m     \u001b[0;32mwith\u001b[0m \u001b[0m_open_file_like\u001b[0m\u001b[0;34m(\u001b[0m\u001b[0mf\u001b[0m\u001b[0;34m,\u001b[0m \u001b[0;34m'rb'\u001b[0m\u001b[0;34m)\u001b[0m \u001b[0;32mas\u001b[0m \u001b[0mopened_file\u001b[0m\u001b[0;34m:\u001b[0m\u001b[0;34m\u001b[0m\u001b[0;34m\u001b[0m\u001b[0m\n\u001b[0m\u001b[1;32m    585\u001b[0m         \u001b[0;32mif\u001b[0m \u001b[0m_is_zipfile\u001b[0m\u001b[0;34m(\u001b[0m\u001b[0mopened_file\u001b[0m\u001b[0;34m)\u001b[0m\u001b[0;34m:\u001b[0m\u001b[0;34m\u001b[0m\u001b[0;34m\u001b[0m\u001b[0m\n",
            "\u001b[0;32m/usr/local/lib/python3.6/dist-packages/torch/serialization.py\u001b[0m in \u001b[0;36m_open_file_like\u001b[0;34m(name_or_buffer, mode)\u001b[0m\n\u001b[1;32m    238\u001b[0m         \u001b[0;32melif\u001b[0m \u001b[0;34m'r'\u001b[0m \u001b[0;32min\u001b[0m \u001b[0mmode\u001b[0m\u001b[0;34m:\u001b[0m\u001b[0;34m\u001b[0m\u001b[0;34m\u001b[0m\u001b[0m\n\u001b[0;32m--> 239\u001b[0;31m             \u001b[0;32mreturn\u001b[0m \u001b[0m_open_buffer_reader\u001b[0m\u001b[0;34m(\u001b[0m\u001b[0mname_or_buffer\u001b[0m\u001b[0;34m)\u001b[0m\u001b[0;34m\u001b[0m\u001b[0;34m\u001b[0m\u001b[0m\n\u001b[0m\u001b[1;32m    240\u001b[0m         \u001b[0;32melse\u001b[0m\u001b[0;34m:\u001b[0m\u001b[0;34m\u001b[0m\u001b[0;34m\u001b[0m\u001b[0m\n",
            "\u001b[0;32m/usr/local/lib/python3.6/dist-packages/torch/serialization.py\u001b[0m in \u001b[0;36m__init__\u001b[0;34m(self, buffer)\u001b[0m\n\u001b[1;32m    223\u001b[0m         \u001b[0msuper\u001b[0m\u001b[0;34m(\u001b[0m\u001b[0m_open_buffer_reader\u001b[0m\u001b[0;34m,\u001b[0m \u001b[0mself\u001b[0m\u001b[0;34m)\u001b[0m\u001b[0;34m.\u001b[0m\u001b[0m__init__\u001b[0m\u001b[0;34m(\u001b[0m\u001b[0mbuffer\u001b[0m\u001b[0;34m)\u001b[0m\u001b[0;34m\u001b[0m\u001b[0;34m\u001b[0m\u001b[0m\n\u001b[0;32m--> 224\u001b[0;31m         \u001b[0m_check_seekable\u001b[0m\u001b[0;34m(\u001b[0m\u001b[0mbuffer\u001b[0m\u001b[0;34m)\u001b[0m\u001b[0;34m\u001b[0m\u001b[0;34m\u001b[0m\u001b[0m\n\u001b[0m\u001b[1;32m    225\u001b[0m \u001b[0;34m\u001b[0m\u001b[0m\n",
            "\u001b[0;32m/usr/local/lib/python3.6/dist-packages/torch/serialization.py\u001b[0m in \u001b[0;36m_check_seekable\u001b[0;34m(f)\u001b[0m\n\u001b[1;32m    313\u001b[0m     \u001b[0;32mexcept\u001b[0m \u001b[0;34m(\u001b[0m\u001b[0mio\u001b[0m\u001b[0;34m.\u001b[0m\u001b[0mUnsupportedOperation\u001b[0m\u001b[0;34m,\u001b[0m \u001b[0mAttributeError\u001b[0m\u001b[0;34m)\u001b[0m \u001b[0;32mas\u001b[0m \u001b[0me\u001b[0m\u001b[0;34m:\u001b[0m\u001b[0;34m\u001b[0m\u001b[0;34m\u001b[0m\u001b[0m\n\u001b[0;32m--> 314\u001b[0;31m         \u001b[0mraise_err_msg\u001b[0m\u001b[0;34m(\u001b[0m\u001b[0;34m[\u001b[0m\u001b[0;34m\"seek\"\u001b[0m\u001b[0;34m,\u001b[0m \u001b[0;34m\"tell\"\u001b[0m\u001b[0;34m]\u001b[0m\u001b[0;34m,\u001b[0m \u001b[0me\u001b[0m\u001b[0;34m)\u001b[0m\u001b[0;34m\u001b[0m\u001b[0;34m\u001b[0m\u001b[0m\n\u001b[0m\u001b[1;32m    315\u001b[0m \u001b[0;34m\u001b[0m\u001b[0m\n",
            "\u001b[0;32m/usr/local/lib/python3.6/dist-packages/torch/serialization.py\u001b[0m in \u001b[0;36mraise_err_msg\u001b[0;34m(patterns, e)\u001b[0m\n\u001b[1;32m    306\u001b[0m                                 + \" try to load from it instead.\")\n\u001b[0;32m--> 307\u001b[0;31m                 \u001b[0;32mraise\u001b[0m \u001b[0mtype\u001b[0m\u001b[0;34m(\u001b[0m\u001b[0me\u001b[0m\u001b[0;34m)\u001b[0m\u001b[0;34m(\u001b[0m\u001b[0mmsg\u001b[0m\u001b[0;34m)\u001b[0m\u001b[0;34m\u001b[0m\u001b[0;34m\u001b[0m\u001b[0m\n\u001b[0m\u001b[1;32m    308\u001b[0m         \u001b[0;32mraise\u001b[0m \u001b[0me\u001b[0m\u001b[0;34m\u001b[0m\u001b[0;34m\u001b[0m\u001b[0m\n",
            "\u001b[0;31mAttributeError\u001b[0m: 'NoneType' object has no attribute 'seek'. You can only torch.load from a file that is seekable. Please pre-load the data into a buffer like io.BytesIO and try to load from it instead.",
            "\nDuring handling of the above exception, another exception occurred:\n",
            "\u001b[0;31mOSError\u001b[0m                                   Traceback (most recent call last)",
            "\u001b[0;32m<ipython-input-46-df0e1e3982bd>\u001b[0m in \u001b[0;36m<module>\u001b[0;34m()\u001b[0m\n\u001b[1;32m     17\u001b[0m \u001b[0;34m\u001b[0m\u001b[0m\n\u001b[1;32m     18\u001b[0m   \u001b[0;31m# Create a NERModel\u001b[0m\u001b[0;34m\u001b[0m\u001b[0;34m\u001b[0m\u001b[0;34m\u001b[0m\u001b[0m\n\u001b[0;32m---> 19\u001b[0;31m   \u001b[0mmodel\u001b[0m \u001b[0;34m=\u001b[0m \u001b[0mNERModel\u001b[0m\u001b[0;34m(\u001b[0m\u001b[0;34m\"camembert\"\u001b[0m\u001b[0;34m,\u001b[0m \u001b[0ml_camembert\u001b[0m\u001b[0;34m[\u001b[0m\u001b[0mi\u001b[0m\u001b[0;34m]\u001b[0m\u001b[0;34m,\u001b[0m \u001b[0margs\u001b[0m\u001b[0;34m=\u001b[0m\u001b[0;34m{\u001b[0m\u001b[0;34m'overwrite_output_dir'\u001b[0m\u001b[0;34m:\u001b[0m \u001b[0;32mTrue\u001b[0m\u001b[0;34m,\u001b[0m \u001b[0;34m'reprocess_input_data'\u001b[0m\u001b[0;34m:\u001b[0m \u001b[0;32mTrue\u001b[0m\u001b[0;34m}\u001b[0m\u001b[0;34m,\u001b[0m \u001b[0mlabels\u001b[0m\u001b[0;34m=\u001b[0m\u001b[0mtags\u001b[0m\u001b[0;34m)\u001b[0m\u001b[0;34m\u001b[0m\u001b[0;34m\u001b[0m\u001b[0m\n\u001b[0m\u001b[1;32m     20\u001b[0m \u001b[0;34m\u001b[0m\u001b[0m\n\u001b[1;32m     21\u001b[0m   \u001b[0;31m# Train the model\u001b[0m\u001b[0;34m\u001b[0m\u001b[0;34m\u001b[0m\u001b[0;34m\u001b[0m\u001b[0m\n",
            "\u001b[0;32m/usr/local/lib/python3.6/dist-packages/simpletransformers/ner/ner_model.py\u001b[0m in \u001b[0;36m__init__\u001b[0;34m(self, model_type, model_name, labels, args, use_cuda, cuda_device, **kwargs)\u001b[0m\n\u001b[1;32m    139\u001b[0m             \u001b[0mself\u001b[0m\u001b[0;34m.\u001b[0m\u001b[0mnum_labels\u001b[0m \u001b[0;34m=\u001b[0m \u001b[0mself\u001b[0m\u001b[0;34m.\u001b[0m\u001b[0mconfig\u001b[0m\u001b[0;34m.\u001b[0m\u001b[0mnum_labels\u001b[0m\u001b[0;34m\u001b[0m\u001b[0;34m\u001b[0m\u001b[0m\n\u001b[1;32m    140\u001b[0m \u001b[0;34m\u001b[0m\u001b[0m\n\u001b[0;32m--> 141\u001b[0;31m         \u001b[0mself\u001b[0m\u001b[0;34m.\u001b[0m\u001b[0mmodel\u001b[0m \u001b[0;34m=\u001b[0m \u001b[0mmodel_class\u001b[0m\u001b[0;34m.\u001b[0m\u001b[0mfrom_pretrained\u001b[0m\u001b[0;34m(\u001b[0m\u001b[0mmodel_name\u001b[0m\u001b[0;34m,\u001b[0m \u001b[0mconfig\u001b[0m\u001b[0;34m=\u001b[0m\u001b[0mself\u001b[0m\u001b[0;34m.\u001b[0m\u001b[0mconfig\u001b[0m\u001b[0;34m,\u001b[0m \u001b[0;34m**\u001b[0m\u001b[0mkwargs\u001b[0m\u001b[0;34m)\u001b[0m\u001b[0;34m\u001b[0m\u001b[0;34m\u001b[0m\u001b[0m\n\u001b[0m\u001b[1;32m    142\u001b[0m \u001b[0;34m\u001b[0m\u001b[0m\n\u001b[1;32m    143\u001b[0m         \u001b[0;32mif\u001b[0m \u001b[0muse_cuda\u001b[0m\u001b[0;34m:\u001b[0m\u001b[0;34m\u001b[0m\u001b[0;34m\u001b[0m\u001b[0m\n",
            "\u001b[0;32m/usr/local/lib/python3.6/dist-packages/transformers/modeling_utils.py\u001b[0m in \u001b[0;36mfrom_pretrained\u001b[0;34m(cls, pretrained_model_name_or_path, *model_args, **kwargs)\u001b[0m\n\u001b[1;32m    627\u001b[0m             \u001b[0;32mexcept\u001b[0m \u001b[0mException\u001b[0m\u001b[0;34m:\u001b[0m\u001b[0;34m\u001b[0m\u001b[0;34m\u001b[0m\u001b[0m\n\u001b[1;32m    628\u001b[0m                 raise OSError(\n\u001b[0;32m--> 629\u001b[0;31m                     \u001b[0;34m\"Unable to load weights from pytorch checkpoint file. \"\u001b[0m\u001b[0;34m\u001b[0m\u001b[0;34m\u001b[0m\u001b[0m\n\u001b[0m\u001b[1;32m    630\u001b[0m                     \u001b[0;34m\"If you tried to load a PyTorch model from a TF 2.0 checkpoint, please set from_tf=True. \"\u001b[0m\u001b[0;34m\u001b[0m\u001b[0;34m\u001b[0m\u001b[0m\n\u001b[1;32m    631\u001b[0m                 )\n",
            "\u001b[0;31mOSError\u001b[0m: Unable to load weights from pytorch checkpoint file. If you tried to load a PyTorch model from a TF 2.0 checkpoint, please set from_tf=True. "
          ]
        }
      ]
    },
    {
      "cell_type": "code",
      "metadata": {
        "id": "wcr4vXucQMiV",
        "colab_type": "code",
        "colab": {}
      },
      "source": [
        ""
      ],
      "execution_count": 0,
      "outputs": []
    }
  ]
}