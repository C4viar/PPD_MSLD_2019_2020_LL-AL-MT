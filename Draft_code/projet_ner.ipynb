{
  "nbformat": 4,
  "nbformat_minor": 0,
  "metadata": {
    "colab": {
      "name": "QueenB.ipynb",
      "provenance": [],
      "collapsed_sections": [],
      "toc_visible": true,
      "include_colab_link": true
    },
    "kernelspec": {
      "name": "python3",
      "display_name": "Python 3"
    },
    "accelerator": "GPU"
  },
  "cells": [
    {
      "cell_type": "markdown",
      "metadata": {
        "id": "view-in-github",
        "colab_type": "text"
      },
      "source": [
        "<a href=\"https://colab.research.google.com/github/C4viar/PPD_MSLD_2019_2020_LL-AL-MT/blob/master/Draft_code/projet_ner.ipynb\" target=\"_parent\"><img src=\"https://colab.research.google.com/assets/colab-badge.svg\" alt=\"Open In Colab\"/></a>"
      ]
    },
    {
      "cell_type": "markdown",
      "metadata": {
        "id": "4c6mCMi8i2KP",
        "colab_type": "text"
      },
      "source": [
        "# Montage du drive"
      ]
    },
    {
      "cell_type": "code",
      "metadata": {
        "id": "NvqOJpLPiz3y",
        "colab_type": "code",
        "outputId": "77ddc216-2b95-4518-a788-5900222e58e4",
        "colab": {
          "base_uri": "https://localhost:8080/",
          "height": 34
        }
      },
      "source": [
        "# Montage du drive\n",
        "\n",
        "from google.colab import drive\n",
        "drive.mount('/content/drive/',force_remount=True)"
      ],
      "execution_count": 1,
      "outputs": [
        {
          "output_type": "stream",
          "text": [
            "Mounted at /content/drive/\n"
          ],
          "name": "stdout"
        }
      ]
    },
    {
      "cell_type": "markdown",
      "metadata": {
        "id": "l_LtJ_xIE0fP",
        "colab_type": "text"
      },
      "source": [
        "# Installation matplotlib\n"
      ]
    },
    {
      "cell_type": "code",
      "metadata": {
        "id": "MTsv-n-fEy0E",
        "colab_type": "code",
        "colab": {}
      },
      "source": [
        "pip install matplotlib"
      ],
      "execution_count": 0,
      "outputs": []
    },
    {
      "cell_type": "markdown",
      "metadata": {
        "id": "ZRR2FKEa2hqj",
        "colab_type": "text"
      },
      "source": [
        "# Contexte\n"
      ]
    },
    {
      "cell_type": "markdown",
      "metadata": {
        "id": "bzDHUpGfZOdd",
        "colab_type": "text"
      },
      "source": [
        "Des modèles de langage du français ont tout récemment été publiés (CamemBERT, FlauBERT C’est positif car même des outils avancés comme Spacy sont notoirement encore peu adaptés à traiter certaines langues dont le français. Il reste à évaluer ce que ces modèles peuvent vraiment apporter notamment ne ce qui concerne la reconnaissances d’entités nommées.\n"
      ]
    },
    {
      "cell_type": "markdown",
      "metadata": {
        "id": "v5b86Ce1fOgG",
        "colab_type": "text"
      },
      "source": [
        "# Travail a réaliser"
      ]
    },
    {
      "cell_type": "markdown",
      "metadata": {
        "id": "9VfEZAGjfTTc",
        "colab_type": "text"
      },
      "source": [
        "Réaliser des expériences de reconnaissance d’entités nommées sur le jeu de donneés Europeana Newspapers French en utilisant tous les modèles disponibles pour cela dans la bibliothèque Simple Transformers. Les adresses à consulter sont :\n",
        "* https://github.com/ThilinaRajapakse/simpletransformers\n",
        "* http://api.bnf.fr/europeana-newspapers-french-ner-ground-truth"
      ]
    },
    {
      "cell_type": "markdown",
      "metadata": {
        "id": "89q49GkAguBh",
        "colab_type": "text"
      },
      "source": [
        "# Rendu\n",
        "\n",
        "Un code clair et commenté dans un notebook.\n",
        "Un rapport décrivant les méthodes/métriques d’évaluation (basées sur seqeval dont une description détaillée sera donnée) et présentant/comparant/discutant les résultats obtenus.\n"
      ]
    },
    {
      "cell_type": "markdown",
      "metadata": {
        "id": "aOt0BNmvgZ2-",
        "colab_type": "text"
      },
      "source": [
        "# Seqeval \n",
        "\n",
        "https://pypi.org/project/seqeval/\n",
        "\n",
        "\"seqeval is a Python framework for sequence labeling evaluation. seqeval can evaluate the performance of chunking tasks such as named-entity recognition, part-of-speech tagging, semantic role labeling and so on.\""
      ]
    },
    {
      "cell_type": "markdown",
      "metadata": {
        "id": "s9TjSfEKXUm9",
        "colab_type": "text"
      },
      "source": [
        "# Installation simple transformers, wandb"
      ]
    },
    {
      "cell_type": "code",
      "metadata": {
        "id": "YAu81V8eXeFK",
        "colab_type": "code",
        "colab": {}
      },
      "source": [
        "pip install simpletransformers"
      ],
      "execution_count": 0,
      "outputs": []
    },
    {
      "cell_type": "code",
      "metadata": {
        "id": "Q5-MYnHYg51r",
        "colab_type": "code",
        "colab": {}
      },
      "source": [
        "pip install wandb"
      ],
      "execution_count": 0,
      "outputs": []
    },
    {
      "cell_type": "markdown",
      "metadata": {
        "id": "EvuQROz_jN4h",
        "colab_type": "text"
      },
      "source": [
        "# Installation APEX"
      ]
    },
    {
      "cell_type": "code",
      "metadata": {
        "id": "f8iRvZWKjRdv",
        "colab_type": "code",
        "colab": {
          "base_uri": "https://localhost:8080/",
          "height": 34
        },
        "outputId": "0cd02318-34a4-4737-fb6f-cf9857da6eef"
      },
      "source": [
        "! git clone https://github.com/NVIDIA/apex"
      ],
      "execution_count": 4,
      "outputs": [
        {
          "output_type": "stream",
          "text": [
            "fatal: destination path 'apex' already exists and is not an empty directory.\n"
          ],
          "name": "stdout"
        }
      ]
    },
    {
      "cell_type": "code",
      "metadata": {
        "id": "G8begNZvjROY",
        "colab_type": "code",
        "colab": {
          "base_uri": "https://localhost:8080/",
          "height": 34
        },
        "outputId": "4d6f143e-95f3-4488-f765-db3de4630606"
      },
      "source": [
        "cd apex"
      ],
      "execution_count": 5,
      "outputs": [
        {
          "output_type": "stream",
          "text": [
            "/content/apex\n"
          ],
          "name": "stdout"
        }
      ]
    },
    {
      "cell_type": "code",
      "metadata": {
        "id": "QT3ujyyuepb-",
        "colab_type": "code",
        "colab": {}
      },
      "source": [
        "pip install -v --no-cache-dir --global-option=\"--cpp_ext\" --global-option=\"--cuda_ext\" ./"
      ],
      "execution_count": 0,
      "outputs": []
    },
    {
      "cell_type": "markdown",
      "metadata": {
        "id": "8HjW0OX8tqO9",
        "colab_type": "text"
      },
      "source": [
        "# NER \n",
        "https://simpletransformers.ai/docs/ner-specifics/\n",
        "\n",
        "\"The goal of Named Entity Recognition is to locate and classify named entities in a sequence. The named entities are pre-defined categories chosen according to the use case such as names of people, organizations, places, codes, time notations, monetary values, etc. Essentially, NER aims to assign a class to each token (usually a single word) in a sequence. Because of this, NER is also referred to as token classification.\"\n",
        "\n",
        "**Fonctionnement avec Simple Transformer**\n",
        "\n",
        "* Initialize a NERModel\n",
        "* Train the model with train_model()\n",
        "* Evaluate the model with eval_model()\n",
        "* Make predictions on (unlabelled) data with predict()\n",
        "\n",
        "**Modèles disponibles à fournir à model_type** : https://huggingface.co/models\n",
        "\n",
        "* BERT :\t*bert*\n",
        "* CamemBERT :\t*camembert*\n",
        "* RoBERTa :\t*roberta*\n",
        "* DistilBERT :\t*distilbert*\n",
        "* ELECTRA\t: *electra*\n",
        "* XLM-RoBERTa\t: *xlmroberta*"
      ]
    },
    {
      "cell_type": "markdown",
      "metadata": {
        "id": "q4J6-WU_zIRw",
        "colab_type": "text"
      },
      "source": [
        "# Test de l'ensemble des différents types de modèles"
      ]
    },
    {
      "cell_type": "code",
      "metadata": {
        "id": "Mn_CcPDQoErA",
        "colab_type": "code",
        "colab": {
          "base_uri": "https://localhost:8080/",
          "height": 34
        },
        "outputId": "a9e4f65f-e60b-49f1-af54-fd0a3802d275"
      },
      "source": [
        "import pandas as pd \n",
        "import numpy as np\n",
        "import os\n",
        "from pandas.io.parsers import ParserError\n",
        "import random\n",
        "from simpletransformers.ner import NERModel\n",
        "import logging\n",
        "from sklearn.model_selection import train_test_split\n",
        "import pickle\n",
        "import plotly.express as px"
      ],
      "execution_count": 7,
      "outputs": [
        {
          "output_type": "stream",
          "text": [
            "\u001b[34m\u001b[1mwandb\u001b[0m: \u001b[33mWARNING\u001b[0m W&B installed but not logged in.  Run `wandb login` or set the WANDB_API_KEY env variable.\n"
          ],
          "name": "stderr"
        }
      ]
    },
    {
      "cell_type": "code",
      "metadata": {
        "id": "gbhrdPcoUD57",
        "colab_type": "code",
        "outputId": "e5101453-4873-41b5-e837-487f5c7c2724",
        "colab": {
          "base_uri": "https://localhost:8080/",
          "height": 34
        }
      },
      "source": [
        "pwd"
      ],
      "execution_count": 8,
      "outputs": [
        {
          "output_type": "execute_result",
          "data": {
            "text/plain": [
              "'/content/apex'"
            ]
          },
          "metadata": {
            "tags": []
          },
          "execution_count": 8
        }
      ]
    },
    {
      "cell_type": "code",
      "metadata": {
        "id": "qCeImHN04w5n",
        "colab_type": "code",
        "outputId": "6da33fcc-3816-4966-d328-f39ae338ee1e",
        "colab": {
          "base_uri": "https://localhost:8080/",
          "height": 34
        }
      },
      "source": [
        "cd ./.."
      ],
      "execution_count": 9,
      "outputs": [
        {
          "output_type": "stream",
          "text": [
            "/content\n"
          ],
          "name": "stdout"
        }
      ]
    },
    {
      "cell_type": "code",
      "metadata": {
        "id": "35v8vYmWdRtr",
        "colab_type": "code",
        "colab": {}
      },
      "source": [
        "#cd drive/My Drive/MLDS/PPD-NER"
      ],
      "execution_count": 0,
      "outputs": []
    },
    {
      "cell_type": "code",
      "metadata": {
        "id": "PLpl0eA6UPPd",
        "colab_type": "code",
        "outputId": "e71ff392-f9d7-4614-e539-5b2f21cf3d9e",
        "colab": {
          "base_uri": "https://localhost:8080/",
          "height": 34
        }
      },
      "source": [
        "cd drive/My Drive/PPD-NER"
      ],
      "execution_count": 11,
      "outputs": [
        {
          "output_type": "stream",
          "text": [
            "/content/drive/My Drive/PPD-NER\n"
          ],
          "name": "stdout"
        }
      ]
    },
    {
      "cell_type": "markdown",
      "metadata": {
        "id": "4O9DiLdHUsuZ",
        "colab_type": "text"
      },
      "source": [
        "## Création du dataframe à partir des fichiers du jeu de données"
      ]
    },
    {
      "cell_type": "code",
      "metadata": {
        "id": "xPDlLGuMdiEV",
        "colab_type": "code",
        "colab": {}
      },
      "source": [
        "# reading dataframe\n",
        "# don't run other cells of this subpart to gain time\n",
        "\n",
        "df = pd.read_csv(\"./out/df.csv\", sep = \"\\t\" )"
      ],
      "execution_count": 0,
      "outputs": []
    },
    {
      "cell_type": "code",
      "metadata": {
        "id": "vn9oxOF2rAH7",
        "colab_type": "code",
        "colab": {}
      },
      "source": [
        "files = os.listdir(\"./data\") # liste des fichiers du jeu de données"
      ],
      "execution_count": 0,
      "outputs": []
    },
    {
      "cell_type": "code",
      "metadata": {
        "id": "HLva41EnsW4s",
        "colab_type": "code",
        "colab": {}
      },
      "source": [
        "# On lit les fichiers et on les met dans le même dataframe\n",
        "# S'il y a une erreur de séparateur, alors l'exception ParserError est levée\n",
        "\n",
        "l_bug = [] # Cette liste contiendra les dataframes ayant rencontrés l'exception ParserError\n",
        "l_ok = [] # Cette liste contiendra les dataframes n'ayant pas rencontrés l'exception ParserError\n",
        "df = pd.DataFrame() \n",
        "\n",
        "for i in files :\n",
        "  try:\n",
        "    # quoting = 3 pour éviter l'exception ParserError\n",
        "    # certaine lignes ont pour mot : '\"' ce qui pose problème car pandas les reconnait comme quote et non comme un caractère\n",
        "    df = df.append(pd.read_csv(\"./data/\"+i, sep = \"\\t\", quoting = 3, header = None)) \n",
        "    l_ok.append(i)\n",
        "  except ParserError as err :\n",
        "    l_bug.append(i)"
      ],
      "execution_count": 0,
      "outputs": []
    },
    {
      "cell_type": "markdown",
      "metadata": {
        "id": "8YkmottXWqLe",
        "colab_type": "text"
      },
      "source": [
        "La cellule suivantes permet de connaitre la shape de l'ensemble des fichiers.\n",
        "On observe que les 212 fichiers ont pour dimension : (1000, 2)"
      ]
    },
    {
      "cell_type": "code",
      "metadata": {
        "id": "m052UXhYo7Sc",
        "colab_type": "code",
        "colab": {}
      },
      "source": [
        "shape_df = pd.DataFrame(columns = [\"file\", \"rows\", \"cols\"])\n",
        "\n",
        "for i in files : \n",
        "  tmp = pd.read_csv(\"./data/\"+i, sep = \"\\t\", quoting = 3, header = None) # lecture du fichier\n",
        "  rows = tmp.shape[0] # nombre de lignes\n",
        "  cols = tmp.shape[1] # nombre de colonnes\n",
        "  dict_tmp = {\n",
        "      \"file\" : i ,\n",
        "      \"rows\" : rows,\n",
        "      \"cols\" : cols\n",
        "  }\n",
        "  shape_df = shape_df.append(dict_tmp, ignore_index=True)"
      ],
      "execution_count": 0,
      "outputs": []
    },
    {
      "cell_type": "code",
      "metadata": {
        "id": "le33E2-q31tY",
        "colab_type": "code",
        "outputId": "c7130f42-1109-47e0-d9f2-331a8bd0a232",
        "colab": {
          "base_uri": "https://localhost:8080/",
          "height": 34
        }
      },
      "source": [
        "(shape_df[\"rows\"]==1000).sum() # tous les fichiers ont la même dimension"
      ],
      "execution_count": 0,
      "outputs": [
        {
          "output_type": "execute_result",
          "data": {
            "text/plain": [
              "212"
            ]
          },
          "metadata": {
            "tags": []
          },
          "execution_count": 29
        }
      ]
    },
    {
      "cell_type": "markdown",
      "metadata": {
        "id": "2LCa1S_nY9Fu",
        "colab_type": "text"
      },
      "source": [
        "La librairie simpletransformer nous impose d'avoir 3 colonnes nommées : \"sentence_id\", \"words\", \"labels\"\n",
        "\n",
        "**Sentence_id** correspond au numéro de la phrase à laquelle un mot appartient. Cette information n'étant pas présente dans le jeu de données, il est nécessaire de construire cette variable nous-même."
      ]
    },
    {
      "cell_type": "code",
      "metadata": {
        "id": "xD_1CUlH4s_M",
        "colab_type": "code",
        "colab": {}
      },
      "source": [
        "df.columns = [\"words\", \"labels\"]  # on renomme les deux colonnes disponibles"
      ],
      "execution_count": 0,
      "outputs": []
    },
    {
      "cell_type": "code",
      "metadata": {
        "id": "QS0Zb3bP50zk",
        "colab_type": "code",
        "colab": {}
      },
      "source": [
        "df = df.reset_index(drop = True ) # on re-index correctement"
      ],
      "execution_count": 0,
      "outputs": []
    },
    {
      "cell_type": "code",
      "metadata": {
        "id": "gCtD5ULWqHog",
        "colab_type": "code",
        "colab": {}
      },
      "source": [
        "# Pour définir le commencement d'une nouvelle phrase on considère que l'apparition d'un des séparateurs suivants\n",
        "# \".\" ou \"?\" ou \"!\" signale un changement de phrase\n",
        "j = 0\n",
        "df[\"sentence_id\"] = \"\"\n",
        "for i in range(df.shape[0]):\n",
        "  if (df.loc[i, \"words\"] in ([\".\", \"!\", \"?\"])):\n",
        "    df.loc[i, \"sentence_id\"] = j\n",
        "    j = j+1\n",
        "  else :\n",
        "    df.loc[i, \"sentence_id\"] = j"
      ],
      "execution_count": 0,
      "outputs": []
    },
    {
      "cell_type": "code",
      "metadata": {
        "id": "ziRkj0nu5vq-",
        "colab_type": "code",
        "outputId": "eac6d62f-4570-48a5-b04b-0a43fd7e6843",
        "colab": {
          "base_uri": "https://localhost:8080/",
          "height": 406
        }
      },
      "source": [
        "df"
      ],
      "execution_count": 0,
      "outputs": [
        {
          "output_type": "execute_result",
          "data": {
            "text/html": [
              "<div>\n",
              "<style scoped>\n",
              "    .dataframe tbody tr th:only-of-type {\n",
              "        vertical-align: middle;\n",
              "    }\n",
              "\n",
              "    .dataframe tbody tr th {\n",
              "        vertical-align: top;\n",
              "    }\n",
              "\n",
              "    .dataframe thead th {\n",
              "        text-align: right;\n",
              "    }\n",
              "</style>\n",
              "<table border=\"1\" class=\"dataframe\">\n",
              "  <thead>\n",
              "    <tr style=\"text-align: right;\">\n",
              "      <th></th>\n",
              "      <th>words</th>\n",
              "      <th>labels</th>\n",
              "      <th>sentence_id</th>\n",
              "    </tr>\n",
              "  </thead>\n",
              "  <tbody>\n",
              "    <tr>\n",
              "      <th>0</th>\n",
              "      <td>:</td>\n",
              "      <td>O</td>\n",
              "      <td>0</td>\n",
              "    </tr>\n",
              "    <tr>\n",
              "      <th>1</th>\n",
              "      <td>:</td>\n",
              "      <td>O</td>\n",
              "      <td>0</td>\n",
              "    </tr>\n",
              "    <tr>\n",
              "      <th>2</th>\n",
              "      <td>:</td>\n",
              "      <td>O</td>\n",
              "      <td>0</td>\n",
              "    </tr>\n",
              "    <tr>\n",
              "      <th>3</th>\n",
              "      <td>:</td>\n",
              "      <td>O</td>\n",
              "      <td>0</td>\n",
              "    </tr>\n",
              "    <tr>\n",
              "      <th>4</th>\n",
              "      <td>:</td>\n",
              "      <td>O</td>\n",
              "      <td>0</td>\n",
              "    </tr>\n",
              "    <tr>\n",
              "      <th>...</th>\n",
              "      <td>...</td>\n",
              "      <td>...</td>\n",
              "      <td>...</td>\n",
              "    </tr>\n",
              "    <tr>\n",
              "      <th>211995</th>\n",
              "      <td>l'</td>\n",
              "      <td>O</td>\n",
              "      <td>12867</td>\n",
              "    </tr>\n",
              "    <tr>\n",
              "      <th>211996</th>\n",
              "      <td>orateur</td>\n",
              "      <td>O</td>\n",
              "      <td>12867</td>\n",
              "    </tr>\n",
              "    <tr>\n",
              "      <th>211997</th>\n",
              "      <td>dont</td>\n",
              "      <td>O</td>\n",
              "      <td>12867</td>\n",
              "    </tr>\n",
              "    <tr>\n",
              "      <th>211998</th>\n",
              "      <td>le</td>\n",
              "      <td>O</td>\n",
              "      <td>12867</td>\n",
              "    </tr>\n",
              "    <tr>\n",
              "      <th>211999</th>\n",
              "      <td>discours</td>\n",
              "      <td>O</td>\n",
              "      <td>12867</td>\n",
              "    </tr>\n",
              "  </tbody>\n",
              "</table>\n",
              "<p>212000 rows × 3 columns</p>\n",
              "</div>"
            ],
            "text/plain": [
              "           words labels sentence_id\n",
              "0              :      O           0\n",
              "1              :      O           0\n",
              "2              :      O           0\n",
              "3              :      O           0\n",
              "4              :      O           0\n",
              "...          ...    ...         ...\n",
              "211995        l'      O       12867\n",
              "211996   orateur      O       12867\n",
              "211997      dont      O       12867\n",
              "211998        le      O       12867\n",
              "211999  discours      O       12867\n",
              "\n",
              "[212000 rows x 3 columns]"
            ]
          },
          "metadata": {
            "tags": []
          },
          "execution_count": 57
        }
      ]
    },
    {
      "cell_type": "code",
      "metadata": {
        "id": "bWMRboaM-EP3",
        "colab_type": "code",
        "colab": {}
      },
      "source": [
        "df = df[[\"sentence_id\", \"words\", \"labels\"]] # réorganisation des colonnes"
      ],
      "execution_count": 0,
      "outputs": []
    },
    {
      "cell_type": "code",
      "metadata": {
        "id": "er31Psip-nsc",
        "colab_type": "code",
        "colab": {}
      },
      "source": [
        "df.to_csv(\"./out/df.csv\", index = False, sep = \"\\t\" ) # export du dataframe"
      ],
      "execution_count": 0,
      "outputs": []
    },
    {
      "cell_type": "markdown",
      "metadata": {
        "id": "g4cmlGsxn5qV",
        "colab_type": "text"
      },
      "source": [
        "## Analyses descriptives du dataset"
      ]
    },
    {
      "cell_type": "code",
      "metadata": {
        "id": "VB-CBYH1_0e9",
        "colab_type": "code",
        "colab": {}
      },
      "source": [
        "import matplotlib.pyplot as plt"
      ],
      "execution_count": 0,
      "outputs": []
    },
    {
      "cell_type": "code",
      "metadata": {
        "id": "qqC-TjuW_eEv",
        "colab_type": "code",
        "colab": {
          "base_uri": "https://localhost:8080/",
          "height": 463
        },
        "outputId": "8058e4e7-58dd-4a37-9e98-9c6fa94582f9"
      },
      "source": [
        "labels=df[\"labels\"].value_counts().index\n",
        "fig1, ax1 = plt.subplots(figsize=(8, 6))\n",
        "fig1.subplots_adjust(0.3,0,1,1)\n",
        "ax1.pie(df[\"labels\"].value_counts().values, autopct='%1.1f%%')\n",
        "ax1.axis('equal')\n",
        "plt.legend(loc='best',\n",
        "           prop={'size': 11},\n",
        "           labels = labels\n",
        "           )\n",
        "fig1 = plt.gcf()\n",
        "plt.show()\n",
        "plt.show()"
      ],
      "execution_count": 65,
      "outputs": [
        {
          "output_type": "display_data",
          "data": {
            "image/png": "[encoded data removed]",
            "text/plain": [
              "<Figure size 576x432 with 1 Axes>"
            ]
          },
          "metadata": {
            "tags": []
          }
        }
      ]
    },
    {
      "cell_type": "code",
      "metadata": {
        "id": "yN1biWWuBiHE",
        "colab_type": "code",
        "colab": {}
      },
      "source": [
        "# Create rep images if necessary\n",
        "# Export fig as a png file\n",
        "\n",
        "if not os.path.exists(\"./images\"):\n",
        "    os.mkdir(\"./images\")\n",
        "fig1.savefig(\"./images/repartition.png\")"
      ],
      "execution_count": 0,
      "outputs": []
    },
    {
      "cell_type": "markdown",
      "metadata": {
        "id": "pNyOIECUaVud",
        "colab_type": "text"
      },
      "source": [
        "## Test des différents type de modèles diponibles\n",
        "\n",
        "- BERT : bert\n",
        "- CamemBERT : camembert\n",
        "- RoBERTa : roberta\n",
        "- DistilBERT : distilbert\n",
        "- ELECTRA : electra\n",
        "- XLM-RoBERTa : xlmroberta"
      ]
    },
    {
      "cell_type": "code",
      "metadata": {
        "id": "WdJOkzpw7Rzt",
        "colab_type": "code",
        "colab": {}
      },
      "source": [
        "# Notre jeu d'entrainement sera constitué d'environ 80 pourcent des sentence_id unique (+- 10293) et 20 pourcent pour le test\n",
        "\n",
        "randomlist = []\n",
        "for i in range(0,10293):\n",
        "  n = random.randint(0, df[\"sentence_id\"].nunique())\n",
        "  randomlist.append(n)\n"
      ],
      "execution_count": 0,
      "outputs": []
    },
    {
      "cell_type": "code",
      "metadata": {
        "id": "BWhqc4uK-WwM",
        "colab_type": "code",
        "colab": {}
      },
      "source": [
        "# Liste des étiquettes possibles à fournir au modèles\n",
        "\n",
        "tags = df[\"labels\"].unique().tolist()"
      ],
      "execution_count": 0,
      "outputs": []
    },
    {
      "cell_type": "code",
      "metadata": {
        "id": "clvMK6jKEJUM",
        "colab_type": "code",
        "colab": {}
      },
      "source": [
        "# Conversion en String pour éviter des erreurs lors de la compilation\n",
        "\n",
        "df[\"words\"] = df[\"words\"].astype(str)\n",
        "df[\"labels\"] = df[\"labels\"].astype(str)"
      ],
      "execution_count": 0,
      "outputs": []
    },
    {
      "cell_type": "markdown",
      "metadata": {
        "id": "WgyBBjwmbaSm",
        "colab_type": "text"
      },
      "source": [
        "### Modèles\n",
        "\n",
        "Les résultats des modèles seront écrit dans le dataframe results.\n",
        "Il sera composé des loss, f1_score, precision et recall pour chaque modèle"
      ]
    },
    {
      "cell_type": "code",
      "metadata": {
        "id": "yhmxuasV6ggV",
        "colab_type": "code",
        "colab": {}
      },
      "source": [
        "results = pd.DataFrame(columns = ['eval_loss','f1_score','precision','recall', \"type_algo\", \"algo\"]) # création du dataframe results\n",
        "\n",
        "l_algotype = [ \"bert\" , \"camembert\" , \"roberta\" , \"distilbert\" , \"electra\" , \"xlmroberta\"] #type de modèles\n",
        "l_algo = [ \"bert-base-cased\" , \"camembert-base\" , \"roberta-base\" ,\n",
        "          \"distilbert-base-cased\" , \"google/electra-base-discriminator\" , \"xlm-roberta-base\"] # modèles \n",
        "\n",
        "# Création de train_df et test_df\n",
        "# 20 pourcent des sentences_id\n",
        "\n",
        "train_df = df[df[\"sentence_id\"].isin(randomlist)] # 80 pourcent des sentences_id\n",
        "eval_df = df[~df[\"sentence_id\"].isin(randomlist)] \n",
        "\n",
        "# configuration du logger pour les info et les avertissements\n",
        "logging.basicConfig(level=logging.INFO)\n",
        "transformers_logger = logging.getLogger(\"transformers\")\n",
        "transformers_logger.setLevel(logging.WARNING)\n",
        "\n",
        "for i in range (len(l_algotype)) : \n",
        "\n",
        "  print(\"###################\\t\", l_algotype[i] , \" -- \", l_algo[i] ,\"\\t###################\")\n",
        "\n",
        "  # Création du modèles NER\n",
        "  model = NERModel(l_algotype[i], l_algo[i], args={'overwrite_output_dir': True, 'reprocess_input_data': True}, labels=tags)\n",
        "\n",
        "  # Entrainement\n",
        "  model.train_model(train_df)\n",
        "\n",
        "  # Evaluation\n",
        "  result, model_outputs, predictions = model.eval_model(eval_df)\n",
        "\n",
        "  # Ajout du type de moèdle et du modèle tester aux résultats\n",
        "  result[\"type_algo\"] = l_algotype[i]\n",
        "  result[\"algo\"] = l_algo[i]\n",
        "\n",
        "  # on créer une ligne contenant les résultats\n",
        "  results = results.append(result, ignore_index = True)\n",
        "  \n",
        "#  file_model = open(r'./out/'+l_algo[i]+'.obj', 'wb')\n",
        "#  # export du modèle \n",
        "#  pickle.dump(model.model, file_model)\n"
      ],
      "execution_count": 0,
      "outputs": []
    },
    {
      "cell_type": "code",
      "metadata": {
        "id": "SIDgq2SK6-RQ",
        "colab_type": "code",
        "outputId": "f4e9fff9-e6c9-4a84-ea8f-75a163e782d7",
        "colab": {
          "base_uri": "https://localhost:8080/",
          "height": 233
        }
      },
      "source": [
        "results"
      ],
      "execution_count": 0,
      "outputs": [
        {
          "output_type": "execute_result",
          "data": {
            "text/html": [
              "<div>\n",
              "<style scoped>\n",
              "    .dataframe tbody tr th:only-of-type {\n",
              "        vertical-align: middle;\n",
              "    }\n",
              "\n",
              "    .dataframe tbody tr th {\n",
              "        vertical-align: top;\n",
              "    }\n",
              "\n",
              "    .dataframe thead th {\n",
              "        text-align: right;\n",
              "    }\n",
              "</style>\n",
              "<table border=\"1\" class=\"dataframe\">\n",
              "  <thead>\n",
              "    <tr style=\"text-align: right;\">\n",
              "      <th></th>\n",
              "      <th>eval_loss</th>\n",
              "      <th>f1_score</th>\n",
              "      <th>precision</th>\n",
              "      <th>recall</th>\n",
              "      <th>type_algo</th>\n",
              "      <th>algo</th>\n",
              "    </tr>\n",
              "  </thead>\n",
              "  <tbody>\n",
              "    <tr>\n",
              "      <th>0</th>\n",
              "      <td>0.203051</td>\n",
              "      <td>0.666814</td>\n",
              "      <td>0.666005</td>\n",
              "      <td>0.667624</td>\n",
              "      <td>bert</td>\n",
              "      <td>bert-base-cased</td>\n",
              "    </tr>\n",
              "    <tr>\n",
              "      <th>1</th>\n",
              "      <td>0.197175</td>\n",
              "      <td>0.721976</td>\n",
              "      <td>0.728431</td>\n",
              "      <td>0.715635</td>\n",
              "      <td>camembert</td>\n",
              "      <td>camembert-base</td>\n",
              "    </tr>\n",
              "    <tr>\n",
              "      <th>2</th>\n",
              "      <td>0.229536</td>\n",
              "      <td>0.602465</td>\n",
              "      <td>0.600088</td>\n",
              "      <td>0.604862</td>\n",
              "      <td>roberta</td>\n",
              "      <td>roberta-base</td>\n",
              "    </tr>\n",
              "    <tr>\n",
              "      <th>3</th>\n",
              "      <td>0.214327</td>\n",
              "      <td>0.623193</td>\n",
              "      <td>0.632045</td>\n",
              "      <td>0.614586</td>\n",
              "      <td>distilbert</td>\n",
              "      <td>distilbert-base-cased</td>\n",
              "    </tr>\n",
              "    <tr>\n",
              "      <th>4</th>\n",
              "      <td>0.274334</td>\n",
              "      <td>0.390286</td>\n",
              "      <td>0.440253</td>\n",
              "      <td>0.350504</td>\n",
              "      <td>electra</td>\n",
              "      <td>google/electra-base-discriminator</td>\n",
              "    </tr>\n",
              "    <tr>\n",
              "      <th>5</th>\n",
              "      <td>0.202448</td>\n",
              "      <td>0.698000</td>\n",
              "      <td>0.683734</td>\n",
              "      <td>0.712873</td>\n",
              "      <td>xlmroberta</td>\n",
              "      <td>xlm-roberta-base</td>\n",
              "    </tr>\n",
              "  </tbody>\n",
              "</table>\n",
              "</div>"
            ],
            "text/plain": [
              "   eval_loss  f1_score  ...   type_algo                               algo\n",
              "0   0.203051  0.666814  ...        bert                    bert-base-cased\n",
              "1   0.197175  0.721976  ...   camembert                     camembert-base\n",
              "2   0.229536  0.602465  ...     roberta                       roberta-base\n",
              "3   0.214327  0.623193  ...  distilbert              distilbert-base-cased\n",
              "4   0.274334  0.390286  ...     electra  google/electra-base-discriminator\n",
              "5   0.202448  0.698000  ...  xlmroberta                   xlm-roberta-base\n",
              "\n",
              "[6 rows x 6 columns]"
            ]
          },
          "metadata": {
            "tags": []
          },
          "execution_count": 42
        }
      ]
    },
    {
      "cell_type": "code",
      "metadata": {
        "id": "6ZCRl9Xw-XNZ",
        "colab_type": "code",
        "colab": {}
      },
      "source": [
        "# exports des résultats\n",
        "\n",
        "# results.to_csv(\"./out/results.csv\", sep = \",\" , index = False )"
      ],
      "execution_count": 0,
      "outputs": []
    },
    {
      "cell_type": "markdown",
      "metadata": {
        "id": "_g7u5_ftW0kq",
        "colab_type": "text"
      },
      "source": [
        "### Test de prédiction "
      ]
    },
    {
      "cell_type": "code",
      "metadata": {
        "id": "4eNCb_BjWzUM",
        "colab_type": "code",
        "colab": {}
      },
      "source": [
        "predictions, raw_outputs = model.predict([\"Laura vit à Paris\"])"
      ],
      "execution_count": 0,
      "outputs": []
    },
    {
      "cell_type": "code",
      "metadata": {
        "id": "XQDUpBcKXPH_",
        "colab_type": "code",
        "colab": {}
      },
      "source": [
        "predictions, raw_outputs = model.predict([\"Amar se lève tard\"])"
      ],
      "execution_count": 0,
      "outputs": []
    },
    {
      "cell_type": "markdown",
      "metadata": {
        "id": "CGkpJQdCchsQ",
        "colab_type": "text"
      },
      "source": [
        "On remarque que seuls Camembert et XMLRoberta se distinguent des autres. Nous allons donc tester une partie des différents modèles (Camembert et XMLroberta) mis à disposition : https://huggingface.co/models"
      ]
    },
    {
      "cell_type": "code",
      "metadata": {
        "id": "OzJwD7OCaDe4",
        "colab_type": "code",
        "colab": {}
      },
      "source": [
        "# lecture des résultats précédemment enregistré\n",
        "\n",
        "results = pd.read_csv(\"./out/results.csv\", sep = \",\")"
      ],
      "execution_count": 0,
      "outputs": []
    },
    {
      "cell_type": "code",
      "metadata": {
        "id": "x4IlycnvaKpM",
        "colab_type": "code",
        "colab": {}
      },
      "source": [
        "df = pd.read_csv(\"./out/df.csv\", sep = \"\\t\")"
      ],
      "execution_count": 0,
      "outputs": []
    },
    {
      "cell_type": "code",
      "metadata": {
        "id": "RTFmMj9Yc2w2",
        "colab_type": "code",
        "colab": {}
      },
      "source": [
        ""
      ],
      "execution_count": 0,
      "outputs": []
    },
    {
      "cell_type": "markdown",
      "metadata": {
        "id": "M6RjMWksc3tI",
        "colab_type": "text"
      },
      "source": [
        "# Camembert"
      ]
    },
    {
      "cell_type": "code",
      "metadata": {
        "id": "MMAQWlSjdajW",
        "colab_type": "code",
        "colab": {}
      },
      "source": [
        "# Liste des étiquettes possibles à fournir au modèles\n",
        "tags = df[\"labels\"].unique().tolist()"
      ],
      "execution_count": 0,
      "outputs": []
    },
    {
      "cell_type": "code",
      "metadata": {
        "id": "7Cq5-Ltke3Ls",
        "colab_type": "code",
        "colab": {}
      },
      "source": [
        "# Conversion en String pour éviter des erreurs lors de la compilation\n",
        "\n",
        "df[\"words\"] = df[\"words\"].astype(str)\n",
        "df[\"labels\"] = df[\"labels\"].astype(str)"
      ],
      "execution_count": 0,
      "outputs": []
    },
    {
      "cell_type": "code",
      "metadata": {
        "id": "UZwfGqdAKWZQ",
        "colab_type": "code",
        "colab": {}
      },
      "source": [
        "camembert_results = pd.DataFrame(columns = ['eval_loss','f1_score','precision','recall', \"type_algo\", \"algo\"])\n",
        "\n",
        "l_camembert = [ \"idb-ita/gilberto-uncased-from-camembert\" , \"jplu/tf-camembert-base\" ,\n",
        "               \"camembert/camembert-large\" , \"fmikaelian/camembert-base-fquad\" , \"illuin/camembert-large-fquad\" ,\n",
        "               \"fmikaelian/camembert-base-squad\"]\n",
        "\n",
        "logging.basicConfig(level=logging.INFO)\n",
        "transformers_logger = logging.getLogger(\"transformers\")\n",
        "transformers_logger.setLevel(logging.WARNING)\n",
        "\n",
        "# Creating train_df  and eval_df for demonstration\n",
        "\n",
        "train_df = df[df[\"sentence_id\"].isin(randomlist)]\n",
        "\n",
        "eval_df = df[~df[\"sentence_id\"].isin(randomlist)]\n",
        "\n",
        "for i in range (len(l_camembert)) : \n",
        "  try : \n",
        "    print(\"###################\\t\", \"camembert\" , \" -- \", l_camembert[i] ,\"\\t###################\")\n",
        "    \n",
        "    # Create a NERModel\n",
        "    model = NERModel(\"camembert\", l_camembert[i], args={'overwrite_output_dir': True, 'reprocess_input_data': True}, labels=tags)\n",
        "\n",
        "    print(\"################### TRAIN : \\t\", \"camembert\" , \" -- \", l_camembert[i] ,\"\\t###################\")\n",
        "    # Train the model\n",
        "    model.train_model(train_df)\n",
        "\n",
        "    print(\"################### EVAL : \\t\", \"camembert\" , \" -- \", l_camembert[i] ,\"\\t###################\")\n",
        "    # Evaluate the model\n",
        "    result, model_outputs, predictions = model.eval_model(eval_df)\n",
        "\n",
        "    result[\"type_algo\"] = \"camembert\"\n",
        "    result[\"algo\"] = l_camembert[i]\n",
        "\n",
        "    camembert_results = camembert_results.append(result, ignore_index = True)\n",
        "\n",
        "  except (AttributeError, OSError) as err : \n",
        "    pass\n"
      ],
      "execution_count": 0,
      "outputs": []
    },
    {
      "cell_type": "code",
      "metadata": {
        "id": "v42-IxcdHN4n",
        "colab_type": "code",
        "colab": {
          "base_uri": "https://localhost:8080/",
          "height": 137
        },
        "outputId": "62ee1e28-2ef4-4183-dbcd-ce94c970f608"
      },
      "source": [
        "camembert_results"
      ],
      "execution_count": 72,
      "outputs": [
        {
          "output_type": "execute_result",
          "data": {
            "text/html": [
              "<div>\n",
              "<style scoped>\n",
              "    .dataframe tbody tr th:only-of-type {\n",
              "        vertical-align: middle;\n",
              "    }\n",
              "\n",
              "    .dataframe tbody tr th {\n",
              "        vertical-align: top;\n",
              "    }\n",
              "\n",
              "    .dataframe thead th {\n",
              "        text-align: right;\n",
              "    }\n",
              "</style>\n",
              "<table border=\"1\" class=\"dataframe\">\n",
              "  <thead>\n",
              "    <tr style=\"text-align: right;\">\n",
              "      <th></th>\n",
              "      <th>eval_loss</th>\n",
              "      <th>f1_score</th>\n",
              "      <th>precision</th>\n",
              "      <th>recall</th>\n",
              "      <th>type_algo</th>\n",
              "      <th>algo</th>\n",
              "    </tr>\n",
              "  </thead>\n",
              "  <tbody>\n",
              "    <tr>\n",
              "      <th>0</th>\n",
              "      <td>0.233523</td>\n",
              "      <td>0.597450</td>\n",
              "      <td>0.591697</td>\n",
              "      <td>0.603317</td>\n",
              "      <td>camembert</td>\n",
              "      <td>idb-ita/gilberto-uncased-from-camembert</td>\n",
              "    </tr>\n",
              "    <tr>\n",
              "      <th>1</th>\n",
              "      <td>0.188215</td>\n",
              "      <td>0.757870</td>\n",
              "      <td>0.748383</td>\n",
              "      <td>0.767601</td>\n",
              "      <td>camembert</td>\n",
              "      <td>camembert/camembert-large</td>\n",
              "    </tr>\n",
              "    <tr>\n",
              "      <th>2</th>\n",
              "      <td>0.213204</td>\n",
              "      <td>0.705895</td>\n",
              "      <td>0.724915</td>\n",
              "      <td>0.687848</td>\n",
              "      <td>camembert</td>\n",
              "      <td>fmikaelian/camembert-base-fquad</td>\n",
              "    </tr>\n",
              "  </tbody>\n",
              "</table>\n",
              "</div>"
            ],
            "text/plain": [
              "   eval_loss  f1_score  ...  type_algo                                     algo\n",
              "0   0.233523  0.597450  ...  camembert  idb-ita/gilberto-uncased-from-camembert\n",
              "1   0.188215  0.757870  ...  camembert                camembert/camembert-large\n",
              "2   0.213204  0.705895  ...  camembert          fmikaelian/camembert-base-fquad\n",
              "\n",
              "[3 rows x 6 columns]"
            ]
          },
          "metadata": {
            "tags": []
          },
          "execution_count": 72
        }
      ]
    },
    {
      "cell_type": "code",
      "metadata": {
        "id": "HdHwqBKmbmBd",
        "colab_type": "code",
        "colab": {}
      },
      "source": [
        ""
      ],
      "execution_count": 0,
      "outputs": []
    }
  ]
}