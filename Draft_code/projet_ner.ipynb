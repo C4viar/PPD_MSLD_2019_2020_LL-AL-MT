{
  "nbformat": 4,
  "nbformat_minor": 0,
  "metadata": {
    "colab": {
      "name": "QueenB.ipynb",
      "provenance": [],
      "collapsed_sections": [],
      "toc_visible": true,
      "include_colab_link": true
    },
    "kernelspec": {
      "name": "python3",
      "display_name": "Python 3"
    },
    "accelerator": "GPU"
  },
  "cells": [
    {
      "cell_type": "markdown",
      "metadata": {
        "id": "view-in-github",
        "colab_type": "text"
      },
      "source": [
        "<a href=\"https://colab.research.google.com/github/C4viar/PPD_MSLD_2019_2020_LL-AL-MT/blob/master/Draft_code/projet_ner.ipynb\" target=\"_parent\"><img src=\"https://colab.research.google.com/assets/colab-badge.svg\" alt=\"Open In Colab\"/></a>"
      ]
    },
    {
      "cell_type": "markdown",
      "metadata": {
        "id": "4c6mCMi8i2KP",
        "colab_type": "text"
      },
      "source": [
        "# Montage du drive"
      ]
    },
    {
      "cell_type": "code",
      "metadata": {
        "id": "NvqOJpLPiz3y",
        "colab_type": "code",
        "outputId": "b8d908d2-680a-478c-a18f-8e1ad4a46117",
        "colab": {
          "base_uri": "https://localhost:8080/",
          "height": 124
        }
      },
      "source": [
        "# Montage du drive\n",
        "\n",
        "from google.colab import drive\n",
        "drive.mount('/content/drive/',force_remount=True)"
      ],
      "execution_count": 1,
      "outputs": [
        {
          "output_type": "stream",
          "text": [
            "Go to this URL in a browser: https://accounts.google.com/o/oauth2/auth?client_id=947318989803-6bn6qk8qdgf4n4g3pfee6491hc0brc4i.apps.googleusercontent.com&redirect_uri=urn%3aietf%3awg%3aoauth%3a2.0%3aoob&response_type=code&scope=email%20https%3a%2f%2fwww.googleapis.com%2fauth%2fdocs.test%20https%3a%2f%2fwww.googleapis.com%2fauth%2fdrive%20https%3a%2f%2fwww.googleapis.com%2fauth%2fdrive.photos.readonly%20https%3a%2f%2fwww.googleapis.com%2fauth%2fpeopleapi.readonly\n",
            "\n",
            "Enter your authorization code:\n",
            "··········\n",
            "Mounted at /content/drive/\n"
          ],
          "name": "stdout"
        }
      ]
    },
    {
      "cell_type": "markdown",
      "metadata": {
        "id": "ZRR2FKEa2hqj",
        "colab_type": "text"
      },
      "source": [
        "# Contexte\n"
      ]
    },
    {
      "cell_type": "markdown",
      "metadata": {
        "id": "bzDHUpGfZOdd",
        "colab_type": "text"
      },
      "source": [
        "Des modèles de langage du français ont tout récemment été publiés (CamemBERT, FlauBERT C’est positif car même des outils avancés comme Spacy sont notoirement encore peu adaptés à traiter certaines langues dont le français. Il reste à évaluer ce que ces modèles peuvent vraiment apporter notamment ne ce qui concerne la reconnaissances d’entités nommées.\n"
      ]
    },
    {
      "cell_type": "markdown",
      "metadata": {
        "id": "v5b86Ce1fOgG",
        "colab_type": "text"
      },
      "source": [
        "# Travail a réaliser"
      ]
    },
    {
      "cell_type": "markdown",
      "metadata": {
        "id": "9VfEZAGjfTTc",
        "colab_type": "text"
      },
      "source": [
        "Réaliser des expériences de reconnaissance d’entités nommées sur le jeu de donneés Europeana Newspapers French en utilisant tous les modèles disponibles pour cela dans la bibliothèque Simple Transformers. Les adresses à consulter sont :\n",
        "* https://github.com/ThilinaRajapakse/simpletransformers\n",
        "* http://api.bnf.fr/europeana-newspapers-french-ner-ground-truth"
      ]
    },
    {
      "cell_type": "markdown",
      "metadata": {
        "id": "89q49GkAguBh",
        "colab_type": "text"
      },
      "source": [
        "# Rendu\n",
        "\n",
        "Un code clair et commenté dans un notebook.\n",
        "Un rapport décrivant les méthodes/métriques d’évaluation (basées sur seqeval dont une description détaillée sera donnée) et présentant/comparant/discutant les résultats obtenus.\n"
      ]
    },
    {
      "cell_type": "markdown",
      "metadata": {
        "id": "aOt0BNmvgZ2-",
        "colab_type": "text"
      },
      "source": [
        "# Seqeval \n",
        "\n",
        "https://pypi.org/project/seqeval/\n",
        "\n",
        "\"seqeval is a Python framework for sequence labeling evaluation. seqeval can evaluate the performance of chunking tasks such as named-entity recognition, part-of-speech tagging, semantic role labeling and so on.\""
      ]
    },
    {
      "cell_type": "markdown",
      "metadata": {
        "id": "s9TjSfEKXUm9",
        "colab_type": "text"
      },
      "source": [
        "# Installation simple transformers, wandb"
      ]
    },
    {
      "cell_type": "code",
      "metadata": {
        "id": "YAu81V8eXeFK",
        "colab_type": "code",
        "colab": {}
      },
      "source": [
        "pip install simpletransformers"
      ],
      "execution_count": 0,
      "outputs": []
    },
    {
      "cell_type": "code",
      "metadata": {
        "id": "Q5-MYnHYg51r",
        "colab_type": "code",
        "colab": {}
      },
      "source": [
        "pip install wandb"
      ],
      "execution_count": 0,
      "outputs": []
    },
    {
      "cell_type": "markdown",
      "metadata": {
        "id": "EvuQROz_jN4h",
        "colab_type": "text"
      },
      "source": [
        "# Installation APEX"
      ]
    },
    {
      "cell_type": "code",
      "metadata": {
        "id": "f8iRvZWKjRdv",
        "colab_type": "code",
        "colab": {}
      },
      "source": [
        "! git clone https://github.com/NVIDIA/apex"
      ],
      "execution_count": 0,
      "outputs": []
    },
    {
      "cell_type": "code",
      "metadata": {
        "id": "G8begNZvjROY",
        "colab_type": "code",
        "colab": {}
      },
      "source": [
        "cd apex"
      ],
      "execution_count": 0,
      "outputs": []
    },
    {
      "cell_type": "code",
      "metadata": {
        "id": "QT3ujyyuepb-",
        "colab_type": "code",
        "colab": {}
      },
      "source": [
        "pip install -v --no-cache-dir --global-option=\"--cpp_ext\" --global-option=\"--cuda_ext\" ./"
      ],
      "execution_count": 0,
      "outputs": []
    },
    {
      "cell_type": "markdown",
      "metadata": {
        "id": "8HjW0OX8tqO9",
        "colab_type": "text"
      },
      "source": [
        "# NER \n",
        "https://simpletransformers.ai/docs/ner-specifics/\n",
        "\n",
        "\"The goal of Named Entity Recognition is to locate and classify named entities in a sequence. The named entities are pre-defined categories chosen according to the use case such as names of people, organizations, places, codes, time notations, monetary values, etc. Essentially, NER aims to assign a class to each token (usually a single word) in a sequence. Because of this, NER is also referred to as token classification.\"\n",
        "\n",
        "**Fonctionnement avec Simple Transformer**\n",
        "\n",
        "* Initialize a NERModel\n",
        "* Train the model with train_model()\n",
        "* Evaluate the model with eval_model()\n",
        "* Make predictions on (unlabelled) data with predict()\n",
        "\n",
        "**Modèles disponibles à fournir à model_type** : https://huggingface.co/models\n",
        "\n",
        "* BERT :\t*bert*\n",
        "* CamemBERT :\t*camembert*\n",
        "* RoBERTa :\t*roberta*\n",
        "* DistilBERT :\t*distilbert*\n",
        "* ELECTRA\t: *electra*\n",
        "* XLM-RoBERTa\t: *xlmroberta*"
      ]
    },
    {
      "cell_type": "markdown",
      "metadata": {
        "id": "q4J6-WU_zIRw",
        "colab_type": "text"
      },
      "source": [
        "# Test de l'ensemble des différents types de modèles"
      ]
    },
    {
      "cell_type": "code",
      "metadata": {
        "id": "Mn_CcPDQoErA",
        "colab_type": "code",
        "colab": {}
      },
      "source": [
        "import pandas as pd \n",
        "import numpy as np\n",
        "import os\n",
        "from pandas.io.parsers import ParserError\n",
        "import random\n",
        "from simpletransformers.ner import NERModel\n",
        "import logging\n",
        "from sklearn.model_selection import train_test_split\n",
        "import pickle\n",
        "import plotly.express as px"
      ],
      "execution_count": 0,
      "outputs": []
    },
    {
      "cell_type": "code",
      "metadata": {
        "id": "gbhrdPcoUD57",
        "colab_type": "code",
        "outputId": "dc7ea1e9-2d81-44da-a43b-1252cf55c4a3",
        "colab": {
          "base_uri": "https://localhost:8080/",
          "height": 34
        }
      },
      "source": [
        "pwd"
      ],
      "execution_count": 0,
      "outputs": [
        {
          "output_type": "execute_result",
          "data": {
            "text/plain": [
              "'/content/apex'"
            ]
          },
          "metadata": {
            "tags": []
          },
          "execution_count": 8
        }
      ]
    },
    {
      "cell_type": "code",
      "metadata": {
        "id": "qCeImHN04w5n",
        "colab_type": "code",
        "outputId": "70e9e2f5-e269-4772-e13b-d21f6363f753",
        "colab": {
          "base_uri": "https://localhost:8080/",
          "height": 34
        }
      },
      "source": [
        "cd ./.."
      ],
      "execution_count": 29,
      "outputs": [
        {
          "output_type": "stream",
          "text": [
            "/\n"
          ],
          "name": "stdout"
        }
      ]
    },
    {
      "cell_type": "code",
      "metadata": {
        "id": "PLpl0eA6UPPd",
        "colab_type": "code",
        "outputId": "3524e49a-5994-48d1-98aa-aa383aa185b1",
        "colab": {
          "base_uri": "https://localhost:8080/",
          "height": 34
        }
      },
      "source": [
        "cd drive/My Drive/MLDS/PPD-NER"
      ],
      "execution_count": 5,
      "outputs": [
        {
          "output_type": "stream",
          "text": [
            "/content/drive/.shortcut-targets-by-id/1P7ACnZXpUF4cCANzhQ6b3IDEwP8ACAZr/PPD-NER\n"
          ],
          "name": "stdout"
        }
      ]
    },
    {
      "cell_type": "markdown",
      "metadata": {
        "id": "4O9DiLdHUsuZ",
        "colab_type": "text"
      },
      "source": [
        "## Création du dataframe à partir des fichiers du jeu de données"
      ]
    },
    {
      "cell_type": "code",
      "metadata": {
        "id": "vn9oxOF2rAH7",
        "colab_type": "code",
        "colab": {}
      },
      "source": [
        "files = os.listdir(\"./data\") # liste des fichiers du jeu de données"
      ],
      "execution_count": 0,
      "outputs": []
    },
    {
      "cell_type": "code",
      "metadata": {
        "id": "HLva41EnsW4s",
        "colab_type": "code",
        "colab": {}
      },
      "source": [
        "# On lit les fichiers et on les met dans le même dataframe\n",
        "# S'il y a une erreur de séparateur, alors l'exception ParserError est levée\n",
        "\n",
        "l_bug = [] # Cette liste contiendra les dataframes ayant rencontrés l'exception ParserError\n",
        "l_ok = [] # Cette liste contiendra les dataframes n'ayant pas rencontrés l'exception ParserError\n",
        "df = pd.DataFrame() \n",
        "\n",
        "for i in files :\n",
        "  try:\n",
        "    # quoting = 3 pour éviter l'exception ParserError\n",
        "    # certaine lignes ont pour mot : '\"' ce qui pose problème car pandas les reconnait comme quote et non comme un caractère\n",
        "    df = df.append(pd.read_csv(\"./data/\"+i, sep = \"\\t\", quoting = 3, header = None)) \n",
        "    l_ok.append(i)\n",
        "  except ParserError as err :\n",
        "    l_bug.append(i)"
      ],
      "execution_count": 0,
      "outputs": []
    },
    {
      "cell_type": "markdown",
      "metadata": {
        "id": "8YkmottXWqLe",
        "colab_type": "text"
      },
      "source": [
        "La cellule suivantes permet de connaitre la shape de l'ensemble des fichiers.\n",
        "On observe que les 212 fichiers ont pour dimension : (1000, 2)"
      ]
    },
    {
      "cell_type": "code",
      "metadata": {
        "id": "m052UXhYo7Sc",
        "colab_type": "code",
        "colab": {}
      },
      "source": [
        "shape_df = pd.DataFrame(columns = [\"file\", \"rows\", \"cols\"])\n",
        "\n",
        "for i in files : \n",
        "  tmp = pd.read_csv(\"./data/\"+i, sep = \"\\t\", quoting = 3, header = None) # lecture du fichier\n",
        "  rows = tmp.shape[0] # nombre de lignes\n",
        "  cols = tmp.shape[1] # nombre de colonnes\n",
        "  dict_tmp = {\n",
        "      \"file\" : i ,\n",
        "      \"rows\" : rows,\n",
        "      \"cols\" : cols\n",
        "  }\n",
        "  shape_df = shape_df.append(dict_tmp, ignore_index=True)"
      ],
      "execution_count": 0,
      "outputs": []
    },
    {
      "cell_type": "code",
      "metadata": {
        "id": "le33E2-q31tY",
        "colab_type": "code",
        "outputId": "c7130f42-1109-47e0-d9f2-331a8bd0a232",
        "colab": {
          "base_uri": "https://localhost:8080/",
          "height": 34
        }
      },
      "source": [
        "(shape_df[\"rows\"]==1000).sum() # tous les fichiers ont la même dimension"
      ],
      "execution_count": 0,
      "outputs": [
        {
          "output_type": "execute_result",
          "data": {
            "text/plain": [
              "212"
            ]
          },
          "metadata": {
            "tags": []
          },
          "execution_count": 29
        }
      ]
    },
    {
      "cell_type": "markdown",
      "metadata": {
        "id": "2LCa1S_nY9Fu",
        "colab_type": "text"
      },
      "source": [
        "La librairie simpletransformer nous impose d'avoir 3 colonnes nommées : \"sentence_id\", \"words\", \"labels\"\n",
        "\n",
        "**Sentence_id** correspond au numéro de la phrase à laquelle un mot appartient. Cette information n'étant pas présente dans le jeu de données, il est nécessaire de construire cette variable nous-même."
      ]
    },
    {
      "cell_type": "code",
      "metadata": {
        "id": "xD_1CUlH4s_M",
        "colab_type": "code",
        "colab": {}
      },
      "source": [
        "df.columns = [\"words\", \"labels\"]  # on renomme les deux colonnes disponibles"
      ],
      "execution_count": 0,
      "outputs": []
    },
    {
      "cell_type": "code",
      "metadata": {
        "id": "QS0Zb3bP50zk",
        "colab_type": "code",
        "colab": {}
      },
      "source": [
        "df = df.reset_index(drop = True ) # on re-index correctement"
      ],
      "execution_count": 0,
      "outputs": []
    },
    {
      "cell_type": "code",
      "metadata": {
        "id": "gCtD5ULWqHog",
        "colab_type": "code",
        "colab": {}
      },
      "source": [
        "# Pour définir le commencement d'une nouvelle phrase on considère que l'apparition d'un des séparateurs suivants\n",
        "# \".\" ou \"?\" ou \"!\" signale un changement de phrase\n",
        "j = 0\n",
        "df[\"sentence_id\"] = \"\"\n",
        "for i in range(df.shape[0]):\n",
        "  if (df.loc[i, \"words\"] in ([\".\", \"!\", \"?\"])):\n",
        "    df.loc[i, \"sentence_id\"] = j\n",
        "    j = j+1\n",
        "  else :\n",
        "    df.loc[i, \"sentence_id\"] = j"
      ],
      "execution_count": 0,
      "outputs": []
    },
    {
      "cell_type": "code",
      "metadata": {
        "id": "ziRkj0nu5vq-",
        "colab_type": "code",
        "outputId": "eac6d62f-4570-48a5-b04b-0a43fd7e6843",
        "colab": {
          "base_uri": "https://localhost:8080/",
          "height": 406
        }
      },
      "source": [
        "df"
      ],
      "execution_count": 0,
      "outputs": [
        {
          "output_type": "execute_result",
          "data": {
            "text/html": [
              "<div>\n",
              "<style scoped>\n",
              "    .dataframe tbody tr th:only-of-type {\n",
              "        vertical-align: middle;\n",
              "    }\n",
              "\n",
              "    .dataframe tbody tr th {\n",
              "        vertical-align: top;\n",
              "    }\n",
              "\n",
              "    .dataframe thead th {\n",
              "        text-align: right;\n",
              "    }\n",
              "</style>\n",
              "<table border=\"1\" class=\"dataframe\">\n",
              "  <thead>\n",
              "    <tr style=\"text-align: right;\">\n",
              "      <th></th>\n",
              "      <th>words</th>\n",
              "      <th>labels</th>\n",
              "      <th>sentence_id</th>\n",
              "    </tr>\n",
              "  </thead>\n",
              "  <tbody>\n",
              "    <tr>\n",
              "      <th>0</th>\n",
              "      <td>:</td>\n",
              "      <td>O</td>\n",
              "      <td>0</td>\n",
              "    </tr>\n",
              "    <tr>\n",
              "      <th>1</th>\n",
              "      <td>:</td>\n",
              "      <td>O</td>\n",
              "      <td>0</td>\n",
              "    </tr>\n",
              "    <tr>\n",
              "      <th>2</th>\n",
              "      <td>:</td>\n",
              "      <td>O</td>\n",
              "      <td>0</td>\n",
              "    </tr>\n",
              "    <tr>\n",
              "      <th>3</th>\n",
              "      <td>:</td>\n",
              "      <td>O</td>\n",
              "      <td>0</td>\n",
              "    </tr>\n",
              "    <tr>\n",
              "      <th>4</th>\n",
              "      <td>:</td>\n",
              "      <td>O</td>\n",
              "      <td>0</td>\n",
              "    </tr>\n",
              "    <tr>\n",
              "      <th>...</th>\n",
              "      <td>...</td>\n",
              "      <td>...</td>\n",
              "      <td>...</td>\n",
              "    </tr>\n",
              "    <tr>\n",
              "      <th>211995</th>\n",
              "      <td>l'</td>\n",
              "      <td>O</td>\n",
              "      <td>12867</td>\n",
              "    </tr>\n",
              "    <tr>\n",
              "      <th>211996</th>\n",
              "      <td>orateur</td>\n",
              "      <td>O</td>\n",
              "      <td>12867</td>\n",
              "    </tr>\n",
              "    <tr>\n",
              "      <th>211997</th>\n",
              "      <td>dont</td>\n",
              "      <td>O</td>\n",
              "      <td>12867</td>\n",
              "    </tr>\n",
              "    <tr>\n",
              "      <th>211998</th>\n",
              "      <td>le</td>\n",
              "      <td>O</td>\n",
              "      <td>12867</td>\n",
              "    </tr>\n",
              "    <tr>\n",
              "      <th>211999</th>\n",
              "      <td>discours</td>\n",
              "      <td>O</td>\n",
              "      <td>12867</td>\n",
              "    </tr>\n",
              "  </tbody>\n",
              "</table>\n",
              "<p>212000 rows × 3 columns</p>\n",
              "</div>"
            ],
            "text/plain": [
              "           words labels sentence_id\n",
              "0              :      O           0\n",
              "1              :      O           0\n",
              "2              :      O           0\n",
              "3              :      O           0\n",
              "4              :      O           0\n",
              "...          ...    ...         ...\n",
              "211995        l'      O       12867\n",
              "211996   orateur      O       12867\n",
              "211997      dont      O       12867\n",
              "211998        le      O       12867\n",
              "211999  discours      O       12867\n",
              "\n",
              "[212000 rows x 3 columns]"
            ]
          },
          "metadata": {
            "tags": []
          },
          "execution_count": 57
        }
      ]
    },
    {
      "cell_type": "code",
      "metadata": {
        "id": "bWMRboaM-EP3",
        "colab_type": "code",
        "colab": {}
      },
      "source": [
        "df = df[[\"sentence_id\", \"words\", \"labels\"]] # réorganisation des colonnes"
      ],
      "execution_count": 0,
      "outputs": []
    },
    {
      "cell_type": "code",
      "metadata": {
        "id": "er31Psip-nsc",
        "colab_type": "code",
        "colab": {}
      },
      "source": [
        "df.to_csv(\"./out/df.csv\", index = False, sep = \"\\t\" ) # export du dataframe"
      ],
      "execution_count": 0,
      "outputs": []
    },
    {
      "cell_type": "markdown",
      "metadata": {
        "id": "g4cmlGsxn5qV",
        "colab_type": "text"
      },
      "source": [
        "## Analyses descriptives du dataset"
      ]
    },
    {
      "cell_type": "code",
      "metadata": {
        "id": "sgoGtwYuUz3G",
        "colab_type": "code",
        "colab": {}
      },
      "source": [
        "# lecture du jeu de données précédemment enregistré\n",
        "\n",
        "df = pd.read_csv(\"./out/df.csv\", sep = \"\\t\" )"
      ],
      "execution_count": 0,
      "outputs": []
    },
    {
      "cell_type": "code",
      "metadata": {
        "id": "PBh6yB9apyEh",
        "colab_type": "code",
        "colab": {
          "base_uri": "https://localhost:8080/",
          "height": 542
        },
        "outputId": "cb382b09-8c86-4136-b2e4-f81c334162c4"
      },
      "source": [
        "# Répartition des labels\n",
        "\n",
        "fig = px.pie(df, values=df[\"labels\"].value_counts().values, names=df[\"labels\"].value_counts().index)\n",
        "fig.show()"
      ],
      "execution_count": 22,
      "outputs": [
        {
          "output_type": "display_data",
          "data": {
            "text/html": [
              "<html>\n",
              "<head><meta charset=\"utf-8\" /></head>\n",
              "<body>\n",
              "    <div>\n",
              "            <script src=\"https://cdnjs.cloudflare.com/ajax/libs/mathjax/2.7.5/MathJax.js?config=TeX-AMS-MML_SVG\"></script><script type=\"text/javascript\">if (window.MathJax) {MathJax.Hub.Config({SVG: {font: \"STIX-Web\"}});}</script>\n",
              "                <script type=\"text/javascript\">window.PlotlyConfig = {MathJaxConfig: 'local'};</script>\n",
              "        <script src=\"https://cdn.plot.ly/plotly-latest.min.js\"></script>    \n",
              "            <div id=\"e8226127-4c71-4e9f-90ac-37b8c4b2686d\" class=\"plotly-graph-div\" style=\"height:525px; width:100%;\"></div>\n",
              "            <script type=\"text/javascript\">\n",
              "                \n",
              "                    window.PLOTLYENV=window.PLOTLYENV || {};\n",
              "                    \n",
              "                if (document.getElementById(\"e8226127-4c71-4e9f-90ac-37b8c4b2686d\")) {\n",
              "                    Plotly.newPlot(\n",
              "                        'e8226127-4c71-4e9f-90ac-37b8c4b2686d',\n",
              "                        [{\"domain\": {\"x\": [0.0, 1.0], \"y\": [0.0, 1.0]}, \"hoverlabel\": {\"namelength\": 0}, \"hovertemplate\": \"label=%{label}<br>value=%{value}\", \"labels\": [\"O\", \"I-LIEU\", \"I-PERS\", \"I-ORG\"], \"legendgroup\": \"\", \"name\": \"\", \"showlegend\": true, \"type\": \"pie\", \"values\": [193295, 8400, 5848, 4457]}],\n",
              "                        {\"legend\": {\"tracegroupgap\": 0}, \"margin\": {\"t\": 60}, \"template\": {\"data\": {\"bar\": [{\"error_x\": {\"color\": \"#2a3f5f\"}, \"error_y\": {\"color\": \"#2a3f5f\"}, \"marker\": {\"line\": {\"color\": \"#E5ECF6\", \"width\": 0.5}}, \"type\": \"bar\"}], \"barpolar\": [{\"marker\": {\"line\": {\"color\": \"#E5ECF6\", \"width\": 0.5}}, \"type\": \"barpolar\"}], \"carpet\": [{\"aaxis\": {\"endlinecolor\": \"#2a3f5f\", \"gridcolor\": \"white\", \"linecolor\": \"white\", \"minorgridcolor\": \"white\", \"startlinecolor\": \"#2a3f5f\"}, \"baxis\": {\"endlinecolor\": \"#2a3f5f\", \"gridcolor\": \"white\", \"linecolor\": \"white\", \"minorgridcolor\": \"white\", \"startlinecolor\": \"#2a3f5f\"}, \"type\": \"carpet\"}], \"choropleth\": [{\"colorbar\": {\"outlinewidth\": 0, \"ticks\": \"\"}, \"type\": \"choropleth\"}], \"contour\": [{\"colorbar\": {\"outlinewidth\": 0, \"ticks\": \"\"}, \"colorscale\": [[0.0, \"#0d0887\"], [0.1111111111111111, \"#46039f\"], [0.2222222222222222, \"#7201a8\"], [0.3333333333333333, \"#9c179e\"], [0.4444444444444444, \"#bd3786\"], [0.5555555555555556, \"#d8576b\"], [0.6666666666666666, \"#ed7953\"], [0.7777777777777778, \"#fb9f3a\"], [0.8888888888888888, \"#fdca26\"], [1.0, \"#f0f921\"]], \"type\": \"contour\"}], \"contourcarpet\": [{\"colorbar\": {\"outlinewidth\": 0, \"ticks\": \"\"}, \"type\": \"contourcarpet\"}], \"heatmap\": [{\"colorbar\": {\"outlinewidth\": 0, \"ticks\": \"\"}, \"colorscale\": [[0.0, \"#0d0887\"], [0.1111111111111111, \"#46039f\"], [0.2222222222222222, \"#7201a8\"], [0.3333333333333333, \"#9c179e\"], [0.4444444444444444, \"#bd3786\"], [0.5555555555555556, \"#d8576b\"], [0.6666666666666666, \"#ed7953\"], [0.7777777777777778, \"#fb9f3a\"], [0.8888888888888888, \"#fdca26\"], [1.0, \"#f0f921\"]], \"type\": \"heatmap\"}], \"heatmapgl\": [{\"colorbar\": {\"outlinewidth\": 0, \"ticks\": \"\"}, \"colorscale\": [[0.0, \"#0d0887\"], [0.1111111111111111, \"#46039f\"], [0.2222222222222222, \"#7201a8\"], [0.3333333333333333, \"#9c179e\"], [0.4444444444444444, \"#bd3786\"], [0.5555555555555556, \"#d8576b\"], [0.6666666666666666, \"#ed7953\"], [0.7777777777777778, \"#fb9f3a\"], [0.8888888888888888, \"#fdca26\"], [1.0, \"#f0f921\"]], \"type\": \"heatmapgl\"}], \"histogram\": [{\"marker\": {\"colorbar\": {\"outlinewidth\": 0, \"ticks\": \"\"}}, \"type\": \"histogram\"}], \"histogram2d\": [{\"colorbar\": {\"outlinewidth\": 0, \"ticks\": \"\"}, \"colorscale\": [[0.0, \"#0d0887\"], [0.1111111111111111, \"#46039f\"], [0.2222222222222222, \"#7201a8\"], [0.3333333333333333, \"#9c179e\"], [0.4444444444444444, \"#bd3786\"], [0.5555555555555556, \"#d8576b\"], [0.6666666666666666, \"#ed7953\"], [0.7777777777777778, \"#fb9f3a\"], [0.8888888888888888, \"#fdca26\"], [1.0, \"#f0f921\"]], \"type\": \"histogram2d\"}], \"histogram2dcontour\": [{\"colorbar\": {\"outlinewidth\": 0, \"ticks\": \"\"}, \"colorscale\": [[0.0, \"#0d0887\"], [0.1111111111111111, \"#46039f\"], [0.2222222222222222, \"#7201a8\"], [0.3333333333333333, \"#9c179e\"], [0.4444444444444444, \"#bd3786\"], [0.5555555555555556, \"#d8576b\"], [0.6666666666666666, \"#ed7953\"], [0.7777777777777778, \"#fb9f3a\"], [0.8888888888888888, \"#fdca26\"], [1.0, \"#f0f921\"]], \"type\": \"histogram2dcontour\"}], \"mesh3d\": [{\"colorbar\": {\"outlinewidth\": 0, \"ticks\": \"\"}, \"type\": \"mesh3d\"}], \"parcoords\": [{\"line\": {\"colorbar\": {\"outlinewidth\": 0, \"ticks\": \"\"}}, \"type\": \"parcoords\"}], \"pie\": [{\"automargin\": true, \"type\": \"pie\"}], \"scatter\": [{\"marker\": {\"colorbar\": {\"outlinewidth\": 0, \"ticks\": \"\"}}, \"type\": \"scatter\"}], \"scatter3d\": [{\"line\": {\"colorbar\": {\"outlinewidth\": 0, \"ticks\": \"\"}}, \"marker\": {\"colorbar\": {\"outlinewidth\": 0, \"ticks\": \"\"}}, \"type\": \"scatter3d\"}], \"scattercarpet\": [{\"marker\": {\"colorbar\": {\"outlinewidth\": 0, \"ticks\": \"\"}}, \"type\": \"scattercarpet\"}], \"scattergeo\": [{\"marker\": {\"colorbar\": {\"outlinewidth\": 0, \"ticks\": \"\"}}, \"type\": \"scattergeo\"}], \"scattergl\": [{\"marker\": {\"colorbar\": {\"outlinewidth\": 0, \"ticks\": \"\"}}, \"type\": \"scattergl\"}], \"scattermapbox\": [{\"marker\": {\"colorbar\": {\"outlinewidth\": 0, \"ticks\": \"\"}}, \"type\": \"scattermapbox\"}], \"scatterpolar\": [{\"marker\": {\"colorbar\": {\"outlinewidth\": 0, \"ticks\": \"\"}}, \"type\": \"scatterpolar\"}], \"scatterpolargl\": [{\"marker\": {\"colorbar\": {\"outlinewidth\": 0, \"ticks\": \"\"}}, \"type\": \"scatterpolargl\"}], \"scatterternary\": [{\"marker\": {\"colorbar\": {\"outlinewidth\": 0, \"ticks\": \"\"}}, \"type\": \"scatterternary\"}], \"surface\": [{\"colorbar\": {\"outlinewidth\": 0, \"ticks\": \"\"}, \"colorscale\": [[0.0, \"#0d0887\"], [0.1111111111111111, \"#46039f\"], [0.2222222222222222, \"#7201a8\"], [0.3333333333333333, \"#9c179e\"], [0.4444444444444444, \"#bd3786\"], [0.5555555555555556, \"#d8576b\"], [0.6666666666666666, \"#ed7953\"], [0.7777777777777778, \"#fb9f3a\"], [0.8888888888888888, \"#fdca26\"], [1.0, \"#f0f921\"]], \"type\": \"surface\"}], \"table\": [{\"cells\": {\"fill\": {\"color\": \"#EBF0F8\"}, \"line\": {\"color\": \"white\"}}, \"header\": {\"fill\": {\"color\": \"#C8D4E3\"}, \"line\": {\"color\": \"white\"}}, \"type\": \"table\"}]}, \"layout\": {\"annotationdefaults\": {\"arrowcolor\": \"#2a3f5f\", \"arrowhead\": 0, \"arrowwidth\": 1}, \"coloraxis\": {\"colorbar\": {\"outlinewidth\": 0, \"ticks\": \"\"}}, \"colorscale\": {\"diverging\": [[0, \"#8e0152\"], [0.1, \"#c51b7d\"], [0.2, \"#de77ae\"], [0.3, \"#f1b6da\"], [0.4, \"#fde0ef\"], [0.5, \"#f7f7f7\"], [0.6, \"#e6f5d0\"], [0.7, \"#b8e186\"], [0.8, \"#7fbc41\"], [0.9, \"#4d9221\"], [1, \"#276419\"]], \"sequential\": [[0.0, \"#0d0887\"], [0.1111111111111111, \"#46039f\"], [0.2222222222222222, \"#7201a8\"], [0.3333333333333333, \"#9c179e\"], [0.4444444444444444, \"#bd3786\"], [0.5555555555555556, \"#d8576b\"], [0.6666666666666666, \"#ed7953\"], [0.7777777777777778, \"#fb9f3a\"], [0.8888888888888888, \"#fdca26\"], [1.0, \"#f0f921\"]], \"sequentialminus\": [[0.0, \"#0d0887\"], [0.1111111111111111, \"#46039f\"], [0.2222222222222222, \"#7201a8\"], [0.3333333333333333, \"#9c179e\"], [0.4444444444444444, \"#bd3786\"], [0.5555555555555556, \"#d8576b\"], [0.6666666666666666, \"#ed7953\"], [0.7777777777777778, \"#fb9f3a\"], [0.8888888888888888, \"#fdca26\"], [1.0, \"#f0f921\"]]}, \"colorway\": [\"#636efa\", \"#EF553B\", \"#00cc96\", \"#ab63fa\", \"#FFA15A\", \"#19d3f3\", \"#FF6692\", \"#B6E880\", \"#FF97FF\", \"#FECB52\"], \"font\": {\"color\": \"#2a3f5f\"}, \"geo\": {\"bgcolor\": \"white\", \"lakecolor\": \"white\", \"landcolor\": \"#E5ECF6\", \"showlakes\": true, \"showland\": true, \"subunitcolor\": \"white\"}, \"hoverlabel\": {\"align\": \"left\"}, \"hovermode\": \"closest\", \"mapbox\": {\"style\": \"light\"}, \"paper_bgcolor\": \"white\", \"plot_bgcolor\": \"#E5ECF6\", \"polar\": {\"angularaxis\": {\"gridcolor\": \"white\", \"linecolor\": \"white\", \"ticks\": \"\"}, \"bgcolor\": \"#E5ECF6\", \"radialaxis\": {\"gridcolor\": \"white\", \"linecolor\": \"white\", \"ticks\": \"\"}}, \"scene\": {\"xaxis\": {\"backgroundcolor\": \"#E5ECF6\", \"gridcolor\": \"white\", \"gridwidth\": 2, \"linecolor\": \"white\", \"showbackground\": true, \"ticks\": \"\", \"zerolinecolor\": \"white\"}, \"yaxis\": {\"backgroundcolor\": \"#E5ECF6\", \"gridcolor\": \"white\", \"gridwidth\": 2, \"linecolor\": \"white\", \"showbackground\": true, \"ticks\": \"\", \"zerolinecolor\": \"white\"}, \"zaxis\": {\"backgroundcolor\": \"#E5ECF6\", \"gridcolor\": \"white\", \"gridwidth\": 2, \"linecolor\": \"white\", \"showbackground\": true, \"ticks\": \"\", \"zerolinecolor\": \"white\"}}, \"shapedefaults\": {\"line\": {\"color\": \"#2a3f5f\"}}, \"ternary\": {\"aaxis\": {\"gridcolor\": \"white\", \"linecolor\": \"white\", \"ticks\": \"\"}, \"baxis\": {\"gridcolor\": \"white\", \"linecolor\": \"white\", \"ticks\": \"\"}, \"bgcolor\": \"#E5ECF6\", \"caxis\": {\"gridcolor\": \"white\", \"linecolor\": \"white\", \"ticks\": \"\"}}, \"title\": {\"x\": 0.05}, \"xaxis\": {\"automargin\": true, \"gridcolor\": \"white\", \"linecolor\": \"white\", \"ticks\": \"\", \"title\": {\"standoff\": 15}, \"zerolinecolor\": \"white\", \"zerolinewidth\": 2}, \"yaxis\": {\"automargin\": true, \"gridcolor\": \"white\", \"linecolor\": \"white\", \"ticks\": \"\", \"title\": {\"standoff\": 15}, \"zerolinecolor\": \"white\", \"zerolinewidth\": 2}}}},\n",
              "                        {\"responsive\": true}\n",
              "                    ).then(function(){\n",
              "                            \n",
              "var gd = document.getElementById('e8226127-4c71-4e9f-90ac-37b8c4b2686d');\n",
              "var x = new MutationObserver(function (mutations, observer) {{\n",
              "        var display = window.getComputedStyle(gd).display;\n",
              "        if (!display || display === 'none') {{\n",
              "            console.log([gd, 'removed!']);\n",
              "            Plotly.purge(gd);\n",
              "            observer.disconnect();\n",
              "        }}\n",
              "}});\n",
              "\n",
              "// Listen for the removal of the full notebook cells\n",
              "var notebookContainer = gd.closest('#notebook-container');\n",
              "if (notebookContainer) {{\n",
              "    x.observe(notebookContainer, {childList: true});\n",
              "}}\n",
              "\n",
              "// Listen for the clearing of the current output cell\n",
              "var outputEl = gd.closest('.output');\n",
              "if (outputEl) {{\n",
              "    x.observe(outputEl, {childList: true});\n",
              "}}\n",
              "\n",
              "                        })\n",
              "                };\n",
              "                \n",
              "            </script>\n",
              "        </div>\n",
              "</body>\n",
              "</html>"
            ]
          },
          "metadata": {
            "tags": []
          }
        }
      ]
    },
    {
      "cell_type": "markdown",
      "metadata": {
        "id": "pNyOIECUaVud",
        "colab_type": "text"
      },
      "source": [
        "## Test des différents type de modèles diponibles\n",
        "\n",
        "- BERT : bert\n",
        "- CamemBERT : camembert\n",
        "- RoBERTa : roberta\n",
        "- DistilBERT : distilbert\n",
        "- ELECTRA : electra\n",
        "- XLM-RoBERTa : xlmroberta"
      ]
    },
    {
      "cell_type": "code",
      "metadata": {
        "id": "WdJOkzpw7Rzt",
        "colab_type": "code",
        "outputId": "db0489a3-5e30-4f09-b480-2c75bf9034d5",
        "colab": {
          "base_uri": "https://localhost:8080/",
          "height": 54
        }
      },
      "source": [
        "# Notre jeu d'entrainement sera constitué d'environ 80 pourcent des sentence_id unique (+- 10293) et 20 pourcent pour le test\n",
        "\n",
        "randomlist = []\n",
        "for i in range(0,10293):\n",
        "  n = random.randint(0, df[\"sentence_id\"].nunique())\n",
        "  randomlist.append(n)\n",
        "print(randomlist)"
      ],
      "execution_count": 36,
      "outputs": [
        {
          "output_type": "stream",
          "text": [
            "[9314, 11338, 12624, 11145, 1833, 2080, 2991, 158, 7242, 6331, 5015, 3817, 8213, 5766, 3451, 1575, 11482, 7580, 10170, 10308, 11377, 9254, 4263, 10591, 6334, 772, 6566, 7634, 8639, 12608, 11145, 10065, 10860, 7925, 12524, 5866, 9754, 10559, 4947, 11690, 1978, 8501, 6924, 1968, 12521, 5863, 6084, 8788, 1894, 1489, 2488, 8965, 6568, 11622, 10580, 3290, 5934, 11628, 9060, 8967, 11285, 1308, 4051, 11894, 3612, 8774, 8695, 3216, 5919, 10748, 2006, 5217, 12520, 11300, 10214, 12679, 2079, 7085, 1449, 12361, 4993, 7243, 7206, 1011, 7413, 11537, 4523, 5258, 4453, 5339, 10831, 4672, 10954, 11906, 12738, 8090, 4535, 12623, 5012, 5924, 7705, 9605, 698, 11317, 3060, 10082, 9612, 4943, 4799, 1498, 3595, 7251, 5601, 4528, 7450, 2705, 10039, 12859, 12614, 7649, 9680, 12719, 5598, 6935, 1015, 6156, 1351, 794, 2784, 9882, 8063, 7495, 389, 2034, 4653, 3731, 1913, 1595, 5575, 8417, 2243, 6278, 10792, 856, 9809, 1672, 3691, 3759, 10542, 584, 9179, 6802, 6713, 7004, 7192, 12165, 6899, 10800, 9532, 6434, 5879, 12532, 11962, 11585, 10549, 9773, 5190, 3330, 4954, 8617, 6109, 9791, 3080, 5694, 5760, 7970, 5018, 1204, 11240, 103, 8985, 813, 336, 227, 12325, 11942, 9999, 11161, 9426, 7082, 1813, 12265, 5819, 8433, 7663, 12689, 11846, 1921, 8973, 444, 6053, 5076, 3385, 5650, 8249, 6334, 2806, 6960, 12633, 11675, 6026, 9170, 9899, 6993, 1993, 11848, 12062, 11097, 4990, 11867, 690, 8230, 11230, 7049, 704, 7195, 1313, 11363, 1013, 8192, 7762, 10828, 2871, 4406, 10279, 11862, 6063, 1376, 306, 8477, 10522, 8877, 8506, 2145, 7969, 1146, 6723, 3287, 12787, 5993, 4695, 9509, 1646, 8444, 7299, 2348, 3803, 235, 7707, 1619, 3307, 11918, 2024, 4654, 3631, 11692, 2928, 7144, 5368, 443, 11366, 7313, 3661, 7567, 8279, 10750, 5166, 12457, 9901, 3774, 5505, 11415, 426, 6128, 11896, 2887, 11509, 8770, 4607, 1837, 7739, 9929, 6060, 10380, 4020, 5629, 1152, 4223, 8486, 5583, 7017, 2953, 12113, 6208, 10143, 6821, 7023, 2200, 12328, 12106, 3936, 3885, 7217, 5386, 1476, 7475, 7007, 1289, 4909, 2693, 5566, 6058, 6712, 1895, 9502, 11112, 3512, 4911, 7092, 7133, 9543, 10077, 3902, 6532, 1875, 12058, 6901, 10115, 5401, 9982, 2685, 2916, 1329, 7928, 917, 8777, 8727, 10358, 8425, 9078, 12656, 1424, 1874, 6274, 6486, 10881, 3356, 8320, 391, 7757, 1527, 8139, 4640, 8570, 1718, 3607, 4510, 9895, 4962, 12441, 4500, 2034, 3531, 8442, 12257, 3170, 7260, 10215, 1330, 5432, 5166, 7558, 5372, 6822, 1537, 9137, 933, 8689, 3076, 7857, 1210, 4148, 3544, 2730, 5182, 3406, 8252, 4116, 9824, 12693, 7553, 9629, 3858, 2180, 359, 6917, 5760, 7598, 458, 6130, 11399, 3237, 6445, 1596, 463, 12264, 10019, 7925, 4195, 12703, 9615, 6782, 11319, 7520, 7350, 10402, 11130, 12491, 1406, 11504, 3287, 3942, 3555, 6173, 11547, 4521, 2241, 1196, 10852, 6190, 7385, 5761, 2865, 1000, 5684, 12813, 3762, 1437, 922, 8354, 2155, 8933, 3208, 12123, 9020, 10590, 4423, 6368, 4603, 9364, 5163, 5901, 11876, 8598, 10191, 9042, 2045, 6385, 10275, 12219, 6811, 4165, 2622, 688, 264, 2163, 575, 12265, 7413, 1192, 11933, 2620, 11893, 11641, 9524, 5257, 544, 5059, 11505, 161, 11289, 12650, 3061, 612, 9307, 4338, 10416, 5384, 853, 7708, 8252, 6799, 1139, 4429, 2379, 832, 11770, 3372, 1835, 255, 4114, 5822, 8991, 4599, 8534, 10396, 4266, 2628, 12709, 10582, 338, 10274, 5181, 2528, 5929, 135, 3573, 4639, 2954, 8278, 8287, 161, 7304, 1413, 3430, 2469, 9676, 4248, 5317, 3626, 6315, 7939, 2537, 12548, 6932, 11135, 1068, 12823, 1958, 1368, 8787, 10778, 7127, 861, 11643, 463, 10028, 2533, 2528, 10421, 12753, 11128, 4809, 9394, 9377, 11733, 12550, 9927, 6941, 4098, 6964, 10790, 5972, 10577, 10045, 8738, 9711, 11755, 4481, 3396, 8992, 1540, 9562, 3688, 11483, 7012, 3241, 10266, 10681, 2950, 1029, 7149, 192, 3129, 12170, 5003, 6929, 9404, 2044, 341, 7971, 4775, 9314, 8841, 58, 12449, 7626, 2923, 12378, 2301, 12347, 4787, 9028, 7892, 8105, 3650, 6625, 2101, 2153, 11209, 1597, 1708, 7161, 1930, 6728, 12234, 8905, 5845, 6180, 4003, 9852, 10557, 5507, 3202, 8569, 893, 5167, 4074, 9136, 3493, 7147, 9702, 12619, 1947, 5943, 8167, 12296, 8869, 2876, 3978, 11572, 1197, 4679, 614, 6939, 7217, 11197, 6983, 12034, 11707, 3898, 588, 7860, 4087, 10410, 6490, 1011, 4811, 8578, 721, 5790, 253, 3371, 11575, 604, 12422, 12586, 11436, 1412, 9718, 9822, 12440, 10050, 11238, 6849, 5859, 7839, 6568, 7469, 1706, 961, 1377, 2817, 9501, 2299, 12571, 1519, 11385, 2572, 1152, 11866, 4394, 8405, 6247, 12225, 1771, 6948, 11035, 5735, 2108, 8361, 1901, 6362, 2689, 6031, 4864, 2658, 9029, 2670, 6716, 8265, 3210, 1036, 12769, 8996, 3064, 2033, 8625, 11836, 10047, 5873, 2864, 7137, 1910, 2791, 658, 3714, 1883, 11394, 1071, 8727, 5055, 8109, 9260, 3142, 3520, 9220, 1530, 5943, 2134, 12266, 441, 6108, 11030, 9127, 1706, 887, 372, 7623, 6364, 5627, 11239, 5927, 9898, 10697, 12200, 6544, 1567, 8879, 10478, 5792, 6559, 5982, 9925, 10111, 6130, 840, 6153, 8925, 7251, 2960, 12655, 5339, 3935, 2488, 9058, 11964, 5888, 4339, 1620, 5492, 9771, 3708, 11846, 1570, 12440, 1983, 4333, 12477, 1347, 5724, 6160, 4870, 10637, 10175, 10519, 9915, 2322, 11646, 11846, 4738, 6517, 3922, 11309, 4398, 9841, 3905, 8356, 2237, 7972, 9710, 5642, 8400, 7471, 10555, 7857, 10781, 10471, 3858, 8448, 8738, 3737, 8262, 6435, 725, 862, 8341, 180, 10324, 1057, 7351, 6363, 1645, 1543, 12097, 6129, 8430, 3351, 9450, 2724, 5042, 3052, 1633, 1216, 6249, 10576, 7322, 9088, 7032, 9609, 9415, 8491, 11345, 1804, 3982, 3025, 2582, 8351, 3066, 4761, 11569, 4611, 12646, 10328, 2721, 2967, 7234, 1447, 12741, 10919, 6387, 3666, 12581, 12099, 9922, 405, 483, 4780, 5770, 5403, 1479, 4998, 10873, 1971, 11708, 11031, 5203, 1729, 4713, 1324, 5538, 5453, 9781, 7340, 2082, 3017, 4205, 4157, 7735, 5195, 10069, 8287, 6868, 6922, 7604, 8731, 5328, 4464, 1670, 7962, 5460, 392, 9954, 10289, 3151, 6567, 7479, 7510, 3576, 11270, 573, 5121, 11191, 10208, 4919, 12389, 11348, 9696, 8112, 2718, 7153, 9295, 10000, 4990, 4492, 4417, 4330, 1136, 3801, 8500, 1756, 1947, 3777, 8170, 593, 3538, 4059, 7230, 1416, 1447, 8311, 11955, 7406, 11586, 1859, 3698, 3027, 676, 760, 1042, 7263, 10578, 12346, 2618, 10712, 8816, 9051, 3950, 12054, 7323, 3214, 3900, 10769, 8512, 3442, 12637, 4442, 8195, 225, 10496, 12712, 9403, 11585, 6514, 5533, 10569, 11584, 9733, 6118, 7252, 150, 10549, 9981, 5792, 3875, 9246, 7769, 4984, 10820, 3120, 3145, 811, 9917, 2113, 6787, 8455, 4641, 8230, 11329, 8452, 6919, 10838, 10230, 9189, 10232, 10410, 9851, 11009, 10711, 4754, 396, 11797, 12530, 5474, 6722, 6018, 12423, 3845, 7458, 348, 1795, 5206, 8664, 9202, 5287, 1052, 3048, 3362, 12412, 6679, 3412, 8303, 7263, 10796, 11778, 2345, 4772, 12259, 12777, 8619, 237, 7321, 12060, 4993, 1226, 8895, 9322, 6835, 6453, 7602, 259, 6211, 5237, 6973, 10639, 8421, 10939, 4573, 6699, 3786, 5313, 8981, 6532, 3811, 2664, 4441, 10246, 1649, 5157, 9367, 11917, 10989, 1725, 906, 877, 12498, 6624, 4388, 9717, 12354, 8190, 8260, 12793, 2229, 9082, 2774, 4405, 8927, 4026, 10180, 3714, 539, 8738, 4368, 10106, 6557, 1195, 9686, 12592, 9890, 2083, 3709, 8135, 10669, 5897, 12651, 4038, 8783, 2672, 3623, 11491, 1133, 1728, 10024, 5344, 3341, 2253, 10095, 3093, 5774, 4897, 10510, 560, 501, 1224, 8303, 2732, 6049, 2239, 9441, 4798, 2879, 10395, 8614, 1817, 2669, 2668, 4724, 11933, 2876, 4329, 9342, 685, 1669, 6495, 1144, 9426, 10962, 7097, 10790, 2145, 449, 11239, 2385, 11675, 6543, 10521, 1529, 5399, 5289, 8299, 8695, 1631, 6650, 5265, 2617, 8927, 10632, 2483, 5153, 11628, 7687, 10125, 4408, 2470, 11309, 3036, 901, 7771, 10350, 4765, 3344, 11750, 230, 5801, 6421, 2194, 2322, 10760, 6016, 11678, 1695, 7475, 11192, 11814, 298, 3710, 4407, 9546, 6155, 11784, 5842, 11873, 4862, 3200, 8201, 8687, 4942, 8692, 5440, 6676, 7730, 7833, 8538, 3482, 658, 8697, 8329, 11560, 5183, 9396, 8780, 9102, 3382, 922, 5093, 10052, 2857, 5858, 10853, 11748, 6554, 6661, 5337, 7393, 11921, 4325, 3906, 12053, 6387, 9741, 10801, 8457, 6670, 9220, 2437, 5575, 6869, 7296, 2799, 11073, 10189, 11938, 9193, 12674, 4108, 5942, 10721, 11226, 2456, 1534, 3068, 8725, 7592, 2713, 11101, 10042, 12420, 9213, 9323, 65, 8546, 9511, 5646, 3397, 4825, 8327, 3687, 379, 405, 295, 10142, 6066, 10173, 12302, 10906, 2066, 11764, 3881, 11289, 7338, 10146, 9168, 9240, 2869, 8304, 4404, 5669, 1683, 4062, 11103, 3753, 12807, 5232, 376, 1391, 4236, 9852, 7921, 5620, 8677, 3366, 5848, 5795, 11113, 3971, 6324, 6855, 9407, 11719, 1063, 1122, 10685, 10382, 7491, 2471, 11710, 8459, 11966, 11351, 7160, 4803, 7215, 3263, 1473, 1274, 3614, 7770, 8046, 4537, 10401, 8844, 10389, 9788, 7340, 10644, 7973, 1332, 2167, 11785, 2271, 7076, 12281, 2075, 1568, 8821, 2045, 1330, 4235, 2565, 2551, 12322, 3074, 2002, 3699, 1396, 3236, 7324, 5862, 1992, 5587, 8729, 4379, 9957, 9235, 8241, 2565, 7910, 8139, 8731, 9487, 2075, 8269, 1338, 8784, 2807, 6991, 5298, 8290, 7222, 10169, 8925, 5974, 10946, 810, 3717, 8526, 10931, 7870, 12689, 622, 7820, 4877, 6994, 1916, 4380, 6396, 7475, 9334, 12372, 410, 4395, 6425, 6954, 6869, 8036, 596, 9247, 1424, 7915, 6774, 4181, 5849, 4701, 10849, 4785, 7797, 1276, 9598, 9536, 5596, 11362, 8291, 10268, 6368, 2254, 10383, 81, 1926, 8743, 12060, 2262, 3146, 5176, 5386, 6641, 11104, 8954, 1306, 7396, 8243, 901, 9049, 680, 3824, 3654, 2746, 12855, 4604, 7735, 3647, 6935, 8892, 6234, 11567, 7162, 8792, 11578, 6390, 402, 10244, 8168, 10576, 7444, 4550, 11423, 2985, 1664, 11310, 4813, 10484, 3481, 6824, 6738, 9245, 10881, 5183, 8898, 5073, 7375, 10319, 10478, 3183, 3441, 4730, 5399, 1175, 8442, 3404, 7397, 4579, 9753, 8516, 6578, 6627, 8061, 2228, 905, 11126, 12390, 2171, 12048, 12641, 2323, 9428, 10418, 3386, 8379, 6228, 8997, 8131, 10693, 10570, 3297, 5511, 3968, 7228, 5127, 533, 7216, 12782, 1328, 9124, 4941, 8973, 7009, 1786, 7214, 5723, 6158, 1432, 6843, 10613, 1801, 5291, 3530, 84, 7152, 1697, 1640, 980, 649, 4595, 3314, 807, 8247, 1847, 551, 10599, 11042, 4145, 2569, 2918, 838, 12524, 8221, 2992, 6977, 11016, 5987, 7633, 11779, 883, 3099, 1108, 11817, 10689, 4362, 8313, 7915, 1614, 5555, 12550, 2765, 9440, 4185, 11053, 976, 9326, 5087, 805, 10420, 3361, 7635, 7329, 78, 5621, 11462, 6709, 9278, 5497, 316, 962, 7021, 5826, 3678, 1118, 5899, 6358, 2858, 3549, 5414, 3320, 11036, 6062, 9940, 1118, 5235, 3986, 436, 4850, 5547, 2519, 11063, 1695, 1606, 1581, 12083, 12816, 1960, 2831, 8684, 1098, 7141, 8022, 451, 3001, 11920, 4795, 1088, 8843, 12109, 9755, 8054, 1789, 2792, 1710, 8560, 10025, 2045, 3870, 9612, 11046, 11181, 11285, 6197, 4390, 5070, 2431, 367, 6016, 8541, 2558, 8173, 7911, 3669, 6511, 8868, 11269, 12213, 11132, 3504, 10889, 4397, 8329, 10712, 2779, 9437, 1926, 6064, 10684, 8825, 2163, 12147, 3645, 3535, 4174, 2330, 9219, 1872, 10737, 11543, 1956, 5649, 4014, 3347, 8529, 2812, 3311, 11313, 5015, 10100, 6582, 10808, 4395, 8879, 11807, 7412, 11834, 3160, 12402, 5973, 9657, 8870, 12725, 12544, 11489, 6618, 7006, 8130, 811, 100, 10089, 4093, 8909, 10715, 1710, 10719, 10404, 10701, 7004, 3891, 9282, 1926, 9472, 11040, 6015, 2435, 11418, 7125, 1858, 10372, 2749, 3560, 2359, 2950, 4903, 12590, 9898, 10704, 8290, 7087, 255, 3090, 12282, 12651, 5008, 12524, 8386, 11441, 11154, 4380, 8892, 2509, 6488, 9029, 5203, 3731, 9795, 125, 11441, 3013, 8698, 6899, 8564, 249, 8746, 12054, 10079, 3012, 8193, 10610, 11282, 6923, 8554, 5593, 2484, 12580, 1726, 5119, 8224, 7019, 5228, 12714, 1100, 11887, 9418, 8798, 3883, 12754, 11396, 8053, 1567, 9487, 4824, 4680, 1903, 4853, 7403, 3338, 1920, 2685, 6408, 3622, 5073, 8386, 7823, 1878, 12455, 5220, 8132, 6533, 10809, 8173, 2090, 9665, 4336, 1711, 10510, 7491, 8832, 760, 8589, 3043, 5423, 4049, 1696, 10586, 317, 11258, 11900, 6943, 6550, 5367, 3763, 2980, 8734, 7533, 2143, 1404, 1856, 630, 3825, 178, 4792, 10977, 11600, 9779, 8418, 2505, 7566, 5399, 7874, 10857, 9130, 8513, 1260, 12584, 3590, 9379, 1584, 4804, 10401, 3053, 3355, 3561, 127, 8788, 750, 5816, 3106, 7061, 12588, 5811, 182, 2683, 8654, 11329, 12149, 406, 6805, 6780, 2904, 7254, 11898, 5408, 9210, 8752, 11785, 10343, 3039, 10763, 8266, 12537, 2313, 5671, 991, 5642, 8802, 379, 9759, 8701, 2035, 8409, 270, 613, 12330, 1634, 3507, 6189, 5836, 7260, 1110, 533, 8783, 10166, 12086, 4287, 8847, 4409, 8627, 10891, 10990, 6901, 4890, 12810, 7148, 12018, 5880, 3419, 11693, 9231, 1384, 696, 8105, 5048, 3515, 7468, 7835, 12323, 8320, 2155, 7434, 10937, 8328, 11304, 11492, 11418, 7281, 8678, 12754, 6333, 5540, 10468, 1054, 7294, 11734, 2292, 8041, 3339, 807, 1091, 6643, 1848, 3408, 1730, 4539, 2419, 739, 10398, 1680, 6474, 10349, 6869, 982, 2419, 7120, 2432, 9050, 11265, 8811, 9625, 9094, 12830, 3334, 2737, 12595, 5846, 8406, 8152, 7035, 2150, 11214, 7878, 9969, 12612, 8717, 10484, 3471, 5471, 7012, 1984, 4727, 5784, 6194, 12799, 10882, 11797, 7891, 4072, 11257, 12722, 2888, 8202, 5024, 225, 4505, 12030, 2155, 72, 6945, 7006, 8069, 5436, 1669, 7188, 12861, 7712, 674, 8952, 5198, 6337, 8511, 1970, 2291, 2857, 9239, 7287, 5020, 1277, 12202, 6948, 11141, 3778, 2108, 4186, 3343, 3531, 3685, 2604, 551, 1166, 4852, 12388, 3020, 6077, 10619, 430, 7066, 1111, 4867, 11775, 5305, 10815, 2199, 4678, 1039, 6727, 2331, 6682, 12852, 5546, 5901, 6916, 5435, 11151, 11783, 861, 8682, 618, 2523, 12237, 11896, 3728, 11883, 9828, 2510, 8836, 12094, 10767, 12205, 2937, 3023, 8393, 12277, 11718, 2441, 12173, 10737, 1840, 9553, 2804, 620, 1172, 5751, 9521, 6680, 2484, 6106, 5619, 7493, 3989, 5674, 12397, 6679, 11767, 6765, 7062, 7555, 3952, 7552, 12252, 4141, 5945, 12376, 12554, 9848, 9033, 6023, 3902, 5365, 11743, 6387, 10752, 12624, 3174, 2814, 7204, 10187, 9076, 12689, 3481, 9401, 2266, 11383, 9592, 8117, 10098, 12784, 9366, 8901, 12295, 502, 5940, 4305, 8315, 6818, 8805, 6987, 10119, 233, 2308, 310, 11898, 2777, 12519, 10434, 2919, 3701, 3013, 7481, 2321, 5038, 11767, 9694, 6668, 11523, 7816, 12773, 6840, 12531, 9891, 12470, 806, 5214, 359, 10076, 4837, 2873, 6867, 2603, 1814, 2060, 25, 12579, 5154, 2682, 3191, 1219, 525, 7773, 7899, 507, 3586, 3150, 6595, 813, 4260, 10287, 4905, 8273, 8077, 9303, 8020, 692, 10986, 11019, 4797, 389, 8384, 12412, 404, 3467, 11720, 11018, 990, 8115, 7502, 2311, 6613, 7710, 10516, 1818, 8357, 3818, 11533, 1285, 5062, 3370, 1882, 3800, 2550, 785, 11067, 1043, 8609, 729, 585, 3547, 10114, 8899, 12776, 12242, 7961, 9487, 10859, 2846, 9639, 2855, 6461, 4378, 8913, 4776, 5053, 4501, 7409, 7083, 775, 9943, 2701, 7259, 5834, 4208, 9324, 2257, 4057, 9186, 11502, 9858, 4964, 12412, 3458, 11108, 4070, 6059, 6777, 3741, 6101, 5594, 8770, 10755, 4535, 12093, 9899, 9631, 8086, 5282, 8836, 2956, 165, 5779, 6186, 6992, 1028, 10501, 177, 8613, 839, 7461, 2881, 6756, 9845, 443, 6593, 3197, 5892, 284, 9755, 11001, 1229, 4370, 10374, 2966, 4336, 2949, 9251, 8289, 1775, 3185, 11902, 11020, 5050, 11108, 7586, 1252, 3001, 9548, 4876, 9629, 10919, 12109, 1168, 9157, 8661, 5915, 12755, 1654, 3425, 8168, 11126, 1590, 1491, 2670, 12365, 1216, 9529, 4568, 2604, 3756, 3648, 10891, 3566, 249, 3136, 7943, 11663, 12453, 4773, 10894, 6077, 570, 5406, 6956, 12835, 4366, 660, 735, 1253, 6373, 11108, 9692, 11113, 426, 9045, 2287, 906, 2675, 2861, 991, 6424, 4407, 8163, 892, 6542, 12532, 10970, 852, 10581, 8418, 813, 7544, 10297, 7014, 7201, 3474, 2370, 6920, 2191, 11463, 1295, 8366, 1781, 11903, 5797, 12315, 243, 656, 6880, 3129, 2429, 4571, 6993, 2498, 7572, 2077, 2124, 9327, 10938, 10904, 4865, 12154, 10406, 8280, 625, 12279, 10215, 5944, 12707, 6438, 5493, 2912, 8061, 6853, 10905, 12063, 8143, 5324, 1043, 8223, 6374, 574, 2213, 8979, 2106, 9083, 2422, 9219, 3670, 6246, 11349, 12369, 6089, 9368, 4643, 8416, 3811, 8029, 536, 10609, 765, 7809, 11590, 3477, 797, 5418, 4785, 7238, 6579, 12717, 4295, 6885, 3289, 3628, 1345, 11892, 616, 12639, 10802, 7438, 3889, 10215, 3900, 11286, 8261, 2639, 11634, 11553, 3782, 2150, 4983, 8069, 3386, 4642, 8131, 5044, 8362, 11191, 1965, 3671, 8720, 5676, 726, 1225, 2627, 4320, 10236, 5827, 11566, 1039, 2983, 9210, 11033, 11744, 3447, 4869, 4192, 7800, 2981, 10418, 9489, 2252, 7350, 8954, 8440, 10600, 12285, 9191, 7622, 10779, 7259, 7032, 538, 1024, 7959, 3454, 4396, 10827, 12308, 11916, 11817, 9256, 8216, 6024, 6979, 1775, 6687, 11298, 12098, 5771, 7755, 705, 6714, 46, 3749, 9465, 9431, 11764, 4319, 5701, 9692, 1440, 1168, 7796, 9428, 2868, 205, 8892, 12706, 4186, 5792, 1589, 4102, 1998, 10186, 8435, 10078, 3059, 6906, 2660, 4539, 11871, 1974, 5724, 4743, 8413, 12489, 5559, 6469, 3818, 2149, 7621, 6495, 11046, 8828, 4205, 11766, 6853, 510, 691, 9460, 1947, 11515, 8047, 821, 21, 2682, 7084, 11842, 8291, 7644, 2024, 4844, 9082, 2898, 8951, 12525, 5916, 5674, 6547, 10500, 6389, 9324, 7738, 4816, 1620, 3429, 8269, 7985, 12685, 9308, 7193, 12563, 12523, 11651, 9289, 10159, 1370, 9336, 3776, 10566, 809, 5092, 7842, 12324, 9048, 8285, 8610, 11227, 9042, 2491, 9081, 5060, 6523, 10743, 1094, 7628, 3221, 10572, 852, 8897, 12296, 3604, 4667, 3336, 1425, 10999, 5368, 11975, 6697, 12233, 1274, 12364, 919, 8136, 11752, 3511, 11417, 8234, 11069, 7417, 7939, 6867, 9750, 3144, 62, 3680, 2912, 3406, 109, 10314, 8671, 2676, 2724, 10032, 6945, 10146, 9899, 5187, 8108, 11765, 10119, 580, 12006, 10837, 3914, 1227, 6279, 2551, 406, 10649, 6467, 3109, 5069, 5137, 1731, 727, 6900, 10875, 9872, 10876, 2224, 6471, 187, 6273, 2767, 11206, 7354, 9458, 7706, 2119, 5274, 8655, 11083, 607, 7376, 3212, 10049, 10442, 10425, 1200, 750, 9886, 7205, 10633, 9078, 9239, 10929, 11796, 6493, 11196, 3657, 27, 10093, 5723, 5363, 3333, 2774, 2494, 5690, 3229, 4208, 11947, 2742, 6860, 3626, 11661, 4786, 11524, 8712, 12093, 7595, 3200, 10002, 4352, 3952, 7542, 10595, 3176, 12093, 9761, 12218, 3318, 12202, 535, 6588, 8419, 7672, 8269, 10305, 7569, 4092, 12020, 4735, 12816, 413, 1476, 298, 10666, 911, 7429, 7425, 8740, 298, 11556, 2247, 3298, 3111, 537, 10552, 9897, 855, 1605, 12782, 7983, 954, 2203, 5384, 9711, 1987, 6032, 9518, 7811, 8800, 568, 10844, 6596, 12000, 706, 10503, 12566, 2671, 8587, 6000, 8658, 2569, 3148, 4924, 6101, 357, 6017, 9057, 6458, 6685, 1966, 215, 2469, 11154, 10675, 10879, 2409, 11670, 9726, 6468, 11238, 9708, 462, 4710, 2820, 3190, 10697, 36, 7794, 3092, 12804, 3873, 6867, 10855, 1004, 9618, 9736, 8574, 3591, 10146, 398, 2450, 5857, 7040, 3428, 8204, 10878, 10651, 8946, 3790, 7201, 176, 9794, 5483, 5749, 10829, 2618, 8501, 10453, 10515, 4017, 3917, 12120, 5787, 292, 4704, 3373, 7884, 1237, 2445, 9161, 11109, 3140, 9958, 10661, 7195, 5486, 2791, 147, 3526, 8676, 2284, 6745, 4671, 10334, 6733, 10313, 4816, 785, 377, 3977, 2313, 5448, 5438, 4010, 6827, 2975, 1629, 8444, 5497, 11902, 10252, 1962, 8127, 7929, 11508, 11009, 416, 7226, 11641, 5009, 5978, 8639, 2504, 7275, 9153, 390, 10831, 4317, 6659, 8821, 11383, 8529, 4381, 10323, 2082, 4591, 10623, 11827, 12107, 1103, 10500, 4890, 9509, 7574, 824, 6893, 10713, 3523, 1767, 6806, 10398, 251, 9853, 6216, 2790, 2618, 8388, 7166, 721, 242, 8853, 1961, 5121, 6136, 8569, 8863, 469, 3262, 10667, 7953, 2116, 3418, 11796, 9794, 10591, 9359, 2542, 8493, 7803, 8160, 1593, 3506, 6573, 573, 4880, 9470, 1224, 9896, 5166, 1633, 5018, 8377, 9964, 8576, 7623, 5569, 12178, 3201, 4662, 10565, 10456, 5218, 808, 10630, 80, 10985, 6768, 6549, 9265, 648, 10016, 6624, 11773, 1938, 11843, 9132, 4399, 3068, 1009, 8501, 179, 2546, 7161, 604, 5858, 9669, 10402, 712, 3906, 4842, 271, 1163, 2420, 8291, 2195, 8383, 4247, 4320, 6221, 6604, 7172, 12130, 400, 3624, 5697, 11612, 11312, 7605, 4648, 5614, 3387, 5639, 2341, 6876, 5445, 9073, 7741, 9530, 1626, 3420, 3871, 5808, 385, 12110, 6490, 8913, 4589, 7336, 12065, 5435, 12681, 9809, 236, 4376, 1150, 8427, 5236, 10037, 6153, 6137, 392, 2424, 11455, 8094, 7281, 7844, 7371, 4551, 12409, 2772, 4582, 478, 1015, 11815, 1203, 9727, 2619, 3605, 5765, 3759, 5907, 3047, 1228, 7486, 5769, 3929, 2955, 9555, 1835, 11330, 4235, 10271, 8795, 5701, 4178, 8282, 9536, 3683, 9586, 9272, 3069, 9839, 9848, 10496, 2599, 4870, 5721, 3117, 8273, 9134, 3288, 11218, 4838, 11895, 12685, 12594, 3585, 10148, 764, 8781, 8169, 8044, 12582, 9334, 3400, 3776, 2099, 2224, 10486, 8972, 386, 3141, 7417, 7025, 7204, 707, 6785, 11870, 3802, 10735, 11149, 1980, 1012, 11228, 6785, 11948, 4767, 4027, 12051, 2376, 7167, 1361, 9006, 8556, 9693, 2083, 3641, 8814, 6911, 7275, 3323, 8116, 8154, 6187, 10656, 5857, 845, 1564, 9000, 823, 2287, 2309, 1555, 5914, 4969, 10794, 5419, 10440, 8248, 5882, 12774, 6766, 11603, 10633, 4966, 9462, 5280, 2772, 3750, 12573, 2069, 178, 12679, 12095, 7379, 3348, 6528, 10467, 8450, 4706, 6647, 4657, 11181, 6669, 12634, 8049, 12343, 12450, 7749, 4890, 9160, 4842, 8209, 10313, 8217, 2683, 11684, 2227, 5771, 10878, 1152, 6170, 12073, 5137, 12547, 3430, 12680, 1093, 2822, 4331, 938, 9161, 7626, 9256, 8544, 12197, 4697, 1980, 3843, 7587, 12556, 1166, 769, 8786, 2798, 317, 12068, 1232, 11484, 2245, 9443, 5561, 11018, 7509, 5944, 6225, 12842, 6125, 9795, 755, 12203, 11502, 8687, 7097, 4350, 2444, 9383, 7669, 12774, 5351, 6574, 6487, 5496, 6729, 8664, 10067, 8416, 1221, 10903, 12475, 1607, 10793, 2683, 3089, 2938, 8083, 10319, 9738, 1107, 6566, 3579, 12690, 3889, 2276, 6806, 9348, 5918, 2195, 1352, 9544, 3272, 4073, 8196, 8324, 9134, 5301, 11885, 10580, 493, 10429, 10748, 1874, 8481, 9720, 2792, 4377, 401, 5542, 1904, 8833, 2697, 4628, 3046, 6650, 8913, 3575, 1601, 3734, 2440, 1087, 6203, 607, 6677, 8971, 4096, 9135, 9566, 951, 5041, 2671, 2230, 9992, 8320, 4093, 10118, 9773, 1328, 6080, 8185, 8567, 2916, 550, 9555, 438, 505, 9642, 11385, 5222, 11288, 11679, 7715, 8063, 9711, 2010, 190, 11101, 7120, 11684, 4196, 2723, 3902, 10897, 9566, 5910, 11299, 7149, 8220, 429, 2824, 5108, 12184, 910, 1669, 8559, 2139, 8571, 3025, 5706, 9049, 6142, 8587, 4446, 6993, 1333, 12751, 6485, 1502, 6541, 7931, 10029, 1965, 2800, 12145, 69, 866, 6510, 3987, 2310, 5469, 6979, 10539, 10225, 12345, 8734, 6914, 4294, 3099, 11491, 3490, 3738, 623, 9317, 7429, 12744, 9061, 4188, 7415, 2383, 2694, 6779, 12320, 151, 8649, 4829, 2436, 11642, 7365, 5349, 8336, 437, 2881, 12400, 9115, 5883, 4802, 4103, 2010, 11139, 10062, 2737, 10910, 1231, 1610, 3665, 5311, 7956, 4374, 4759, 157, 5953, 895, 10897, 584, 11346, 2305, 7004, 4754, 8357, 256, 6704, 1462, 5429, 7109, 12412, 8671, 8995, 10585, 7360, 6033, 6091, 3140, 1878, 6481, 1742, 6181, 424, 9987, 2102, 2130, 1356, 4980, 4409, 1648, 3887, 9756, 2317, 7810, 350, 169, 8598, 8262, 7129, 5193, 10443, 2298, 12849, 10441, 12526, 4707, 7423, 4626, 1527, 5608, 2100, 8611, 6932, 8055, 674, 4147, 1412, 5032, 9388, 8824, 6641, 10994, 10226, 7005, 3882, 3128, 4993, 39, 10042, 11986, 1016, 10988, 3444, 12779, 8921, 8084, 433, 7620, 6846, 10143, 8709, 4493, 6216, 12706, 4166, 10997, 2072, 6657, 2577, 1676, 12045, 5416, 5642, 8993, 11141, 11665, 5008, 1991, 7496, 4355, 10902, 6208, 7038, 229, 7271, 6159, 4315, 4503, 5511, 6688, 2920, 3195, 4582, 7701, 11513, 8933, 9712, 3353, 552, 10954, 10386, 7074, 4988, 7599, 12501, 2573, 1410, 10928, 2422, 5544, 4080, 6004, 4132, 8037, 11435, 3097, 2660, 11885, 6525, 10049, 7497, 10131, 5731, 1987, 3134, 1460, 7213, 3291, 4225, 9897, 2109, 3788, 2420, 5721, 7634, 6492, 3439, 10758, 8193, 2657, 12735, 1690, 914, 12395, 11354, 6334, 12601, 4112, 262, 9576, 7793, 5239, 12417, 10338, 8802, 11049, 2705, 3665, 2622, 5579, 10650, 6513, 9415, 5231, 10554, 1862, 9934, 12710, 7457, 6003, 12318, 5869, 5703, 11302, 6718, 3329, 6699, 9333, 4400, 4907, 338, 8583, 3336, 7901, 7199, 6388, 3456, 299, 6000, 12096, 8309, 10226, 8919, 7433, 2933, 5450, 9540, 10302, 4106, 4592, 2363, 7805, 1300, 1278, 387, 11341, 6512, 8186, 9042, 6320, 12027, 2941, 334, 3296, 2915, 1105, 4519, 5503, 7308, 6026, 5888, 663, 5928, 9891, 5119, 4217, 3216, 10137, 4769, 898, 7904, 8321, 10981, 2175, 12402, 2829, 8168, 5707, 9738, 230, 3588, 8541, 4297, 8100, 10683, 447, 10110, 6925, 12777, 4723, 11654, 2937, 8806, 12181, 4389, 9723, 4097, 9769, 3480, 6729, 7470, 12080, 883, 6768, 4408, 6931, 1130, 9360, 2494, 2310, 1563, 12861, 2675, 8669, 9572, 11407, 4513, 5785, 5214, 10121, 8661, 9064, 3389, 6758, 9895, 5689, 5726, 1291, 8411, 5347, 2526, 272, 7442, 8635, 6502, 4288, 11384, 10525, 9672, 9721, 1403, 9054, 12455, 8188, 11911, 4297, 7721, 6182, 3418, 5185, 9207, 11265, 803, 4100, 11529, 12801, 10322, 10782, 12812, 9352, 918, 4135, 10601, 10371, 8686, 2209, 4126, 11347, 12569, 5617, 5132, 362, 3677, 2809, 6151, 1809, 9302, 12660, 11921, 5424, 8200, 212, 12567, 4325, 2559, 192, 7822, 5091, 10142, 4696, 11595, 9132, 1872, 12283, 317, 911, 10154, 11800, 538, 5986, 12135, 10132, 1419, 9213, 11362, 12382, 10074, 7178, 2152, 646, 5969, 9208, 3083, 6824, 7524, 6486, 501, 4337, 11702, 4692, 10565, 11533, 5149, 8381, 5374, 11966, 11654, 9152, 2269, 9429, 8526, 6398, 3576, 7270, 4324, 10173, 4843, 4126, 12635, 10542, 6344, 10023, 3096, 2079, 10126, 6838, 2993, 7661, 7061, 1539, 7204, 12321, 6431, 6355, 8727, 10806, 6580, 7313, 10983, 10102, 1797, 810, 9387, 203, 663, 3829, 7653, 1432, 9514, 6001, 10771, 2347, 10, 721, 7539, 4859, 4892, 6972, 3691, 2103, 5541, 3540, 8168, 2385, 4073, 2750, 3818, 4414, 8611, 11466, 9212, 1510, 864, 6921, 12175, 699, 2141, 5684, 3411, 4438, 6068, 11424, 10219, 8137, 3658, 1708, 3864, 11585, 8136, 9635, 5291, 342, 2715, 6189, 6646, 12245, 10137, 5576, 9259, 3708, 545, 11725, 10580, 5443, 4910, 8938, 11849, 7843, 10814, 8250, 8083, 952, 3300, 115, 12606, 4478, 3362, 6020, 8510, 3867, 4827, 4474, 629, 2403, 11539, 1757, 6596, 5733, 10569, 12091, 2609, 7852, 9655, 1623, 6342, 7316, 1709, 6700, 7113, 1158, 5119, 8323, 5571, 5278, 9691, 7994, 2992, 2762, 9036, 9202, 2388, 6011, 1699, 9898, 573, 2120, 344, 1916, 10237, 10157, 6046, 3299, 10589, 10904, 1452, 3220, 10167, 67, 4779, 10690, 5594, 8109, 12167, 9478, 10267, 7282, 12108, 7632, 12540, 7990, 11041, 9700, 4803, 2180, 12332, 67, 5920, 1565, 3811, 9414, 11447, 4983, 10115, 1675, 1831, 12378, 7030, 2860, 3526, 10043, 4948, 686, 8568, 3850, 3318, 9013, 3061, 4773, 11374, 7064, 6819, 3027, 9155, 9790, 11452, 710, 8268, 5757, 797, 12345, 2195, 7256, 4167, 4277, 9801, 898, 4079, 1329, 2869, 4764, 4775, 601, 11318, 246, 1780, 7898, 7768, 12339, 10228, 11094, 9385, 7826, 1831, 5044, 9177, 8901, 11239, 42, 9034, 1177, 7679, 10386, 8724, 5507, 9372, 4481, 5094, 8680, 1652, 5885, 6936, 5250, 9554, 9215, 10964, 12621, 7550, 6848, 1438, 5133, 2919, 5958, 12769, 6308, 12201, 4960, 12084, 2706, 11728, 12224, 10583, 2152, 6667, 9458, 4445, 11939, 11137, 11926, 12121, 3735, 4765, 7906, 7541, 769, 4862, 9617, 4456, 4117, 480, 7510, 3447, 909, 9635, 10377, 600, 9193, 1637, 9888, 4260, 4098, 6183, 9230, 2342, 7373, 1304, 6075, 10038, 2513, 12643, 2609, 3885, 3595, 1527, 5402, 7104, 5728, 276, 122, 11077, 8063, 11805, 7352, 7514, 12481, 9484, 436, 8558, 12060, 9612, 11617, 3607, 6688, 11000, 9796, 11325, 3207, 3447, 8334, 5602, 6885, 9947, 991, 2768, 11381, 6261, 902, 5058, 208, 12106, 794, 4230, 7620, 11230, 12364, 5215, 486, 6339, 1014, 6820, 1667, 530, 4299, 1345, 10011, 7682, 12725, 10536, 10790, 4031, 11704, 772, 10955, 1737, 8702, 4558, 3114, 7540, 8860, 7885, 9115, 10515, 2504, 4460, 3347, 2322, 6188, 12016, 4601, 6387, 9729, 4593, 594, 4405, 9, 1274, 9236, 4254, 9307, 268, 1411, 5918, 8978, 968, 9721, 7255, 6878, 12465, 4960, 3172, 1403, 11062, 11714, 7647, 7124, 2102, 9817, 10849, 4245, 10488, 2709, 6767, 11676, 2131, 9607, 7895, 5668, 1524, 9596, 9775, 10886, 4064, 1741, 12740, 9313, 10991, 202, 10898, 10440, 7037, 9861, 7051, 7290, 9637, 5684, 6763, 8570, 1781, 7218, 3810, 12404, 11287, 10747, 8168, 9523, 10510, 4490, 4877, 7629, 6280, 12302, 1722, 5345, 10896, 7110, 11699, 10578, 11786, 5552, 9467, 2156, 3599, 521, 10980, 5739, 4312, 2561, 2465, 7530, 12115, 1141, 9711, 10113, 4832, 1093, 6109, 8908, 6852, 7880, 6313, 829, 3177, 1449, 12641, 5945, 2509, 8289, 10797, 9310, 1858, 5545, 2148, 2116, 4077, 10112, 9728, 11406, 6764, 6840, 6240, 1651, 444, 7646, 8513, 11048, 10529, 7041, 8225, 11600, 1869, 8232, 23, 7930, 6656, 11451, 4831, 4477, 4499, 115, 6365, 8661, 7027, 11639, 4928, 5239, 12687, 793, 12302, 12009, 4455, 8717, 9744, 4963, 5155, 6010, 3427, 354, 4956, 4630, 5129, 8484, 11870, 2001, 8653, 7279, 3674, 4369, 12049, 3264, 376, 10662, 2550, 9113, 4652, 234, 5239, 9058, 954, 2640, 2030, 4971, 4122, 2938, 8155, 10938, 11613, 3022, 8471, 7720, 12389, 380, 1309, 11489, 11535, 9430, 9885, 6884, 10753, 9506, 7702, 12551, 4394, 11813, 3285, 1792, 9383, 12589, 661, 4576, 3665, 9287, 8023, 2552, 11720, 11198, 6892, 4612, 7359, 4293, 12271, 2343, 11033, 720, 12466, 3739, 2011, 9969, 1186, 6865, 984, 5169, 75, 8655, 7107, 12322, 9413, 6105, 11956, 4133, 5596, 5801, 11638, 11697, 5241, 11489, 4455, 12776, 11966, 816, 2901, 9200, 1114, 4, 765, 6244, 11830, 2690, 11877, 1173, 8467, 4639, 12803, 11657, 12294, 9645, 8218, 11941, 8774, 1428, 6214, 11912, 4910, 3307, 9717, 677, 2716, 1131, 10185, 8820, 3905, 6969, 73, 10763, 6228, 6894, 2833, 4440, 2239, 1957, 8456, 6144, 11952, 9093, 8479, 3759, 5856, 10789, 11975, 8443, 12659, 11194, 1852, 3728, 6413, 2055, 12416, 12291, 3657, 262, 2821, 6082, 8344, 12151, 3053, 2596, 316, 3202, 9702, 2517, 1337, 7620, 10678, 8150, 396, 3451, 9608, 241, 9257, 4630, 8277, 2684, 1648, 3285, 477, 8647, 6441, 9822, 2692, 11966, 11617, 11809, 9967, 405, 4872, 10227, 2801, 7479, 1516, 983, 6581, 2068, 11256, 12243, 9482, 4754, 9096, 4798, 7130, 1072, 164, 6778, 11066, 4250, 5349, 5260, 12537, 11550, 7570, 10514, 11197, 6569, 7157, 1256, 10573, 9971, 6927, 365, 10959, 3737, 10483, 5428, 8162, 7376, 8073, 1001, 9552, 11053, 4242, 7509, 6760, 8986, 10317, 4801, 12345, 9197, 11371, 691, 864, 3459, 12716, 282, 3547, 3251, 9375, 7823, 1661, 10499, 10763, 8089, 546, 96, 9166, 2828, 6433, 4514, 9203, 6329, 1124, 12524, 7600, 8362, 27, 6813, 1973, 5184, 7756, 11421, 7850, 10589, 10668, 1228, 6936, 5817, 8005, 7365, 697, 3247, 7259, 11097, 644, 9969, 4728, 8194, 1677, 10415, 364, 5801, 726, 2471, 10646, 9430, 843, 6812, 646, 2152, 8628, 10263, 11396, 4935, 1396, 1630, 8842, 8253, 979, 817, 10133, 4324, 7321, 6542, 12266, 9695, 368, 2334, 3206, 10533, 10214, 730, 8864, 651, 2879, 1493, 10679, 3129, 9427, 10840, 1337, 174, 4141, 7866, 11801, 6988, 4767, 7428, 2278, 6791, 4109, 6591, 998, 2139, 6757, 3791, 9920, 11980, 4076, 902, 4249, 11046, 12748, 5490, 9153, 1282, 5995, 3786, 2701, 8605, 2959, 4303, 12649, 3588, 5049, 12335, 1139, 2143, 2183, 4943, 9622, 2060, 12413, 6494, 822, 12636, 8466, 11167, 5546, 7136, 5295, 11427, 9695, 4078, 10356, 1636, 9436, 12093, 9039, 4729, 3575, 9002, 12485, 6069, 10912, 640, 1139, 1584, 3883, 9344, 978, 7260, 11093, 734, 6728, 6732, 11259, 11712, 2048, 6863, 3514, 1785, 93, 8059, 5412, 1805, 1938, 11239, 2033, 9170, 11248, 608, 3737, 9448, 8787, 12504, 6863, 1596, 5441, 12538, 5793, 10157, 9988, 4957, 2397, 11133, 109, 2175, 11239, 1795, 8621, 3271, 2135, 11205, 22, 3525, 2663, 5296, 10606, 1497, 379, 6440, 12169, 371, 7727, 1799, 5865, 6114, 10389, 10223, 7381, 10450, 8047, 6919, 4150, 7306, 764, 9343, 6290, 12274, 3119, 3558, 9688, 7101, 10753, 6241, 412, 10635, 3172, 7620, 1000, 2013, 519, 144, 4799, 9682, 11834, 7863, 12746, 1127, 5731, 8494, 2933, 1456, 8378, 8634, 622, 7795, 2313, 8565, 12015, 11408, 10003, 12260, 12379, 10907, 8679, 10331, 12415, 8850, 2129, 3733, 2031, 7208, 11015, 12515, 1585, 3638, 1817, 7327, 10587, 9917, 8385, 7417, 10043, 10658, 11117, 6560, 452, 8909, 7565, 279, 1133, 3578, 11670, 4353, 5026, 4381, 12634, 3709, 11733, 7164, 11538, 440, 11923, 12737, 100, 1047, 821, 8176, 1844, 2507, 3848, 4026, 8039, 5125, 4075, 4587, 11819, 2139, 6078, 7656, 9382, 10353, 8180, 7655, 10232, 278, 7359, 1994, 3694, 3139, 314, 12868, 3939, 2100, 9401, 886, 7081, 1470, 12625, 1427, 11245, 7536, 11401, 3488, 5214, 11386, 2983, 5053, 4413, 7486, 12545, 3705, 3178, 12359, 8339, 1939, 11825, 11637, 445, 7523, 3598, 9199, 8174, 8008, 8403, 10458, 428, 363, 7843, 6890, 2627, 5720, 8331, 975, 6504, 8960, 9022, 11809, 2644, 11787, 7982, 12257, 9092, 11529, 5247, 6543, 10774, 2404, 8715, 7143, 9764, 9234, 7666, 5845, 5621, 4078, 10981, 8008, 12557, 3236, 2898, 1698, 9297, 8572, 8044, 2496, 1039, 11217, 979, 9175, 2897, 12465, 8961, 7300, 12861, 4974, 8341, 11935, 12863, 8848, 7511, 5911, 6800, 9980, 744, 12323, 5876, 3788, 7553, 4961, 4360, 4534, 7395, 1537, 6748, 9822, 7141, 6917, 12239, 1580, 1323, 1894, 6251, 2445, 8964, 4117, 2197, 3263, 2334, 4602, 9847, 6508, 3056, 11038, 8307, 4965, 7015, 1530, 1644, 8400, 7763, 5724, 1619, 10734, 7328, 5500, 900, 573, 5860, 12749, 2136, 11759, 1879, 3299, 11015, 12336, 11276, 4540, 8306, 10646, 5690, 2508, 11007, 11853, 439, 3764, 2703, 4789, 7044, 5614, 8538, 6258, 1200, 12219, 10530, 9800, 6091, 6710, 12003, 3340, 733, 409, 5730, 8939, 6780, 12292, 1004, 1349, 8983, 5392, 9699, 3902, 5160, 12530, 10145, 2878, 6383, 11133, 6376, 11429, 4456, 3665, 5635, 10219, 9089, 3487, 602, 1669, 8954, 11623, 3016, 1824, 5267, 3946, 11145, 4502, 1899, 5278, 12446, 3072, 8448, 11777, 11547, 11, 1287, 3431, 3257, 362, 1499, 9203, 2321, 7958, 6317, 1094, 7115, 9452, 1101, 6296, 11794, 3160, 489, 9731, 6083, 10439, 1273, 4884, 12830, 12023, 9561, 5017, 1851, 11473, 4934, 11946, 9099, 11905, 258, 9433, 3563, 9200, 2358, 5329, 7299, 2441, 11326, 6285, 3010, 9280, 5763, 8890, 2352, 6164, 5436, 12535, 11734, 2073, 2190, 8943, 7997, 4414, 3691, 10327, 6363, 1351, 3131, 829, 9794, 8018, 3757, 8636, 7532, 12817, 7185, 1477, 7067, 1299, 215, 9495, 3735, 4610, 1192, 3662, 7760, 8816, 1454, 3641, 6332, 4285, 12349, 5046, 1864, 7732, 348, 7408, 6872, 5872, 1339, 5290, 6187, 3980, 4196, 6178, 9246, 5506, 2306, 9327, 10219, 4380, 7574, 7385, 9647, 4203, 3108, 9681, 12759, 872, 1150, 8932, 8376, 1044, 4995, 3384, 2370, 685, 7841, 5761, 322, 648, 1952, 9658, 6019, 8770, 7855, 4167, 6021, 11730, 10047, 1301, 7113, 3123, 4600, 11641, 4301, 5144, 3894, 2934, 9411, 10431, 11221, 12750, 9302, 12492, 7726, 9665, 10756, 651, 5713, 10340, 8919, 4711, 6825, 1713, 9740, 11157, 2960, 1342, 5068, 9634, 3, 9939, 7813, 1279, 7717, 4137, 2064, 4241, 9538, 5640, 5496, 10152, 3169, 4725, 2594, 9136, 2866, 7683, 4851, 2515, 2442, 7913, 10678, 11225, 9764, 5361, 11552, 7542, 1782, 9560, 10530, 7939, 1118, 4797, 11923, 737, 3669, 1325, 5413, 8105, 5372, 5227, 6202, 8404, 4673, 8327, 6396, 1584, 2139, 1395, 7977, 7077, 1044, 7796, 10636, 2533, 4848, 7966, 4015, 6506, 8151, 4486, 6717, 9240, 2595, 8152, 12453, 11522, 9135, 12191, 9780, 5566, 10231, 9457, 3107, 11019, 11252, 9883, 11564, 5936, 5462, 4168, 7991, 1651, 2586, 6612, 5152, 7844, 11090, 2175, 2356, 657, 10392, 12242, 2590, 7607, 8381, 4347, 8106, 3080, 2113, 8181, 4373, 5042, 6458, 2758, 3934, 2089, 7802, 842, 3488, 11634, 11053, 941, 10243, 9755, 5935, 11685, 169, 1052, 6946, 12450, 12129, 9651, 2080, 3499, 2514, 6914, 2036, 2801, 11435, 387, 9517, 9466, 12276, 11927, 1468, 10736, 7645, 5167, 6988, 7356, 6240, 2692, 6030, 6253, 3760, 9286, 4965, 5226, 9374, 5958, 7458, 5550, 9500, 9395, 4157, 1399, 4753, 12159, 12592, 8771, 1737, 12195, 12154, 4514, 4335, 8262, 12045, 11896, 5460, 9675, 4673, 7181, 3343, 2522, 2995, 5149, 3990, 11042, 2550, 5270, 4973, 6955, 5148, 158, 1915, 12569, 6344, 12249, 6755, 7504, 11586, 9283, 7018, 6469, 1844, 8396, 922, 8964, 5051, 11981, 3291, 557, 4763, 12552, 10826, 1746, 5938, 10222, 9123, 1868, 2845, 1255, 5158, 9711, 11187, 4718, 6146, 1956, 12167, 5795, 3142, 7230, 12791, 9980, 10567, 7993, 1558, 3784, 10978, 515, 990, 5507, 12372, 8373, 900, 12564, 7707, 6498, 6740, 11326, 7972, 1948, 5505, 9152, 11719, 6744, 2763, 8916, 2599, 672, 9281, 816, 7896, 1657, 11127, 11292, 7160, 2373, 10486, 8482, 8301, 25, 12452, 3159, 11969, 10064, 4795, 12682, 193, 10863, 4966, 12693, 8170, 8998, 7356, 3326, 2689, 12521, 5638, 6671, 1859, 12484, 6415, 7137, 11998, 185, 8409, 476, 5444, 10152, 1911, 5381, 1379, 7162, 11746, 4393, 3132, 7221, 5675, 11877, 1644, 7807, 4836, 1745, 2590, 10686, 2210, 3501, 6107, 9997, 8235, 9548, 12291, 1267, 2676, 9880, 1000, 1906, 11149, 162, 1226, 4966, 7702, 11327, 5678, 5025, 12218, 10051, 11984, 8742, 9471, 6343, 2215, 8009, 3856, 11181, 11838, 3274, 7703, 4112, 2609, 4308, 4204, 7534, 9625, 577, 6145, 8757, 2238, 6548, 373, 3729, 3182, 2155, 12633, 9544, 4398, 8764, 12050, 10585, 10960, 4850, 1650, 780, 10858, 12600, 12424, 8261, 529, 1847, 6742, 5346, 1628, 11129, 5568, 11465, 5078, 7759, 8767, 9285, 11864, 9253, 1578, 8247, 8080, 6515, 686, 4803, 4265, 11945, 4871, 3678, 5648, 366, 1115, 2941, 5952, 10869, 10762, 503, 2397, 1661, 3041, 8424, 9193, 12549, 6279, 9317, 9936, 10407, 5654, 7880, 1983, 11812, 66, 11656, 9626, 12742, 479, 11354, 2341, 4844, 3572, 10249, 11061, 7385, 6091, 5494, 9212, 4566, 12315, 4210, 3531, 4269, 3254, 11806, 10019, 5257, 4879, 2621, 11023, 7832, 11050, 8113, 9499, 6454, 4382, 5512, 12353, 5913, 5516, 3575, 9997, 9630, 12370, 9266, 10022, 10764, 7349, 7912, 9421, 12667, 1482, 12187, 6438, 5456, 2763, 7198, 2470, 2246, 1984, 3011, 390, 3530, 3743, 5194, 3681, 11524, 6397, 439, 5475, 12704, 11093, 6111, 1724, 12833, 6277, 6816, 3290, 10724, 743, 12164, 6694, 1632, 3871, 2506, 1902, 1206, 9992, 4852, 8343, 10829, 8030, 7733, 8926, 1183, 7280, 4351, 1001, 5330, 7151, 3451, 10041, 2127, 12844, 10181, 10958, 6877, 12746, 3700, 9693, 10080, 8185, 11289, 3125, 5658, 6165, 12832, 10293, 7002, 9032, 8367, 9765, 1188, 10217, 12287, 4295, 6246, 3700, 6961, 8618, 12114, 3189, 8081, 3006, 12278, 12086, 6980, 8183, 3826, 9865, 7465, 2851, 8431, 1321, 7334, 1339, 11572, 572, 8523, 1531, 9781, 495, 250, 10322, 11589, 1261, 2067, 12507, 4413, 6338, 5598, 11610, 2486, 6812, 11880, 9625, 3211, 8475, 10029, 1595, 2242, 4503, 2064, 4089, 12381, 2401, 9544, 8108, 12080, 9218, 12800, 229, 2717, 12136, 10088, 2507, 1186, 11769, 5299, 5652, 6454, 2147, 2326, 9774, 597, 6069, 1510, 249, 12839, 7328, 3142, 10128, 6974, 2835, 7458, 3810, 5780, 5386, 12297, 2884, 7456, 10164, 8637, 11598, 4077, 8965, 12321, 1973, 11409, 3027, 11580, 5959, 9241, 5459, 8027, 7837, 1063, 10545, 7298, 7597, 3749, 4608, 5665, 7181, 9635, 3543, 723, 4804, 3503, 11804, 2875, 12842, 10898, 3212, 11001, 4054, 2328, 10343, 6031, 9920, 9941, 5403, 4227, 11364, 9976, 10775, 3281, 7191, 5140, 10369, 11226, 5935, 7606, 5286, 12088, 10900, 12623, 10675, 42, 5727, 12545, 12422, 10863, 10924, 4426, 6490, 1786, 5795, 8885, 672, 5238, 8791, 6773, 8143, 11136, 6916, 7112, 3766, 1068, 2599, 3966, 8564, 10241, 11192, 698, 5134, 3216, 2251, 9048, 5173, 10504, 6861, 11767, 1618, 5393, 1427, 6230, 3301, 11652, 3579, 11695, 4120, 10085, 9606, 8022, 314, 7976, 6471, 12203, 12637, 9885, 1989, 3586, 822, 555, 8943, 2376, 8724, 4634, 11271, 12002, 3124, 1120, 4935, 6114, 6682, 409, 11381, 9777, 8208, 5775, 12768, 8582, 11751, 2583, 1736, 4525, 2228, 1159, 4829, 11101, 6797, 526, 10538, 9972, 5754, 10309, 2239, 10051, 1853, 7165, 2160, 11731, 8278, 11779, 961, 4808, 11003, 11926, 1025, 11129, 5847, 1182, 6819, 11492, 6726, 1696, 1510, 1788, 10799, 11267, 9939, 433, 4470, 1526, 5437, 5591, 1919, 6186, 7746, 12346, 5953, 9484, 12067, 9025, 4176, 3679, 8344, 3919, 2436, 11469, 1521, 2334, 360, 2955, 1070, 10507, 7079, 7365, 9013, 12597, 9201, 1232, 1544, 7924, 7811, 9731, 6010, 11262, 4953, 1659, 5509, 3127, 11851, 6818, 7424, 836, 9962, 11583, 859, 3427, 6272, 11021, 6322, 11789, 3420, 327, 1547, 3402, 9142, 9998, 563, 7528, 2822, 11958, 5208, 11096, 9129, 12779, 10330, 7270, 1344, 10320, 2882, 5961, 12654, 9043, 3801, 6206, 9073, 11251, 12400, 8486, 1391, 8325, 10079, 8416, 7484, 7951, 11672, 11334, 10962, 5831, 11396, 3851, 2177, 5360, 5910, 9256, 2040, 5296, 9466, 1825, 3512, 4851, 811, 295, 4711, 3419, 6950, 5892, 11143, 11974, 6241, 12173, 3879, 4840, 5679, 2034, 9151, 3611, 7126, 7371, 11366, 2573, 1564, 11583, 1596, 10588, 8042, 3265, 852, 7765, 11481, 138, 9829, 5397, 9762, 5204, 1337, 174, 8872, 7306, 7482, 7460, 7112, 11996, 7234, 10504, 8403, 8257, 9547, 4905, 9865, 4613, 12614, 6894, 4788, 8049, 843, 12593, 2006, 5580, 7940, 10626, 11865, 3482, 11399, 8025, 5298, 12523, 8664, 10491, 11367, 12218, 8233, 3845, 5407, 165, 1739, 2199, 10488, 2473, 10518, 1184, 12749, 3853, 2839, 5323, 701, 10590, 12281, 11985, 1556, 679, 673, 6165, 1093, 2656, 5642, 12816, 389, 9561, 12238, 11699, 3235, 3558, 2904, 5274, 3164, 7353, 5813, 11846, 913, 10119, 4787, 5168, 1490, 2604, 6751, 6779, 12662, 7416, 3318, 12149, 11727, 3228, 654, 6191, 7162, 2523, 4404, 124, 12781, 12710, 1630, 9589, 8907, 8692, 9441, 770, 10788, 7815, 1471, 1641, 2721, 6921, 11481, 11905, 8583, 4674, 7351, 1316, 5020, 11339, 6234, 6688, 7472, 12574, 3022, 2940, 6348, 5984, 3779, 9957, 2225, 12263, 1197, 4531, 1427, 4964, 7160, 10577, 926, 9275, 6353, 7681, 5034, 9271, 2783, 8955, 5147, 5522, 5763, 4782, 7618, 6040, 6248, 2587, 8404, 6739, 1823, 5244, 40, 1266, 11444, 2661, 12178, 11974, 2070, 8330, 10868, 11692, 2789, 3243, 451, 8161, 10564, 3953, 5011, 8087, 9380, 5015, 8776, 4022, 4146, 7707, 10496, 1397, 8995, 3159, 2009, 6421, 9596, 2189, 2181, 3497, 6008, 10055, 12838, 8092, 6202, 6930, 6474, 3819, 6426, 11591, 11117, 2576, 6493, 11411, 3658, 6051, 11226, 3855, 8699, 2169, 10433, 5432, 4762, 1136, 9222, 4178, 4927, 8669, 2415, 11662, 2874, 5463, 11636, 5322, 10706, 5273, 9823, 7354, 4283, 8044, 5238, 4432, 9012, 747, 7619, 9352, 1672, 416, 476, 8823, 742, 4171, 7891, 3000, 2363, 4553, 7728, 6444, 6045, 4781, 9772, 395, 8149, 10278, 6108, 2000, 12319, 464, 5992, 5792, 11976, 9522, 4186, 4390, 7774, 9329, 5555, 12746, 3410, 12730, 5277, 9274, 7650, 10645, 7693, 6073, 8320, 12600, 1868, 11942, 11417, 4697, 12743, 9420, 10313, 10222, 10662, 1856, 12195, 8321, 2314, 6589, 17, 6696, 9290, 906, 1888, 8431, 2562, 2400, 5603, 7626, 1283, 12689, 943, 7018, 50, 1131, 12807, 3286, 2639, 10033, 12409, 541, 4941, 479, 10823, 9641, 11613, 965, 7332, 4705, 11808, 4546, 2883, 5105, 11069, 4232, 11120, 9891, 12591, 5099, 10273, 12245, 2230, 9209, 777, 1835, 6464, 8678, 7005, 11393, 2878, 8313, 8287, 1073, 11211, 7819, 11822, 10641, 2753, 11653, 360, 7334, 10899, 2382, 11366, 9967, 10168, 12297, 10602, 2016, 4511, 4912, 5320, 10572, 874, 9637, 3618, 7673, 9157, 690, 2033, 2481, 6306, 2988, 10638, 4767, 1080, 7302, 11899, 11239, 7898, 5594, 6571, 7839, 4498, 12612, 5367, 10739, 5941, 7392, 151, 9604, 2097, 8195, 10819, 7081, 2288, 8665, 679, 3302, 2289, 10726, 11500, 4464, 9489, 11621, 1001, 4550, 11650, 8666, 887, 10394, 8045, 7815, 3271, 1676, 7409, 11179, 8365, 2540, 5735, 5408, 9972, 1715, 7787, 8266, 1285, 7399, 11593, 3409, 6945, 11722, 11168, 12774, 10109, 1183, 10122, 3907, 3689, 3539, 4470, 12838, 8281, 2925, 7737, 1518, 12019, 11556, 10966, 2181, 1653, 6720, 6411, 885, 9948, 9012, 2087, 9586, 6956, 6068, 1494, 9298, 3721, 7725, 10378, 9299, 9916, 5021, 8307, 7315, 5495, 12094, 8461, 12091, 5224, 8335, 3130, 1305, 9895, 4863, 11976, 9039, 5868, 4188, 7996, 11567, 4193, 8269, 7576, 3345, 1836, 5548, 9085, 512, 12602, 5679, 10185, 1042, 3128, 6127, 10366, 6211, 11093, 441, 9740, 9269, 3503, 9422, 11021, 8971, 5429, 11587, 7494, 10491, 12539, 6880, 3373, 8862, 6337, 7832, 1588, 4682, 5674, 9445, 9559, 3735, 1423, 12766, 10456, 5624, 5719, 11589, 2058, 3278, 11523, 4411, 1229, 7674, 936, 4564, 7712, 3889, 3298, 8366, 7834, 1059, 12468, 9947, 11653, 9516, 5284, 8691, 5143, 5799, 1142, 8923, 1153, 1268, 10179, 11017, 11235, 9678, 1054, 348, 699, 11700, 8022, 5524, 7456, 8268, 6681, 4856, 10204, 4787, 6309, 9015, 6811, 9712, 6669, 7232, 5721, 7034, 5138, 165, 8501, 7384, 10105, 3465, 120, 10065, 2412, 1401, 4007, 6503, 10952, 9866, 7530, 9096, 10190, 4086, 3787, 759, 10529, 7427, 7362, 3055, 11353, 5248, 3481, 8458, 6611, 5887, 4886, 5149, 261, 2193, 2746, 1675, 4864, 7330, 4333, 11770, 5256, 4090, 34, 11690, 12532, 1113, 8642, 9953, 1899, 8828, 9152, 1435, 9347, 9515, 2735, 10109, 8303, 11110, 11216, 3640, 2955, 6392, 8625, 4989, 1236, 11642, 7019, 4639, 9023, 11082, 512, 5853, 5282, 5173, 8346, 6946, 6111, 1142, 3505, 7492, 3232, 2018, 7942, 10814, 12411, 7214, 6090, 3890, 6518, 7702, 5025, 3407, 6498, 6007, 7058, 592, 11739, 11096, 4425, 11158, 2316, 11521, 10375, 9935, 4508, 11985, 3678, 3008, 10548, 7760, 415, 277, 4892, 12099, 195, 10141, 7283, 3636, 9881, 243, 12713, 2834, 3836, 11207, 11961, 6239, 6083, 2223, 4005, 9812, 5413, 6766, 601, 8746, 10743, 11785, 11727, 4538, 751, 6478, 2359, 764, 11275, 7770, 10713, 899, 711, 9455, 7683, 5624, 12669, 7508, 12253, 10725, 3343, 8058, 11919, 2652, 1092, 9990, 7075, 7795, 7514, 9822, 4518, 6552, 7990, 3879, 1851, 12626, 7174, 1002, 6930, 8649, 9506, 6093, 4853, 12711, 3298, 186, 8586, 2301, 290, 3549, 994, 10561, 11207, 5109, 5085, 4215, 8475, 7200, 7335, 1047, 6394, 7180, 7862, 5250, 4732, 5522, 6903, 10038, 75, 404, 10846, 6706, 12153, 6788, 7137, 783, 3941, 12039, 10717, 5345, 10844, 3987, 3596, 10947, 3849, 12576, 2704, 10929, 7765, 1925, 4699, 12718, 8609, 2397, 10626, 9616, 8954, 1888, 1748, 4098, 5132, 6812, 8283, 10064, 6518, 6207, 8660, 9173, 4251, 6626, 6535, 3883, 4471, 12328, 10743, 1613, 10957, 2390, 5057, 7218, 8593, 10845, 10442, 3232, 2543, 6757, 9850, 8292, 2620, 6306, 7632, 1576, 8799, 3665, 550, 6364, 8089, 5475, 938, 2612, 11004, 11074, 7507, 7699, 7940, 5292, 11651, 664, 7466, 9133, 10205, 11211, 5868, 551, 6371, 6742, 3292, 12846, 1188, 3334, 8239, 6777, 10412, 9047, 10237, 4755, 10222, 12208, 10325, 636, 5099, 3573, 10699, 6291, 7340, 12057, 11674, 2820, 3272, 8990, 599, 3903, 8417, 5989, 10477, 7926, 5103, 6404, 5285, 11388, 8585, 5744, 8246, 12701, 10917, 944, 7775, 5004, 2055, 4022, 444, 3401, 5404, 1363, 12256, 9053, 8189, 8802, 5024, 2145, 6266, 2134, 8615, 10027, 1955, 1438, 2549, 9744, 4214, 10122, 5825, 7248, 8267, 524, 4402, 328, 8570, 543, 4725, 5045, 8430, 7836, 6787, 8906, 3127, 9967, 1445, 1038, 7002, 1644, 91, 9198, 9479, 7410, 700, 5363, 12636, 4935, 704, 11513, 9881, 10467, 6297, 2860, 7670, 10102, 12572, 5484, 1986, 3952, 6729, 7922, 12341, 11562, 7012, 5840, 2920, 11459, 382, 1902, 10510, 11848, 8339, 7765, 12240, 6806, 6172, 3468, 10569, 210, 8514, 542, 9629, 5920, 8591, 7606, 10430, 2412, 11137, 5708, 3048, 12487, 1445, 5174, 10242, 7191, 4299, 12477, 11518, 9741, 2429, 4155, 10510, 871, 2308, 4601, 11234, 10678, 1475, 9810, 3031, 11440, 3733, 5715, 9901, 3389, 4458, 5500, 913, 457, 8288, 3265, 7890, 4580, 849, 12761, 7299, 3605, 7862, 5226, 4492, 10480, 11165, 3652, 1270, 4496, 3251, 11552, 12083, 7339, 12541, 5687, 7076, 3051, 6240, 9650, 1538, 12635, 6999, 8875, 4352, 3331, 1999, 9372, 11550, 8244, 9262, 4397, 7773, 10917, 7812, 10149, 4428, 1691, 6012, 4534, 549, 825, 9890, 12587, 8435, 1884, 6269, 12013, 3494, 10398, 12341, 613, 6590, 4287, 11113, 2671, 1326, 9037, 8838, 4676, 3798, 10558, 3804, 11768, 5525, 4351, 7147, 6603, 9917, 4020, 1657, 7145, 11389, 5957, 10348, 12859, 11336, 10464, 1679, 4528, 6379, 7543, 3029, 12797, 10260, 4139, 860, 5478, 10623, 4906, 4804, 98, 11247, 9806, 4524, 2463, 816, 12072, 11727, 2046, 11141, 3907, 10952, 371, 12358, 8805, 11073, 2814, 4696, 7981, 6174, 6684, 5806, 5082, 12378, 4360, 9172, 3353, 4375, 11007, 4139, 10601, 3473, 7093, 2303, 739, 1212, 1024, 20, 7706, 10757, 9261, 3070, 8352, 292, 5483, 8635, 6716, 6159, 1964, 11288, 4460, 9641, 6794, 7228, 1510, 12466, 4232, 4362, 2545, 6581, 9267, 8084, 8364, 1810, 9467, 12556, 12469, 10248, 10522, 6851, 1462, 6699, 1527, 7610, 2859, 5216, 4663, 12281, 4114, 1516, 9368, 3632, 9599, 3841, 5157, 10181, 932, 488, 4023, 3763, 10546, 553, 8803, 4055, 10394, 340, 1887, 6465, 11705, 3271, 11696, 4570, 467, 4174, 5297, 11175, 3830, 12529, 10351, 5802, 400, 7086, 10201, 4191, 3403, 11241, 7155, 9706, 8636, 8744, 898, 12724, 5698, 7210, 6493, 8297, 11015, 3325, 3021, 2443, 6750, 10146, 12080, 7621, 9024, 3218, 6171, 7740, 9744, 7759, 6616, 1204, 6254, 12774, 445, 484, 1372, 3873, 6589, 2899, 4573, 10989, 3716, 134, 8456, 3301, 7861, 1908, 6487, 12293, 10059, 4574, 4670, 4519, 7368, 12545, 2864, 5614, 1658, 5875, 8369, 8204, 7894, 9037, 3221, 9350, 10815, 12452, 6892, 11427, 6662, 7139, 8145, 217, 6340, 2004, 11976, 5218, 4013, 10847, 6650, 7774, 7252, 4313, 9007, 5062, 11244, 4475, 9751, 7093, 1807, 11559, 9619, 4470, 6972, 12646, 3211, 6677, 2616, 9105, 7081, 4917, 5254, 11274, 11106, 11521, 511, 10818, 2767, 3300, 5229, 9687, 12439, 5370, 1783, 8341, 6769, 236, 11213, 1715, 7643, 6280, 11845, 2033, 9191, 12328, 2767, 7121, 4640, 745, 10840, 1957, 6788, 10681, 4522, 78, 981, 242, 3660, 1785, 5601, 6553, 473, 11335, 8921, 12322, 3705, 8807, 3026, 8220, 2664, 6651, 11618, 6391, 7944, 6697, 6416, 11900, 4468, 12221, 12016, 7796, 541, 10604, 6461, 10186, 3426, 4421, 6231, 7033, 8565, 1451, 2507, 7520, 3130, 6511, 2354, 1465, 9369, 3798, 2211, 11939, 7353, 12759, 2984, 1573, 4413, 11665, 5591, 3846, 768, 1849, 10717, 10407, 9938, 12298, 11006, 12075, 2800, 11959, 7748, 8918, 4634, 724, 7854, 8340, 3119, 6243, 9244, 11118, 5657, 10577, 12839, 1771, 9254, 2233, 5300, 7936, 11075, 2651, 1376, 5609, 7728, 6410, 222, 321, 4801, 12483, 650, 6035, 9099, 3297, 4537, 6960, 5693, 6692, 6414, 6826, 564, 4473, 1817, 783, 4029, 8561, 3147, 7281, 7796, 10591, 1382, 1747, 557, 10230, 4489, 55, 2345, 6995, 11600, 10104, 4364, 8204, 61, 10353, 12177, 9232, 11241, 5832, 4504, 5260, 2945, 10030, 8192, 6169, 5489, 2042, 12328, 2227, 2891, 9081, 7534, 669, 8687, 3865, 12315, 4628, 780, 10408, 4367, 10539, 12540, 945, 11589, 6303, 1696, 11802, 738, 1206, 2467, 4921, 8254, 10109, 8180, 10013, 1780, 24, 5056, 10527, 12055, 12630, 8437, 12661, 7600, 10725, 8373, 5881, 2888, 694, 4299, 10600, 7162, 9155, 11275, 2098, 7379, 12091, 9887, 7498, 8116, 1773, 9276, 3923, 5046, 2485, 10738, 3374, 2418, 2742, 10852, 3748, 953, 7328, 11727, 3475, 3871, 4626, 8141, 12741, 12206, 10915, 3155, 1163, 5284, 1458, 6489, 3244, 6548, 3527, 4985, 9534, 4766, 4673, 8129, 3972, 7728, 3250, 9534, 8593, 10224, 8400, 12853, 12720, 14, 3063, 6528, 12722, 1736, 5479, 10970, 2780, 6864, 5, 5680, 11417, 6056, 6282, 11253, 7812, 4003, 6267, 3896, 1705, 8563, 5404, 8085, 9951, 12190, 9625, 10056, 2974, 9353, 4377, 4982, 2437, 11443, 2436, 11243, 10735, 11176, 8318, 7196, 6148, 7624, 4971, 3824, 9854, 7723, 9236, 7860, 11286, 6273, 9612, 9504, 7181, 271, 5279, 6685, 6072, 6237, 1673, 4626, 3169, 10599, 306, 4570, 3441, 4739, 2424, 10254, 11516, 3370, 5857, 11838, 10363, 4497, 284, 9112, 12744, 11242, 6091, 12766, 9590, 12043, 2040, 6762, 4384, 8827, 2826, 6899, 9458, 1131, 5735, 306, 2756, 9693, 9959, 2064, 1219, 7066, 10159, 2425, 8053, 567, 6845, 4300, 7616, 8126, 5389, 1846, 4796, 6862, 3881, 9725, 7544, 12557, 8674, 9637, 4128, 3338, 6946, 2192, 9707, 2948, 5826, 9510, 4350, 8166, 12256, 1786, 7971, 11829, 3377, 1139, 11010, 10603, 9198, 1187, 2307, 7202, 12854, 4452, 10028, 741, 1960, 8124, 1516, 7211, 2776, 4769, 8602, 10058, 5974, 6050, 6650, 9271, 7905, 6924, 5581, 1280, 7812, 10686, 4843, 4503, 8032, 11987, 7558, 481, 8991, 330, 2944, 2349, 7648, 3608, 5881, 11833, 956, 3752, 12512, 10382, 12603, 11565, 7933, 10406, 8801, 8124, 6762, 6177, 9492, 3163, 188, 8985, 7168, 8439, 4744, 8329, 1753, 11174, 3705, 9432, 1629, 12143, 8472, 10027, 7182, 8474, 11118, 3355, 2689, 6422, 10869, 7627, 3019, 7590, 761, 2327, 12034, 6378, 3468, 2189, 8754, 7393, 2253, 10523, 12312, 9258, 12218, 5417, 7952, 7318, 12416, 7410, 9648, 12552, 417, 8298, 5464, 2918, 5724, 4996, 12320, 757, 3340, 2397, 8070, 5861, 8779, 5866, 8510, 2032, 6560, 6220, 382, 1887, 1759, 969, 482, 9525, 10523, 7626, 12451, 4759, 1089, 4186, 7749, 9551, 5724, 10842, 6352, 5054, 10579, 2551, 8317, 2131, 4827, 6271, 6049, 8193, 3774, 8983, 10332, 9292, 692, 12138, 4114, 7791, 660, 986, 11100, 10048, 3313, 2982, 5489, 9945, 4125, 650, 6105, 2020, 245, 5208, 10082, 3763, 2896, 8075, 7372, 1441, 8014, 9524, 9303, 4151, 12522, 10682, 8250, 6674, 5407, 12228, 12070, 3252, 1032, 2889, 9210, 8518, 11174, 4961, 1054, 6935, 1411, 11934, 2103, 2247, 12349, 6103, 237, 734, 6864, 10611, 8922, 5182, 4464, 5072, 195, 12516, 12497, 675, 5367, 6501, 4431, 11445, 10961, 9675, 8063, 2032, 11805, 1345, 2954, 211, 7181, 4768, 5956, 1257, 12433, 5904, 9629, 8145, 11014, 1992, 4735, 11663, 665, 4191, 2488, 3132, 7450, 1329, 5454, 11329, 12214, 7434, 8852, 2392, 8592, 8562, 10407, 943, 6615, 10633, 4171, 2821, 6634, 5862, 6978, 11867, 11442, 1090, 5814, 11471, 7245, 11239, 4206, 9139, 3820, 3025, 12113, 11633, 12689, 7062, 8068, 10517, 10531, 4894, 4360, 11084, 580, 4592, 9087, 8793, 12006, 11608, 3455, 1205, 8869, 6789, 6778, 328, 6131, 11125, 5396, 4137, 2288, 5237, 4300, 8343, 9831, 3109, 11672, 2902, 8513, 8454, 7117, 11831, 12700, 12199, 6850, 6690, 6788, 3678, 12481, 7529, 837, 5757, 10371, 1441, 784, 12464, 2088, 4427, 2156, 1492, 10522, 5196, 8053, 2927, 1105, 2515, 6835, 2310, 1373, 10283, 9923, 4522, 717, 5883, 6550, 12594, 8507, 6786, 9087, 5168, 3442, 9446, 6637, 10302, 4535, 1105, 11709, 7196, 7107, 7418, 10652, 7073, 2865, 12449, 2754, 1427, 2846, 3503, 8518, 7495, 10068, 3285, 10296, 8858, 11471, 9080, 6146, 10377, 11917, 6968, 686, 12545, 7323, 9462, 2903, 3020, 7398, 5132, 7433, 7024, 7580, 5678, 5231, 9972, 9461, 10764, 9773, 1155, 8777, 12261, 8683, 5907, 5194, 3277, 10483, 731, 12302, 2862, 405, 746, 11375, 10639, 12382, 61, 11372, 6536, 4089, 1430, 10064, 3673, 2746, 2578, 4139, 1546, 6468, 10933, 10678, 11068, 10610, 854, 9759, 1267, 2574, 7972, 1603, 2875, 4648, 1117, 6555, 6956, 1422, 8103, 3074, 7286, 8174, 3310, 9019, 8963, 7872, 667, 6078, 12379, 504, 4938, 3517, 3439, 8185, 6058, 7581, 5599, 337, 1054, 11652, 6724, 9576, 6906, 4142, 2143, 9051, 1669, 12337, 9941, 901, 5445, 3624, 880, 7372, 3148, 7331, 11144, 10949, 1893, 3765, 1785, 4338, 6726, 5220, 6644, 3, 127, 1059, 11228, 12299, 12217, 1614, 8614, 11321, 7309, 1885, 10551, 7946, 245, 9207, 4902, 5531, 5677, 8469, 4533, 10756, 532, 10856, 9341, 11948, 4666, 8638, 8818, 6331, 3565, 450, 6881, 12119, 3419, 8123, 2618, 11544, 10888, 11656, 188, 6096, 5384, 6546, 3341, 8144, 4055, 643, 5470, 1769, 5336, 187, 9012, 10938, 9507, 6067, 7714, 7684, 9541, 8690, 483, 8041, 5695, 11191, 7337, 8902, 6640, 7546, 5670, 6410, 10010, 3821, 6194, 12091, 7194, 11268, 5415, 11219, 11696, 7087, 1795, 11571, 10830, 7366, 9934, 6074, 8658, 9129, 9554, 3746, 6122, 2733, 4861, 8107, 9114, 6037, 9361, 8385, 819, 157, 2421, 5545, 1310, 4034, 4012, 8549, 12355, 5407, 1699, 1983, 119, 1001, 8507, 888, 2384, 2374, 5013, 8245, 7847, 4919, 4183, 8819, 10256, 12063, 9595, 761, 5077, 4815, 2528, 4614, 491, 12765, 12508, 8286, 823, 11055, 7063, 4416, 5857, 10739, 7007, 34, 11945, 9334, 3054, 9493, 4590, 6416, 7765, 7224, 10800, 1018, 5551, 8128, 6652, 11750, 7304, 8380, 12504, 2412, 617, 11544, 8698, 5290, 10839, 6397, 9363, 10009, 7648, 4059, 7912, 6093, 1574, 12448, 9474, 4936, 2114, 4768, 10761, 7538, 5474, 12553, 11530, 5978, 1359, 535, 4198, 5937, 5099, 3421, 2569, 12351, 7343, 6754, 11171, 12297, 6226, 7497, 9905, 8919, 9813, 8697, 2379, 10475, 11892, 5221, 7907, 5944, 11197, 7493, 4912, 12100, 6401, 1912, 7112, 6149, 2436, 7549, 9578, 4043, 4019, 12491, 10238, 9951, 12772, 10664, 5547, 3331, 9613, 4780, 5323, 8148, 5742, 6799, 5949, 5663, 11464, 6281, 566, 9179, 8987, 1797, 5328, 12717, 12769, 9099, 5967, 6309, 4761, 4933, 8006, 2576, 2253, 10781, 11083, 3014, 783, 12595, 12658, 12023, 3251, 4621, 796, 4493, 7895, 8988, 9854, 7431, 8639, 3809, 6408, 9565, 8455, 8909, 8667, 7769, 8063, 2824, 10053, 8630, 1042, 12706, 152, 9070, 4098, 6247, 11921, 3135, 9265, 7003, 8093, 1776, 868, 2613, 7104, 8699, 7878, 5901, 2566, 5646, 8687, 6042, 1118, 10055, 3085, 3271, 8707, 9274, 6382, 3070, 400, 5186, 199, 6492, 2456, 4015, 5865, 10348, 9397, 8075, 6248, 1697, 6053, 3134, 10563, 310, 9694, 3751, 226, 10177, 2219, 4440, 1484, 2980, 3195, 2653, 2525, 4535, 2632, 6483, 4303, 11049, 6515, 7569, 8037, 3233, 4941, 10373, 11921, 1057, 2464, 8675, 4854, 10447, 2930, 11502, 11766, 3629, 9496, 2577, 2193, 3230, 3158, 5432, 11036, 3201, 6929, 8949, 11094, 5539, 9315, 8103, 2198, 7374, 6442, 11727, 4918, 3836, 1126, 1543, 4719, 12535, 9983, 1416, 691, 1362, 2097, 3600, 44, 6141, 5900, 4335, 9443, 7454, 6060, 2986, 10340, 5788, 5750, 2752, 7819, 805, 12756, 9326, 3001, 5824, 444, 2391, 6157, 8766, 6518, 11483, 5269, 9693, 6997, 11040, 8490, 4386, 7551, 11335, 5310, 2488, 924, 5200, 11439, 12569, 10081, 6985, 6213, 3741, 4296, 1890, 1896, 11022, 609, 5895, 4628, 7060, 11539, 5759, 10609, 2638, 9851, 2700, 7824, 8212, 7286, 3388, 8329, 3307, 3636, 292, 10943, 8089, 9989, 457, 8852, 5389, 3498, 6587, 3079, 856, 3449, 4912, 849, 6756, 3804, 5686, 9300, 12828, 510, 4977, 8451, 8734, 5206, 361, 234, 10019, 2856, 10292, 11667, 6726, 2277, 6656, 4069, 7529, 4791, 2577, 7056, 4983, 3689, 4494, 12614, 10965, 8440, 2802, 1008, 4421, 12393, 2655, 1362, 12444, 9935, 5443, 3943, 5137, 3427, 10218, 6078, 3684, 6012, 6655, 2733, 642, 11639, 1335, 7617, 1645, 3035, 978, 107, 11613, 10080, 10764, 855, 1705, 9290, 5239, 3267, 9795, 3803, 12345, 11397, 9530, 4205, 539, 10993, 778, 4252, 10394, 652, 630, 12400, 604, 3123, 11489, 8612, 3968, 11948, 1607, 5778, 8918, 4805, 6160, 10791, 6794, 8404, 6386, 5428, 1007, 3594, 8085, 3814, 12142, 9643, 10960, 3507, 1617, 6198, 5768, 12823, 3115, 9941, 3106, 836, 10852, 12381, 1552, 9435, 7695, 2572, 11571, 3935, 1735, 3976, 6116, 4611, 700, 3212, 9775, 10438, 5871, 1497, 5641, 3510, 9378, 660, 4833, 12269, 1177, 8807, 12024, 7873, 4291, 3034, 7500, 6521, 2207, 7707, 10476, 11799, 4278, 3394, 6197, 9139, 1888, 6335, 2753, 11701, 3144, 9726, 2734, 1076, 4183, 8871, 1356, 7416, 410, 11268, 10300, 6540, 7356, 11652, 1211, 8357, 683, 10258, 9105, 43, 6134, 11898, 2044, 9952, 5188, 86, 4091, 410, 9824, 3334, 5119, 12079, 11928, 7857, 7227, 5846, 10490, 7615, 9536, 5159, 11650, 540, 11667, 6950, 3122, 2480, 8470, 11497, 1242, 8716, 29, 3610, 9687, 12104, 9863, 6534, 6256, 5686, 2772, 4401, 11017, 9172, 1848, 4742, 1968, 6889, 11295, 6498, 10060, 3297, 3536, 7190, 1282, 7165, 1076, 2607, 4967, 8792, 9569, 6357, 690, 11356, 12752, 8989, 41, 12284, 5835, 9300, 7337, 8325, 888, 11887, 411, 12856, 11609, 4977, 8182, 2100, 5822, 654, 159, 12161, 7619, 7561, 5488, 7497, 1350, 8695, 8964, 8311, 7462, 10148, 889, 10277, 2684, 2451, 3941, 7948, 12346, 5580, 11959, 829, 5487, 8477, 11042, 4975, 4641, 2954, 320, 5477, 6331, 4802, 5118, 4077, 2585, 5098, 7293, 4217, 12601, 12277, 6988, 3176, 4931, 8131, 9461, 11865, 8093, 6825, 7033, 5751, 11065, 10206, 7242, 7590, 8155, 10457, 1520, 11587, 5699, 541, 11784, 6033, 2372, 8592, 1709, 963, 4180, 12016, 7061, 11836, 8732, 6545, 603, 767, 4391, 9301, 7496, 7783, 1092, 7681, 5038, 3995, 11015, 12511, 9385, 11471, 7763, 4995, 11197, 8448, 11512, 9536, 1407, 2355, 761, 346, 1572, 12362, 4639, 2452, 1180, 6516, 4956, 3727, 461, 578, 7397, 2423, 6529, 8606, 10603, 8100, 8384, 5899, 1917, 581, 1930, 806, 12718, 2706, 11746, 2212, 3139, 10890, 5411, 763, 606, 8482, 5140, 1748, 5341, 601, 9188, 4805, 8047, 8379, 9842, 11878, 2641, 6826, 10604, 5421, 12422, 8024, 3500, 11367, 9247, 6836, 9297, 3444, 12619, 12010, 2516, 4434, 12254, 1006, 7359, 3847, 10081, 2026, 7562, 6134, 10480, 9625, 6103, 3390, 2700, 9974, 7142, 1509, 1688, 2242, 5155, 4200, 12022, 2946, 3532, 866, 6625, 996, 3723, 855, 3610, 1454, 8878, 362, 9893, 496, 4772, 101, 701, 6729, 9876, 4043, 8780, 4141, 6180, 1492, 467, 10066, 7211, 152, 8846, 12362, 12059, 11496, 1489, 10576, 11660, 2021, 1788, 6264, 11739, 3680, 6602, 2535, 7847, 7803, 11008, 8634, 2044, 4710, 2174, 7524, 3111, 12293, 11858, 655, 6389, 7779, 3360, 6863, 7892, 9968, 8511, 9176, 3140, 12140, 82, 10639, 7662, 4390, 11855, 7297, 8905, 8597, 4956, 1799, 4607, 5995, 6741, 9472, 6478, 8516, 8429, 5476, 870, 3027, 11699, 5496, 2274, 4074, 11862, 10728, 12708, 2720, 7846, 4749, 4668, 6389, 5482, 6644, 4414, 12347, 4701, 10310, 7423, 2873, 8593, 10361, 1350, 2120, 713, 12646, 12352, 11631, 8650, 60, 36, 162, 2540, 377, 2805, 5531, 4248, 3161, 10603, 4697, 2774, 4374, 4010, 9006, 11601, 1712, 4672, 6469, 12373, 764, 12518, 11617, 2511, 3520, 10711, 798, 861, 8042, 1729, 738, 4737, 704, 12128, 6512, 6251, 7395, 10565, 6373, 10912, 10367, 5202, 4992, 2805, 11057, 5300, 11958, 9720, 329, 8163, 10727, 11791, 12849, 10400, 8594, 7230, 3730, 2196, 5396, 11301, 4349, 4652, 246, 10125, 11231, 9042, 4064, 274, 11088, 3663, 10062, 10471, 8447, 10108, 5216, 1008, 8769, 7590, 5005, 7726, 2787, 985, 2233, 5602, 4794, 5281, 1175, 5456, 950, 179, 8982, 1468, 12829, 5428, 5429, 11883, 10919, 5153, 10079, 10267, 5941, 3842, 3106, 9943, 2516, 4172, 8189, 6324, 10618, 1085, 6478, 9449, 2604, 1063, 10439, 7420, 3340, 10295, 5052, 4410, 12600, 8649, 907, 5835, 8837, 1535, 11604, 2757, 11439, 230, 8361, 1046, 9196, 138, 5984, 11049, 7695, 6566, 1047, 2497, 7397, 9029, 668, 8750, 1251, 497, 5103, 4066, 5816, 317, 9154, 2207, 2937, 7616, 4651, 4572, 5472, 8769, 1631, 2487, 5635, 4552, 11219, 9264, 6830, 99, 9785, 2408, 1373, 2805, 9510, 269, 4081, 2178, 13, 8742, 9884, 2231, 11997, 11229, 5044, 10866, 572, 6917, 2369, 12268, 2536, 12438, 11407, 372, 4088, 6458, 4759, 3927, 5152, 11241, 5026, 904, 3574, 8604, 6946, 3080, 3926, 6637, 1450, 794, 5822, 605, 10038, 6270, 7226, 5295, 9693, 7100, 4, 10784, 8866, 12153, 2918, 4338, 5503, 10176, 7200, 4347, 11247, 3324, 5548, 6504, 9979, 7574, 2342, 6268, 3221, 1906, 8389, 6743, 12589, 4303, 5738, 4476, 5836, 1510, 12218, 173, 12491, 7905, 3324, 183, 6834, 10546, 8966, 7782, 9015, 5143, 3023, 11106, 4605, 7660, 5715, 11599, 5506, 4716, 884, 12559, 7229, 10352, 3582, 5332, 3210, 8494, 11533, 8716, 8699, 418, 5537, 6095, 2642, 1571, 8055, 10143, 12210, 7431, 11140, 10843, 11874, 9286, 10773, 2165, 11174, 11276, 11734, 9658, 4527, 1179, 8317, 1231, 7734, 75, 6083, 12460, 7425, 6628, 8289, 6220, 3299, 482, 888, 4204, 3663, 8137, 6438, 8454, 12435, 5318, 3604, 9394, 957, 1140, 830, 5123, 8159, 12649, 7561, 5590, 4721, 7429, 7222, 6674, 5710, 2787, 10107, 11000, 11457, 3130, 2600, 2215, 10856, 2135, 4158, 5057, 7068, 11187, 10997, 6390, 5614, 1293, 10010, 1024, 1609, 2589, 10869, 11255, 10084, 7976, 1913, 2764, 8827, 11075, 10796, 8816, 9003, 12454, 1094, 1991, 6359, 265, 7811, 448, 8412, 5658, 965, 6085, 2835, 10814, 7548, 6756, 1561, 9726, 5578, 748, 656, 3866, 371, 3905, 4713, 11023, 767, 8613, 9064, 7389, 7207, 2547, 8092, 3672, 9882, 1417, 11303, 12617, 10184, 7345, 3826, 5741, 3480, 2313, 2822, 9141, 1128, 5586, 12209, 11208, 6126, 7098, 8702, 11995, 8438, 3654, 809, 849, 5918, 8810, 8931, 9101, 676, 7039, 9279, 6938, 10937, 3193, 4985, 9063, 5735, 2102, 7518, 4925, 6432, 3194, 12199, 7648, 4427, 937, 6526, 4098, 9795, 8156, 4313, 8634, 2487, 7643, 7042, 11596, 3173, 5490, 9827, 6938, 8968, 11376, 12006, 2017, 11679, 3345, 3063, 8241, 11428, 6929, 4862, 3580, 4436, 5433, 4383, 4455, 10573, 6128, 6039, 4957, 3700, 1518, 448, 10261, 3649, 4207, 5853, 2336, 3872, 12345, 8219, 9728, 12625, 1922, 5541, 11169, 8104, 4707, 2758, 6328, 1042, 10847, 6075, 4399, 2320, 1962, 11137, 10151, 579, 11813, 4487, 8216, 3277, 10918, 5452, 10987, 11903, 3065, 291, 10514, 11678, 9513, 2334, 5590, 6309, 8763, 6062, 10012, 4252, 11293, 3385, 5182, 10244, 4836, 10186, 4488, 9749, 7878, 5445, 9312, 4446, 12035, 3910, 2102, 1614, 8883, 11899, 2755, 6502, 6244, 10540, 7516, 11555, 7074, 99, 445, 11568, 401, 12358, 8804, 12112, 5722, 3767, 1692, 4730, 10176, 3673, 9565, 1975, 8695, 4745, 12275, 573, 3963, 9942, 11611, 2871, 8264, 8916, 6510, 12358, 5266, 11925, 1606, 8974, 3983, 9854, 8331, 2110, 7771, 11019, 4835, 11638, 4678, 1686, 9114, 12355, 483, 11033, 8997, 5690, 12106, 5094, 1304, 542, 1658, 3653, 11366, 7580, 1151, 9893, 9095, 7814, 3667, 7516, 10843, 9336, 6044, 1622, 6141, 9955, 8523, 6562, 374, 2167, 3770, 11707, 6028, 8811, 10112, 9016, 11401, 9157, 6047, 4802, 6569, 1147, 11275, 898, 1269, 11306, 9248, 12415, 10220, 1926, 12426, 10182, 9318, 7625, 11633, 10320, 4075, 6079, 12022, 7874, 2451, 8372, 3248, 3092, 3678, 232, 11792, 10558, 8666, 10199, 4157, 10540, 9205, 1978, 7239, 821, 5143, 3096, 11804, 3936, 9070, 11442, 11250, 10245, 12115, 6601, 666, 10581, 4523, 5574]\n"
          ],
          "name": "stdout"
        }
      ]
    },
    {
      "cell_type": "code",
      "metadata": {
        "id": "BWhqc4uK-WwM",
        "colab_type": "code",
        "colab": {}
      },
      "source": [
        "# Liste des étiquettes possibles à fournir au modèles\n",
        "\n",
        "tags = df[\"labels\"].unique().tolist()"
      ],
      "execution_count": 0,
      "outputs": []
    },
    {
      "cell_type": "code",
      "metadata": {
        "id": "clvMK6jKEJUM",
        "colab_type": "code",
        "colab": {}
      },
      "source": [
        "# Conversion en String pour éviter des erreurs lors de la compilation\n",
        "\n",
        "df[\"words\"] = df[\"words\"].astype(str)\n",
        "df[\"labels\"] = df[\"labels\"].astype(str)"
      ],
      "execution_count": 0,
      "outputs": []
    },
    {
      "cell_type": "markdown",
      "metadata": {
        "id": "WgyBBjwmbaSm",
        "colab_type": "text"
      },
      "source": [
        "### Modèles\n",
        "\n",
        "Les résultats des modèles seront écrit dans le dataframe results.\n",
        "Il sera composé des loss, f1_score, precision et recall pour chaque modèle"
      ]
    },
    {
      "cell_type": "code",
      "metadata": {
        "id": "yhmxuasV6ggV",
        "colab_type": "code",
        "colab": {}
      },
      "source": [
        "results = pd.DataFrame(columns = ['eval_loss','f1_score','precision','recall', \"type_algo\", \"algo\"]) # création du dataframe results\n",
        "\n",
        "l_algotype = [ \"bert\" , \"camembert\" , \"roberta\" , \"distilbert\" , \"electra\" , \"xlmroberta\"] #type de modèles\n",
        "l_algo = [ \"bert-base-cased\" , \"camembert-base\" , \"roberta-base\" ,\n",
        "          \"distilbert-base-cased\" , \"google/electra-base-discriminator\" , \"xlm-roberta-base\"] # modèles \n",
        "\n",
        "for i in range (len(l_algotype)) : \n",
        "  print(\"###################\\t\", l_algotype[i] , \" -- \", l_algo[i] ,\"\\t###################\")\n",
        "\n",
        "  # configuration du logger pour les info et les avertissements\n",
        "  logging.basicConfig(level=logging.INFO)\n",
        "  transformers_logger = logging.getLogger(\"transformers\")\n",
        "  transformers_logger.setLevel(logging.WARNING)\n",
        "\n",
        "  # Création de train_df et test_df\n",
        "  train_df = df[df[\"sentence_id\"].isin(randomlist)] # 80 pourcent des sentences_id\n",
        "  eval_df = df[~df[\"sentence_id\"].isin(randomlist)] # 20 pourcent des sentences_id\n",
        "\n",
        "  # Création du modèles NER\n",
        "  model = NERModel(l_algotype[i], l_algo[i], args={'overwrite_output_dir': True, 'reprocess_input_data': True}, labels=tags)\n",
        "\n",
        "  # Entrainement\n",
        "  model.train_model(train_df)\n",
        "\n",
        "  # Evaluation\n",
        "  result, model_outputs, predictions = model.eval_model(eval_df)\n",
        "\n",
        "  # Ajout du type de moèdle et du modèle tester aux résultats\n",
        "  result[\"type_algo\"] = l_algotype[i]\n",
        "  result[\"algo\"] = l_algo[i]\n",
        "\n",
        "  # on créer une ligne contenant les résultats\n",
        "  results = results.append(result, ignore_index = True)\n",
        "  \n",
        "  file_model = open(r'./'+l_algo[i]+'.obj', 'wb')\n",
        "  # export du modèle \n",
        "  pickle.dump(model, file_model)\n"
      ],
      "execution_count": 0,
      "outputs": []
    },
    {
      "cell_type": "code",
      "metadata": {
        "id": "SIDgq2SK6-RQ",
        "colab_type": "code",
        "outputId": "f4e9fff9-e6c9-4a84-ea8f-75a163e782d7",
        "colab": {
          "base_uri": "https://localhost:8080/",
          "height": 233
        }
      },
      "source": [
        "results"
      ],
      "execution_count": 42,
      "outputs": [
        {
          "output_type": "execute_result",
          "data": {
            "text/html": [
              "<div>\n",
              "<style scoped>\n",
              "    .dataframe tbody tr th:only-of-type {\n",
              "        vertical-align: middle;\n",
              "    }\n",
              "\n",
              "    .dataframe tbody tr th {\n",
              "        vertical-align: top;\n",
              "    }\n",
              "\n",
              "    .dataframe thead th {\n",
              "        text-align: right;\n",
              "    }\n",
              "</style>\n",
              "<table border=\"1\" class=\"dataframe\">\n",
              "  <thead>\n",
              "    <tr style=\"text-align: right;\">\n",
              "      <th></th>\n",
              "      <th>eval_loss</th>\n",
              "      <th>f1_score</th>\n",
              "      <th>precision</th>\n",
              "      <th>recall</th>\n",
              "      <th>type_algo</th>\n",
              "      <th>algo</th>\n",
              "    </tr>\n",
              "  </thead>\n",
              "  <tbody>\n",
              "    <tr>\n",
              "      <th>0</th>\n",
              "      <td>0.203051</td>\n",
              "      <td>0.666814</td>\n",
              "      <td>0.666005</td>\n",
              "      <td>0.667624</td>\n",
              "      <td>bert</td>\n",
              "      <td>bert-base-cased</td>\n",
              "    </tr>\n",
              "    <tr>\n",
              "      <th>1</th>\n",
              "      <td>0.197175</td>\n",
              "      <td>0.721976</td>\n",
              "      <td>0.728431</td>\n",
              "      <td>0.715635</td>\n",
              "      <td>camembert</td>\n",
              "      <td>camembert-base</td>\n",
              "    </tr>\n",
              "    <tr>\n",
              "      <th>2</th>\n",
              "      <td>0.229536</td>\n",
              "      <td>0.602465</td>\n",
              "      <td>0.600088</td>\n",
              "      <td>0.604862</td>\n",
              "      <td>roberta</td>\n",
              "      <td>roberta-base</td>\n",
              "    </tr>\n",
              "    <tr>\n",
              "      <th>3</th>\n",
              "      <td>0.214327</td>\n",
              "      <td>0.623193</td>\n",
              "      <td>0.632045</td>\n",
              "      <td>0.614586</td>\n",
              "      <td>distilbert</td>\n",
              "      <td>distilbert-base-cased</td>\n",
              "    </tr>\n",
              "    <tr>\n",
              "      <th>4</th>\n",
              "      <td>0.274334</td>\n",
              "      <td>0.390286</td>\n",
              "      <td>0.440253</td>\n",
              "      <td>0.350504</td>\n",
              "      <td>electra</td>\n",
              "      <td>google/electra-base-discriminator</td>\n",
              "    </tr>\n",
              "    <tr>\n",
              "      <th>5</th>\n",
              "      <td>0.202448</td>\n",
              "      <td>0.698000</td>\n",
              "      <td>0.683734</td>\n",
              "      <td>0.712873</td>\n",
              "      <td>xlmroberta</td>\n",
              "      <td>xlm-roberta-base</td>\n",
              "    </tr>\n",
              "  </tbody>\n",
              "</table>\n",
              "</div>"
            ],
            "text/plain": [
              "   eval_loss  f1_score  ...   type_algo                               algo\n",
              "0   0.203051  0.666814  ...        bert                    bert-base-cased\n",
              "1   0.197175  0.721976  ...   camembert                     camembert-base\n",
              "2   0.229536  0.602465  ...     roberta                       roberta-base\n",
              "3   0.214327  0.623193  ...  distilbert              distilbert-base-cased\n",
              "4   0.274334  0.390286  ...     electra  google/electra-base-discriminator\n",
              "5   0.202448  0.698000  ...  xlmroberta                   xlm-roberta-base\n",
              "\n",
              "[6 rows x 6 columns]"
            ]
          },
          "metadata": {
            "tags": []
          },
          "execution_count": 42
        }
      ]
    },
    {
      "cell_type": "code",
      "metadata": {
        "id": "6ZCRl9Xw-XNZ",
        "colab_type": "code",
        "colab": {}
      },
      "source": [
        "# exports des résultats\n",
        "\n",
        "# results.to_csv(\"./out/results.csv\", sep = \",\" , index = False )"
      ],
      "execution_count": 0,
      "outputs": []
    },
    {
      "cell_type": "markdown",
      "metadata": {
        "id": "_g7u5_ftW0kq",
        "colab_type": "text"
      },
      "source": [
        "### Test de prédiction "
      ]
    },
    {
      "cell_type": "code",
      "metadata": {
        "id": "4eNCb_BjWzUM",
        "colab_type": "code",
        "colab": {}
      },
      "source": [
        "predictions, raw_outputs = model.predict([\"Laura vit à Paris\"])"
      ],
      "execution_count": 0,
      "outputs": []
    },
    {
      "cell_type": "code",
      "metadata": {
        "id": "XQDUpBcKXPH_",
        "colab_type": "code",
        "colab": {}
      },
      "source": [
        "predictions, raw_outputs = model.predict([\"Amar se lève tard\"])"
      ],
      "execution_count": 0,
      "outputs": []
    },
    {
      "cell_type": "markdown",
      "metadata": {
        "id": "CGkpJQdCchsQ",
        "colab_type": "text"
      },
      "source": [
        "On remarque que seuls Camembert et XMLRoberta se distinguent des autres. Nous allons donc tester une partie des différents modèles (Camembert et XMLroberta) mis à disposition : https://huggingface.co/models"
      ]
    },
    {
      "cell_type": "code",
      "metadata": {
        "id": "OzJwD7OCaDe4",
        "colab_type": "code",
        "colab": {}
      },
      "source": [
        "# lecture des résultats précédemment enregistré\n",
        "\n",
        "results = pd.read_csv(\"./out/results.csv\", sep = \",\")"
      ],
      "execution_count": 0,
      "outputs": []
    },
    {
      "cell_type": "code",
      "metadata": {
        "id": "x4IlycnvaKpM",
        "colab_type": "code",
        "colab": {}
      },
      "source": [
        "df = pd.read_csv(\"./out/df.csv\", sep = \"\\t\")"
      ],
      "execution_count": 0,
      "outputs": []
    },
    {
      "cell_type": "code",
      "metadata": {
        "id": "RTFmMj9Yc2w2",
        "colab_type": "code",
        "colab": {}
      },
      "source": [
        ""
      ],
      "execution_count": 0,
      "outputs": []
    },
    {
      "cell_type": "markdown",
      "metadata": {
        "id": "M6RjMWksc3tI",
        "colab_type": "text"
      },
      "source": [
        "# Camembert"
      ]
    },
    {
      "cell_type": "code",
      "metadata": {
        "id": "MMAQWlSjdajW",
        "colab_type": "code",
        "colab": {}
      },
      "source": [
        "# Liste des étiquettes possibles à fournir au modèles\n",
        "\n",
        "tags = df[\"labels\"].unique().tolist()"
      ],
      "execution_count": 0,
      "outputs": []
    },
    {
      "cell_type": "code",
      "metadata": {
        "id": "7Cq5-Ltke3Ls",
        "colab_type": "code",
        "colab": {}
      },
      "source": [
        "# Conversion en String pour éviter des erreurs lors de la compilation\n",
        "\n",
        "df[\"words\"] = df[\"words\"].astype(str)\n",
        "df[\"labels\"] = df[\"labels\"].astype(str)"
      ],
      "execution_count": 0,
      "outputs": []
    },
    {
      "cell_type": "code",
      "metadata": {
        "id": "UZwfGqdAKWZQ",
        "colab_type": "code",
        "colab": {}
      },
      "source": [
        "camembert_results = pd.DataFrame(columns = ['eval_loss','f1_score','precision','recall', \"type_algo\", \"algo\"])\n",
        "\n",
        "l_camembert = [ \"idb-ita/gilberto-uncased-from-camembert\" , \"jplu/tf-camembert-base\" ,\n",
        "               \"camembert/camembert-large\" , \"fmikaelian/camembert-base-fquad\" , \"illuin/camembert-large-fquad\" , \"fmikaelian/camembert-base-squad\"]\n",
        "\n",
        "for i in range (len(l_camembert)) : \n",
        "  print(\"###################\\t\", \"camembert\" , \" -- \", l_camembert[i] ,\"\\t###################\")\n",
        "  logging.basicConfig(level=logging.INFO)\n",
        "  transformers_logger = logging.getLogger(\"transformers\")\n",
        "  transformers_logger.setLevel(logging.WARNING)\n",
        "\n",
        "  # Creating train_df  and eval_df for demonstration\n",
        "\n",
        "  train_df = df[df[\"sentence_id\"].isin(randomlist)]\n",
        "\n",
        "  eval_df = df[~df[\"sentence_id\"].isin(randomlist)]\n",
        "\n",
        "  # Create a NERModel\n",
        "  model = NERModel(\"camembert\", l_camembert[i], args={'overwrite_output_dir': True, 'reprocess_input_data': True}, labels=tags)\n",
        "\n",
        "  # Train the model\n",
        "  model.train_model(train_df)\n",
        "\n",
        "  # Evaluate the model\n",
        "  result, model_outputs, predictions = model.eval_model(eval_df)\n",
        "\n",
        "  result[\"type_algo\"] = \"camembert\"\n",
        "  result[\"algo\"] = l_camembert[i]\n",
        "\n",
        "  camembert_results = camembert_results.append(result, ignore_index = True)\n",
        "\n",
        "  # Predictions on arbitary text strings\n",
        "  predictions, raw_outputs = model.predict([\"Some arbitary sentence\"])\n",
        "\n",
        "  print(predictions)"
      ],
      "execution_count": 0,
      "outputs": []
    },
    {
      "cell_type": "code",
      "metadata": {
        "id": "wcr4vXucQMiV",
        "colab_type": "code",
        "colab": {}
      },
      "source": [
        ""
      ],
      "execution_count": 0,
      "outputs": []
    }
  ]
}