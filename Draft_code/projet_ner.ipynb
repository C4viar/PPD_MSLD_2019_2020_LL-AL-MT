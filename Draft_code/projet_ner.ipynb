{
  "nbformat": 4,
  "nbformat_minor": 0,
  "metadata": {
    "colab": {
      "name": "QueenB.ipynb",
      "provenance": [],
      "collapsed_sections": [],
      "include_colab_link": true
    },
    "kernelspec": {
      "name": "python3",
      "display_name": "Python 3"
    }
  },
  "cells": [
    {
      "cell_type": "markdown",
      "metadata": {
        "id": "view-in-github",
        "colab_type": "text"
      },
      "source": [
        "<a href=\"https://colab.research.google.com/github/C4viar/PPD_MSLD_2019_2020_LL-AL-MT/blob/master/Draft_code/projet_ner.ipynb\" target=\"_parent\"><img src=\"https://colab.research.google.com/assets/colab-badge.svg\" alt=\"Open In Colab\"/></a>"
      ]
    },
    {
      "cell_type": "markdown",
      "metadata": {
        "id": "ZRR2FKEa2hqj",
        "colab_type": "text"
      },
      "source": [
        "# Contexte\n"
      ]
    },
    {
      "cell_type": "markdown",
      "metadata": {
        "id": "bzDHUpGfZOdd",
        "colab_type": "text"
      },
      "source": [
        "Des modèles de langage du français ont tout récemment été publiés (CamemBERT, FlauBERT C’est positif car même des outils avancés comme Spacy sont notoirement encore peu adaptés à traiter certaines langues dont le français. Il reste à évaluer ce que ces modèles peuvent vraiment apporter notamment ne ce qui concerne la reconnaissances d’entités nommées.\n"
      ]
    },
    {
      "cell_type": "markdown",
      "metadata": {
        "id": "v5b86Ce1fOgG",
        "colab_type": "text"
      },
      "source": [
        "# Travail a réaliser"
      ]
    },
    {
      "cell_type": "markdown",
      "metadata": {
        "id": "9VfEZAGjfTTc",
        "colab_type": "text"
      },
      "source": [
        "Réaliser des expériences de reconnaissance d’entités nommées sur le jeu de donneés Europeana Newspapers French en utilisant tous les modèles disponibles pour cela dans la bibliothèque Simple Transformers. Les adresses à consulter sont :\n",
        "* https://github.com/ThilinaRajapakse/simpletransformers\n",
        "* http://api.bnf.fr/europeana-newspapers-french-ner-ground-truth"
      ]
    },
    {
      "cell_type": "markdown",
      "metadata": {
        "id": "89q49GkAguBh",
        "colab_type": "text"
      },
      "source": [
        "# Rendu\n",
        "\n",
        "Un code clair et commenté dans un notebook.\n",
        "Un rapport décrivant les méthodes/métriques d’évaluation (basées sur seqeval dont une description détaillée sera donnée) et présentant/comparant/discutant les résultats obtenus.\n"
      ]
    },
    {
      "cell_type": "markdown",
      "metadata": {
        "id": "aOt0BNmvgZ2-",
        "colab_type": "text"
      },
      "source": [
        "# Seqeval \n",
        "\n",
        "https://pypi.org/project/seqeval/\n",
        "\n",
        "\"seqeval is a Python framework for sequence labeling evaluation. seqeval can evaluate the performance of chunking tasks such as named-entity recognition, part-of-speech tagging, semantic role labeling and so on.\""
      ]
    },
    {
      "cell_type": "markdown",
      "metadata": {
        "id": "s9TjSfEKXUm9",
        "colab_type": "text"
      },
      "source": [
        "# Installation simple transformers"
      ]
    },
    {
      "cell_type": "code",
      "metadata": {
        "id": "YAu81V8eXeFK",
        "colab_type": "code",
        "colab": {}
      },
      "source": [
        "! pip install simpletransformers"
      ],
      "execution_count": 0,
      "outputs": []
    },
    {
      "cell_type": "code",
      "metadata": {
        "id": "Q5-MYnHYg51r",
        "colab_type": "code",
        "colab": {}
      },
      "source": [
        ""
      ],
      "execution_count": 0,
      "outputs": []
    },
    {
      "cell_type": "markdown",
      "metadata": {
        "id": "8HjW0OX8tqO9",
        "colab_type": "text"
      },
      "source": [
        "# NER \n",
        "https://simpletransformers.ai/docs/ner-specifics/\n",
        "\n",
        "\"The goal of Named Entity Recognition is to locate and classify named entities in a sequence. The named entities are pre-defined categories chosen according to the use case such as names of people, organizations, places, codes, time notations, monetary values, etc. Essentially, NER aims to assign a class to each token (usually a single word) in a sequence. Because of this, NER is also referred to as token classification.\"\n",
        "\n",
        "**Fonctionnement avec Simple Transformer**\n",
        "\n",
        "* Initialize a NERModel\n",
        "* Train the model with train_model()\n",
        "* Evaluate the model with eval_model()\n",
        "* Make predictions on (unlabelled) data with predict()\n",
        "\n",
        "**Modèles disponibles à fournir à model_type**\n",
        "\n",
        "* BERT :\t*bert*\n",
        "* CamemBERT :\t*camembert*\n",
        "* RoBERTa :\t*roberta*\n",
        "* DistilBERT :\t*distilbert*\n",
        "* ELECTRA\t: *electra*\n",
        "* XLM-RoBERTa\t: *xlmroberta*"
      ]
    },
    {
      "cell_type": "markdown",
      "metadata": {
        "id": "q4J6-WU_zIRw",
        "colab_type": "text"
      },
      "source": [
        ""
      ]
    },
    {
      "cell_type": "code",
      "metadata": {
        "id": "65emCoQ71AwM",
        "colab_type": "code",
        "colab": {
          "base_uri": "https://localhost:8080/",
          "height": 368
        },
        "outputId": "3b5a5a10-dbb7-4d58-ee32-3d027620eadc"
      },
      "source": [
        "from simpletransformers.classification import NERModel\n",
        "\n",
        "# to custom labels\n",
        "custom_labels = [\"O\", \"B-SPELL\", \"I-SPELL\", \"B-PER\", \"I-PER\", \"B-ORG\", \"I-ORG\", \"B-PLACE\", \"I-PLACE\"]\n",
        "\n",
        "model = NERModel(\n",
        "    model_type=\"bert\", model_name=\"bert-cased-base\", labels=custom_labels\n",
        ")"
      ],
      "execution_count": 3,
      "outputs": [
        {
          "output_type": "error",
          "ename": "ImportError",
          "evalue": "ignored",
          "traceback": [
            "\u001b[0;31m---------------------------------------------------------------------------\u001b[0m",
            "\u001b[0;31mImportError\u001b[0m                               Traceback (most recent call last)",
            "\u001b[0;32m<ipython-input-3-910946101a9b>\u001b[0m in \u001b[0;36m<module>\u001b[0;34m()\u001b[0m\n\u001b[0;32m----> 1\u001b[0;31m \u001b[0;32mfrom\u001b[0m \u001b[0msimpletransformers\u001b[0m\u001b[0;34m.\u001b[0m\u001b[0mclassification\u001b[0m \u001b[0;32mimport\u001b[0m \u001b[0mNERModel\u001b[0m\u001b[0;34m\u001b[0m\u001b[0;34m\u001b[0m\u001b[0m\n\u001b[0m\u001b[1;32m      2\u001b[0m \u001b[0;34m\u001b[0m\u001b[0m\n\u001b[1;32m      3\u001b[0m \u001b[0;31m# to custom labels\u001b[0m\u001b[0;34m\u001b[0m\u001b[0;34m\u001b[0m\u001b[0;34m\u001b[0m\u001b[0m\n\u001b[1;32m      4\u001b[0m \u001b[0mcustom_labels\u001b[0m \u001b[0;34m=\u001b[0m \u001b[0;34m[\u001b[0m\u001b[0;34m\"O\"\u001b[0m\u001b[0;34m,\u001b[0m \u001b[0;34m\"B-SPELL\"\u001b[0m\u001b[0;34m,\u001b[0m \u001b[0;34m\"I-SPELL\"\u001b[0m\u001b[0;34m,\u001b[0m \u001b[0;34m\"B-PER\"\u001b[0m\u001b[0;34m,\u001b[0m \u001b[0;34m\"I-PER\"\u001b[0m\u001b[0;34m,\u001b[0m \u001b[0;34m\"B-ORG\"\u001b[0m\u001b[0;34m,\u001b[0m \u001b[0;34m\"I-ORG\"\u001b[0m\u001b[0;34m,\u001b[0m \u001b[0;34m\"B-PLACE\"\u001b[0m\u001b[0;34m,\u001b[0m \u001b[0;34m\"I-PLACE\"\u001b[0m\u001b[0;34m]\u001b[0m\u001b[0;34m\u001b[0m\u001b[0;34m\u001b[0m\u001b[0m\n\u001b[1;32m      5\u001b[0m \u001b[0;34m\u001b[0m\u001b[0m\n",
            "\u001b[0;31mImportError\u001b[0m: cannot import name 'NERModel'",
            "",
            "\u001b[0;31m---------------------------------------------------------------------------\u001b[0;32m\nNOTE: If your import is failing due to a missing package, you can\nmanually install dependencies using either !pip or !apt.\n\nTo view examples of installing some common dependencies, click the\n\"Open Examples\" button below.\n\u001b[0;31m---------------------------------------------------------------------------\u001b[0m\n"
          ]
        }
      ]
    },
    {
      "cell_type": "code",
      "metadata": {
        "id": "yGOnCUOdUFV3",
        "colab_type": "code",
        "colab": {}
      },
      "source": [
        ""
      ],
      "execution_count": 0,
      "outputs": []
    }
  ]
}